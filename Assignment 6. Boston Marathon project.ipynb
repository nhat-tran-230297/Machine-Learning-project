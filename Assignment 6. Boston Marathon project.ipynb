{
 "cells": [
  {
   "cell_type": "markdown",
   "metadata": {},
   "source": [
    "# BOSTON MARATHON PROJECT "
   ]
  },
  {
   "cell_type": "markdown",
   "metadata": {},
   "source": [
    "# I. Introduction"
   ]
  },
  {
   "cell_type": "markdown",
   "metadata": {},
   "source": [
    "The data describes the Boston Marathon results in 2014\n",
    "\n",
    "The project is about unsupervised learning and applying K-means algorithm"
   ]
  },
  {
   "cell_type": "markdown",
   "metadata": {},
   "source": [
    "# II. Data description "
   ]
  },
  {
   "cell_type": "markdown",
   "metadata": {},
   "source": [
    "The data is available from baa.org.\n",
    "\n",
    "https://github.com/llimllib/bostonmarathon"
   ]
  },
  {
   "cell_type": "markdown",
   "metadata": {},
   "source": [
    "# III. Content "
   ]
  },
  {
   "cell_type": "code",
   "execution_count": 186,
   "metadata": {},
   "outputs": [],
   "source": [
    "import pandas as pd\n",
    "\n",
    "from sklearn.cluster import KMeans\n",
    "from sklearn import metrics\n",
    "from scipy.spatial.distance import cdist\n",
    "import numpy as np\n",
    "import matplotlib.pyplot as plt\n",
    "import seaborn as sns\n",
    "\n",
    "pd.set_option('display.max_rows', 50)\n",
    "pd.set_option('display.max_columns', 500)\n",
    "df = pd.read_csv('https://raw.githubusercontent.com/llimllib/bostonmarathon/master/results/2014/results.csv')\n"
   ]
  },
  {
   "cell_type": "markdown",
   "metadata": {},
   "source": [
    "# 1.Data exploration"
   ]
  },
  {
   "cell_type": "markdown",
   "metadata": {},
   "source": [
    "### There are some features that contains ' - ' value"
   ]
  },
  {
   "cell_type": "code",
   "execution_count": 187,
   "metadata": {},
   "outputs": [
    {
     "name": "stderr",
     "output_type": "stream",
     "text": [
      "C:\\Users\\tqnha\\Anaconda3\\lib\\site-packages\\pandas\\core\\ops\\__init__.py:1115: FutureWarning: elementwise comparison failed; returning scalar instead, but in the future will perform elementwise comparison\n",
      "  result = method(y)\n"
     ]
    },
    {
     "data": {
      "text/plain": [
       "10k           50\n",
       "name           0\n",
       "division       0\n",
       "25k          216\n",
       "gender         0\n",
       "age            0\n",
       "official       0\n",
       "bib            0\n",
       "genderdiv      0\n",
       "ctz            0\n",
       "35k           34\n",
       "overall        0\n",
       "pace           0\n",
       "state          0\n",
       "30k           40\n",
       "5k            52\n",
       "half          72\n",
       "20k           51\n",
       "country        0\n",
       "city           0\n",
       "40k           39\n",
       "dtype: int64"
      ]
     },
     "execution_count": 187,
     "metadata": {},
     "output_type": "execute_result"
    }
   ],
   "source": [
    "(df == '-').sum()"
   ]
  },
  {
   "cell_type": "markdown",
   "metadata": {},
   "source": [
    "### all ' - ' values will be considered as missing values "
   ]
  },
  {
   "cell_type": "code",
   "execution_count": 188,
   "metadata": {},
   "outputs": [],
   "source": [
    "df = df.replace('-', np.NaN)"
   ]
  },
  {
   "cell_type": "markdown",
   "metadata": {},
   "source": [
    "### total missing values in conjunction with replaced ' - ' values "
   ]
  },
  {
   "cell_type": "code",
   "execution_count": 189,
   "metadata": {},
   "outputs": [
    {
     "data": {
      "text/html": [
       "<div>\n",
       "<style scoped>\n",
       "    .dataframe tbody tr th:only-of-type {\n",
       "        vertical-align: middle;\n",
       "    }\n",
       "\n",
       "    .dataframe tbody tr th {\n",
       "        vertical-align: top;\n",
       "    }\n",
       "\n",
       "    .dataframe thead th {\n",
       "        text-align: right;\n",
       "    }\n",
       "</style>\n",
       "<table border=\"1\" class=\"dataframe\">\n",
       "  <thead>\n",
       "    <tr style=\"text-align: right;\">\n",
       "      <th></th>\n",
       "      <th>dtypes</th>\n",
       "      <th>missing values</th>\n",
       "      <th>% missing values</th>\n",
       "    </tr>\n",
       "  </thead>\n",
       "  <tbody>\n",
       "    <tr>\n",
       "      <td>10k</td>\n",
       "      <td>object</td>\n",
       "      <td>50</td>\n",
       "      <td>0.156328</td>\n",
       "    </tr>\n",
       "    <tr>\n",
       "      <td>name</td>\n",
       "      <td>object</td>\n",
       "      <td>0</td>\n",
       "      <td>0.000000</td>\n",
       "    </tr>\n",
       "    <tr>\n",
       "      <td>division</td>\n",
       "      <td>int64</td>\n",
       "      <td>0</td>\n",
       "      <td>0.000000</td>\n",
       "    </tr>\n",
       "    <tr>\n",
       "      <td>25k</td>\n",
       "      <td>object</td>\n",
       "      <td>216</td>\n",
       "      <td>0.675338</td>\n",
       "    </tr>\n",
       "    <tr>\n",
       "      <td>gender</td>\n",
       "      <td>object</td>\n",
       "      <td>0</td>\n",
       "      <td>0.000000</td>\n",
       "    </tr>\n",
       "    <tr>\n",
       "      <td>age</td>\n",
       "      <td>int64</td>\n",
       "      <td>0</td>\n",
       "      <td>0.000000</td>\n",
       "    </tr>\n",
       "    <tr>\n",
       "      <td>official</td>\n",
       "      <td>float64</td>\n",
       "      <td>0</td>\n",
       "      <td>0.000000</td>\n",
       "    </tr>\n",
       "    <tr>\n",
       "      <td>bib</td>\n",
       "      <td>object</td>\n",
       "      <td>0</td>\n",
       "      <td>0.000000</td>\n",
       "    </tr>\n",
       "    <tr>\n",
       "      <td>genderdiv</td>\n",
       "      <td>int64</td>\n",
       "      <td>0</td>\n",
       "      <td>0.000000</td>\n",
       "    </tr>\n",
       "    <tr>\n",
       "      <td>ctz</td>\n",
       "      <td>object</td>\n",
       "      <td>30740</td>\n",
       "      <td>96.110555</td>\n",
       "    </tr>\n",
       "    <tr>\n",
       "      <td>35k</td>\n",
       "      <td>object</td>\n",
       "      <td>34</td>\n",
       "      <td>0.106303</td>\n",
       "    </tr>\n",
       "    <tr>\n",
       "      <td>overall</td>\n",
       "      <td>int64</td>\n",
       "      <td>0</td>\n",
       "      <td>0.000000</td>\n",
       "    </tr>\n",
       "    <tr>\n",
       "      <td>pace</td>\n",
       "      <td>float64</td>\n",
       "      <td>0</td>\n",
       "      <td>0.000000</td>\n",
       "    </tr>\n",
       "    <tr>\n",
       "      <td>state</td>\n",
       "      <td>object</td>\n",
       "      <td>2576</td>\n",
       "      <td>8.054027</td>\n",
       "    </tr>\n",
       "    <tr>\n",
       "      <td>30k</td>\n",
       "      <td>object</td>\n",
       "      <td>40</td>\n",
       "      <td>0.125063</td>\n",
       "    </tr>\n",
       "    <tr>\n",
       "      <td>5k</td>\n",
       "      <td>object</td>\n",
       "      <td>52</td>\n",
       "      <td>0.162581</td>\n",
       "    </tr>\n",
       "    <tr>\n",
       "      <td>half</td>\n",
       "      <td>object</td>\n",
       "      <td>72</td>\n",
       "      <td>0.225113</td>\n",
       "    </tr>\n",
       "    <tr>\n",
       "      <td>20k</td>\n",
       "      <td>object</td>\n",
       "      <td>51</td>\n",
       "      <td>0.159455</td>\n",
       "    </tr>\n",
       "    <tr>\n",
       "      <td>country</td>\n",
       "      <td>object</td>\n",
       "      <td>0</td>\n",
       "      <td>0.000000</td>\n",
       "    </tr>\n",
       "    <tr>\n",
       "      <td>city</td>\n",
       "      <td>object</td>\n",
       "      <td>1</td>\n",
       "      <td>0.003127</td>\n",
       "    </tr>\n",
       "    <tr>\n",
       "      <td>40k</td>\n",
       "      <td>object</td>\n",
       "      <td>39</td>\n",
       "      <td>0.121936</td>\n",
       "    </tr>\n",
       "  </tbody>\n",
       "</table>\n",
       "</div>"
      ],
      "text/plain": [
       "            dtypes  missing values  % missing values\n",
       "10k         object              50          0.156328\n",
       "name        object               0          0.000000\n",
       "division     int64               0          0.000000\n",
       "25k         object             216          0.675338\n",
       "gender      object               0          0.000000\n",
       "age          int64               0          0.000000\n",
       "official   float64               0          0.000000\n",
       "bib         object               0          0.000000\n",
       "genderdiv    int64               0          0.000000\n",
       "ctz         object           30740         96.110555\n",
       "35k         object              34          0.106303\n",
       "overall      int64               0          0.000000\n",
       "pace       float64               0          0.000000\n",
       "state       object            2576          8.054027\n",
       "30k         object              40          0.125063\n",
       "5k          object              52          0.162581\n",
       "half        object              72          0.225113\n",
       "20k         object              51          0.159455\n",
       "country     object               0          0.000000\n",
       "city        object               1          0.003127\n",
       "40k         object              39          0.121936"
      ]
     },
     "execution_count": 189,
     "metadata": {},
     "output_type": "execute_result"
    }
   ],
   "source": [
    "types = df.dtypes.to_frame().rename(columns={0:'dtypes'})\n",
    "null = df.isnull().sum().to_frame().rename(columns={0:'missing values'})\n",
    "null_percent = (df.isnull().sum()/df.shape[0]*100).to_frame().rename(columns={0:'% missing values'})\n",
    "df_missing = pd.concat([types, null, null_percent], axis=1)\n",
    "df_missing"
   ]
  },
  {
   "cell_type": "markdown",
   "metadata": {},
   "source": [
    "=> remove 'ctz' columns (96% missing values)\n",
    "\n",
    "=> remove all other missing values (<10% missing values in each feature)"
   ]
  },
  {
   "cell_type": "markdown",
   "metadata": {},
   "source": [
    "###  '10k','25k','35k','30k','5k','half','20k','40k' are 'Objects'. Convert them into 'float'"
   ]
  },
  {
   "cell_type": "code",
   "execution_count": 190,
   "metadata": {},
   "outputs": [],
   "source": [
    "df[['10k','25k','35k','30k','5k','half','20k','40k']] = df[['10k','25k','35k','30k','5k','half','20k','40k']].astype('float64')"
   ]
  },
  {
   "cell_type": "markdown",
   "metadata": {},
   "source": [
    "### 7 categorical features "
   ]
  },
  {
   "cell_type": "code",
   "execution_count": 191,
   "metadata": {},
   "outputs": [
    {
     "data": {
      "text/html": [
       "<div>\n",
       "<style scoped>\n",
       "    .dataframe tbody tr th:only-of-type {\n",
       "        vertical-align: middle;\n",
       "    }\n",
       "\n",
       "    .dataframe tbody tr th {\n",
       "        vertical-align: top;\n",
       "    }\n",
       "\n",
       "    .dataframe thead th {\n",
       "        text-align: right;\n",
       "    }\n",
       "</style>\n",
       "<table border=\"1\" class=\"dataframe\">\n",
       "  <thead>\n",
       "    <tr style=\"text-align: right;\">\n",
       "      <th></th>\n",
       "      <th>name</th>\n",
       "      <th>gender</th>\n",
       "      <th>bib</th>\n",
       "      <th>ctz</th>\n",
       "      <th>state</th>\n",
       "      <th>country</th>\n",
       "      <th>city</th>\n",
       "    </tr>\n",
       "  </thead>\n",
       "  <tbody>\n",
       "    <tr>\n",
       "      <td>0</td>\n",
       "      <td>Yamamoto, Hiroyuki</td>\n",
       "      <td>M</td>\n",
       "      <td>W1</td>\n",
       "      <td>NaN</td>\n",
       "      <td>NaN</td>\n",
       "      <td>JPN</td>\n",
       "      <td>Fukuoka</td>\n",
       "    </tr>\n",
       "    <tr>\n",
       "      <td>1</td>\n",
       "      <td>Jeptoo, Rita</td>\n",
       "      <td>F</td>\n",
       "      <td>F1</td>\n",
       "      <td>NaN</td>\n",
       "      <td>NaN</td>\n",
       "      <td>KEN</td>\n",
       "      <td>Eldoret</td>\n",
       "    </tr>\n",
       "    <tr>\n",
       "      <td>2</td>\n",
       "      <td>Van Dyk, Ernst F.</td>\n",
       "      <td>M</td>\n",
       "      <td>W2</td>\n",
       "      <td>NaN</td>\n",
       "      <td>NaN</td>\n",
       "      <td>RSA</td>\n",
       "      <td>Paarl</td>\n",
       "    </tr>\n",
       "    <tr>\n",
       "      <td>3</td>\n",
       "      <td>Dibaba, Mare</td>\n",
       "      <td>F</td>\n",
       "      <td>F2</td>\n",
       "      <td>NaN</td>\n",
       "      <td>NaN</td>\n",
       "      <td>ETH</td>\n",
       "      <td>Shoa</td>\n",
       "    </tr>\n",
       "    <tr>\n",
       "      <td>4</td>\n",
       "      <td>Hokinoue, Kota</td>\n",
       "      <td>M</td>\n",
       "      <td>W3</td>\n",
       "      <td>NaN</td>\n",
       "      <td>NaN</td>\n",
       "      <td>JPN</td>\n",
       "      <td>Nogata Fukuoka</td>\n",
       "    </tr>\n",
       "    <tr>\n",
       "      <td>...</td>\n",
       "      <td>...</td>\n",
       "      <td>...</td>\n",
       "      <td>...</td>\n",
       "      <td>...</td>\n",
       "      <td>...</td>\n",
       "      <td>...</td>\n",
       "      <td>...</td>\n",
       "    </tr>\n",
       "    <tr>\n",
       "      <td>31979</td>\n",
       "      <td>Anderson, Steve K.</td>\n",
       "      <td>M</td>\n",
       "      <td>35908</td>\n",
       "      <td>NaN</td>\n",
       "      <td>CA</td>\n",
       "      <td>USA</td>\n",
       "      <td>Larkspur</td>\n",
       "    </tr>\n",
       "    <tr>\n",
       "      <td>31980</td>\n",
       "      <td>McCarthy, Michael P.</td>\n",
       "      <td>M</td>\n",
       "      <td>35909</td>\n",
       "      <td>NaN</td>\n",
       "      <td>MA</td>\n",
       "      <td>USA</td>\n",
       "      <td>Norwell</td>\n",
       "    </tr>\n",
       "    <tr>\n",
       "      <td>31981</td>\n",
       "      <td>Brimmer, Delia C.</td>\n",
       "      <td>F</td>\n",
       "      <td>35910</td>\n",
       "      <td>NaN</td>\n",
       "      <td>CT</td>\n",
       "      <td>USA</td>\n",
       "      <td>West Simsbury</td>\n",
       "    </tr>\n",
       "    <tr>\n",
       "      <td>31982</td>\n",
       "      <td>Morganthal, Amy</td>\n",
       "      <td>F</td>\n",
       "      <td>35911</td>\n",
       "      <td>NaN</td>\n",
       "      <td>MA</td>\n",
       "      <td>USA</td>\n",
       "      <td>North Andover</td>\n",
       "    </tr>\n",
       "    <tr>\n",
       "      <td>31983</td>\n",
       "      <td>Kirchner, Jeffrey T.</td>\n",
       "      <td>M</td>\n",
       "      <td>35912</td>\n",
       "      <td>NaN</td>\n",
       "      <td>PA</td>\n",
       "      <td>USA</td>\n",
       "      <td>Lancaster</td>\n",
       "    </tr>\n",
       "  </tbody>\n",
       "</table>\n",
       "<p>31984 rows × 7 columns</p>\n",
       "</div>"
      ],
      "text/plain": [
       "                       name gender    bib  ctz state country            city\n",
       "0        Yamamoto, Hiroyuki      M     W1  NaN   NaN     JPN         Fukuoka\n",
       "1              Jeptoo, Rita      F     F1  NaN   NaN     KEN         Eldoret\n",
       "2         Van Dyk, Ernst F.      M     W2  NaN   NaN     RSA           Paarl\n",
       "3              Dibaba, Mare      F     F2  NaN   NaN     ETH            Shoa\n",
       "4            Hokinoue, Kota      M     W3  NaN   NaN     JPN  Nogata Fukuoka\n",
       "...                     ...    ...    ...  ...   ...     ...             ...\n",
       "31979    Anderson, Steve K.      M  35908  NaN    CA     USA        Larkspur\n",
       "31980  McCarthy, Michael P.      M  35909  NaN    MA     USA         Norwell\n",
       "31981     Brimmer, Delia C.      F  35910  NaN    CT     USA   West Simsbury\n",
       "31982       Morganthal, Amy      F  35911  NaN    MA     USA   North Andover\n",
       "31983  Kirchner, Jeffrey T.      M  35912  NaN    PA     USA       Lancaster\n",
       "\n",
       "[31984 rows x 7 columns]"
      ]
     },
     "execution_count": 191,
     "metadata": {},
     "output_type": "execute_result"
    }
   ],
   "source": [
    "df.select_dtypes(object)"
   ]
  },
  {
   "cell_type": "markdown",
   "metadata": {},
   "source": [
    "### 14 numeric features"
   ]
  },
  {
   "cell_type": "code",
   "execution_count": 192,
   "metadata": {},
   "outputs": [
    {
     "data": {
      "text/html": [
       "<div>\n",
       "<style scoped>\n",
       "    .dataframe tbody tr th:only-of-type {\n",
       "        vertical-align: middle;\n",
       "    }\n",
       "\n",
       "    .dataframe tbody tr th {\n",
       "        vertical-align: top;\n",
       "    }\n",
       "\n",
       "    .dataframe thead th {\n",
       "        text-align: right;\n",
       "    }\n",
       "</style>\n",
       "<table border=\"1\" class=\"dataframe\">\n",
       "  <thead>\n",
       "    <tr style=\"text-align: right;\">\n",
       "      <th></th>\n",
       "      <th>10k</th>\n",
       "      <th>division</th>\n",
       "      <th>25k</th>\n",
       "      <th>age</th>\n",
       "      <th>official</th>\n",
       "      <th>genderdiv</th>\n",
       "      <th>35k</th>\n",
       "      <th>overall</th>\n",
       "      <th>pace</th>\n",
       "      <th>30k</th>\n",
       "      <th>5k</th>\n",
       "      <th>half</th>\n",
       "      <th>20k</th>\n",
       "      <th>40k</th>\n",
       "    </tr>\n",
       "  </thead>\n",
       "  <tbody>\n",
       "    <tr>\n",
       "      <td>0</td>\n",
       "      <td>17.37</td>\n",
       "      <td>8</td>\n",
       "      <td>47.67</td>\n",
       "      <td>47</td>\n",
       "      <td>85.25</td>\n",
       "      <td>8</td>\n",
       "      <td>71.40</td>\n",
       "      <td>8</td>\n",
       "      <td>3.27</td>\n",
       "      <td>59.18</td>\n",
       "      <td>8.02</td>\n",
       "      <td>39.72</td>\n",
       "      <td>37.65</td>\n",
       "      <td>80.43</td>\n",
       "    </tr>\n",
       "    <tr>\n",
       "      <td>1</td>\n",
       "      <td>32.58</td>\n",
       "      <td>1</td>\n",
       "      <td>82.43</td>\n",
       "      <td>33</td>\n",
       "      <td>138.95</td>\n",
       "      <td>1</td>\n",
       "      <td>116.37</td>\n",
       "      <td>21</td>\n",
       "      <td>5.30</td>\n",
       "      <td>99.33</td>\n",
       "      <td>16.22</td>\n",
       "      <td>69.47</td>\n",
       "      <td>65.83</td>\n",
       "      <td>132.10</td>\n",
       "    </tr>\n",
       "    <tr>\n",
       "      <td>2</td>\n",
       "      <td>16.62</td>\n",
       "      <td>1</td>\n",
       "      <td>45.80</td>\n",
       "      <td>41</td>\n",
       "      <td>80.60</td>\n",
       "      <td>1</td>\n",
       "      <td>67.42</td>\n",
       "      <td>1</td>\n",
       "      <td>3.08</td>\n",
       "      <td>56.45</td>\n",
       "      <td>7.75</td>\n",
       "      <td>38.03</td>\n",
       "      <td>36.10</td>\n",
       "      <td>76.10</td>\n",
       "    </tr>\n",
       "    <tr>\n",
       "      <td>3</td>\n",
       "      <td>32.57</td>\n",
       "      <td>3</td>\n",
       "      <td>82.43</td>\n",
       "      <td>24</td>\n",
       "      <td>140.58</td>\n",
       "      <td>3</td>\n",
       "      <td>116.37</td>\n",
       "      <td>27</td>\n",
       "      <td>5.37</td>\n",
       "      <td>99.33</td>\n",
       "      <td>16.20</td>\n",
       "      <td>69.47</td>\n",
       "      <td>65.83</td>\n",
       "      <td>132.95</td>\n",
       "    </tr>\n",
       "    <tr>\n",
       "      <td>4</td>\n",
       "      <td>17.12</td>\n",
       "      <td>2</td>\n",
       "      <td>46.37</td>\n",
       "      <td>40</td>\n",
       "      <td>81.23</td>\n",
       "      <td>2</td>\n",
       "      <td>67.83</td>\n",
       "      <td>2</td>\n",
       "      <td>3.10</td>\n",
       "      <td>57.03</td>\n",
       "      <td>8.02</td>\n",
       "      <td>38.60</td>\n",
       "      <td>36.58</td>\n",
       "      <td>76.72</td>\n",
       "    </tr>\n",
       "    <tr>\n",
       "      <td>...</td>\n",
       "      <td>...</td>\n",
       "      <td>...</td>\n",
       "      <td>...</td>\n",
       "      <td>...</td>\n",
       "      <td>...</td>\n",
       "      <td>...</td>\n",
       "      <td>...</td>\n",
       "      <td>...</td>\n",
       "      <td>...</td>\n",
       "      <td>...</td>\n",
       "      <td>...</td>\n",
       "      <td>...</td>\n",
       "      <td>...</td>\n",
       "      <td>...</td>\n",
       "    </tr>\n",
       "    <tr>\n",
       "      <td>31979</td>\n",
       "      <td>50.72</td>\n",
       "      <td>3414</td>\n",
       "      <td>124.02</td>\n",
       "      <td>32</td>\n",
       "      <td>211.75</td>\n",
       "      <td>7500</td>\n",
       "      <td>174.90</td>\n",
       "      <td>9849</td>\n",
       "      <td>8.08</td>\n",
       "      <td>148.65</td>\n",
       "      <td>26.13</td>\n",
       "      <td>104.78</td>\n",
       "      <td>99.55</td>\n",
       "      <td>200.22</td>\n",
       "    </tr>\n",
       "    <tr>\n",
       "      <td>31980</td>\n",
       "      <td>61.28</td>\n",
       "      <td>5212</td>\n",
       "      <td>165.02</td>\n",
       "      <td>34</td>\n",
       "      <td>302.52</td>\n",
       "      <td>15459</td>\n",
       "      <td>244.70</td>\n",
       "      <td>27456</td>\n",
       "      <td>11.55</td>\n",
       "      <td>203.43</td>\n",
       "      <td>31.07</td>\n",
       "      <td>135.85</td>\n",
       "      <td>128.37</td>\n",
       "      <td>285.47</td>\n",
       "    </tr>\n",
       "    <tr>\n",
       "      <td>31981</td>\n",
       "      <td>59.00</td>\n",
       "      <td>5231</td>\n",
       "      <td>157.02</td>\n",
       "      <td>21</td>\n",
       "      <td>282.00</td>\n",
       "      <td>10788</td>\n",
       "      <td>229.62</td>\n",
       "      <td>25092</td>\n",
       "      <td>10.77</td>\n",
       "      <td>192.65</td>\n",
       "      <td>28.18</td>\n",
       "      <td>130.57</td>\n",
       "      <td>123.33</td>\n",
       "      <td>266.30</td>\n",
       "    </tr>\n",
       "    <tr>\n",
       "      <td>31982</td>\n",
       "      <td>63.75</td>\n",
       "      <td>5800</td>\n",
       "      <td>167.82</td>\n",
       "      <td>38</td>\n",
       "      <td>302.73</td>\n",
       "      <td>12009</td>\n",
       "      <td>247.18</td>\n",
       "      <td>27476</td>\n",
       "      <td>11.55</td>\n",
       "      <td>207.52</td>\n",
       "      <td>30.98</td>\n",
       "      <td>137.03</td>\n",
       "      <td>129.90</td>\n",
       "      <td>285.87</td>\n",
       "    </tr>\n",
       "    <tr>\n",
       "      <td>31983</td>\n",
       "      <td>53.63</td>\n",
       "      <td>1396</td>\n",
       "      <td>135.02</td>\n",
       "      <td>54</td>\n",
       "      <td>228.30</td>\n",
       "      <td>9771</td>\n",
       "      <td>189.68</td>\n",
       "      <td>14844</td>\n",
       "      <td>8.72</td>\n",
       "      <td>161.83</td>\n",
       "      <td>26.92</td>\n",
       "      <td>114.13</td>\n",
       "      <td>108.03</td>\n",
       "      <td>216.48</td>\n",
       "    </tr>\n",
       "  </tbody>\n",
       "</table>\n",
       "<p>31984 rows × 14 columns</p>\n",
       "</div>"
      ],
      "text/plain": [
       "         10k  division     25k  age  official  genderdiv     35k  overall  \\\n",
       "0      17.37         8   47.67   47     85.25          8   71.40        8   \n",
       "1      32.58         1   82.43   33    138.95          1  116.37       21   \n",
       "2      16.62         1   45.80   41     80.60          1   67.42        1   \n",
       "3      32.57         3   82.43   24    140.58          3  116.37       27   \n",
       "4      17.12         2   46.37   40     81.23          2   67.83        2   \n",
       "...      ...       ...     ...  ...       ...        ...     ...      ...   \n",
       "31979  50.72      3414  124.02   32    211.75       7500  174.90     9849   \n",
       "31980  61.28      5212  165.02   34    302.52      15459  244.70    27456   \n",
       "31981  59.00      5231  157.02   21    282.00      10788  229.62    25092   \n",
       "31982  63.75      5800  167.82   38    302.73      12009  247.18    27476   \n",
       "31983  53.63      1396  135.02   54    228.30       9771  189.68    14844   \n",
       "\n",
       "        pace     30k     5k    half     20k     40k  \n",
       "0       3.27   59.18   8.02   39.72   37.65   80.43  \n",
       "1       5.30   99.33  16.22   69.47   65.83  132.10  \n",
       "2       3.08   56.45   7.75   38.03   36.10   76.10  \n",
       "3       5.37   99.33  16.20   69.47   65.83  132.95  \n",
       "4       3.10   57.03   8.02   38.60   36.58   76.72  \n",
       "...      ...     ...    ...     ...     ...     ...  \n",
       "31979   8.08  148.65  26.13  104.78   99.55  200.22  \n",
       "31980  11.55  203.43  31.07  135.85  128.37  285.47  \n",
       "31981  10.77  192.65  28.18  130.57  123.33  266.30  \n",
       "31982  11.55  207.52  30.98  137.03  129.90  285.87  \n",
       "31983   8.72  161.83  26.92  114.13  108.03  216.48  \n",
       "\n",
       "[31984 rows x 14 columns]"
      ]
     },
     "execution_count": 192,
     "metadata": {},
     "output_type": "execute_result"
    }
   ],
   "source": [
    "df.select_dtypes(np.number)"
   ]
  },
  {
   "cell_type": "markdown",
   "metadata": {},
   "source": [
    "### remove all missing values"
   ]
  },
  {
   "cell_type": "code",
   "execution_count": 193,
   "metadata": {},
   "outputs": [],
   "source": [
    "df1 = df.drop(columns='ctz')\n",
    "df1 = df1.dropna().reset_index(drop=True)"
   ]
  },
  {
   "cell_type": "markdown",
   "metadata": {},
   "source": [
    "# 2. Feature selection "
   ]
  },
  {
   "cell_type": "markdown",
   "metadata": {},
   "source": [
    "### 'name' , 'bib', 'city' features have too many distant values => remove them"
   ]
  },
  {
   "cell_type": "code",
   "execution_count": 194,
   "metadata": {},
   "outputs": [
    {
     "data": {
      "text/html": [
       "<div>\n",
       "<style scoped>\n",
       "    .dataframe tbody tr th:only-of-type {\n",
       "        vertical-align: middle;\n",
       "    }\n",
       "\n",
       "    .dataframe tbody tr th {\n",
       "        vertical-align: top;\n",
       "    }\n",
       "\n",
       "    .dataframe thead th {\n",
       "        text-align: right;\n",
       "    }\n",
       "</style>\n",
       "<table border=\"1\" class=\"dataframe\">\n",
       "  <thead>\n",
       "    <tr style=\"text-align: right;\">\n",
       "      <th></th>\n",
       "      <th>name</th>\n",
       "      <th>gender</th>\n",
       "      <th>bib</th>\n",
       "      <th>state</th>\n",
       "      <th>country</th>\n",
       "      <th>city</th>\n",
       "    </tr>\n",
       "  </thead>\n",
       "  <tbody>\n",
       "    <tr>\n",
       "      <td>count</td>\n",
       "      <td>29103</td>\n",
       "      <td>29103</td>\n",
       "      <td>29103</td>\n",
       "      <td>29103</td>\n",
       "      <td>29103</td>\n",
       "      <td>29103</td>\n",
       "    </tr>\n",
       "    <tr>\n",
       "      <td>unique</td>\n",
       "      <td>29044</td>\n",
       "      <td>2</td>\n",
       "      <td>29103</td>\n",
       "      <td>68</td>\n",
       "      <td>2</td>\n",
       "      <td>4648</td>\n",
       "    </tr>\n",
       "    <tr>\n",
       "      <td>top</td>\n",
       "      <td>Schroeder, Steve</td>\n",
       "      <td>M</td>\n",
       "      <td>13975</td>\n",
       "      <td>MA</td>\n",
       "      <td>USA</td>\n",
       "      <td>Boston</td>\n",
       "    </tr>\n",
       "    <tr>\n",
       "      <td>freq</td>\n",
       "      <td>2</td>\n",
       "      <td>15578</td>\n",
       "      <td>1</td>\n",
       "      <td>7427</td>\n",
       "      <td>26939</td>\n",
       "      <td>1018</td>\n",
       "    </tr>\n",
       "  </tbody>\n",
       "</table>\n",
       "</div>"
      ],
      "text/plain": [
       "                    name gender    bib  state country    city\n",
       "count              29103  29103  29103  29103   29103   29103\n",
       "unique             29044      2  29103     68       2    4648\n",
       "top     Schroeder, Steve      M  13975     MA     USA  Boston\n",
       "freq                   2  15578      1   7427   26939    1018"
      ]
     },
     "execution_count": 194,
     "metadata": {},
     "output_type": "execute_result"
    }
   ],
   "source": [
    "df1.describe(include='O')"
   ]
  },
  {
   "cell_type": "code",
   "execution_count": 195,
   "metadata": {},
   "outputs": [
    {
     "data": {
      "text/html": [
       "<div>\n",
       "<style scoped>\n",
       "    .dataframe tbody tr th:only-of-type {\n",
       "        vertical-align: middle;\n",
       "    }\n",
       "\n",
       "    .dataframe tbody tr th {\n",
       "        vertical-align: top;\n",
       "    }\n",
       "\n",
       "    .dataframe thead th {\n",
       "        text-align: right;\n",
       "    }\n",
       "</style>\n",
       "<table border=\"1\" class=\"dataframe\">\n",
       "  <thead>\n",
       "    <tr style=\"text-align: right;\">\n",
       "      <th></th>\n",
       "      <th>10k</th>\n",
       "      <th>division</th>\n",
       "      <th>25k</th>\n",
       "      <th>gender</th>\n",
       "      <th>age</th>\n",
       "      <th>official</th>\n",
       "      <th>genderdiv</th>\n",
       "      <th>35k</th>\n",
       "      <th>overall</th>\n",
       "      <th>pace</th>\n",
       "      <th>state</th>\n",
       "      <th>30k</th>\n",
       "      <th>5k</th>\n",
       "      <th>half</th>\n",
       "      <th>20k</th>\n",
       "      <th>country</th>\n",
       "      <th>40k</th>\n",
       "    </tr>\n",
       "  </thead>\n",
       "  <tbody>\n",
       "    <tr>\n",
       "      <td>0</td>\n",
       "      <td>30.48</td>\n",
       "      <td>20</td>\n",
       "      <td>77.68</td>\n",
       "      <td>M</td>\n",
       "      <td>31</td>\n",
       "      <td>137.83</td>\n",
       "      <td>20</td>\n",
       "      <td>112.27</td>\n",
       "      <td>20</td>\n",
       "      <td>5.27</td>\n",
       "      <td>CA</td>\n",
       "      <td>94.78</td>\n",
       "      <td>15.15</td>\n",
       "      <td>65.23</td>\n",
       "      <td>61.78</td>\n",
       "      <td>USA</td>\n",
       "      <td>129.83</td>\n",
       "    </tr>\n",
       "    <tr>\n",
       "      <td>1</td>\n",
       "      <td>17.12</td>\n",
       "      <td>13</td>\n",
       "      <td>48.88</td>\n",
       "      <td>M</td>\n",
       "      <td>29</td>\n",
       "      <td>87.40</td>\n",
       "      <td>13</td>\n",
       "      <td>72.83</td>\n",
       "      <td>13</td>\n",
       "      <td>3.35</td>\n",
       "      <td>ON</td>\n",
       "      <td>60.82</td>\n",
       "      <td>8.02</td>\n",
       "      <td>40.20</td>\n",
       "      <td>38.02</td>\n",
       "      <td>CAN</td>\n",
       "      <td>82.38</td>\n",
       "    </tr>\n",
       "    <tr>\n",
       "      <td>2</td>\n",
       "      <td>33.93</td>\n",
       "      <td>10</td>\n",
       "      <td>85.03</td>\n",
       "      <td>F</td>\n",
       "      <td>30</td>\n",
       "      <td>143.90</td>\n",
       "      <td>10</td>\n",
       "      <td>119.68</td>\n",
       "      <td>46</td>\n",
       "      <td>5.50</td>\n",
       "      <td>MI</td>\n",
       "      <td>102.40</td>\n",
       "      <td>16.92</td>\n",
       "      <td>71.68</td>\n",
       "      <td>67.92</td>\n",
       "      <td>USA</td>\n",
       "      <td>136.47</td>\n",
       "    </tr>\n",
       "    <tr>\n",
       "      <td>3</td>\n",
       "      <td>18.30</td>\n",
       "      <td>14</td>\n",
       "      <td>50.33</td>\n",
       "      <td>M</td>\n",
       "      <td>47</td>\n",
       "      <td>89.40</td>\n",
       "      <td>14</td>\n",
       "      <td>74.95</td>\n",
       "      <td>14</td>\n",
       "      <td>3.42</td>\n",
       "      <td>QC</td>\n",
       "      <td>62.33</td>\n",
       "      <td>8.67</td>\n",
       "      <td>41.80</td>\n",
       "      <td>39.63</td>\n",
       "      <td>CAN</td>\n",
       "      <td>84.48</td>\n",
       "    </tr>\n",
       "    <tr>\n",
       "      <td>4</td>\n",
       "      <td>18.78</td>\n",
       "      <td>15</td>\n",
       "      <td>50.33</td>\n",
       "      <td>M</td>\n",
       "      <td>30</td>\n",
       "      <td>89.52</td>\n",
       "      <td>15</td>\n",
       "      <td>75.02</td>\n",
       "      <td>15</td>\n",
       "      <td>3.42</td>\n",
       "      <td>IL</td>\n",
       "      <td>62.72</td>\n",
       "      <td>8.98</td>\n",
       "      <td>41.82</td>\n",
       "      <td>39.65</td>\n",
       "      <td>USA</td>\n",
       "      <td>84.75</td>\n",
       "    </tr>\n",
       "    <tr>\n",
       "      <td>...</td>\n",
       "      <td>...</td>\n",
       "      <td>...</td>\n",
       "      <td>...</td>\n",
       "      <td>...</td>\n",
       "      <td>...</td>\n",
       "      <td>...</td>\n",
       "      <td>...</td>\n",
       "      <td>...</td>\n",
       "      <td>...</td>\n",
       "      <td>...</td>\n",
       "      <td>...</td>\n",
       "      <td>...</td>\n",
       "      <td>...</td>\n",
       "      <td>...</td>\n",
       "      <td>...</td>\n",
       "      <td>...</td>\n",
       "      <td>...</td>\n",
       "    </tr>\n",
       "    <tr>\n",
       "      <td>29098</td>\n",
       "      <td>50.72</td>\n",
       "      <td>3414</td>\n",
       "      <td>124.02</td>\n",
       "      <td>M</td>\n",
       "      <td>32</td>\n",
       "      <td>211.75</td>\n",
       "      <td>7500</td>\n",
       "      <td>174.90</td>\n",
       "      <td>9849</td>\n",
       "      <td>8.08</td>\n",
       "      <td>CA</td>\n",
       "      <td>148.65</td>\n",
       "      <td>26.13</td>\n",
       "      <td>104.78</td>\n",
       "      <td>99.55</td>\n",
       "      <td>USA</td>\n",
       "      <td>200.22</td>\n",
       "    </tr>\n",
       "    <tr>\n",
       "      <td>29099</td>\n",
       "      <td>61.28</td>\n",
       "      <td>5212</td>\n",
       "      <td>165.02</td>\n",
       "      <td>M</td>\n",
       "      <td>34</td>\n",
       "      <td>302.52</td>\n",
       "      <td>15459</td>\n",
       "      <td>244.70</td>\n",
       "      <td>27456</td>\n",
       "      <td>11.55</td>\n",
       "      <td>MA</td>\n",
       "      <td>203.43</td>\n",
       "      <td>31.07</td>\n",
       "      <td>135.85</td>\n",
       "      <td>128.37</td>\n",
       "      <td>USA</td>\n",
       "      <td>285.47</td>\n",
       "    </tr>\n",
       "    <tr>\n",
       "      <td>29100</td>\n",
       "      <td>59.00</td>\n",
       "      <td>5231</td>\n",
       "      <td>157.02</td>\n",
       "      <td>F</td>\n",
       "      <td>21</td>\n",
       "      <td>282.00</td>\n",
       "      <td>10788</td>\n",
       "      <td>229.62</td>\n",
       "      <td>25092</td>\n",
       "      <td>10.77</td>\n",
       "      <td>CT</td>\n",
       "      <td>192.65</td>\n",
       "      <td>28.18</td>\n",
       "      <td>130.57</td>\n",
       "      <td>123.33</td>\n",
       "      <td>USA</td>\n",
       "      <td>266.30</td>\n",
       "    </tr>\n",
       "    <tr>\n",
       "      <td>29101</td>\n",
       "      <td>63.75</td>\n",
       "      <td>5800</td>\n",
       "      <td>167.82</td>\n",
       "      <td>F</td>\n",
       "      <td>38</td>\n",
       "      <td>302.73</td>\n",
       "      <td>12009</td>\n",
       "      <td>247.18</td>\n",
       "      <td>27476</td>\n",
       "      <td>11.55</td>\n",
       "      <td>MA</td>\n",
       "      <td>207.52</td>\n",
       "      <td>30.98</td>\n",
       "      <td>137.03</td>\n",
       "      <td>129.90</td>\n",
       "      <td>USA</td>\n",
       "      <td>285.87</td>\n",
       "    </tr>\n",
       "    <tr>\n",
       "      <td>29102</td>\n",
       "      <td>53.63</td>\n",
       "      <td>1396</td>\n",
       "      <td>135.02</td>\n",
       "      <td>M</td>\n",
       "      <td>54</td>\n",
       "      <td>228.30</td>\n",
       "      <td>9771</td>\n",
       "      <td>189.68</td>\n",
       "      <td>14844</td>\n",
       "      <td>8.72</td>\n",
       "      <td>PA</td>\n",
       "      <td>161.83</td>\n",
       "      <td>26.92</td>\n",
       "      <td>114.13</td>\n",
       "      <td>108.03</td>\n",
       "      <td>USA</td>\n",
       "      <td>216.48</td>\n",
       "    </tr>\n",
       "  </tbody>\n",
       "</table>\n",
       "<p>29103 rows × 17 columns</p>\n",
       "</div>"
      ],
      "text/plain": [
       "         10k  division     25k gender  age  official  genderdiv     35k  \\\n",
       "0      30.48        20   77.68      M   31    137.83         20  112.27   \n",
       "1      17.12        13   48.88      M   29     87.40         13   72.83   \n",
       "2      33.93        10   85.03      F   30    143.90         10  119.68   \n",
       "3      18.30        14   50.33      M   47     89.40         14   74.95   \n",
       "4      18.78        15   50.33      M   30     89.52         15   75.02   \n",
       "...      ...       ...     ...    ...  ...       ...        ...     ...   \n",
       "29098  50.72      3414  124.02      M   32    211.75       7500  174.90   \n",
       "29099  61.28      5212  165.02      M   34    302.52      15459  244.70   \n",
       "29100  59.00      5231  157.02      F   21    282.00      10788  229.62   \n",
       "29101  63.75      5800  167.82      F   38    302.73      12009  247.18   \n",
       "29102  53.63      1396  135.02      M   54    228.30       9771  189.68   \n",
       "\n",
       "       overall   pace state     30k     5k    half     20k country     40k  \n",
       "0           20   5.27    CA   94.78  15.15   65.23   61.78     USA  129.83  \n",
       "1           13   3.35    ON   60.82   8.02   40.20   38.02     CAN   82.38  \n",
       "2           46   5.50    MI  102.40  16.92   71.68   67.92     USA  136.47  \n",
       "3           14   3.42    QC   62.33   8.67   41.80   39.63     CAN   84.48  \n",
       "4           15   3.42    IL   62.72   8.98   41.82   39.65     USA   84.75  \n",
       "...        ...    ...   ...     ...    ...     ...     ...     ...     ...  \n",
       "29098     9849   8.08    CA  148.65  26.13  104.78   99.55     USA  200.22  \n",
       "29099    27456  11.55    MA  203.43  31.07  135.85  128.37     USA  285.47  \n",
       "29100    25092  10.77    CT  192.65  28.18  130.57  123.33     USA  266.30  \n",
       "29101    27476  11.55    MA  207.52  30.98  137.03  129.90     USA  285.87  \n",
       "29102    14844   8.72    PA  161.83  26.92  114.13  108.03     USA  216.48  \n",
       "\n",
       "[29103 rows x 17 columns]"
      ]
     },
     "execution_count": 195,
     "metadata": {},
     "output_type": "execute_result"
    }
   ],
   "source": [
    "df2 = df1.drop(columns=['name','bib','city'])\n",
    "df2"
   ]
  },
  {
   "cell_type": "markdown",
   "metadata": {},
   "source": [
    "### correlation between features "
   ]
  },
  {
   "cell_type": "code",
   "execution_count": 196,
   "metadata": {},
   "outputs": [
    {
     "data": {
      "image/png": "[encoded data removed]",
      "text/plain": [
       "<Figure size 720x720 with 2 Axes>"
      ]
     },
     "metadata": {
      "needs_background": "light"
     },
     "output_type": "display_data"
    }
   ],
   "source": [
    "plt.figure(figsize=(10,10))\n",
    "sns.heatmap(df2.select_dtypes(np.number).corr(), annot=True, fmt=\".2f\")\n",
    "plt.show()"
   ]
  },
  {
   "cell_type": "markdown",
   "metadata": {},
   "source": [
    "# 3. Data preprocessing"
   ]
  },
  {
   "cell_type": "markdown",
   "metadata": {},
   "source": [
    "###  for numeric features, use StandardScaler and for categorical features, use LabelEncoder"
   ]
  },
  {
   "cell_type": "code",
   "execution_count": 197,
   "metadata": {},
   "outputs": [],
   "source": [
    "num_feature = df2.select_dtypes(np.number)\n",
    "cat_feature = df2.select_dtypes(object)\n",
    "\n",
    "from sklearn.preprocessing import LabelEncoder, StandardScaler\n",
    "scaler = StandardScaler().fit_transform(num_feature) \n",
    "\n",
    "#Standard Scaler\n",
    "scaled_num = pd.DataFrame(scaler, columns=num_feature.columns)\n",
    "\n",
    "#Label Encoder\n",
    "scaled_cat = cat_feature.apply(LabelEncoder().fit_transform)"
   ]
  },
  {
   "cell_type": "markdown",
   "metadata": {},
   "source": [
    "### features after scaling"
   ]
  },
  {
   "cell_type": "code",
   "execution_count": 198,
   "metadata": {},
   "outputs": [
    {
     "data": {
      "text/html": [
       "<div>\n",
       "<style scoped>\n",
       "    .dataframe tbody tr th:only-of-type {\n",
       "        vertical-align: middle;\n",
       "    }\n",
       "\n",
       "    .dataframe tbody tr th {\n",
       "        vertical-align: top;\n",
       "    }\n",
       "\n",
       "    .dataframe thead th {\n",
       "        text-align: right;\n",
       "    }\n",
       "</style>\n",
       "<table border=\"1\" class=\"dataframe\">\n",
       "  <thead>\n",
       "    <tr style=\"text-align: right;\">\n",
       "      <th></th>\n",
       "      <th>10k</th>\n",
       "      <th>division</th>\n",
       "      <th>25k</th>\n",
       "      <th>age</th>\n",
       "      <th>official</th>\n",
       "      <th>genderdiv</th>\n",
       "      <th>35k</th>\n",
       "      <th>overall</th>\n",
       "      <th>pace</th>\n",
       "      <th>30k</th>\n",
       "      <th>5k</th>\n",
       "      <th>half</th>\n",
       "      <th>20k</th>\n",
       "      <th>40k</th>\n",
       "      <th>gender</th>\n",
       "      <th>state</th>\n",
       "      <th>country</th>\n",
       "    </tr>\n",
       "  </thead>\n",
       "  <tbody>\n",
       "    <tr>\n",
       "      <td>0</td>\n",
       "      <td>-2.452515</td>\n",
       "      <td>-1.123988</td>\n",
       "      <td>-2.201826</td>\n",
       "      <td>-0.974107</td>\n",
       "      <td>-2.061701</td>\n",
       "      <td>-1.687681</td>\n",
       "      <td>-2.067632</td>\n",
       "      <td>-1.740609</td>\n",
       "      <td>-2.059235</td>\n",
       "      <td>-2.115770</td>\n",
       "      <td>-2.526599</td>\n",
       "      <td>-2.282455</td>\n",
       "      <td>-2.290687</td>\n",
       "      <td>-2.059789</td>\n",
       "      <td>1</td>\n",
       "      <td>9</td>\n",
       "      <td>1</td>\n",
       "    </tr>\n",
       "    <tr>\n",
       "      <td>1</td>\n",
       "      <td>-3.987414</td>\n",
       "      <td>-1.128029</td>\n",
       "      <td>-3.325624</td>\n",
       "      <td>-1.150348</td>\n",
       "      <td>-3.052062</td>\n",
       "      <td>-1.689160</td>\n",
       "      <td>-3.032671</td>\n",
       "      <td>-1.741373</td>\n",
       "      <td>-3.047840</td>\n",
       "      <td>-3.145967</td>\n",
       "      <td>-4.221417</td>\n",
       "      <td>-3.513440</td>\n",
       "      <td>-3.529102</td>\n",
       "      <td>-3.044965</td>\n",
       "      <td>1</td>\n",
       "      <td>48</td>\n",
       "      <td>0</td>\n",
       "    </tr>\n",
       "    <tr>\n",
       "      <td>2</td>\n",
       "      <td>-2.056153</td>\n",
       "      <td>-1.129761</td>\n",
       "      <td>-1.915024</td>\n",
       "      <td>-1.062227</td>\n",
       "      <td>-1.942496</td>\n",
       "      <td>-1.689794</td>\n",
       "      <td>-1.886320</td>\n",
       "      <td>-1.737774</td>\n",
       "      <td>-1.940808</td>\n",
       "      <td>-1.884612</td>\n",
       "      <td>-2.105866</td>\n",
       "      <td>-1.965242</td>\n",
       "      <td>-1.970658</td>\n",
       "      <td>-1.921926</td>\n",
       "      <td>0</td>\n",
       "      <td>29</td>\n",
       "      <td>1</td>\n",
       "    </tr>\n",
       "    <tr>\n",
       "      <td>3</td>\n",
       "      <td>-3.851846</td>\n",
       "      <td>-1.127452</td>\n",
       "      <td>-3.269044</td>\n",
       "      <td>0.435822</td>\n",
       "      <td>-3.012786</td>\n",
       "      <td>-1.688949</td>\n",
       "      <td>-2.980798</td>\n",
       "      <td>-1.741264</td>\n",
       "      <td>-3.011797</td>\n",
       "      <td>-3.100160</td>\n",
       "      <td>-4.066911</td>\n",
       "      <td>-3.434751</td>\n",
       "      <td>-3.445186</td>\n",
       "      <td>-3.001364</td>\n",
       "      <td>1</td>\n",
       "      <td>53</td>\n",
       "      <td>0</td>\n",
       "    </tr>\n",
       "    <tr>\n",
       "      <td>4</td>\n",
       "      <td>-3.796700</td>\n",
       "      <td>-1.126874</td>\n",
       "      <td>-3.269044</td>\n",
       "      <td>-1.062227</td>\n",
       "      <td>-3.010429</td>\n",
       "      <td>-1.688737</td>\n",
       "      <td>-2.979085</td>\n",
       "      <td>-1.741155</td>\n",
       "      <td>-3.011797</td>\n",
       "      <td>-3.088329</td>\n",
       "      <td>-3.993223</td>\n",
       "      <td>-3.433768</td>\n",
       "      <td>-3.444144</td>\n",
       "      <td>-2.995758</td>\n",
       "      <td>1</td>\n",
       "      <td>20</td>\n",
       "      <td>1</td>\n",
       "    </tr>\n",
       "    <tr>\n",
       "      <td>...</td>\n",
       "      <td>...</td>\n",
       "      <td>...</td>\n",
       "      <td>...</td>\n",
       "      <td>...</td>\n",
       "      <td>...</td>\n",
       "      <td>...</td>\n",
       "      <td>...</td>\n",
       "      <td>...</td>\n",
       "      <td>...</td>\n",
       "      <td>...</td>\n",
       "      <td>...</td>\n",
       "      <td>...</td>\n",
       "      <td>...</td>\n",
       "      <td>...</td>\n",
       "      <td>...</td>\n",
       "      <td>...</td>\n",
       "      <td>...</td>\n",
       "    </tr>\n",
       "    <tr>\n",
       "      <td>29098</td>\n",
       "      <td>-0.127190</td>\n",
       "      <td>0.835401</td>\n",
       "      <td>-0.393605</td>\n",
       "      <td>-0.885986</td>\n",
       "      <td>-0.610034</td>\n",
       "      <td>-0.107413</td>\n",
       "      <td>-0.535168</td>\n",
       "      <td>-0.668714</td>\n",
       "      <td>-0.612371</td>\n",
       "      <td>-0.481591</td>\n",
       "      <td>0.083373</td>\n",
       "      <td>-0.337372</td>\n",
       "      <td>-0.322043</td>\n",
       "      <td>-0.598323</td>\n",
       "      <td>1</td>\n",
       "      <td>9</td>\n",
       "      <td>1</td>\n",
       "    </tr>\n",
       "    <tr>\n",
       "      <td>29099</td>\n",
       "      <td>1.086023</td>\n",
       "      <td>1.873404</td>\n",
       "      <td>1.206246</td>\n",
       "      <td>-0.709745</td>\n",
       "      <td>1.172538</td>\n",
       "      <td>1.574051</td>\n",
       "      <td>1.172735</td>\n",
       "      <td>1.251407</td>\n",
       "      <td>1.174326</td>\n",
       "      <td>1.180193</td>\n",
       "      <td>1.257623</td>\n",
       "      <td>1.190661</td>\n",
       "      <td>1.180109</td>\n",
       "      <td>1.171672</td>\n",
       "      <td>1</td>\n",
       "      <td>25</td>\n",
       "      <td>1</td>\n",
       "    </tr>\n",
       "    <tr>\n",
       "      <td>29100</td>\n",
       "      <td>0.824079</td>\n",
       "      <td>1.884372</td>\n",
       "      <td>0.894080</td>\n",
       "      <td>-1.855312</td>\n",
       "      <td>0.769559</td>\n",
       "      <td>0.587229</td>\n",
       "      <td>0.803749</td>\n",
       "      <td>0.993602</td>\n",
       "      <td>0.772705</td>\n",
       "      <td>0.853176</td>\n",
       "      <td>0.570663</td>\n",
       "      <td>0.930989</td>\n",
       "      <td>0.917415</td>\n",
       "      <td>0.773657</td>\n",
       "      <td>0</td>\n",
       "      <td>11</td>\n",
       "      <td>1</td>\n",
       "    </tr>\n",
       "    <tr>\n",
       "      <td>29101</td>\n",
       "      <td>1.369795</td>\n",
       "      <td>2.212862</td>\n",
       "      <td>1.315504</td>\n",
       "      <td>-0.357263</td>\n",
       "      <td>1.176662</td>\n",
       "      <td>0.845184</td>\n",
       "      <td>1.233417</td>\n",
       "      <td>1.253588</td>\n",
       "      <td>1.174326</td>\n",
       "      <td>1.304266</td>\n",
       "      <td>1.236230</td>\n",
       "      <td>1.248694</td>\n",
       "      <td>1.259856</td>\n",
       "      <td>1.179977</td>\n",
       "      <td>0</td>\n",
       "      <td>25</td>\n",
       "      <td>1</td>\n",
       "    </tr>\n",
       "    <tr>\n",
       "      <td>29102</td>\n",
       "      <td>0.207133</td>\n",
       "      <td>-0.329610</td>\n",
       "      <td>0.035623</td>\n",
       "      <td>1.052665</td>\n",
       "      <td>-0.285020</td>\n",
       "      <td>0.372372</td>\n",
       "      <td>-0.173524</td>\n",
       "      <td>-0.123987</td>\n",
       "      <td>-0.282836</td>\n",
       "      <td>-0.081768</td>\n",
       "      <td>0.271158</td>\n",
       "      <td>0.122464</td>\n",
       "      <td>0.119950</td>\n",
       "      <td>-0.260726</td>\n",
       "      <td>1</td>\n",
       "      <td>50</td>\n",
       "      <td>1</td>\n",
       "    </tr>\n",
       "  </tbody>\n",
       "</table>\n",
       "<p>29103 rows × 17 columns</p>\n",
       "</div>"
      ],
      "text/plain": [
       "            10k  division       25k       age  official  genderdiv       35k  \\\n",
       "0     -2.452515 -1.123988 -2.201826 -0.974107 -2.061701  -1.687681 -2.067632   \n",
       "1     -3.987414 -1.128029 -3.325624 -1.150348 -3.052062  -1.689160 -3.032671   \n",
       "2     -2.056153 -1.129761 -1.915024 -1.062227 -1.942496  -1.689794 -1.886320   \n",
       "3     -3.851846 -1.127452 -3.269044  0.435822 -3.012786  -1.688949 -2.980798   \n",
       "4     -3.796700 -1.126874 -3.269044 -1.062227 -3.010429  -1.688737 -2.979085   \n",
       "...         ...       ...       ...       ...       ...        ...       ...   \n",
       "29098 -0.127190  0.835401 -0.393605 -0.885986 -0.610034  -0.107413 -0.535168   \n",
       "29099  1.086023  1.873404  1.206246 -0.709745  1.172538   1.574051  1.172735   \n",
       "29100  0.824079  1.884372  0.894080 -1.855312  0.769559   0.587229  0.803749   \n",
       "29101  1.369795  2.212862  1.315504 -0.357263  1.176662   0.845184  1.233417   \n",
       "29102  0.207133 -0.329610  0.035623  1.052665 -0.285020   0.372372 -0.173524   \n",
       "\n",
       "        overall      pace       30k        5k      half       20k       40k  \\\n",
       "0     -1.740609 -2.059235 -2.115770 -2.526599 -2.282455 -2.290687 -2.059789   \n",
       "1     -1.741373 -3.047840 -3.145967 -4.221417 -3.513440 -3.529102 -3.044965   \n",
       "2     -1.737774 -1.940808 -1.884612 -2.105866 -1.965242 -1.970658 -1.921926   \n",
       "3     -1.741264 -3.011797 -3.100160 -4.066911 -3.434751 -3.445186 -3.001364   \n",
       "4     -1.741155 -3.011797 -3.088329 -3.993223 -3.433768 -3.444144 -2.995758   \n",
       "...         ...       ...       ...       ...       ...       ...       ...   \n",
       "29098 -0.668714 -0.612371 -0.481591  0.083373 -0.337372 -0.322043 -0.598323   \n",
       "29099  1.251407  1.174326  1.180193  1.257623  1.190661  1.180109  1.171672   \n",
       "29100  0.993602  0.772705  0.853176  0.570663  0.930989  0.917415  0.773657   \n",
       "29101  1.253588  1.174326  1.304266  1.236230  1.248694  1.259856  1.179977   \n",
       "29102 -0.123987 -0.282836 -0.081768  0.271158  0.122464  0.119950 -0.260726   \n",
       "\n",
       "       gender  state  country  \n",
       "0           1      9        1  \n",
       "1           1     48        0  \n",
       "2           0     29        1  \n",
       "3           1     53        0  \n",
       "4           1     20        1  \n",
       "...       ...    ...      ...  \n",
       "29098       1      9        1  \n",
       "29099       1     25        1  \n",
       "29100       0     11        1  \n",
       "29101       0     25        1  \n",
       "29102       1     50        1  \n",
       "\n",
       "[29103 rows x 17 columns]"
      ]
     },
     "execution_count": 198,
     "metadata": {},
     "output_type": "execute_result"
    }
   ],
   "source": [
    "feature = pd.concat([scaled_num,scaled_cat], axis=1)\n",
    "feature"
   ]
  },
  {
   "cell_type": "markdown",
   "metadata": {},
   "source": [
    "# 4. Model training "
   ]
  },
  {
   "cell_type": "markdown",
   "metadata": {},
   "source": [
    "## 4.1 without dropping high correlation features "
   ]
  },
  {
   "cell_type": "markdown",
   "metadata": {},
   "source": [
    "### choose optimal k number of clusters: k=4 "
   ]
  },
  {
   "cell_type": "code",
   "execution_count": 199,
   "metadata": {},
   "outputs": [
    {
     "name": "stdout",
     "output_type": "stream",
     "text": [
      "[8665829.682232073, 2270176.224877933, 1229230.8994859778, 745147.509653892, 596078.9994559106, 489552.86595749063, 433115.17915014306, 399623.97905389074, 364680.47034163796]\n"
     ]
    },
    {
     "data": {
      "image/png": "[encoded data removed]",
      "text/plain": [
       "<Figure size 432x432 with 1 Axes>"
      ]
     },
     "metadata": {
      "needs_background": "light"
     },
     "output_type": "display_data"
    }
   ],
   "source": [
    "sse = []\n",
    "K = list(range(1, 10))\n",
    "\n",
    "for k in K:\n",
    "    kmeans = KMeans(n_clusters=k)\n",
    "    kmeans.fit(feature)\n",
    "    sse.append(kmeans.inertia_)\n",
    "\n",
    "# Plot sse against k#\n",
    "print(sse)\n",
    "plt.figure(figsize=(6, 6))\n",
    "plt.plot(K, sse, '-o')\n",
    "plt.xlabel(r'Number of clusters *k*')\n",
    "plt.ylabel('Sum of squared distance')\n",
    "plt.show()"
   ]
  },
  {
   "cell_type": "code",
   "execution_count": 200,
   "metadata": {},
   "outputs": [
    {
     "data": {
      "text/plain": [
       "745148.140186821"
      ]
     },
     "execution_count": 200,
     "metadata": {},
     "output_type": "execute_result"
    }
   ],
   "source": [
    "km_not_drop = KMeans(n_clusters=4)\n",
    "km_not_drop.fit(new_feature)\n",
    "km_not_drop.inertia_"
   ]
  },
  {
   "cell_type": "markdown",
   "metadata": {},
   "source": [
    "## 4.2 dropping high correlated features "
   ]
  },
  {
   "cell_type": "code",
   "execution_count": 201,
   "metadata": {},
   "outputs": [
    {
     "name": "stdout",
     "output_type": "stream",
     "text": [
      "[8374799.682232073, 1989732.4000049885, 959238.2532599022, 474921.56353390834, 330075.6413164872, 271412.28492446966, 237734.34759020462, 205210.36574390787, 181829.63773297935]\n"
     ]
    },
    {
     "data": {
      "image/png": "[encoded data removed]",
      "text/plain": [
       "<Figure size 432x432 with 1 Axes>"
      ]
     },
     "metadata": {
      "needs_background": "light"
     },
     "output_type": "display_data"
    }
   ],
   "source": [
    "drop_new_feature = new_feature.drop(columns=['25k','5k','10k','35k','overall','pace','30k','half','20k','40k'])\n",
    "\n",
    "sse = []\n",
    "K = list(range(1, 10))\n",
    "\n",
    "for k in K:\n",
    "    kmeans = KMeans(n_clusters=k)\n",
    "    kmeans.fit(drop_new_feature)\n",
    "    sse.append(kmeans.inertia_)\n",
    "\n",
    "# Plot sse against k\n",
    "print(sse)\n",
    "plt.figure(figsize=(6, 6))\n",
    "plt.plot(K, sse, '-o')\n",
    "plt.xlabel(r'Number of clusters *k*')\n",
    "plt.ylabel('Sum of squared distance')\n",
    "\n",
    "plt.show()"
   ]
  },
  {
   "cell_type": "code",
   "execution_count": 202,
   "metadata": {},
   "outputs": [
    {
     "data": {
      "text/plain": [
       "745151.3869113207"
      ]
     },
     "execution_count": 202,
     "metadata": {},
     "output_type": "execute_result"
    }
   ],
   "source": [
    "km_drop = KMeans(n_clusters=4)\n",
    "km_drop.fit(new_feature)\n",
    "km_drop.inertia_"
   ]
  },
  {
   "cell_type": "markdown",
   "metadata": {},
   "source": [
    "### => the SSE at clusters = 4 of both dropping and not dropping correlated features are not different "
   ]
  },
  {
   "cell_type": "code",
   "execution_count": 203,
   "metadata": {},
   "outputs": [],
   "source": [
    "cluster = km_not_drop.labels_\n",
    "cluster1 = km_drop.labels_"
   ]
  },
  {
   "cell_type": "code",
   "execution_count": null,
   "metadata": {},
   "outputs": [],
   "source": []
  },
  {
   "cell_type": "markdown",
   "metadata": {},
   "source": [
    "### get the clusters (0,1,2,3) class for each runners"
   ]
  },
  {
   "cell_type": "code",
   "execution_count": 204,
   "metadata": {},
   "outputs": [
    {
     "data": {
      "text/html": [
       "<div>\n",
       "<style scoped>\n",
       "    .dataframe tbody tr th:only-of-type {\n",
       "        vertical-align: middle;\n",
       "    }\n",
       "\n",
       "    .dataframe tbody tr th {\n",
       "        vertical-align: top;\n",
       "    }\n",
       "\n",
       "    .dataframe thead th {\n",
       "        text-align: right;\n",
       "    }\n",
       "</style>\n",
       "<table border=\"1\" class=\"dataframe\">\n",
       "  <thead>\n",
       "    <tr style=\"text-align: right;\">\n",
       "      <th></th>\n",
       "      <th>10k</th>\n",
       "      <th>division</th>\n",
       "      <th>25k</th>\n",
       "      <th>gender</th>\n",
       "      <th>age</th>\n",
       "      <th>official</th>\n",
       "      <th>genderdiv</th>\n",
       "      <th>35k</th>\n",
       "      <th>overall</th>\n",
       "      <th>pace</th>\n",
       "      <th>state</th>\n",
       "      <th>30k</th>\n",
       "      <th>5k</th>\n",
       "      <th>half</th>\n",
       "      <th>20k</th>\n",
       "      <th>country</th>\n",
       "      <th>40k</th>\n",
       "      <th>cluster</th>\n",
       "    </tr>\n",
       "  </thead>\n",
       "  <tbody>\n",
       "    <tr>\n",
       "      <td>0</td>\n",
       "      <td>30.48</td>\n",
       "      <td>20</td>\n",
       "      <td>77.68</td>\n",
       "      <td>M</td>\n",
       "      <td>31</td>\n",
       "      <td>137.83</td>\n",
       "      <td>20</td>\n",
       "      <td>112.27</td>\n",
       "      <td>20</td>\n",
       "      <td>5.27</td>\n",
       "      <td>CA</td>\n",
       "      <td>94.78</td>\n",
       "      <td>15.15</td>\n",
       "      <td>65.23</td>\n",
       "      <td>61.78</td>\n",
       "      <td>USA</td>\n",
       "      <td>129.83</td>\n",
       "      <td>2</td>\n",
       "    </tr>\n",
       "    <tr>\n",
       "      <td>1</td>\n",
       "      <td>17.12</td>\n",
       "      <td>13</td>\n",
       "      <td>48.88</td>\n",
       "      <td>M</td>\n",
       "      <td>29</td>\n",
       "      <td>87.40</td>\n",
       "      <td>13</td>\n",
       "      <td>72.83</td>\n",
       "      <td>13</td>\n",
       "      <td>3.35</td>\n",
       "      <td>ON</td>\n",
       "      <td>60.82</td>\n",
       "      <td>8.02</td>\n",
       "      <td>40.20</td>\n",
       "      <td>38.02</td>\n",
       "      <td>CAN</td>\n",
       "      <td>82.38</td>\n",
       "      <td>0</td>\n",
       "    </tr>\n",
       "    <tr>\n",
       "      <td>2</td>\n",
       "      <td>33.93</td>\n",
       "      <td>10</td>\n",
       "      <td>85.03</td>\n",
       "      <td>F</td>\n",
       "      <td>30</td>\n",
       "      <td>143.90</td>\n",
       "      <td>10</td>\n",
       "      <td>119.68</td>\n",
       "      <td>46</td>\n",
       "      <td>5.50</td>\n",
       "      <td>MI</td>\n",
       "      <td>102.40</td>\n",
       "      <td>16.92</td>\n",
       "      <td>71.68</td>\n",
       "      <td>67.92</td>\n",
       "      <td>USA</td>\n",
       "      <td>136.47</td>\n",
       "      <td>1</td>\n",
       "    </tr>\n",
       "    <tr>\n",
       "      <td>3</td>\n",
       "      <td>18.30</td>\n",
       "      <td>14</td>\n",
       "      <td>50.33</td>\n",
       "      <td>M</td>\n",
       "      <td>47</td>\n",
       "      <td>89.40</td>\n",
       "      <td>14</td>\n",
       "      <td>74.95</td>\n",
       "      <td>14</td>\n",
       "      <td>3.42</td>\n",
       "      <td>QC</td>\n",
       "      <td>62.33</td>\n",
       "      <td>8.67</td>\n",
       "      <td>41.80</td>\n",
       "      <td>39.63</td>\n",
       "      <td>CAN</td>\n",
       "      <td>84.48</td>\n",
       "      <td>3</td>\n",
       "    </tr>\n",
       "    <tr>\n",
       "      <td>4</td>\n",
       "      <td>18.78</td>\n",
       "      <td>15</td>\n",
       "      <td>50.33</td>\n",
       "      <td>M</td>\n",
       "      <td>30</td>\n",
       "      <td>89.52</td>\n",
       "      <td>15</td>\n",
       "      <td>75.02</td>\n",
       "      <td>15</td>\n",
       "      <td>3.42</td>\n",
       "      <td>IL</td>\n",
       "      <td>62.72</td>\n",
       "      <td>8.98</td>\n",
       "      <td>41.82</td>\n",
       "      <td>39.65</td>\n",
       "      <td>USA</td>\n",
       "      <td>84.75</td>\n",
       "      <td>1</td>\n",
       "    </tr>\n",
       "    <tr>\n",
       "      <td>...</td>\n",
       "      <td>...</td>\n",
       "      <td>...</td>\n",
       "      <td>...</td>\n",
       "      <td>...</td>\n",
       "      <td>...</td>\n",
       "      <td>...</td>\n",
       "      <td>...</td>\n",
       "      <td>...</td>\n",
       "      <td>...</td>\n",
       "      <td>...</td>\n",
       "      <td>...</td>\n",
       "      <td>...</td>\n",
       "      <td>...</td>\n",
       "      <td>...</td>\n",
       "      <td>...</td>\n",
       "      <td>...</td>\n",
       "      <td>...</td>\n",
       "      <td>...</td>\n",
       "    </tr>\n",
       "    <tr>\n",
       "      <td>29098</td>\n",
       "      <td>50.72</td>\n",
       "      <td>3414</td>\n",
       "      <td>124.02</td>\n",
       "      <td>M</td>\n",
       "      <td>32</td>\n",
       "      <td>211.75</td>\n",
       "      <td>7500</td>\n",
       "      <td>174.90</td>\n",
       "      <td>9849</td>\n",
       "      <td>8.08</td>\n",
       "      <td>CA</td>\n",
       "      <td>148.65</td>\n",
       "      <td>26.13</td>\n",
       "      <td>104.78</td>\n",
       "      <td>99.55</td>\n",
       "      <td>USA</td>\n",
       "      <td>200.22</td>\n",
       "      <td>2</td>\n",
       "    </tr>\n",
       "    <tr>\n",
       "      <td>29099</td>\n",
       "      <td>61.28</td>\n",
       "      <td>5212</td>\n",
       "      <td>165.02</td>\n",
       "      <td>M</td>\n",
       "      <td>34</td>\n",
       "      <td>302.52</td>\n",
       "      <td>15459</td>\n",
       "      <td>244.70</td>\n",
       "      <td>27456</td>\n",
       "      <td>11.55</td>\n",
       "      <td>MA</td>\n",
       "      <td>203.43</td>\n",
       "      <td>31.07</td>\n",
       "      <td>135.85</td>\n",
       "      <td>128.37</td>\n",
       "      <td>USA</td>\n",
       "      <td>285.47</td>\n",
       "      <td>1</td>\n",
       "    </tr>\n",
       "    <tr>\n",
       "      <td>29100</td>\n",
       "      <td>59.00</td>\n",
       "      <td>5231</td>\n",
       "      <td>157.02</td>\n",
       "      <td>F</td>\n",
       "      <td>21</td>\n",
       "      <td>282.00</td>\n",
       "      <td>10788</td>\n",
       "      <td>229.62</td>\n",
       "      <td>25092</td>\n",
       "      <td>10.77</td>\n",
       "      <td>CT</td>\n",
       "      <td>192.65</td>\n",
       "      <td>28.18</td>\n",
       "      <td>130.57</td>\n",
       "      <td>123.33</td>\n",
       "      <td>USA</td>\n",
       "      <td>266.30</td>\n",
       "      <td>2</td>\n",
       "    </tr>\n",
       "    <tr>\n",
       "      <td>29101</td>\n",
       "      <td>63.75</td>\n",
       "      <td>5800</td>\n",
       "      <td>167.82</td>\n",
       "      <td>F</td>\n",
       "      <td>38</td>\n",
       "      <td>302.73</td>\n",
       "      <td>12009</td>\n",
       "      <td>247.18</td>\n",
       "      <td>27476</td>\n",
       "      <td>11.55</td>\n",
       "      <td>MA</td>\n",
       "      <td>207.52</td>\n",
       "      <td>30.98</td>\n",
       "      <td>137.03</td>\n",
       "      <td>129.90</td>\n",
       "      <td>USA</td>\n",
       "      <td>285.87</td>\n",
       "      <td>1</td>\n",
       "    </tr>\n",
       "    <tr>\n",
       "      <td>29102</td>\n",
       "      <td>53.63</td>\n",
       "      <td>1396</td>\n",
       "      <td>135.02</td>\n",
       "      <td>M</td>\n",
       "      <td>54</td>\n",
       "      <td>228.30</td>\n",
       "      <td>9771</td>\n",
       "      <td>189.68</td>\n",
       "      <td>14844</td>\n",
       "      <td>8.72</td>\n",
       "      <td>PA</td>\n",
       "      <td>161.83</td>\n",
       "      <td>26.92</td>\n",
       "      <td>114.13</td>\n",
       "      <td>108.03</td>\n",
       "      <td>USA</td>\n",
       "      <td>216.48</td>\n",
       "      <td>0</td>\n",
       "    </tr>\n",
       "  </tbody>\n",
       "</table>\n",
       "<p>29103 rows × 18 columns</p>\n",
       "</div>"
      ],
      "text/plain": [
       "         10k  division     25k gender  age  official  genderdiv     35k  \\\n",
       "0      30.48        20   77.68      M   31    137.83         20  112.27   \n",
       "1      17.12        13   48.88      M   29     87.40         13   72.83   \n",
       "2      33.93        10   85.03      F   30    143.90         10  119.68   \n",
       "3      18.30        14   50.33      M   47     89.40         14   74.95   \n",
       "4      18.78        15   50.33      M   30     89.52         15   75.02   \n",
       "...      ...       ...     ...    ...  ...       ...        ...     ...   \n",
       "29098  50.72      3414  124.02      M   32    211.75       7500  174.90   \n",
       "29099  61.28      5212  165.02      M   34    302.52      15459  244.70   \n",
       "29100  59.00      5231  157.02      F   21    282.00      10788  229.62   \n",
       "29101  63.75      5800  167.82      F   38    302.73      12009  247.18   \n",
       "29102  53.63      1396  135.02      M   54    228.30       9771  189.68   \n",
       "\n",
       "       overall   pace state     30k     5k    half     20k country     40k  \\\n",
       "0           20   5.27    CA   94.78  15.15   65.23   61.78     USA  129.83   \n",
       "1           13   3.35    ON   60.82   8.02   40.20   38.02     CAN   82.38   \n",
       "2           46   5.50    MI  102.40  16.92   71.68   67.92     USA  136.47   \n",
       "3           14   3.42    QC   62.33   8.67   41.80   39.63     CAN   84.48   \n",
       "4           15   3.42    IL   62.72   8.98   41.82   39.65     USA   84.75   \n",
       "...        ...    ...   ...     ...    ...     ...     ...     ...     ...   \n",
       "29098     9849   8.08    CA  148.65  26.13  104.78   99.55     USA  200.22   \n",
       "29099    27456  11.55    MA  203.43  31.07  135.85  128.37     USA  285.47   \n",
       "29100    25092  10.77    CT  192.65  28.18  130.57  123.33     USA  266.30   \n",
       "29101    27476  11.55    MA  207.52  30.98  137.03  129.90     USA  285.87   \n",
       "29102    14844   8.72    PA  161.83  26.92  114.13  108.03     USA  216.48   \n",
       "\n",
       "       cluster  \n",
       "0            2  \n",
       "1            0  \n",
       "2            1  \n",
       "3            3  \n",
       "4            1  \n",
       "...        ...  \n",
       "29098        2  \n",
       "29099        1  \n",
       "29100        2  \n",
       "29101        1  \n",
       "29102        0  \n",
       "\n",
       "[29103 rows x 18 columns]"
      ]
     },
     "execution_count": 204,
     "metadata": {},
     "output_type": "execute_result"
    }
   ],
   "source": [
    "df3 = df2.copy()\n",
    "df3['cluster'] = cluster\n",
    "df3"
   ]
  },
  {
   "cell_type": "markdown",
   "metadata": {},
   "source": [
    "# 6. Clustering and analyzing"
   ]
  },
  {
   "cell_type": "markdown",
   "metadata": {},
   "source": [
    "### split the data based on cluster label"
   ]
  },
  {
   "cell_type": "code",
   "execution_count": 205,
   "metadata": {},
   "outputs": [],
   "source": [
    "c0 = df3[df3.cluster == 0]\n",
    "c1 = df3[df3.cluster == 1]\n",
    "c2 = df3[df3.cluster == 2]\n",
    "c3 = df3[df3.cluster == 3]"
   ]
  },
  {
   "cell_type": "markdown",
   "metadata": {},
   "source": [
    "### cluster 0 has the most runners "
   ]
  },
  {
   "cell_type": "code",
   "execution_count": 206,
   "metadata": {},
   "outputs": [
    {
     "data": {
      "image/png": "[encoded data removed]",
      "text/plain": [
       "<Figure size 648x504 with 1 Axes>"
      ]
     },
     "metadata": {
      "needs_background": "light"
     },
     "output_type": "display_data"
    }
   ],
   "source": [
    "plt.figure(figsize=(9,7))\n",
    "plt.bar([0,1,2,3], [c0.shape[0],c1.shape[0],c2.shape[0],c3.shape[0]], width=0.35)\n",
    "plt.xticks([0,1,2,3], ['c0','c1','c2','c3'], fontsize=12)\n",
    "\n",
    "plt.xlabel('Clusters', fontsize=15)\n",
    "plt.ylabel('Amount', fontsize=15)\n",
    "plt.title('Number of runners', fontsize=15)\n",
    "\n",
    "plt.show()"
   ]
  },
  {
   "cell_type": "markdown",
   "metadata": {},
   "source": [
    "## 6.1 Gender"
   ]
  },
  {
   "cell_type": "markdown",
   "metadata": {},
   "source": [
    "###  Number of males and females in each clusters"
   ]
  },
  {
   "cell_type": "code",
   "execution_count": 207,
   "metadata": {},
   "outputs": [
    {
     "data": {
      "text/html": [
       "<div>\n",
       "<style scoped>\n",
       "    .dataframe tbody tr th:only-of-type {\n",
       "        vertical-align: middle;\n",
       "    }\n",
       "\n",
       "    .dataframe tbody tr th {\n",
       "        vertical-align: top;\n",
       "    }\n",
       "\n",
       "    .dataframe thead th {\n",
       "        text-align: right;\n",
       "    }\n",
       "</style>\n",
       "<table border=\"1\" class=\"dataframe\">\n",
       "  <thead>\n",
       "    <tr style=\"text-align: right;\">\n",
       "      <th></th>\n",
       "      <th>c0</th>\n",
       "      <th>c1</th>\n",
       "      <th>c2</th>\n",
       "      <th>c3</th>\n",
       "    </tr>\n",
       "  </thead>\n",
       "  <tbody>\n",
       "    <tr>\n",
       "      <td>M</td>\n",
       "      <td>3821</td>\n",
       "      <td>6081</td>\n",
       "      <td>3153</td>\n",
       "      <td>2523</td>\n",
       "    </tr>\n",
       "    <tr>\n",
       "      <td>F</td>\n",
       "      <td>2983</td>\n",
       "      <td>5794</td>\n",
       "      <td>2746</td>\n",
       "      <td>2002</td>\n",
       "    </tr>\n",
       "  </tbody>\n",
       "</table>\n",
       "</div>"
      ],
      "text/plain": [
       "     c0    c1    c2    c3\n",
       "M  3821  6081  3153  2523\n",
       "F  2983  5794  2746  2002"
      ]
     },
     "execution_count": 207,
     "metadata": {},
     "output_type": "execute_result"
    }
   ],
   "source": [
    "cluster_gender = pd.concat((c0.gender.value_counts(),c1.gender.value_counts(),c2.gender.value_counts(),c3.gender.value_counts()), axis=1, keys=['c0','c1','c2','c3'])\n",
    "cluster_gender"
   ]
  },
  {
   "cell_type": "markdown",
   "metadata": {},
   "source": [
    "### amount"
   ]
  },
  {
   "cell_type": "code",
   "execution_count": 208,
   "metadata": {},
   "outputs": [
    {
     "data": {
      "image/png": "[encoded data removed]",
      "text/plain": [
       "<Figure size 648x504 with 1 Axes>"
      ]
     },
     "metadata": {
      "needs_background": "light"
     },
     "output_type": "display_data"
    }
   ],
   "source": [
    "plt.figure(figsize=(9,7))\n",
    "M = cluster_gender.loc['M']\n",
    "F = cluster_gender.loc['F']\n",
    "idx = np.arange(4)\n",
    "bar_width = 0.35\n",
    "\n",
    "plt.bar(idx - bar_width/2, M, color='b', width=bar_width, label='Male')\n",
    "plt.bar(idx + bar_width/2, F, color='r', width=bar_width, label='Female')\n",
    "\n",
    "plt.xticks(idx, cluster_gender.columns, fontsize=12)\n",
    "plt.legend(fontsize=15)\n",
    "plt.xlabel('Clusters', fontsize=15)\n",
    "plt.ylabel('Amount', fontsize=15)\n",
    "plt.title('Number of males and females (amount)', fontsize=15)\n",
    "\n",
    "plt.show()"
   ]
  },
  {
   "cell_type": "markdown",
   "metadata": {},
   "source": [
    "### percentage "
   ]
  },
  {
   "cell_type": "code",
   "execution_count": 209,
   "metadata": {},
   "outputs": [
    {
     "data": {
      "image/png": "[encoded data removed]",
      "text/plain": [
       "<Figure size 648x504 with 1 Axes>"
      ]
     },
     "metadata": {
      "needs_background": "light"
     },
     "output_type": "display_data"
    }
   ],
   "source": [
    "plt.figure(figsize=(9,7))\n",
    "M_percent = cluster_gender.apply(lambda x: x.loc['M']/(x.loc['M']+x.loc['F'])*100)\n",
    "F_percent = cluster_gender.apply(lambda x: x.loc['F']/(x.loc['M']+x.loc['F'])*100)\n",
    "idx = np.arange(4)\n",
    "bar_width = 0.35\n",
    "\n",
    "plt.bar(idx - bar_width/2, M_percent, color='b', width=bar_width, label='Male')\n",
    "plt.bar(idx + bar_width/2, F_percent, color='r', width=bar_width, label='Female')\n",
    "\n",
    "plt.xticks(idx, cluster_gender.columns, fontsize=12)\n",
    "plt.legend(fontsize=15, loc=(1.05, 0.7))\n",
    "plt.xlabel('Clusters', fontsize=15)\n",
    "plt.ylabel('%', fontsize=15)\n",
    "plt.title('Number of males and females (%)', fontsize=15)\n",
    "\n",
    "plt.show()"
   ]
  },
  {
   "cell_type": "markdown",
   "metadata": {},
   "source": [
    "### CONCLUSION: \n",
    "### - The ratio between Males and Females in each cluster is equivalent.\n",
    "### - Cluster 0 has the most number of Males and Females"
   ]
  },
  {
   "cell_type": "markdown",
   "metadata": {},
   "source": [
    " "
   ]
  },
  {
   "cell_type": "markdown",
   "metadata": {},
   "source": [
    "## 6.2 Age ranges"
   ]
  },
  {
   "cell_type": "markdown",
   "metadata": {},
   "source": [
    "### Number of runners within age ranges in each cluster\n",
    "### 4 ranges: (18, 25), (26, 40), (41, 70), (71, 81)"
   ]
  },
  {
   "cell_type": "code",
   "execution_count": 210,
   "metadata": {},
   "outputs": [
    {
     "data": {
      "text/html": [
       "<div>\n",
       "<style scoped>\n",
       "    .dataframe tbody tr th:only-of-type {\n",
       "        vertical-align: middle;\n",
       "    }\n",
       "\n",
       "    .dataframe tbody tr th {\n",
       "        vertical-align: top;\n",
       "    }\n",
       "\n",
       "    .dataframe thead th {\n",
       "        text-align: right;\n",
       "    }\n",
       "</style>\n",
       "<table border=\"1\" class=\"dataframe\">\n",
       "  <thead>\n",
       "    <tr style=\"text-align: right;\">\n",
       "      <th></th>\n",
       "      <th>c0</th>\n",
       "      <th>c1</th>\n",
       "      <th>c2</th>\n",
       "      <th>c3</th>\n",
       "    </tr>\n",
       "  </thead>\n",
       "  <tbody>\n",
       "    <tr>\n",
       "      <td>[18, 25]</td>\n",
       "      <td>398</td>\n",
       "      <td>1100</td>\n",
       "      <td>288</td>\n",
       "      <td>201</td>\n",
       "    </tr>\n",
       "    <tr>\n",
       "      <td>[26, 40]</td>\n",
       "      <td>2419</td>\n",
       "      <td>5115</td>\n",
       "      <td>2014</td>\n",
       "      <td>1601</td>\n",
       "    </tr>\n",
       "    <tr>\n",
       "      <td>[41, 70]</td>\n",
       "      <td>3950</td>\n",
       "      <td>5616</td>\n",
       "      <td>3553</td>\n",
       "      <td>2696</td>\n",
       "    </tr>\n",
       "    <tr>\n",
       "      <td>[71, 90]</td>\n",
       "      <td>37</td>\n",
       "      <td>44</td>\n",
       "      <td>44</td>\n",
       "      <td>27</td>\n",
       "    </tr>\n",
       "  </tbody>\n",
       "</table>\n",
       "</div>"
      ],
      "text/plain": [
       "            c0    c1    c2    c3\n",
       "[18, 25]   398  1100   288   201\n",
       "[26, 40]  2419  5115  2014  1601\n",
       "[41, 70]  3950  5616  3553  2696\n",
       "[71, 90]    37    44    44    27"
      ]
     },
     "execution_count": 210,
     "metadata": {},
     "output_type": "execute_result"
    }
   ],
   "source": [
    "bins = pd.IntervalIndex.from_tuples([(18, 25), (26, 40), (41, 70), (71, 90)], closed='both')\n",
    "age_c0 = pd.cut(c0.age, bins=bins)\n",
    "age_c1 = pd.cut(c1.age, bins=bins)\n",
    "age_c2 = pd.cut(c2.age, bins=bins)\n",
    "age_c3 = pd.cut(c3.age, bins=bins)\n",
    "cluster_age = pd.concat((age_c0.value_counts().sort_index(),age_c1.value_counts().sort_index(),age_c2.value_counts().sort_index(),age_c3.value_counts().sort_index()), axis=1, keys=['c0','c1','c2','c3'])\n",
    "cluster_age"
   ]
  },
  {
   "cell_type": "markdown",
   "metadata": {},
   "source": [
    "### amount"
   ]
  },
  {
   "cell_type": "code",
   "execution_count": 211,
   "metadata": {},
   "outputs": [
    {
     "data": {
      "image/png": "[encoded data removed]",
      "text/plain": [
       "<Figure size 792x576 with 1 Axes>"
      ]
     },
     "metadata": {
      "needs_background": "light"
     },
     "output_type": "display_data"
    }
   ],
   "source": [
    "plt.figure(figsize=(11,8))\n",
    "\n",
    "age_18_25 = cluster_age.iloc[0]\n",
    "age_26_40 = cluster_age.iloc[1]\n",
    "age_41_70 = cluster_age.iloc[2]\n",
    "age_71_81 = cluster_age.iloc[3]\n",
    "idx = np.arange(0,8,2)\n",
    "bar_width = 0.35\n",
    "\n",
    "plt.bar(idx - bar_width*1.5, age_18_25, color='b', width=bar_width, label='18-25')\n",
    "plt.bar(idx - bar_width/2, age_26_40, color='r', width=bar_width, label='26-40')\n",
    "plt.bar(idx + bar_width/2, age_41_70, color='y', width=bar_width, label='41-70')\n",
    "plt.bar(idx + bar_width*1.5, age_71_81, color='g', width=bar_width, label='71-81')\n",
    "\n",
    "plt.xticks(idx, cluster_age.columns, fontsize=12)\n",
    "plt.legend(fontsize=15)\n",
    "plt.xlabel('Clusters', fontsize=15)\n",
    "plt.ylabel('Amount', fontsize=15)\n",
    "plt.title('Different age ranges (amount)', fontsize=15)\n",
    "\n",
    "plt.show()"
   ]
  },
  {
   "cell_type": "markdown",
   "metadata": {},
   "source": [
    "### youngest and oldest age ranges"
   ]
  },
  {
   "cell_type": "code",
   "execution_count": 212,
   "metadata": {},
   "outputs": [
    {
     "data": {
      "image/png": "[encoded data removed]",
      "text/plain": [
       "<Figure size 1080x576 with 2 Axes>"
      ]
     },
     "metadata": {
      "needs_background": "light"
     },
     "output_type": "display_data"
    }
   ],
   "source": [
    "plt.figure(figsize=(15,8))\n",
    "\n",
    "idx = np.arange(4)\n",
    "plt.subplot(121)\n",
    "plt.bar(idx, age_18_25, color='b', width=bar_width, label='Male')\n",
    "plt.xticks(idx, cluster_age.columns, fontsize=12)\n",
    "plt.xlabel('Clusters', fontsize=15)\n",
    "plt.ylabel('Amount', fontsize=15)\n",
    "plt.title('Age (18-25)', fontsize=15)\n",
    "\n",
    "plt.subplot(122)\n",
    "plt.bar(idx, age_71_81, color='g', width=bar_width, label='Male')\n",
    "plt.xticks(idx, cluster_age.columns, fontsize=12)\n",
    "plt.xlabel('Clusters', fontsize=15)\n",
    "plt.ylabel('Amount', fontsize=15)\n",
    "plt.title('Age (71-81)', fontsize=15)\n",
    "\n",
    "plt.show()"
   ]
  },
  {
   "cell_type": "markdown",
   "metadata": {},
   "source": [
    "### percentage"
   ]
  },
  {
   "cell_type": "code",
   "execution_count": 213,
   "metadata": {},
   "outputs": [
    {
     "data": {
      "image/png": "[encoded data removed]",
      "text/plain": [
       "<Figure size 792x576 with 1 Axes>"
      ]
     },
     "metadata": {
      "needs_background": "light"
     },
     "output_type": "display_data"
    }
   ],
   "source": [
    "plt.figure(figsize=(11,8))\n",
    "\n",
    "age_18_25_percent = cluster_age.apply(lambda x: x.iloc[0]/(x.iloc[0]+x.iloc[1]+x.iloc[2]+x.iloc[3])*100)\n",
    "age_26_40_percent = cluster_age.apply(lambda x: x.iloc[1]/(x.iloc[0]+x.iloc[1]+x.iloc[2]+x.iloc[3])*100)\n",
    "age_41_70_percent = cluster_age.apply(lambda x: x.iloc[2]/(x.iloc[0]+x.iloc[1]+x.iloc[2]+x.iloc[3])*100)\n",
    "age_71_81_percent = cluster_age.apply(lambda x: x.iloc[3]/(x.iloc[0]+x.iloc[1]+x.iloc[2]+x.iloc[3])*100)\n",
    "idx = np.arange(0,8,2)\n",
    "bar_width = 0.35\n",
    "\n",
    "plt.bar(idx - bar_width*1.5, age_18_25_percent, color='b', width=bar_width, label='18-25')\n",
    "plt.bar(idx - bar_width/2, age_26_40_percent, color='r', width=bar_width, label='26-40')\n",
    "plt.bar(idx + bar_width/2, age_41_70_percent, color='y', width=bar_width, label='41-70')\n",
    "plt.bar(idx + bar_width*1.5, age_71_81_percent, color='g', width=bar_width, label='71-81')\n",
    "\n",
    "plt.xticks(idx, cluster_age.columns, fontsize=12)\n",
    "plt.legend(fontsize=15, loc=(1.05, 0.7))\n",
    "plt.xlabel('Clusters', fontsize=15)\n",
    "plt.ylabel('%', fontsize=15)\n",
    "plt.title('Different age ranges (%)', fontsize=15)\n",
    "\n",
    "plt.show()"
   ]
  },
  {
   "cell_type": "markdown",
   "metadata": {},
   "source": [
    "### CONCLUSION:\n",
    "### - Cluster 0 contains the most youngest runners\n",
    "### - Cluster 0 and 2 contain the most oldest runners"
   ]
  },
  {
   "cell_type": "markdown",
   "metadata": {},
   "source": [
    "## 6.2 Finishing time ('Official')"
   ]
  },
  {
   "cell_type": "markdown",
   "metadata": {},
   "source": [
    "### younger runners tend to run faster"
   ]
  },
  {
   "cell_type": "code",
   "execution_count": 214,
   "metadata": {},
   "outputs": [
    {
     "data": {
      "image/png": "[encoded data removed]",
      "text/plain": [
       "<Figure size 648x504 with 1 Axes>"
      ]
     },
     "metadata": {
      "needs_background": "light"
     },
     "output_type": "display_data"
    }
   ],
   "source": [
    "plt.figure(figsize=(9,7))\n",
    "df3['official'].groupby(pd.cut(df3['age'], pd.IntervalIndex.from_tuples([(18, 25), (26, 40), (41, 70), (71, 81)], closed='both'))).aggregate(np.average).plot(kind=\"bar\", title=\"Average time by age group\")\n",
    "plt.show()"
   ]
  },
  {
   "cell_type": "markdown",
   "metadata": {},
   "source": [
    "### Males tend to run faster than females"
   ]
  },
  {
   "cell_type": "code",
   "execution_count": 215,
   "metadata": {},
   "outputs": [
    {
     "data": {
      "image/png": "[encoded data removed]",
      "text/plain": [
       "<Figure size 360x504 with 1 Axes>"
      ]
     },
     "metadata": {
      "needs_background": "light"
     },
     "output_type": "display_data"
    }
   ],
   "source": [
    "plt.figure(figsize=(5,7))\n",
    "df3['official'].groupby(df3.gender).aggregate(np.average).plot(kind=\"bar\", title=\"Average time by gender\")\n",
    "plt.show()"
   ]
  },
  {
   "cell_type": "markdown",
   "metadata": {},
   "source": [
    "### average finishing time in each cluster"
   ]
  },
  {
   "cell_type": "code",
   "execution_count": 216,
   "metadata": {},
   "outputs": [
    {
     "data": {
      "image/png": "[encoded data removed]",
      "text/plain": [
       "<Figure size 504x576 with 1 Axes>"
      ]
     },
     "metadata": {
      "needs_background": "light"
     },
     "output_type": "display_data"
    }
   ],
   "source": [
    "plt.figure(figsize=(7,8))\n",
    "plt.bar([0,1,2,3],[c0.official.mean(),c1.official.mean(),c2.official.mean(),c3.official.mean()], width=0.5)\n",
    "\n",
    "plt.xticks([0,1,2,3],['c0','c1','c2','c3'])\n",
    "plt.xlabel('Clusters', fontsize=15)\n",
    "plt.ylabel('Time', fontsize=15)\n",
    "plt.title('Average running time', fontsize=15)\n",
    "\n",
    "\n",
    "plt.show()"
   ]
  },
  {
   "cell_type": "markdown",
   "metadata": {},
   "source": [
    "## CONCLUSION: cluster 0 has the highest finishing time"
   ]
  }
 ],
 "metadata": {
  "kernelspec": {
   "display_name": "Python 3",
   "language": "python",
   "name": "python3"
  },
  "language_info": {
   "codemirror_mode": {
    "name": "ipython",
    "version": 3
   },
   "file_extension": ".py",
   "mimetype": "text/x-python",
   "name": "python",
   "nbconvert_exporter": "python",
   "pygments_lexer": "ipython3",
   "version": "3.7.4"
  }
 },
 "nbformat": 4,
 "nbformat_minor": 2
}
