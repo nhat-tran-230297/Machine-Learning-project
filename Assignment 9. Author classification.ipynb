{
 "cells": [
  {
   "cell_type": "markdown",
   "metadata": {},
   "source": [
    "<h1><center>Assignment 9: AUTHOR CLASSIFICATION </center></h1>"
   ]
  },
  {
   "cell_type": "markdown",
   "metadata": {},
   "source": [
    "## Preprocess data"
   ]
  },
  {
   "cell_type": "code",
   "execution_count": 194,
   "metadata": {},
   "outputs": [],
   "source": [
    "from __future__ import print_function\n",
    "import numpy as np\n",
    "import pandas as pd\n",
    "import matplotlib.pyplot as plt\n",
    "pd.set_option('display.max_rows', 1000)\n",
    "\n",
    "import keras\n",
    "from keras.models import Sequential\n",
    "from keras.layers import Dense, Dropout, Flatten, BatchNormalization\n",
    "from keras import backend as K"
   ]
  },
  {
   "cell_type": "code",
   "execution_count": 195,
   "metadata": {},
   "outputs": [
    {
     "name": "stdout",
     "output_type": "stream",
     "text": [
      "['austen-emma.txt', 'austen-persuasion.txt', 'austen-sense.txt', 'bible-kjv.txt', 'blake-poems.txt', 'bryant-stories.txt', 'burgess-busterbrown.txt', 'carroll-alice.txt', 'chesterton-ball.txt', 'chesterton-brown.txt', 'chesterton-thursday.txt', 'edgeworth-parents.txt', 'melville-moby_dick.txt', 'milton-paradise.txt', 'shakespeare-caesar.txt', 'shakespeare-hamlet.txt', 'shakespeare-macbeth.txt', 'whitman-leaves.txt']\n"
     ]
    }
   ],
   "source": [
    "from nltk.corpus import gutenberg, words\n",
    "\n",
    "print(gutenberg.fileids())"
   ]
  },
  {
   "cell_type": "code",
   "execution_count": 196,
   "metadata": {},
   "outputs": [
    {
     "name": "stdout",
     "output_type": "stream",
     "text": [
      "192427 98171 141576 1010654 8354 55563 18963 34110 96996 86063 69213 210663 260819 96825 25833 37360 23140 154883 "
     ]
    }
   ],
   "source": [
    "for fileid in gutenberg.fileids():\n",
    "    print(len(gutenberg.words(fileid)), end=' ')"
   ]
  },
  {
   "cell_type": "code",
   "execution_count": 197,
   "metadata": {},
   "outputs": [],
   "source": [
    "import re\n",
    "authors, novels = [], []\n",
    "\n",
    "# get the author's name and novel\n",
    "for fileid in gutenberg.fileids():\n",
    "    # get the author\n",
    "    author = re.compile('(?P<before>.+)-').search(fileid).group('before')\n",
    "    \n",
    "    #get the novel\n",
    "    novel = re.compile('-(?P<after>.+)').search(fileid).group('after')\n",
    "    novel = novel.replace('.txt', '')\n",
    "    \n",
    "    authors.append(author)\n",
    "    novels.append(novel)\n"
   ]
  },
  {
   "cell_type": "code",
   "execution_count": null,
   "metadata": {},
   "outputs": [],
   "source": []
  },
  {
   "cell_type": "code",
   "execution_count": 198,
   "metadata": {},
   "outputs": [],
   "source": [
    "from spacy.lang.en.stop_words import STOP_WORDS\n",
    "from nltk.stem import PorterStemmer\n",
    "stemmer = PorterStemmer()\n",
    "\n",
    "list_word = []\n",
    "for fileid in gutenberg.fileids():\n",
    "    # convert to lower case \n",
    "    lower = [word.lower() for word in gutenberg.words(fileid)]\n",
    "    \n",
    "    # remove number and punctuation and stop words\n",
    "    remove = [word for word in lower if word.isalpha() == True and word not in STOP_WORDS]\n",
    "    \n",
    "    list_word.append(remove)\n"
   ]
  },
  {
   "cell_type": "code",
   "execution_count": 199,
   "metadata": {},
   "outputs": [
    {
     "name": "stdout",
     "output_type": "stream",
     "text": [
      "61007 32276 45383 335198 3657 19419 7034 11104 34986 31657 24934 70376 98827 41398 10474 14981 9565 61568 "
     ]
    }
   ],
   "source": [
    "for i in list_word:\n",
    "    print(len(i), end=' ')"
   ]
  },
  {
   "cell_type": "code",
   "execution_count": 200,
   "metadata": {},
   "outputs": [
    {
     "data": {
      "text/html": [
       "<div>\n",
       "<style scoped>\n",
       "    .dataframe tbody tr th:only-of-type {\n",
       "        vertical-align: middle;\n",
       "    }\n",
       "\n",
       "    .dataframe tbody tr th {\n",
       "        vertical-align: top;\n",
       "    }\n",
       "\n",
       "    .dataframe thead th {\n",
       "        text-align: right;\n",
       "    }\n",
       "</style>\n",
       "<table border=\"1\" class=\"dataframe\">\n",
       "  <thead>\n",
       "    <tr style=\"text-align: right;\">\n",
       "      <th></th>\n",
       "      <th>Novels</th>\n",
       "      <th>Texts</th>\n",
       "      <th>Authors</th>\n",
       "    </tr>\n",
       "  </thead>\n",
       "  <tbody>\n",
       "    <tr>\n",
       "      <td>0</td>\n",
       "      <td>emma</td>\n",
       "      <td>[emma, jane, austen, volume, chapter, emma, wo...</td>\n",
       "      <td>austen</td>\n",
       "    </tr>\n",
       "    <tr>\n",
       "      <td>1</td>\n",
       "      <td>persuasion</td>\n",
       "      <td>[persuasion, jane, austen, chapter, sir, walte...</td>\n",
       "      <td>austen</td>\n",
       "    </tr>\n",
       "    <tr>\n",
       "      <td>2</td>\n",
       "      <td>sense</td>\n",
       "      <td>[sense, sensibility, jane, austen, chapter, fa...</td>\n",
       "      <td>austen</td>\n",
       "    </tr>\n",
       "    <tr>\n",
       "      <td>3</td>\n",
       "      <td>kjv</td>\n",
       "      <td>[king, james, bible, old, testament, king, jam...</td>\n",
       "      <td>bible</td>\n",
       "    </tr>\n",
       "    <tr>\n",
       "      <td>4</td>\n",
       "      <td>poems</td>\n",
       "      <td>[poems, william, blake, songs, innocence, expe...</td>\n",
       "      <td>blake</td>\n",
       "    </tr>\n",
       "    <tr>\n",
       "      <td>5</td>\n",
       "      <td>stories</td>\n",
       "      <td>[stories, tell, children, sara, cone, bryant, ...</td>\n",
       "      <td>bryant</td>\n",
       "    </tr>\n",
       "    <tr>\n",
       "      <td>6</td>\n",
       "      <td>busterbrown</td>\n",
       "      <td>[adventures, buster, bear, thornton, w, burges...</td>\n",
       "      <td>burgess</td>\n",
       "    </tr>\n",
       "    <tr>\n",
       "      <td>7</td>\n",
       "      <td>alice</td>\n",
       "      <td>[alice, s, adventures, wonderland, lewis, carr...</td>\n",
       "      <td>carroll</td>\n",
       "    </tr>\n",
       "    <tr>\n",
       "      <td>8</td>\n",
       "      <td>ball</td>\n",
       "      <td>[ball, cross, g, k, chesterton, discussion, so...</td>\n",
       "      <td>chesterton</td>\n",
       "    </tr>\n",
       "    <tr>\n",
       "      <td>9</td>\n",
       "      <td>brown</td>\n",
       "      <td>[wisdom, father, brown, g, k, chesterton, abse...</td>\n",
       "      <td>chesterton</td>\n",
       "    </tr>\n",
       "    <tr>\n",
       "      <td>10</td>\n",
       "      <td>thursday</td>\n",
       "      <td>[man, thursday, g, k, chesterton, edmund, cler...</td>\n",
       "      <td>chesterton</td>\n",
       "    </tr>\n",
       "    <tr>\n",
       "      <td>11</td>\n",
       "      <td>parents</td>\n",
       "      <td>[parent, s, assistant, maria, edgeworth, orpha...</td>\n",
       "      <td>edgeworth</td>\n",
       "    </tr>\n",
       "    <tr>\n",
       "      <td>12</td>\n",
       "      <td>moby_dick</td>\n",
       "      <td>[moby, dick, herman, melville, etymology, supp...</td>\n",
       "      <td>melville</td>\n",
       "    </tr>\n",
       "    <tr>\n",
       "      <td>13</td>\n",
       "      <td>paradise</td>\n",
       "      <td>[paradise, lost, john, milton, book, man, s, d...</td>\n",
       "      <td>milton</td>\n",
       "    </tr>\n",
       "    <tr>\n",
       "      <td>14</td>\n",
       "      <td>caesar</td>\n",
       "      <td>[tragedie, julius, caesar, william, shakespear...</td>\n",
       "      <td>shakespeare</td>\n",
       "    </tr>\n",
       "    <tr>\n",
       "      <td>15</td>\n",
       "      <td>hamlet</td>\n",
       "      <td>[tragedie, hamlet, william, shakespeare, actus...</td>\n",
       "      <td>shakespeare</td>\n",
       "    </tr>\n",
       "    <tr>\n",
       "      <td>16</td>\n",
       "      <td>macbeth</td>\n",
       "      <td>[tragedie, macbeth, william, shakespeare, actu...</td>\n",
       "      <td>shakespeare</td>\n",
       "    </tr>\n",
       "    <tr>\n",
       "      <td>17</td>\n",
       "      <td>leaves</td>\n",
       "      <td>[leaves, grass, walt, whitman, come, said, sou...</td>\n",
       "      <td>whitman</td>\n",
       "    </tr>\n",
       "  </tbody>\n",
       "</table>\n",
       "</div>"
      ],
      "text/plain": [
       "         Novels                                              Texts  \\\n",
       "0          emma  [emma, jane, austen, volume, chapter, emma, wo...   \n",
       "1    persuasion  [persuasion, jane, austen, chapter, sir, walte...   \n",
       "2         sense  [sense, sensibility, jane, austen, chapter, fa...   \n",
       "3           kjv  [king, james, bible, old, testament, king, jam...   \n",
       "4         poems  [poems, william, blake, songs, innocence, expe...   \n",
       "5       stories  [stories, tell, children, sara, cone, bryant, ...   \n",
       "6   busterbrown  [adventures, buster, bear, thornton, w, burges...   \n",
       "7         alice  [alice, s, adventures, wonderland, lewis, carr...   \n",
       "8          ball  [ball, cross, g, k, chesterton, discussion, so...   \n",
       "9         brown  [wisdom, father, brown, g, k, chesterton, abse...   \n",
       "10     thursday  [man, thursday, g, k, chesterton, edmund, cler...   \n",
       "11      parents  [parent, s, assistant, maria, edgeworth, orpha...   \n",
       "12    moby_dick  [moby, dick, herman, melville, etymology, supp...   \n",
       "13     paradise  [paradise, lost, john, milton, book, man, s, d...   \n",
       "14       caesar  [tragedie, julius, caesar, william, shakespear...   \n",
       "15       hamlet  [tragedie, hamlet, william, shakespeare, actus...   \n",
       "16      macbeth  [tragedie, macbeth, william, shakespeare, actu...   \n",
       "17       leaves  [leaves, grass, walt, whitman, come, said, sou...   \n",
       "\n",
       "        Authors  \n",
       "0        austen  \n",
       "1        austen  \n",
       "2        austen  \n",
       "3         bible  \n",
       "4         blake  \n",
       "5        bryant  \n",
       "6       burgess  \n",
       "7       carroll  \n",
       "8    chesterton  \n",
       "9    chesterton  \n",
       "10   chesterton  \n",
       "11    edgeworth  \n",
       "12     melville  \n",
       "13       milton  \n",
       "14  shakespeare  \n",
       "15  shakespeare  \n",
       "16  shakespeare  \n",
       "17      whitman  "
      ]
     },
     "execution_count": 200,
     "metadata": {},
     "output_type": "execute_result"
    }
   ],
   "source": [
    "df = pd.DataFrame(data={'Novels': novels, 'Texts': list_word, 'Authors': authors})\n",
    "df"
   ]
  },
  {
   "cell_type": "code",
   "execution_count": 201,
   "metadata": {},
   "outputs": [],
   "source": [
    "from sklearn.preprocessing import LabelEncoder\n",
    "import textwrap\n",
    "le = LabelEncoder()\n",
    "\n",
    "df = pd.DataFrame(data={'Novels': novels, 'Texts': list_word, 'Authors': authors})\n",
    "df['Target'] = le.fit_transform(df['Authors'])\n",
    "\n",
    "df['Texts'] = df['Texts'].apply(lambda x: ' '.join(x))\n",
    "df['Texts'] = df['Texts'].apply(lambda x: textwrap.wrap(x, len(x)/40))\n",
    "df['Texts'] = df['Texts'].apply(lambda x: ','.join(x))\n",
    "df_new = pd.concat([pd.DataFrame({'Novels': row['Novels'], 'Texts' : row['Texts'].split(','), \n",
    "                                  'Authors': row['Authors'],'Target': row['Target']}) \n",
    "                                  for _, row in df.iterrows()]).reset_index(drop=True)"
   ]
  },
  {
   "cell_type": "code",
   "execution_count": 202,
   "metadata": {},
   "outputs": [
    {
     "data": {
      "text/html": [
       "<div>\n",
       "<style scoped>\n",
       "    .dataframe tbody tr th:only-of-type {\n",
       "        vertical-align: middle;\n",
       "    }\n",
       "\n",
       "    .dataframe tbody tr th {\n",
       "        vertical-align: top;\n",
       "    }\n",
       "\n",
       "    .dataframe thead th {\n",
       "        text-align: right;\n",
       "    }\n",
       "</style>\n",
       "<table border=\"1\" class=\"dataframe\">\n",
       "  <thead>\n",
       "    <tr style=\"text-align: right;\">\n",
       "      <th></th>\n",
       "      <th>Novels</th>\n",
       "      <th>Texts</th>\n",
       "      <th>Authors</th>\n",
       "      <th>Target</th>\n",
       "    </tr>\n",
       "  </thead>\n",
       "  <tbody>\n",
       "    <tr>\n",
       "      <td>0</td>\n",
       "      <td>emma</td>\n",
       "      <td>emma jane austen volume chapter emma woodhouse...</td>\n",
       "      <td>austen</td>\n",
       "      <td>0</td>\n",
       "    </tr>\n",
       "    <tr>\n",
       "      <td>1</td>\n",
       "      <td>emma</td>\n",
       "      <td>purchase randalls sale randalls long looked fo...</td>\n",
       "      <td>austen</td>\n",
       "      <td>0</td>\n",
       "    </tr>\n",
       "    <tr>\n",
       "      <td>2</td>\n",
       "      <td>emma</td>\n",
       "      <td>parlours large mrs goddard s drawing room havi...</td>\n",
       "      <td>austen</td>\n",
       "      <td>0</td>\n",
       "    </tr>\n",
       "    <tr>\n",
       "      <td>3</td>\n",
       "      <td>emma</td>\n",
       "      <td>bloom air head glance hears child picture heal...</td>\n",
       "      <td>austen</td>\n",
       "      <td>0</td>\n",
       "    </tr>\n",
       "    <tr>\n",
       "      <td>4</td>\n",
       "      <td>emma</td>\n",
       "      <td>shall respect mean regard letter yes doubt ans...</td>\n",
       "      <td>austen</td>\n",
       "      <td>0</td>\n",
       "    </tr>\n",
       "  </tbody>\n",
       "</table>\n",
       "</div>"
      ],
      "text/plain": [
       "  Novels                                              Texts Authors  Target\n",
       "0   emma  emma jane austen volume chapter emma woodhouse...  austen       0\n",
       "1   emma  purchase randalls sale randalls long looked fo...  austen       0\n",
       "2   emma  parlours large mrs goddard s drawing room havi...  austen       0\n",
       "3   emma  bloom air head glance hears child picture heal...  austen       0\n",
       "4   emma  shall respect mean regard letter yes doubt ans...  austen       0"
      ]
     },
     "execution_count": 202,
     "metadata": {},
     "output_type": "execute_result"
    }
   ],
   "source": [
    "df_new.head()"
   ]
  },
  {
   "cell_type": "markdown",
   "metadata": {},
   "source": [
    "## Bag of words"
   ]
  },
  {
   "cell_type": "code",
   "execution_count": 203,
   "metadata": {},
   "outputs": [],
   "source": [
    "from sklearn.feature_extraction.text import CountVectorizer\n",
    "\n",
    "# create a count vectorizer object\n",
    "count_vectorizer = CountVectorizer()\n",
    "count_vectorizer.fit(df_new['Texts'])\n",
    "\n",
    "vocab = []\n",
    "count = []\n",
    "# iterate through each vocab and count append the value to designated lists\n",
    "for key, value in count_vectorizer.vocabulary_.items() :\n",
    "    vocab.append(key)\n",
    "    count.append(value)\n",
    "# store the count in panadas dataframe with vocab as index\n",
    "vocab = pd.Series(count, index=vocab).sort_values(ascending=True)"
   ]
  },
  {
   "cell_type": "code",
   "execution_count": 204,
   "metadata": {},
   "outputs": [],
   "source": [
    "bow = count_vectorizer.fit_transform(df_new['Texts']).toarray()\n"
   ]
  },
  {
   "cell_type": "markdown",
   "metadata": {},
   "source": [
    "### Train-test split"
   ]
  },
  {
   "cell_type": "code",
   "execution_count": 205,
   "metadata": {},
   "outputs": [],
   "source": [
    "from sklearn.model_selection import train_test_split\n",
    "x = bow\n",
    "y = df_new['Target']\n",
    "x_train, x_test, y_train, y_test = train_test_split(x, y, test_size=0.2, random_state=42)"
   ]
  },
  {
   "cell_type": "markdown",
   "metadata": {},
   "source": [
    "### Decision tree"
   ]
  },
  {
   "cell_type": "code",
   "execution_count": 206,
   "metadata": {},
   "outputs": [
    {
     "name": "stderr",
     "output_type": "stream",
     "text": [
      "C:\\Users\\tqnha\\Anaconda3\\lib\\site-packages\\sklearn\\model_selection\\_search.py:842: DeprecationWarning: The default of the `iid` parameter will change from True to False in version 0.22 and will be removed in 0.24. This will change numeric results when test-set sizes are unequal.\n",
      "  DeprecationWarning)\n"
     ]
    },
    {
     "data": {
      "text/plain": [
       "{'min_samples_split': 10}"
      ]
     },
     "execution_count": 206,
     "metadata": {},
     "output_type": "execute_result"
    }
   ],
   "source": [
    "from sklearn.model_selection import GridSearchCV\n",
    "from sklearn.tree import DecisionTreeClassifier\n",
    "param_grid = [{'min_samples_split':[2, 5, 10, 20]}]\n",
    "\n",
    "tree_bow = GridSearchCV(estimator=DecisionTreeClassifier(), param_grid=param_grid, scoring='f1_micro', cv=4, n_jobs=-1)\n",
    "tree_bow.fit(x_train, y_train)\n",
    "\n",
    "tree_bow.best_params_"
   ]
  },
  {
   "cell_type": "code",
   "execution_count": 207,
   "metadata": {},
   "outputs": [
    {
     "name": "stdout",
     "output_type": "stream",
     "text": [
      "              precision    recall  f1-score   support\n",
      "\n",
      "           0       0.96      0.87      0.92        31\n",
      "           1       0.83      1.00      0.91         5\n",
      "           2       0.57      1.00      0.73         8\n",
      "           3       0.44      0.36      0.40        11\n",
      "           4       1.00      0.80      0.89         5\n",
      "           5       1.00      1.00      1.00         7\n",
      "           6       0.70      0.81      0.75        26\n",
      "           7       0.71      0.71      0.71         7\n",
      "           8       1.00      0.78      0.88         9\n",
      "           9       0.62      0.83      0.71         6\n",
      "          10       1.00      0.84      0.91        25\n",
      "          11       1.00      0.88      0.93         8\n",
      "\n",
      "   micro avg       0.82      0.82      0.82       148\n",
      "   macro avg       0.82      0.82      0.81       148\n",
      "weighted avg       0.84      0.82      0.82       148\n",
      "\n"
     ]
    }
   ],
   "source": [
    "from sklearn.metrics import classification_report\n",
    "\n",
    "tree_bow_best = tree_bow.best_estimator_\n",
    "print(classification_report(y_test, tree_bow_best.predict(x_test)))"
   ]
  },
  {
   "cell_type": "markdown",
   "metadata": {},
   "source": [
    "### Multinomial NB"
   ]
  },
  {
   "cell_type": "code",
   "execution_count": 208,
   "metadata": {},
   "outputs": [
    {
     "name": "stderr",
     "output_type": "stream",
     "text": [
      "C:\\Users\\tqnha\\Anaconda3\\lib\\site-packages\\sklearn\\model_selection\\_search.py:842: DeprecationWarning: The default of the `iid` parameter will change from True to False in version 0.22 and will be removed in 0.24. This will change numeric results when test-set sizes are unequal.\n",
      "  DeprecationWarning)\n"
     ]
    },
    {
     "data": {
      "text/plain": [
       "{'alpha': 0.02}"
      ]
     },
     "execution_count": 208,
     "metadata": {},
     "output_type": "execute_result"
    }
   ],
   "source": [
    "from sklearn.naive_bayes import MultinomialNB\n",
    "param_grid = [{\"alpha\": np.arange(0.01, 0.1, 0.01)}]\n",
    "\n",
    "# gridsearch object using 4 fold cross validation and neg_log_loss as scoring paramter\n",
    "mnb_bow = GridSearchCV(MultinomialNB(), param_grid=param_grid, scoring = 'neg_log_loss', cv = 4, n_jobs=-1)\n",
    "# fit the gridsearch\n",
    "mnb_bow.fit(x_train, y_train)\n",
    "mnb_bow.best_params_"
   ]
  },
  {
   "cell_type": "code",
   "execution_count": 209,
   "metadata": {},
   "outputs": [
    {
     "name": "stdout",
     "output_type": "stream",
     "text": [
      "              precision    recall  f1-score   support\n",
      "\n",
      "           0       1.00      1.00      1.00        31\n",
      "           1       1.00      1.00      1.00         5\n",
      "           2       1.00      1.00      1.00         8\n",
      "           3       1.00      1.00      1.00        11\n",
      "           4       1.00      1.00      1.00         5\n",
      "           5       1.00      1.00      1.00         7\n",
      "           6       1.00      1.00      1.00        26\n",
      "           7       1.00      1.00      1.00         7\n",
      "           8       1.00      1.00      1.00         9\n",
      "           9       1.00      1.00      1.00         6\n",
      "          10       1.00      1.00      1.00        25\n",
      "          11       1.00      1.00      1.00         8\n",
      "\n",
      "   micro avg       1.00      1.00      1.00       148\n",
      "   macro avg       1.00      1.00      1.00       148\n",
      "weighted avg       1.00      1.00      1.00       148\n",
      "\n"
     ]
    }
   ],
   "source": [
    "mnb_bow_best = mnb_bow.best_estimator_\n",
    "print(classification_report(y_test, mnb_bow_best.predict(x_test)))"
   ]
  },
  {
   "cell_type": "markdown",
   "metadata": {},
   "source": [
    "### Random Forest"
   ]
  },
  {
   "cell_type": "code",
   "execution_count": 210,
   "metadata": {},
   "outputs": [
    {
     "name": "stderr",
     "output_type": "stream",
     "text": [
      "C:\\Users\\tqnha\\Anaconda3\\lib\\site-packages\\sklearn\\model_selection\\_search.py:842: DeprecationWarning: The default of the `iid` parameter will change from True to False in version 0.22 and will be removed in 0.24. This will change numeric results when test-set sizes are unequal.\n",
      "  DeprecationWarning)\n"
     ]
    },
    {
     "data": {
      "text/plain": [
       "{'n_estimators': 100}"
      ]
     },
     "execution_count": 210,
     "metadata": {},
     "output_type": "execute_result"
    }
   ],
   "source": [
    "from sklearn.ensemble import RandomForestClassifier\n",
    "param_grid = {'n_estimators': [10, 30, 50, 70, 100]}\n",
    "\n",
    "rfc_bow = GridSearchCV(estimator=RandomForestClassifier(), param_grid=param_grid, scoring='neg_log_loss', cv=4, n_jobs=-1)\n",
    "rfc_bow.fit(x_train, y_train)\n",
    "\n",
    "rfc_bow.best_params_"
   ]
  },
  {
   "cell_type": "code",
   "execution_count": 211,
   "metadata": {},
   "outputs": [
    {
     "name": "stdout",
     "output_type": "stream",
     "text": [
      "              precision    recall  f1-score   support\n",
      "\n",
      "           0       0.94      0.97      0.95        31\n",
      "           1       1.00      1.00      1.00         5\n",
      "           2       1.00      1.00      1.00         8\n",
      "           3       0.86      0.55      0.67        11\n",
      "           4       0.83      1.00      0.91         5\n",
      "           5       1.00      1.00      1.00         7\n",
      "           6       0.87      1.00      0.93        26\n",
      "           7       1.00      0.71      0.83         7\n",
      "           8       1.00      1.00      1.00         9\n",
      "           9       1.00      1.00      1.00         6\n",
      "          10       1.00      1.00      1.00        25\n",
      "          11       1.00      1.00      1.00         8\n",
      "\n",
      "   micro avg       0.95      0.95      0.95       148\n",
      "   macro avg       0.96      0.94      0.94       148\n",
      "weighted avg       0.95      0.95      0.94       148\n",
      "\n"
     ]
    }
   ],
   "source": [
    "rfc_bow_best = rfc_bow.best_estimator_\n",
    "print(classification_report(y_test, rfc_bow_best.predict(x_test)))"
   ]
  },
  {
   "cell_type": "markdown",
   "metadata": {},
   "source": [
    "### Logistic Regression"
   ]
  },
  {
   "cell_type": "code",
   "execution_count": 212,
   "metadata": {},
   "outputs": [
    {
     "name": "stderr",
     "output_type": "stream",
     "text": [
      "C:\\Users\\tqnha\\Anaconda3\\lib\\site-packages\\sklearn\\model_selection\\_search.py:842: DeprecationWarning: The default of the `iid` parameter will change from True to False in version 0.22 and will be removed in 0.24. This will change numeric results when test-set sizes are unequal.\n",
      "  DeprecationWarning)\n",
      "C:\\Users\\tqnha\\Anaconda3\\lib\\site-packages\\sklearn\\linear_model\\logistic.py:433: FutureWarning: Default solver will be changed to 'lbfgs' in 0.22. Specify a solver to silence this warning.\n",
      "  FutureWarning)\n",
      "C:\\Users\\tqnha\\Anaconda3\\lib\\site-packages\\sklearn\\linear_model\\logistic.py:460: FutureWarning: Default multi_class will be changed to 'auto' in 0.22. Specify the multi_class option to silence this warning.\n",
      "  \"this warning.\", FutureWarning)\n"
     ]
    },
    {
     "data": {
      "text/plain": [
       "{'C': 1}"
      ]
     },
     "execution_count": 212,
     "metadata": {},
     "output_type": "execute_result"
    }
   ],
   "source": [
    "from sklearn.linear_model import LogisticRegression\n",
    "param_grid = {'C': [0.00001,0.0001,0.001,0.01,0.1,1,10]}\n",
    "\n",
    "lr_bow = GridSearchCV(estimator=LogisticRegression(), param_grid=param_grid, scoring='neg_log_loss', cv=4, n_jobs=-1)\n",
    "lr_bow.fit(x_train, y_train)\n",
    "\n",
    "lr_bow.best_params_"
   ]
  },
  {
   "cell_type": "code",
   "execution_count": 213,
   "metadata": {},
   "outputs": [
    {
     "name": "stdout",
     "output_type": "stream",
     "text": [
      "              precision    recall  f1-score   support\n",
      "\n",
      "           0       1.00      0.97      0.98        31\n",
      "           1       1.00      1.00      1.00         5\n",
      "           2       1.00      1.00      1.00         8\n",
      "           3       1.00      1.00      1.00        11\n",
      "           4       1.00      1.00      1.00         5\n",
      "           5       1.00      1.00      1.00         7\n",
      "           6       1.00      1.00      1.00        26\n",
      "           7       1.00      1.00      1.00         7\n",
      "           8       1.00      1.00      1.00         9\n",
      "           9       1.00      1.00      1.00         6\n",
      "          10       0.96      1.00      0.98        25\n",
      "          11       1.00      1.00      1.00         8\n",
      "\n",
      "   micro avg       0.99      0.99      0.99       148\n",
      "   macro avg       1.00      1.00      1.00       148\n",
      "weighted avg       0.99      0.99      0.99       148\n",
      "\n"
     ]
    }
   ],
   "source": [
    "lr_bow_best = lr_bow.best_estimator_\n",
    "print(classification_report(y_test, lr_bow_best.predict(x_test)))"
   ]
  },
  {
   "cell_type": "markdown",
   "metadata": {},
   "source": [
    "### KNN"
   ]
  },
  {
   "cell_type": "code",
   "execution_count": 214,
   "metadata": {},
   "outputs": [
    {
     "name": "stderr",
     "output_type": "stream",
     "text": [
      "C:\\Users\\tqnha\\Anaconda3\\lib\\site-packages\\sklearn\\model_selection\\_search.py:842: DeprecationWarning: The default of the `iid` parameter will change from True to False in version 0.22 and will be removed in 0.24. This will change numeric results when test-set sizes are unequal.\n",
      "  DeprecationWarning)\n"
     ]
    },
    {
     "data": {
      "text/plain": [
       "{'n_neighbors': 1}"
      ]
     },
     "execution_count": 214,
     "metadata": {},
     "output_type": "execute_result"
    }
   ],
   "source": [
    "from sklearn.neighbors import KNeighborsClassifier\n",
    "\n",
    "param_grid = {'n_neighbors': [1,5,10,20]}\n",
    "\n",
    "knn_bow = GridSearchCV(estimator=KNeighborsClassifier(), param_grid=param_grid, scoring='f1_weighted', cv=4, n_jobs=-1)\n",
    "knn_bow.fit(x_train, y_train)\n",
    "\n",
    "knn_bow.best_params_"
   ]
  },
  {
   "cell_type": "code",
   "execution_count": 215,
   "metadata": {},
   "outputs": [
    {
     "name": "stdout",
     "output_type": "stream",
     "text": [
      "              precision    recall  f1-score   support\n",
      "\n",
      "           0       0.93      0.90      0.92        31\n",
      "           1       0.71      1.00      0.83         5\n",
      "           2       0.00      0.00      0.00         8\n",
      "           3       0.71      0.45      0.56        11\n",
      "           4       0.83      1.00      0.91         5\n",
      "           5       0.40      0.86      0.55         7\n",
      "           6       0.85      0.65      0.74        26\n",
      "           7       0.36      0.71      0.48         7\n",
      "           8       1.00      0.78      0.88         9\n",
      "           9       0.75      0.50      0.60         6\n",
      "          10       0.81      0.68      0.74        25\n",
      "          11       0.50      0.12      0.20         8\n",
      "\n",
      "   micro avg       0.67      0.67      0.67       148\n",
      "   macro avg       0.66      0.64      0.62       148\n",
      "weighted avg       0.74      0.67      0.68       148\n",
      "\n"
     ]
    }
   ],
   "source": [
    "knn_bow_best = knn_bow.best_estimator_\n",
    "print(classification_report(y_test, knn_bow_best.predict(x_test)))"
   ]
  },
  {
   "cell_type": "code",
   "execution_count": null,
   "metadata": {},
   "outputs": [],
   "source": []
  },
  {
   "cell_type": "code",
   "execution_count": null,
   "metadata": {},
   "outputs": [],
   "source": []
  },
  {
   "cell_type": "markdown",
   "metadata": {},
   "source": [
    "## TF-IDF"
   ]
  },
  {
   "cell_type": "code",
   "execution_count": 216,
   "metadata": {},
   "outputs": [],
   "source": [
    "from sklearn.feature_extraction.text import TfidfVectorizer\n",
    "\n",
    "tfid_vectorizer = TfidfVectorizer(\"english\")\n",
    "tfid_vectorizer.fit(df_new['Texts'])\n",
    "\n",
    "# collect the vocabulary items used in the vectorizer\n",
    "dictionary = tfid_vectorizer.vocabulary_"
   ]
  },
  {
   "cell_type": "code",
   "execution_count": 217,
   "metadata": {},
   "outputs": [],
   "source": [
    "tfid_matrix = tfid_vectorizer.transform(df_new['Texts'])\n",
    "# collect the tfid matrix in numpy array\n",
    "tfidf = tfid_matrix.todense()"
   ]
  },
  {
   "cell_type": "markdown",
   "metadata": {},
   "source": [
    "### Train-test split"
   ]
  },
  {
   "cell_type": "code",
   "execution_count": 218,
   "metadata": {},
   "outputs": [],
   "source": [
    "x = tfidf\n",
    "y = df_new['Target']\n",
    "x_train1, x_test1, y_train1, y_test1 = train_test_split(x, y, test_size=0.2, random_state=42)"
   ]
  },
  {
   "cell_type": "markdown",
   "metadata": {},
   "source": [
    "### Decision tree"
   ]
  },
  {
   "cell_type": "code",
   "execution_count": 219,
   "metadata": {},
   "outputs": [
    {
     "name": "stderr",
     "output_type": "stream",
     "text": [
      "C:\\Users\\tqnha\\Anaconda3\\lib\\site-packages\\sklearn\\model_selection\\_search.py:842: DeprecationWarning: The default of the `iid` parameter will change from True to False in version 0.22 and will be removed in 0.24. This will change numeric results when test-set sizes are unequal.\n",
      "  DeprecationWarning)\n"
     ]
    },
    {
     "data": {
      "text/plain": [
       "{'min_samples_split': 2}"
      ]
     },
     "execution_count": 219,
     "metadata": {},
     "output_type": "execute_result"
    }
   ],
   "source": [
    "param_grid = [{'min_samples_split':[2, 5, 10, 20, 50]}]\n",
    "\n",
    "tree_tfidf = GridSearchCV(estimator=DecisionTreeClassifier(), param_grid=param_grid, scoring='f1_weighted', cv=4, n_jobs=-1)\n",
    "tree_tfidf.fit(x_train1, y_train1)\n",
    "\n",
    "tree_tfidf.best_params_"
   ]
  },
  {
   "cell_type": "code",
   "execution_count": 220,
   "metadata": {},
   "outputs": [
    {
     "name": "stdout",
     "output_type": "stream",
     "text": [
      "              precision    recall  f1-score   support\n",
      "\n",
      "           0       0.87      0.84      0.85        31\n",
      "           1       1.00      1.00      1.00         5\n",
      "           2       0.50      0.75      0.60         8\n",
      "           3       0.88      0.64      0.74        11\n",
      "           4       1.00      0.80      0.89         5\n",
      "           5       1.00      1.00      1.00         7\n",
      "           6       0.64      0.69      0.67        26\n",
      "           7       0.75      0.86      0.80         7\n",
      "           8       0.75      1.00      0.86         9\n",
      "           9       1.00      1.00      1.00         6\n",
      "          10       1.00      0.84      0.91        25\n",
      "          11       1.00      0.88      0.93         8\n",
      "\n",
      "   micro avg       0.82      0.82      0.82       148\n",
      "   macro avg       0.87      0.86      0.85       148\n",
      "weighted avg       0.85      0.82      0.83       148\n",
      "\n"
     ]
    }
   ],
   "source": [
    "tree_tfidf_best = tree_tfidf.best_estimator_\n",
    "print(classification_report(y_test1, tree_tfidf_best.predict(x_test1)))"
   ]
  },
  {
   "cell_type": "markdown",
   "metadata": {},
   "source": [
    "### Multinomial NB "
   ]
  },
  {
   "cell_type": "code",
   "execution_count": 221,
   "metadata": {},
   "outputs": [
    {
     "name": "stderr",
     "output_type": "stream",
     "text": [
      "C:\\Users\\tqnha\\Anaconda3\\lib\\site-packages\\sklearn\\model_selection\\_search.py:842: DeprecationWarning: The default of the `iid` parameter will change from True to False in version 0.22 and will be removed in 0.24. This will change numeric results when test-set sizes are unequal.\n",
      "  DeprecationWarning)\n"
     ]
    },
    {
     "data": {
      "text/plain": [
       "{'alpha': 0.003}"
      ]
     },
     "execution_count": 221,
     "metadata": {},
     "output_type": "execute_result"
    }
   ],
   "source": [
    "param_grid = [{\"alpha\": np.arange(0.001, 0.01, 0.001)}]\n",
    "\n",
    "# gridsearch object using 4 fold cross validation and neg_log_loss as scoring paramter\n",
    "mnb_tfidf = GridSearchCV(MultinomialNB(), param_grid=param_grid, scoring = 'neg_log_loss', cv = 4, n_jobs=-1)\n",
    "# fit the gridsearch\n",
    "mnb_tfidf.fit(x_train1, y_train1)\n",
    "mnb_tfidf.best_params_"
   ]
  },
  {
   "cell_type": "code",
   "execution_count": 222,
   "metadata": {},
   "outputs": [
    {
     "name": "stdout",
     "output_type": "stream",
     "text": [
      "              precision    recall  f1-score   support\n",
      "\n",
      "           0       1.00      1.00      1.00        31\n",
      "           1       1.00      1.00      1.00         5\n",
      "           2       1.00      1.00      1.00         8\n",
      "           3       1.00      1.00      1.00        11\n",
      "           4       1.00      1.00      1.00         5\n",
      "           5       1.00      1.00      1.00         7\n",
      "           6       1.00      1.00      1.00        26\n",
      "           7       1.00      1.00      1.00         7\n",
      "           8       1.00      1.00      1.00         9\n",
      "           9       1.00      1.00      1.00         6\n",
      "          10       1.00      1.00      1.00        25\n",
      "          11       1.00      1.00      1.00         8\n",
      "\n",
      "   micro avg       1.00      1.00      1.00       148\n",
      "   macro avg       1.00      1.00      1.00       148\n",
      "weighted avg       1.00      1.00      1.00       148\n",
      "\n"
     ]
    }
   ],
   "source": [
    "mnb_tfidf_best = mnb_tfidf.best_estimator_\n",
    "print(classification_report(y_test1, mnb_tfidf_best.predict(x_test1)))"
   ]
  },
  {
   "cell_type": "markdown",
   "metadata": {},
   "source": [
    "### Random Forest"
   ]
  },
  {
   "cell_type": "code",
   "execution_count": 223,
   "metadata": {},
   "outputs": [
    {
     "name": "stderr",
     "output_type": "stream",
     "text": [
      "C:\\Users\\tqnha\\Anaconda3\\lib\\site-packages\\sklearn\\model_selection\\_search.py:842: DeprecationWarning: The default of the `iid` parameter will change from True to False in version 0.22 and will be removed in 0.24. This will change numeric results when test-set sizes are unequal.\n",
      "  DeprecationWarning)\n"
     ]
    },
    {
     "data": {
      "text/plain": [
       "{'n_estimators': 200}"
      ]
     },
     "execution_count": 223,
     "metadata": {},
     "output_type": "execute_result"
    }
   ],
   "source": [
    "param_grid = {'n_estimators': [30, 50, 70, 100, 200]}\n",
    "\n",
    "rfc_tfidf = GridSearchCV(estimator=RandomForestClassifier(), param_grid=param_grid, scoring='neg_log_loss', cv=4, n_jobs=-1)\n",
    "rfc_tfidf.fit(x_train1, y_train1)\n",
    "\n",
    "rfc_tfidf.best_params_"
   ]
  },
  {
   "cell_type": "code",
   "execution_count": 224,
   "metadata": {},
   "outputs": [
    {
     "name": "stdout",
     "output_type": "stream",
     "text": [
      "              precision    recall  f1-score   support\n",
      "\n",
      "           0       1.00      0.97      0.98        31\n",
      "           1       1.00      1.00      1.00         5\n",
      "           2       0.89      1.00      0.94         8\n",
      "           3       0.90      0.82      0.86        11\n",
      "           4       1.00      1.00      1.00         5\n",
      "           5       1.00      1.00      1.00         7\n",
      "           6       0.93      0.96      0.94        26\n",
      "           7       1.00      1.00      1.00         7\n",
      "           8       1.00      1.00      1.00         9\n",
      "           9       1.00      1.00      1.00         6\n",
      "          10       1.00      1.00      1.00        25\n",
      "          11       1.00      1.00      1.00         8\n",
      "\n",
      "   micro avg       0.97      0.97      0.97       148\n",
      "   macro avg       0.98      0.98      0.98       148\n",
      "weighted avg       0.97      0.97      0.97       148\n",
      "\n"
     ]
    }
   ],
   "source": [
    "rfc_tfidf_best = rfc_tfidf.best_estimator_\n",
    "print(classification_report(y_test1, rfc_tfidf_best.predict(x_test1)))"
   ]
  },
  {
   "cell_type": "markdown",
   "metadata": {},
   "source": [
    "### Logistic Regression"
   ]
  },
  {
   "cell_type": "code",
   "execution_count": 225,
   "metadata": {},
   "outputs": [
    {
     "name": "stderr",
     "output_type": "stream",
     "text": [
      "C:\\Users\\tqnha\\Anaconda3\\lib\\site-packages\\sklearn\\model_selection\\_search.py:842: DeprecationWarning: The default of the `iid` parameter will change from True to False in version 0.22 and will be removed in 0.24. This will change numeric results when test-set sizes are unequal.\n",
      "  DeprecationWarning)\n",
      "C:\\Users\\tqnha\\Anaconda3\\lib\\site-packages\\sklearn\\linear_model\\logistic.py:433: FutureWarning: Default solver will be changed to 'lbfgs' in 0.22. Specify a solver to silence this warning.\n",
      "  FutureWarning)\n",
      "C:\\Users\\tqnha\\Anaconda3\\lib\\site-packages\\sklearn\\linear_model\\logistic.py:460: FutureWarning: Default multi_class will be changed to 'auto' in 0.22. Specify the multi_class option to silence this warning.\n",
      "  \"this warning.\", FutureWarning)\n"
     ]
    },
    {
     "data": {
      "text/plain": [
       "{'C': 50}"
      ]
     },
     "execution_count": 225,
     "metadata": {},
     "output_type": "execute_result"
    }
   ],
   "source": [
    "param_grid = {'C': [0.01,0.1,1,10,20,50]}\n",
    "\n",
    "lr_tfidf = GridSearchCV(estimator=LogisticRegression(), param_grid=param_grid, scoring='neg_log_loss', cv=4, n_jobs=-1)\n",
    "lr_tfidf.fit(x_train1, y_train1)\n",
    "\n",
    "lr_tfidf.best_params_"
   ]
  },
  {
   "cell_type": "code",
   "execution_count": 226,
   "metadata": {},
   "outputs": [
    {
     "name": "stdout",
     "output_type": "stream",
     "text": [
      "              precision    recall  f1-score   support\n",
      "\n",
      "           0       1.00      0.97      0.98        31\n",
      "           1       1.00      1.00      1.00         5\n",
      "           2       1.00      1.00      1.00         8\n",
      "           3       1.00      1.00      1.00        11\n",
      "           4       1.00      1.00      1.00         5\n",
      "           5       1.00      1.00      1.00         7\n",
      "           6       1.00      1.00      1.00        26\n",
      "           7       1.00      1.00      1.00         7\n",
      "           8       1.00      1.00      1.00         9\n",
      "           9       1.00      1.00      1.00         6\n",
      "          10       0.96      1.00      0.98        25\n",
      "          11       1.00      1.00      1.00         8\n",
      "\n",
      "   micro avg       0.99      0.99      0.99       148\n",
      "   macro avg       1.00      1.00      1.00       148\n",
      "weighted avg       0.99      0.99      0.99       148\n",
      "\n"
     ]
    }
   ],
   "source": [
    "lr_tfidf_best = lr_tfidf.best_estimator_\n",
    "print(classification_report(y_test1, lr_tfidf_best.predict(x_test1)))"
   ]
  },
  {
   "cell_type": "markdown",
   "metadata": {},
   "source": [
    "### KNN"
   ]
  },
  {
   "cell_type": "code",
   "execution_count": 227,
   "metadata": {},
   "outputs": [
    {
     "data": {
      "text/plain": [
       "{'n_neighbors': 1}"
      ]
     },
     "execution_count": 227,
     "metadata": {},
     "output_type": "execute_result"
    }
   ],
   "source": [
    "param_grid = {'n_neighbors': [1,5,10,20]}\n",
    "\n",
    "knn_tfidf = GridSearchCV(estimator=KNeighborsClassifier(), param_grid=param_grid, scoring='f1_weighted', cv=4, n_jobs=-1)\n",
    "knn_tfidf.fit(x_train1, y_train1)\n",
    "\n",
    "knn_tfidf.best_params_"
   ]
  },
  {
   "cell_type": "code",
   "execution_count": 228,
   "metadata": {},
   "outputs": [
    {
     "name": "stdout",
     "output_type": "stream",
     "text": [
      "              precision    recall  f1-score   support\n",
      "\n",
      "           0       0.97      0.97      0.97        31\n",
      "           1       1.00      1.00      1.00         5\n",
      "           2       1.00      1.00      1.00         8\n",
      "           3       1.00      0.82      0.90        11\n",
      "           4       1.00      1.00      1.00         5\n",
      "           5       0.88      1.00      0.93         7\n",
      "           6       1.00      0.96      0.98        26\n",
      "           7       1.00      1.00      1.00         7\n",
      "           8       1.00      1.00      1.00         9\n",
      "           9       1.00      1.00      1.00         6\n",
      "          10       0.93      1.00      0.96        25\n",
      "          11       1.00      1.00      1.00         8\n",
      "\n",
      "   micro avg       0.97      0.97      0.97       148\n",
      "   macro avg       0.98      0.98      0.98       148\n",
      "weighted avg       0.97      0.97      0.97       148\n",
      "\n"
     ]
    }
   ],
   "source": [
    "knn_tfidf_best = knn_tfidf.best_estimator_\n",
    "print(classification_report(y_test1, knn_tfidf_best.predict(x_test1)))"
   ]
  },
  {
   "cell_type": "code",
   "execution_count": null,
   "metadata": {},
   "outputs": [],
   "source": []
  },
  {
   "cell_type": "markdown",
   "metadata": {},
   "source": [
    "## Word2Vec "
   ]
  },
  {
   "cell_type": "code",
   "execution_count": 229,
   "metadata": {},
   "outputs": [
    {
     "data": {
      "text/plain": [
       "12"
      ]
     },
     "execution_count": 229,
     "metadata": {},
     "output_type": "execute_result"
    }
   ],
   "source": [
    "from gensim.models import Word2Vec\n",
    "import multiprocessing\n",
    "cores = multiprocessing.cpu_count()\n",
    "cores\n",
    "\n",
    "# word2vec = Word2Vec(min_count=20, window=1, size=300,\n",
    "#                      sample=6e-5, alpha=0.03, min_alpha=0.0007, \n",
    "#                      negative=20, workers=cores-1)"
   ]
  },
  {
   "cell_type": "code",
   "execution_count": 230,
   "metadata": {},
   "outputs": [],
   "source": [
    "df_vec = df_new.Texts.apply(lambda x: x.split(' '))\n",
    "model = Word2Vec(df_vec, min_count=1, window=3, size=300,\n",
    "                     sg=1, workers=cores-1)"
   ]
  },
  {
   "cell_type": "code",
   "execution_count": 231,
   "metadata": {},
   "outputs": [
    {
     "name": "stderr",
     "output_type": "stream",
     "text": [
      "C:\\Users\\tqnha\\Anaconda3\\lib\\site-packages\\ipykernel_launcher.py:5: DeprecationWarning: Call to deprecated `__getitem__` (Method will be removed in 4.0.0, use self.wv.__getitem__() instead).\n",
      "  \"\"\"\n"
     ]
    }
   ],
   "source": [
    "doc_vec = pd.DataFrame()\n",
    "for examples in df_vec:\n",
    "    temp = np.zeros([1,300])\n",
    "    for word in examples:\n",
    "        word_vec = model[word].reshape(1,-1)\n",
    "        temp = temp + word_vec\n",
    "    temp = np.mean(temp, axis=0, keepdims=True)\n",
    "\n",
    "    doc_vec = doc_vec.append(pd.Series(np.ravel(temp)), ignore_index=True)   \n",
    "    "
   ]
  },
  {
   "cell_type": "markdown",
   "metadata": {},
   "source": [
    "### Preprocess data after Word2vec"
   ]
  },
  {
   "cell_type": "code",
   "execution_count": 241,
   "metadata": {},
   "outputs": [],
   "source": [
    "from sklearn.preprocessing import StandardScaler, MinMaxScaler\n",
    "scaled = MinMaxScaler(feature_range=(0.0001,1)).fit_transform(doc_vec)"
   ]
  },
  {
   "cell_type": "code",
   "execution_count": 250,
   "metadata": {},
   "outputs": [
    {
     "data": {
      "text/plain": [
       "array([[9.76952838e-01, 5.41743465e-02, 8.38619346e-02, ...,\n",
       "        2.02034130e-01, 1.32271025e-02, 1.66859932e-01],\n",
       "       [9.68645649e-01, 6.84347927e-02, 7.56035488e-02, ...,\n",
       "        1.87676941e-01, 1.00000000e-04, 1.50996061e-01],\n",
       "       [9.86987233e-01, 5.75288177e-02, 8.45608751e-02, ...,\n",
       "        1.92506211e-01, 5.25928498e-03, 1.69440760e-01],\n",
       "       ...,\n",
       "       [8.95673130e-01, 8.94994040e-02, 1.18629803e-01, ...,\n",
       "        2.16058623e-01, 2.99521568e-02, 9.61490747e-02],\n",
       "       [8.82469773e-01, 9.00406745e-02, 1.17799343e-01, ...,\n",
       "        2.14663745e-01, 4.50029872e-02, 8.58123429e-02],\n",
       "       [8.49124396e-01, 4.68746841e-02, 5.23911150e-03, ...,\n",
       "        1.64154452e-01, 4.91270651e-02, 1.14220568e-03]])"
      ]
     },
     "execution_count": 250,
     "metadata": {},
     "output_type": "execute_result"
    }
   ],
   "source": [
    "scaled"
   ]
  },
  {
   "cell_type": "code",
   "execution_count": 242,
   "metadata": {},
   "outputs": [
    {
     "data": {
      "text/plain": [
       "24"
      ]
     },
     "execution_count": 242,
     "metadata": {},
     "output_type": "execute_result"
    }
   ],
   "source": [
    "from sklearn.decomposition import PCA\n",
    "pca = PCA(0.999)\n",
    "pca.fit(scaled)\n",
    "pca.n_components_"
   ]
  },
  {
   "cell_type": "code",
   "execution_count": 243,
   "metadata": {},
   "outputs": [
    {
     "data": {
      "image/png": "[encoded data removed]",
      "text/plain": [
       "<Figure size 432x288 with 1 Axes>"
      ]
     },
     "metadata": {
      "needs_background": "light"
     },
     "output_type": "display_data"
    }
   ],
   "source": [
    "pca = PCA()\n",
    "pca.fit(scaled)\n",
    "\n",
    "#Plotting the Cumulative Summation of the Explained Variance\n",
    "plt.figure()\n",
    "plt.plot(np.cumsum(pca.explained_variance_ratio_))\n",
    "plt.xlabel('Number of Components')\n",
    "plt.axhline(y=0.999, color='r', linestyle='-')\n",
    "plt.ylabel('Variance (%)') #for each component\n",
    "plt.title('Pulsar Dataset Explained Variance')\n",
    "plt.show()"
   ]
  },
  {
   "cell_type": "code",
   "execution_count": 244,
   "metadata": {},
   "outputs": [
    {
     "data": {
      "text/plain": [
       "(738, 300)"
      ]
     },
     "execution_count": 244,
     "metadata": {},
     "output_type": "execute_result"
    }
   ],
   "source": [
    "pca_scaled = pca.transform(scaled)\n",
    "pca_scaled.shape"
   ]
  },
  {
   "cell_type": "code",
   "execution_count": 251,
   "metadata": {},
   "outputs": [
    {
     "data": {
      "text/plain": [
       "array([[ 2.39412782e-01, -1.01090480e+00,  2.17465836e-01, ...,\n",
       "        -8.62884854e-06, -4.67714716e-06, -7.01886972e-06],\n",
       "       [ 1.20292492e-01, -9.50110144e-01,  1.85582062e-01, ...,\n",
       "         2.85388056e-05,  1.81333116e-05, -8.61533500e-06],\n",
       "       [ 2.36892696e-01, -1.12194483e+00,  1.88146537e-01, ...,\n",
       "         1.68563911e-05,  8.49959335e-06,  1.82729718e-05],\n",
       "       ...,\n",
       "       [ 7.22450654e-02, -2.09100743e-01, -1.55702706e-01, ...,\n",
       "        -1.10458592e-05,  6.60211223e-06, -1.22569245e-05],\n",
       "       [ 4.98073799e-02, -1.33493377e-01, -1.84028065e-01, ...,\n",
       "         1.95429364e-05,  1.31984834e-06,  1.33775898e-06],\n",
       "       [-1.29258141e+00,  6.19450520e-01, -1.41708987e-02, ...,\n",
       "         2.43261449e-06, -2.42376745e-06, -4.84249262e-06]])"
      ]
     },
     "execution_count": 251,
     "metadata": {},
     "output_type": "execute_result"
    }
   ],
   "source": [
    "pca_scaled"
   ]
  },
  {
   "cell_type": "markdown",
   "metadata": {},
   "source": [
    "### Train-test spit"
   ]
  },
  {
   "cell_type": "code",
   "execution_count": 245,
   "metadata": {},
   "outputs": [],
   "source": [
    "x = pca_scaled\n",
    "y = df_new['Target']\n",
    "x_train2, x_test2, y_train2, y_test2 = train_test_split(x, y, test_size=0.2, random_state=42)"
   ]
  },
  {
   "cell_type": "markdown",
   "metadata": {},
   "source": [
    "### Decision tree"
   ]
  },
  {
   "cell_type": "code",
   "execution_count": 246,
   "metadata": {},
   "outputs": [
    {
     "name": "stderr",
     "output_type": "stream",
     "text": [
      "C:\\Users\\tqnha\\Anaconda3\\lib\\site-packages\\sklearn\\model_selection\\_search.py:842: DeprecationWarning: The default of the `iid` parameter will change from True to False in version 0.22 and will be removed in 0.24. This will change numeric results when test-set sizes are unequal.\n",
      "  DeprecationWarning)\n"
     ]
    },
    {
     "data": {
      "text/plain": [
       "{'min_samples_split': 10}"
      ]
     },
     "execution_count": 246,
     "metadata": {},
     "output_type": "execute_result"
    }
   ],
   "source": [
    "param_grid = [{'min_samples_split':[2, 5, 10, 20, 50]}]\n",
    "\n",
    "tree_w2v = GridSearchCV(estimator=DecisionTreeClassifier(), param_grid=param_grid, scoring='f1_weighted', cv=4, n_jobs=-1)\n",
    "tree_w2v.fit(x_train2, y_train2)\n",
    "\n",
    "tree_w2v.best_params_"
   ]
  },
  {
   "cell_type": "code",
   "execution_count": 247,
   "metadata": {},
   "outputs": [
    {
     "name": "stdout",
     "output_type": "stream",
     "text": [
      "              precision    recall  f1-score   support\n",
      "\n",
      "           0       0.94      0.94      0.94        31\n",
      "           1       1.00      1.00      1.00         5\n",
      "           2       0.88      0.88      0.88         8\n",
      "           3       0.85      1.00      0.92        11\n",
      "           4       1.00      1.00      1.00         5\n",
      "           5       1.00      1.00      1.00         7\n",
      "           6       0.96      0.96      0.96        26\n",
      "           7       1.00      1.00      1.00         7\n",
      "           8       1.00      1.00      1.00         9\n",
      "           9       0.83      0.83      0.83         6\n",
      "          10       0.96      0.88      0.92        25\n",
      "          11       1.00      1.00      1.00         8\n",
      "\n",
      "   micro avg       0.95      0.95      0.95       148\n",
      "   macro avg       0.95      0.96      0.95       148\n",
      "weighted avg       0.95      0.95      0.95       148\n",
      "\n"
     ]
    }
   ],
   "source": [
    "tree_w2v_best = tree_w2v.best_estimator_\n",
    "print(classification_report(y_test2, tree_w2v_best.predict(x_test2)))"
   ]
  },
  {
   "cell_type": "markdown",
   "metadata": {},
   "source": [
    "### Multinomial NB"
   ]
  },
  {
   "cell_type": "code",
   "execution_count": 274,
   "metadata": {},
   "outputs": [
    {
     "name": "stderr",
     "output_type": "stream",
     "text": [
      "C:\\Users\\tqnha\\Anaconda3\\lib\\site-packages\\sklearn\\model_selection\\_search.py:842: DeprecationWarning: The default of the `iid` parameter will change from True to False in version 0.22 and will be removed in 0.24. This will change numeric results when test-set sizes are unequal.\n",
      "  DeprecationWarning)\n"
     ]
    },
    {
     "data": {
      "text/plain": [
       "{'var_smoothing': 1e-05}"
      ]
     },
     "execution_count": 274,
     "metadata": {},
     "output_type": "execute_result"
    }
   ],
   "source": [
    "from sklearn.naive_bayes import GaussianNB\n",
    "param_grid = [{\"var_smoothing\": np.arange(1e-5, 1e-4, 1e-3)}]\n",
    "\n",
    "# gridsearch object using 4 fold cross validation and neg_log_loss as scoring paramter\n",
    "mnb_w2v = GridSearchCV(GaussianNB(), param_grid=param_grid, scoring = 'neg_log_loss', cv = 4, n_jobs=-1)\n",
    "# fit the gridsearch\n",
    "mnb_w2v.fit(x_train2, y_train2)\n",
    "mnb_w2v.best_params_"
   ]
  },
  {
   "cell_type": "code",
   "execution_count": 276,
   "metadata": {},
   "outputs": [
    {
     "name": "stdout",
     "output_type": "stream",
     "text": [
      "              precision    recall  f1-score   support\n",
      "\n",
      "           0       1.00      0.97      0.98        31\n",
      "           1       1.00      1.00      1.00         5\n",
      "           2       0.67      1.00      0.80         8\n",
      "           3       1.00      1.00      1.00        11\n",
      "           4       1.00      1.00      1.00         5\n",
      "           5       1.00      1.00      1.00         7\n",
      "           6       1.00      0.96      0.98        26\n",
      "           7       1.00      1.00      1.00         7\n",
      "           8       1.00      1.00      1.00         9\n",
      "           9       1.00      1.00      1.00         6\n",
      "          10       1.00      0.92      0.96        25\n",
      "          11       1.00      1.00      1.00         8\n",
      "\n",
      "   micro avg       0.97      0.97      0.97       148\n",
      "   macro avg       0.97      0.99      0.98       148\n",
      "weighted avg       0.98      0.97      0.98       148\n",
      "\n"
     ]
    }
   ],
   "source": [
    "mnb_w2v_best = mnb_w2v.best_estimator_\n",
    "print(classification_report(y_test2, mnb_w2v_best.predict(x_test2)))"
   ]
  },
  {
   "cell_type": "markdown",
   "metadata": {},
   "source": [
    "### Random Forest"
   ]
  },
  {
   "cell_type": "code",
   "execution_count": 277,
   "metadata": {},
   "outputs": [
    {
     "name": "stderr",
     "output_type": "stream",
     "text": [
      "C:\\Users\\tqnha\\Anaconda3\\lib\\site-packages\\sklearn\\model_selection\\_search.py:842: DeprecationWarning: The default of the `iid` parameter will change from True to False in version 0.22 and will be removed in 0.24. This will change numeric results when test-set sizes are unequal.\n",
      "  DeprecationWarning)\n"
     ]
    },
    {
     "data": {
      "text/plain": [
       "{'n_estimators': 70}"
      ]
     },
     "execution_count": 277,
     "metadata": {},
     "output_type": "execute_result"
    }
   ],
   "source": [
    "param_grid = {'n_estimators': [30, 50, 70, 100, 200]}\n",
    "\n",
    "rfc_w2v = GridSearchCV(estimator=RandomForestClassifier(), param_grid=param_grid, scoring='neg_log_loss', cv=4, n_jobs=-1)\n",
    "rfc_w2v.fit(x_train2, y_train2)\n",
    "\n",
    "rfc_w2v.best_params_"
   ]
  },
  {
   "cell_type": "code",
   "execution_count": 278,
   "metadata": {},
   "outputs": [
    {
     "name": "stdout",
     "output_type": "stream",
     "text": [
      "              precision    recall  f1-score   support\n",
      "\n",
      "           0       1.00      0.97      0.98        31\n",
      "           1       1.00      1.00      1.00         5\n",
      "           2       0.73      1.00      0.84         8\n",
      "           3       1.00      0.73      0.84        11\n",
      "           4       1.00      1.00      1.00         5\n",
      "           5       1.00      1.00      1.00         7\n",
      "           6       0.86      0.96      0.91        26\n",
      "           7       1.00      1.00      1.00         7\n",
      "           8       1.00      0.89      0.94         9\n",
      "           9       1.00      1.00      1.00         6\n",
      "          10       0.96      0.92      0.94        25\n",
      "          11       1.00      1.00      1.00         8\n",
      "\n",
      "   micro avg       0.95      0.95      0.95       148\n",
      "   macro avg       0.96      0.96      0.95       148\n",
      "weighted avg       0.95      0.95      0.95       148\n",
      "\n"
     ]
    }
   ],
   "source": [
    "rfc_w2v_best = rfc_w2v.best_estimator_\n",
    "print(classification_report(y_test2, rfc_w2v_best.predict(x_test2)))"
   ]
  },
  {
   "cell_type": "markdown",
   "metadata": {},
   "source": [
    "### Logistic Regression"
   ]
  },
  {
   "cell_type": "code",
   "execution_count": 279,
   "metadata": {},
   "outputs": [
    {
     "name": "stderr",
     "output_type": "stream",
     "text": [
      "C:\\Users\\tqnha\\Anaconda3\\lib\\site-packages\\sklearn\\model_selection\\_search.py:842: DeprecationWarning: The default of the `iid` parameter will change from True to False in version 0.22 and will be removed in 0.24. This will change numeric results when test-set sizes are unequal.\n",
      "  DeprecationWarning)\n",
      "C:\\Users\\tqnha\\Anaconda3\\lib\\site-packages\\sklearn\\linear_model\\logistic.py:433: FutureWarning: Default solver will be changed to 'lbfgs' in 0.22. Specify a solver to silence this warning.\n",
      "  FutureWarning)\n",
      "C:\\Users\\tqnha\\Anaconda3\\lib\\site-packages\\sklearn\\linear_model\\logistic.py:460: FutureWarning: Default multi_class will be changed to 'auto' in 0.22. Specify the multi_class option to silence this warning.\n",
      "  \"this warning.\", FutureWarning)\n"
     ]
    },
    {
     "data": {
      "text/plain": [
       "{'C': 50}"
      ]
     },
     "execution_count": 279,
     "metadata": {},
     "output_type": "execute_result"
    }
   ],
   "source": [
    "param_grid = {'C': [0.01,0.1,1,10,20,50]}\n",
    "\n",
    "lr_w2v = GridSearchCV(estimator=LogisticRegression(), param_grid=param_grid, scoring='neg_log_loss', cv=4, n_jobs=-1)\n",
    "lr_w2v.fit(x_train2, y_train2)\n",
    "\n",
    "lr_w2v.best_params_"
   ]
  },
  {
   "cell_type": "code",
   "execution_count": 280,
   "metadata": {},
   "outputs": [
    {
     "name": "stdout",
     "output_type": "stream",
     "text": [
      "              precision    recall  f1-score   support\n",
      "\n",
      "           0       1.00      0.97      0.98        31\n",
      "           1       1.00      1.00      1.00         5\n",
      "           2       0.67      1.00      0.80         8\n",
      "           3       1.00      0.82      0.90        11\n",
      "           4       1.00      1.00      1.00         5\n",
      "           5       1.00      1.00      1.00         7\n",
      "           6       0.93      0.96      0.94        26\n",
      "           7       1.00      1.00      1.00         7\n",
      "           8       1.00      1.00      1.00         9\n",
      "           9       1.00      1.00      1.00         6\n",
      "          10       1.00      0.92      0.96        25\n",
      "          11       1.00      1.00      1.00         8\n",
      "\n",
      "   micro avg       0.96      0.96      0.96       148\n",
      "   macro avg       0.97      0.97      0.97       148\n",
      "weighted avg       0.97      0.96      0.96       148\n",
      "\n"
     ]
    }
   ],
   "source": [
    "lr_w2v_best = lr_w2v.best_estimator_\n",
    "print(classification_report(y_test2, lr_w2v_best.predict(x_test2)))"
   ]
  },
  {
   "cell_type": "markdown",
   "metadata": {},
   "source": [
    "### KNN"
   ]
  },
  {
   "cell_type": "code",
   "execution_count": 281,
   "metadata": {},
   "outputs": [
    {
     "name": "stderr",
     "output_type": "stream",
     "text": [
      "C:\\Users\\tqnha\\Anaconda3\\lib\\site-packages\\sklearn\\model_selection\\_search.py:842: DeprecationWarning: The default of the `iid` parameter will change from True to False in version 0.22 and will be removed in 0.24. This will change numeric results when test-set sizes are unequal.\n",
      "  DeprecationWarning)\n"
     ]
    },
    {
     "data": {
      "text/plain": [
       "{'n_neighbors': 1}"
      ]
     },
     "execution_count": 281,
     "metadata": {},
     "output_type": "execute_result"
    }
   ],
   "source": [
    "param_grid = {'n_neighbors': [1,5,10,20]}\n",
    "\n",
    "knn_w2v = GridSearchCV(estimator=KNeighborsClassifier(), param_grid=param_grid, scoring='f1_weighted', cv=4, n_jobs=-1)\n",
    "knn_w2v.fit(x_train2, y_train2)\n",
    "\n",
    "knn_w2v.best_params_"
   ]
  },
  {
   "cell_type": "code",
   "execution_count": 282,
   "metadata": {},
   "outputs": [
    {
     "name": "stdout",
     "output_type": "stream",
     "text": [
      "              precision    recall  f1-score   support\n",
      "\n",
      "           0       1.00      1.00      1.00        31\n",
      "           1       1.00      1.00      1.00         5\n",
      "           2       1.00      0.88      0.93         8\n",
      "           3       1.00      1.00      1.00        11\n",
      "           4       1.00      1.00      1.00         5\n",
      "           5       1.00      1.00      1.00         7\n",
      "           6       1.00      1.00      1.00        26\n",
      "           7       1.00      1.00      1.00         7\n",
      "           8       0.90      1.00      0.95         9\n",
      "           9       1.00      1.00      1.00         6\n",
      "          10       1.00      1.00      1.00        25\n",
      "          11       1.00      1.00      1.00         8\n",
      "\n",
      "   micro avg       0.99      0.99      0.99       148\n",
      "   macro avg       0.99      0.99      0.99       148\n",
      "weighted avg       0.99      0.99      0.99       148\n",
      "\n"
     ]
    }
   ],
   "source": [
    "knn_w2v_best = knn_w2v.best_estimator_\n",
    "print(classification_report(y_test2, knn_w2v_best.predict(x_test2)))"
   ]
  }
 ],
 "metadata": {
  "kernelspec": {
   "display_name": "Python 3",
   "language": "python",
   "name": "python3"
  },
  "language_info": {
   "codemirror_mode": {
    "name": "ipython",
    "version": 3
   },
   "file_extension": ".py",
   "mimetype": "text/x-python",
   "name": "python",
   "nbconvert_exporter": "python",
   "pygments_lexer": "ipython3",
   "version": "3.7.4"
  },
  "toc": {
   "base_numbering": 1,
   "nav_menu": {},
   "number_sections": true,
   "sideBar": true,
   "skip_h1_title": false,
   "title_cell": "Table of Contents",
   "title_sidebar": "Contents",
   "toc_cell": false,
   "toc_position": {
    "height": "calc(100% - 180px)",
    "left": "10px",
    "top": "150px",
    "width": "245.76px"
   },
   "toc_section_display": true,
   "toc_window_display": true
  }
 },
 "nbformat": 4,
 "nbformat_minor": 2
}
