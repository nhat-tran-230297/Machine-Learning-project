{
 "cells": [
  {
   "cell_type": "markdown",
   "metadata": {},
   "source": [
    "<h1><center>Assignment 9: AUTHOR CLASSIFICATION </center></h1>"
   ]
  },
  {
   "cell_type": "markdown",
   "metadata": {},
   "source": [
    "## Preprocess text and explore data"
   ]
  },
  {
   "cell_type": "code",
   "execution_count": 5,
   "metadata": {},
   "outputs": [],
   "source": [
    "import numpy as np\n",
    "import pandas as pd\n",
    "import matplotlib.pyplot as plt\n",
    "pd.set_option('display.max_rows', 100)"
   ]
  },
  {
   "cell_type": "code",
   "execution_count": 6,
   "metadata": {},
   "outputs": [
    {
     "name": "stdout",
     "output_type": "stream",
     "text": [
      "['austen-emma.txt', 'austen-persuasion.txt', 'austen-sense.txt', 'bible-kjv.txt', 'blake-poems.txt', 'bryant-stories.txt', 'burgess-busterbrown.txt', 'carroll-alice.txt', 'chesterton-ball.txt', 'chesterton-brown.txt', 'chesterton-thursday.txt', 'edgeworth-parents.txt', 'melville-moby_dick.txt', 'milton-paradise.txt', 'shakespeare-caesar.txt', 'shakespeare-hamlet.txt', 'shakespeare-macbeth.txt', 'whitman-leaves.txt']\n"
     ]
    }
   ],
   "source": [
    "from nltk.corpus import gutenberg, words\n",
    "\n",
    "print(gutenberg.fileids())"
   ]
  },
  {
   "cell_type": "code",
   "execution_count": 7,
   "metadata": {},
   "outputs": [],
   "source": [
    "import re\n",
    "authors, novels = [], []\n",
    "# get the author's name and novel\n",
    "for fileid in gutenberg.fileids():\n",
    "    # get the author\n",
    "    author = re.compile('(?P<before>.+)-').search(fileid).group('before')\n",
    "    #get the novel\n",
    "    novel = re.compile('-(?P<after>.+)').search(fileid).group('after')\n",
    "    novel = novel.replace('.txt', '')\n",
    "    \n",
    "    authors.append(author)\n",
    "    novels.append(novel)"
   ]
  },
  {
   "cell_type": "code",
   "execution_count": 8,
   "metadata": {},
   "outputs": [],
   "source": [
    "# clean data"
   ]
  },
  {
   "cell_type": "code",
   "execution_count": 9,
   "metadata": {},
   "outputs": [],
   "source": [
    "from nltk.corpus import stopwords\n",
    "\n",
    "stopwords_list = stopwords.words('english')\n",
    "list_word = []\n",
    "for fileid in gutenberg.fileids():\n",
    "    # convert to lower case \n",
    "    lower = [word.lower() for word in gutenberg.words(fileid)]\n",
    "    \n",
    "    # remove number and punctuation and stop words\n",
    "    remove = [word for word in lower if word.isalpha() == True and word not in stopwords_list]\n",
    "    \n",
    "    # remove authors\n",
    "    remove_authors = [word for word in remove if word not in np.unique(authors)]\n",
    "    \n",
    "    list_word.append(remove_authors)"
   ]
  },
  {
   "cell_type": "code",
   "execution_count": 10,
   "metadata": {},
   "outputs": [],
   "source": [
    "# split each documents into different samples\n",
    "\n",
    "def split_sample(df, num_sam):\n",
    "    df_temp = df.copy(deep=True)   \n",
    "    df_temp['Texts'] = df_temp['Texts'].apply(lambda x: ' '.join(x))\n",
    "    df_temp['Texts'] = df_temp['Texts'].apply(lambda x: textwrap.wrap(x, len(x)/num_sam))\n",
    "    df_temp['Texts'] = df_temp['Texts'].apply(lambda x: ','.join(x))\n",
    "    df_new = pd.concat([pd.DataFrame({'Novels': row['Novels'], 'Texts' : row['Texts'].split(','), \n",
    "                                      'Authors': row['Authors'],'Target': row['Target']}) \n",
    "                                      for _, row in df_temp.iterrows()]).reset_index(drop=True)\n",
    "    \n",
    "    return df_new"
   ]
  },
  {
   "cell_type": "code",
   "execution_count": 11,
   "metadata": {},
   "outputs": [],
   "source": [
    "from sklearn.preprocessing import LabelEncoder\n",
    "import textwrap\n",
    "le = LabelEncoder()\n",
    "\n",
    "# create dataframe\n",
    "df = pd.DataFrame(data={'Novels': novels, 'Texts': list_word, 'Authors': authors})\n",
    "df['Target'] = le.fit_transform(df['Authors'])"
   ]
  },
  {
   "cell_type": "code",
   "execution_count": 12,
   "metadata": {},
   "outputs": [
    {
     "data": {
      "image/png": "[encoded data removed]",
      "text/plain": [
       "<Figure size 1152x720 with 1 Axes>"
      ]
     },
     "metadata": {
      "needs_background": "light"
     },
     "output_type": "display_data"
    }
   ],
   "source": [
    "# word counts by authors\n",
    "\n",
    "doc_len = [len(gutenberg.words(fileid)) for fileid in gutenberg.fileids()]\n",
    "\n",
    "plt.figure(figsize=(16,10))\n",
    "plt.bar(authors, doc_len);"
   ]
  },
  {
   "cell_type": "code",
   "execution_count": 13,
   "metadata": {},
   "outputs": [
    {
     "data": {
      "image/png": "[encoded data removed]",
      "text/plain": [
       "<Figure size 1152x720 with 1 Axes>"
      ]
     },
     "metadata": {
      "needs_background": "light"
     },
     "output_type": "display_data"
    }
   ],
   "source": [
    "# document counts by authors\n",
    "\n",
    "plt.figure(figsize=(16,10))\n",
    "df.Authors.value_counts().plot(kind='bar');"
   ]
  },
  {
   "cell_type": "code",
   "execution_count": 14,
   "metadata": {},
   "outputs": [],
   "source": [
    "# split each document in to 40 different texts\n",
    "df_new = split_sample(df, 40)"
   ]
  },
  {
   "cell_type": "code",
   "execution_count": 15,
   "metadata": {},
   "outputs": [],
   "source": [
    "# before splitting"
   ]
  },
  {
   "cell_type": "code",
   "execution_count": 16,
   "metadata": {},
   "outputs": [
    {
     "data": {
      "text/html": [
       "<div>\n",
       "<style scoped>\n",
       "    .dataframe tbody tr th:only-of-type {\n",
       "        vertical-align: middle;\n",
       "    }\n",
       "\n",
       "    .dataframe tbody tr th {\n",
       "        vertical-align: top;\n",
       "    }\n",
       "\n",
       "    .dataframe thead th {\n",
       "        text-align: right;\n",
       "    }\n",
       "</style>\n",
       "<table border=\"1\" class=\"dataframe\">\n",
       "  <thead>\n",
       "    <tr style=\"text-align: right;\">\n",
       "      <th></th>\n",
       "      <th>Novels</th>\n",
       "      <th>Texts</th>\n",
       "      <th>Authors</th>\n",
       "      <th>Target</th>\n",
       "    </tr>\n",
       "  </thead>\n",
       "  <tbody>\n",
       "    <tr>\n",
       "      <td>0</td>\n",
       "      <td>emma</td>\n",
       "      <td>[emma, jane, volume, chapter, emma, woodhouse,...</td>\n",
       "      <td>austen</td>\n",
       "      <td>0</td>\n",
       "    </tr>\n",
       "    <tr>\n",
       "      <td>1</td>\n",
       "      <td>persuasion</td>\n",
       "      <td>[persuasion, jane, chapter, sir, walter, ellio...</td>\n",
       "      <td>austen</td>\n",
       "      <td>0</td>\n",
       "    </tr>\n",
       "    <tr>\n",
       "      <td>2</td>\n",
       "      <td>sense</td>\n",
       "      <td>[sense, sensibility, jane, chapter, family, da...</td>\n",
       "      <td>austen</td>\n",
       "      <td>0</td>\n",
       "    </tr>\n",
       "    <tr>\n",
       "      <td>3</td>\n",
       "      <td>kjv</td>\n",
       "      <td>[king, james, old, testament, king, james, fir...</td>\n",
       "      <td>bible</td>\n",
       "      <td>1</td>\n",
       "    </tr>\n",
       "    <tr>\n",
       "      <td>4</td>\n",
       "      <td>poems</td>\n",
       "      <td>[poems, william, songs, innocence, experience,...</td>\n",
       "      <td>blake</td>\n",
       "      <td>2</td>\n",
       "    </tr>\n",
       "    <tr>\n",
       "      <td>5</td>\n",
       "      <td>stories</td>\n",
       "      <td>[stories, tell, children, sara, cone, two, lit...</td>\n",
       "      <td>bryant</td>\n",
       "      <td>3</td>\n",
       "    </tr>\n",
       "    <tr>\n",
       "      <td>6</td>\n",
       "      <td>busterbrown</td>\n",
       "      <td>[adventures, buster, bear, thornton, w, buster...</td>\n",
       "      <td>burgess</td>\n",
       "      <td>4</td>\n",
       "    </tr>\n",
       "    <tr>\n",
       "      <td>7</td>\n",
       "      <td>alice</td>\n",
       "      <td>[alice, adventures, wonderland, lewis, chapter...</td>\n",
       "      <td>carroll</td>\n",
       "      <td>5</td>\n",
       "    </tr>\n",
       "    <tr>\n",
       "      <td>8</td>\n",
       "      <td>ball</td>\n",
       "      <td>[ball, cross, g, k, discussion, somewhat, air,...</td>\n",
       "      <td>chesterton</td>\n",
       "      <td>6</td>\n",
       "    </tr>\n",
       "    <tr>\n",
       "      <td>9</td>\n",
       "      <td>brown</td>\n",
       "      <td>[wisdom, father, brown, g, k, absence, mr, gla...</td>\n",
       "      <td>chesterton</td>\n",
       "      <td>6</td>\n",
       "    </tr>\n",
       "    <tr>\n",
       "      <td>10</td>\n",
       "      <td>thursday</td>\n",
       "      <td>[man, thursday, g, k, edmund, clerihew, bentle...</td>\n",
       "      <td>chesterton</td>\n",
       "      <td>6</td>\n",
       "    </tr>\n",
       "    <tr>\n",
       "      <td>11</td>\n",
       "      <td>parents</td>\n",
       "      <td>[parent, assistant, maria, orphans, near, ruin...</td>\n",
       "      <td>edgeworth</td>\n",
       "      <td>7</td>\n",
       "    </tr>\n",
       "    <tr>\n",
       "      <td>12</td>\n",
       "      <td>moby_dick</td>\n",
       "      <td>[moby, dick, herman, etymology, supplied, late...</td>\n",
       "      <td>melville</td>\n",
       "      <td>8</td>\n",
       "    </tr>\n",
       "    <tr>\n",
       "      <td>13</td>\n",
       "      <td>paradise</td>\n",
       "      <td>[paradise, lost, john, book, man, first, disob...</td>\n",
       "      <td>milton</td>\n",
       "      <td>9</td>\n",
       "    </tr>\n",
       "    <tr>\n",
       "      <td>14</td>\n",
       "      <td>caesar</td>\n",
       "      <td>[tragedie, julius, caesar, william, actus, pri...</td>\n",
       "      <td>shakespeare</td>\n",
       "      <td>10</td>\n",
       "    </tr>\n",
       "    <tr>\n",
       "      <td>15</td>\n",
       "      <td>hamlet</td>\n",
       "      <td>[tragedie, hamlet, william, actus, primus, sco...</td>\n",
       "      <td>shakespeare</td>\n",
       "      <td>10</td>\n",
       "    </tr>\n",
       "    <tr>\n",
       "      <td>16</td>\n",
       "      <td>macbeth</td>\n",
       "      <td>[tragedie, macbeth, william, actus, primus, sc...</td>\n",
       "      <td>shakespeare</td>\n",
       "      <td>10</td>\n",
       "    </tr>\n",
       "    <tr>\n",
       "      <td>17</td>\n",
       "      <td>leaves</td>\n",
       "      <td>[leaves, grass, walt, come, said, soul, verses...</td>\n",
       "      <td>whitman</td>\n",
       "      <td>11</td>\n",
       "    </tr>\n",
       "  </tbody>\n",
       "</table>\n",
       "</div>"
      ],
      "text/plain": [
       "         Novels                                              Texts  \\\n",
       "0          emma  [emma, jane, volume, chapter, emma, woodhouse,...   \n",
       "1    persuasion  [persuasion, jane, chapter, sir, walter, ellio...   \n",
       "2         sense  [sense, sensibility, jane, chapter, family, da...   \n",
       "3           kjv  [king, james, old, testament, king, james, fir...   \n",
       "4         poems  [poems, william, songs, innocence, experience,...   \n",
       "5       stories  [stories, tell, children, sara, cone, two, lit...   \n",
       "6   busterbrown  [adventures, buster, bear, thornton, w, buster...   \n",
       "7         alice  [alice, adventures, wonderland, lewis, chapter...   \n",
       "8          ball  [ball, cross, g, k, discussion, somewhat, air,...   \n",
       "9         brown  [wisdom, father, brown, g, k, absence, mr, gla...   \n",
       "10     thursday  [man, thursday, g, k, edmund, clerihew, bentle...   \n",
       "11      parents  [parent, assistant, maria, orphans, near, ruin...   \n",
       "12    moby_dick  [moby, dick, herman, etymology, supplied, late...   \n",
       "13     paradise  [paradise, lost, john, book, man, first, disob...   \n",
       "14       caesar  [tragedie, julius, caesar, william, actus, pri...   \n",
       "15       hamlet  [tragedie, hamlet, william, actus, primus, sco...   \n",
       "16      macbeth  [tragedie, macbeth, william, actus, primus, sc...   \n",
       "17       leaves  [leaves, grass, walt, come, said, soul, verses...   \n",
       "\n",
       "        Authors  Target  \n",
       "0        austen       0  \n",
       "1        austen       0  \n",
       "2        austen       0  \n",
       "3         bible       1  \n",
       "4         blake       2  \n",
       "5        bryant       3  \n",
       "6       burgess       4  \n",
       "7       carroll       5  \n",
       "8    chesterton       6  \n",
       "9    chesterton       6  \n",
       "10   chesterton       6  \n",
       "11    edgeworth       7  \n",
       "12     melville       8  \n",
       "13       milton       9  \n",
       "14  shakespeare      10  \n",
       "15  shakespeare      10  \n",
       "16  shakespeare      10  \n",
       "17      whitman      11  "
      ]
     },
     "execution_count": 16,
     "metadata": {},
     "output_type": "execute_result"
    }
   ],
   "source": [
    "df"
   ]
  },
  {
   "cell_type": "code",
   "execution_count": 17,
   "metadata": {},
   "outputs": [],
   "source": [
    "# after splitting"
   ]
  },
  {
   "cell_type": "code",
   "execution_count": 18,
   "metadata": {},
   "outputs": [
    {
     "data": {
      "text/html": [
       "<div>\n",
       "<style scoped>\n",
       "    .dataframe tbody tr th:only-of-type {\n",
       "        vertical-align: middle;\n",
       "    }\n",
       "\n",
       "    .dataframe tbody tr th {\n",
       "        vertical-align: top;\n",
       "    }\n",
       "\n",
       "    .dataframe thead th {\n",
       "        text-align: right;\n",
       "    }\n",
       "</style>\n",
       "<table border=\"1\" class=\"dataframe\">\n",
       "  <thead>\n",
       "    <tr style=\"text-align: right;\">\n",
       "      <th></th>\n",
       "      <th>Novels</th>\n",
       "      <th>Texts</th>\n",
       "      <th>Authors</th>\n",
       "      <th>Target</th>\n",
       "    </tr>\n",
       "  </thead>\n",
       "  <tbody>\n",
       "    <tr>\n",
       "      <td>0</td>\n",
       "      <td>emma</td>\n",
       "      <td>emma jane volume chapter emma woodhouse handso...</td>\n",
       "      <td>austen</td>\n",
       "      <td>0</td>\n",
       "    </tr>\n",
       "    <tr>\n",
       "      <td>1</td>\n",
       "      <td>emma</td>\n",
       "      <td>purchase randalls sale randalls long looked fo...</td>\n",
       "      <td>austen</td>\n",
       "      <td>0</td>\n",
       "    </tr>\n",
       "    <tr>\n",
       "      <td>2</td>\n",
       "      <td>emma</td>\n",
       "      <td>wife lived together appeared mr martin bore pa...</td>\n",
       "      <td>austen</td>\n",
       "      <td>0</td>\n",
       "    </tr>\n",
       "    <tr>\n",
       "      <td>3</td>\n",
       "      <td>emma</td>\n",
       "      <td>little faults excellent creature shall see bet...</td>\n",
       "      <td>austen</td>\n",
       "      <td>0</td>\n",
       "    </tr>\n",
       "    <tr>\n",
       "      <td>4</td>\n",
       "      <td>emma</td>\n",
       "      <td>propriety requires present unbidden mind persu...</td>\n",
       "      <td>austen</td>\n",
       "      <td>0</td>\n",
       "    </tr>\n",
       "    <tr>\n",
       "      <td>...</td>\n",
       "      <td>...</td>\n",
       "      <td>...</td>\n",
       "      <td>...</td>\n",
       "      <td>...</td>\n",
       "    </tr>\n",
       "    <tr>\n",
       "      <td>733</td>\n",
       "      <td>leaves</td>\n",
       "      <td>uttering gladness eyes soul seeing perfection ...</td>\n",
       "      <td>whitman</td>\n",
       "      <td>11</td>\n",
       "    </tr>\n",
       "    <tr>\n",
       "      <td>734</td>\n",
       "      <td>leaves</td>\n",
       "      <td>shelter grass innocent golden calm dawn spring...</td>\n",
       "      <td>whitman</td>\n",
       "      <td>11</td>\n",
       "    </tr>\n",
       "    <tr>\n",
       "      <td>735</td>\n",
       "      <td>leaves</td>\n",
       "      <td>metaphysics onward onward speeding slowly sure...</td>\n",
       "      <td>whitman</td>\n",
       "      <td>11</td>\n",
       "    </tr>\n",
       "    <tr>\n",
       "      <td>736</td>\n",
       "      <td>leaves</td>\n",
       "      <td>take open take deepest freest waters pending y...</td>\n",
       "      <td>whitman</td>\n",
       "      <td>11</td>\n",
       "    </tr>\n",
       "    <tr>\n",
       "      <td>737</td>\n",
       "      <td>leaves</td>\n",
       "      <td>something may really ushering true songs knows...</td>\n",
       "      <td>whitman</td>\n",
       "      <td>11</td>\n",
       "    </tr>\n",
       "  </tbody>\n",
       "</table>\n",
       "<p>738 rows × 4 columns</p>\n",
       "</div>"
      ],
      "text/plain": [
       "     Novels                                              Texts  Authors  \\\n",
       "0      emma  emma jane volume chapter emma woodhouse handso...   austen   \n",
       "1      emma  purchase randalls sale randalls long looked fo...   austen   \n",
       "2      emma  wife lived together appeared mr martin bore pa...   austen   \n",
       "3      emma  little faults excellent creature shall see bet...   austen   \n",
       "4      emma  propriety requires present unbidden mind persu...   austen   \n",
       "..      ...                                                ...      ...   \n",
       "733  leaves  uttering gladness eyes soul seeing perfection ...  whitman   \n",
       "734  leaves  shelter grass innocent golden calm dawn spring...  whitman   \n",
       "735  leaves  metaphysics onward onward speeding slowly sure...  whitman   \n",
       "736  leaves  take open take deepest freest waters pending y...  whitman   \n",
       "737  leaves  something may really ushering true songs knows...  whitman   \n",
       "\n",
       "     Target  \n",
       "0         0  \n",
       "1         0  \n",
       "2         0  \n",
       "3         0  \n",
       "4         0  \n",
       "..      ...  \n",
       "733      11  \n",
       "734      11  \n",
       "735      11  \n",
       "736      11  \n",
       "737      11  \n",
       "\n",
       "[738 rows x 4 columns]"
      ]
     },
     "execution_count": 18,
     "metadata": {},
     "output_type": "execute_result"
    }
   ],
   "source": [
    "df_new"
   ]
  },
  {
   "cell_type": "code",
   "execution_count": 19,
   "metadata": {},
   "outputs": [
    {
     "data": {
      "text/plain": [
       "[('shall', 11682), ('said', 9429), ('unto', 9010)]"
      ]
     },
     "execution_count": 19,
     "metadata": {},
     "output_type": "execute_result"
    }
   ],
   "source": [
    "# word_frequency\n",
    "\n",
    "from nltk import FreqDist\n",
    "import nltk\n",
    "\n",
    "dictionary = [word for doc in list_word for word in doc]\n",
    "freqdist = FreqDist(dictionary)\n",
    "\n",
    "# 3 most common words\n",
    "freqdist.most_common(3)"
   ]
  },
  {
   "cell_type": "code",
   "execution_count": 20,
   "metadata": {},
   "outputs": [
    {
     "data": {
      "image/png": "[encoded data removed]",
      "text/plain": [
       "<Figure size 432x288 with 1 Axes>"
      ]
     },
     "metadata": {
      "needs_background": "light"
     },
     "output_type": "display_data"
    }
   ],
   "source": [
    "# top 10 most common words\n",
    "\n",
    "freqdist.plot(10)\n",
    "plt.show()"
   ]
  },
  {
   "cell_type": "markdown",
   "metadata": {},
   "source": [
    "## Bag of words"
   ]
  },
  {
   "cell_type": "code",
   "execution_count": 21,
   "metadata": {},
   "outputs": [],
   "source": [
    "def check_author(vocab):\n",
    "    check = [False if author not in vocab else True \n",
    "             for author in np.unique(authors)]\n",
    "    print(check)"
   ]
  },
  {
   "cell_type": "code",
   "execution_count": 22,
   "metadata": {},
   "outputs": [
    {
     "data": {
      "text/plain": [
       "(738, 41306)"
      ]
     },
     "execution_count": 22,
     "metadata": {},
     "output_type": "execute_result"
    }
   ],
   "source": [
    "from sklearn.feature_extraction.text import CountVectorizer\n",
    "\n",
    "# create a count vectorizer object\n",
    "count_vectorizer = CountVectorizer()\n",
    "bow = count_vectorizer.fit_transform(df_new['Texts']).toarray()\n",
    "bow.shape"
   ]
  },
  {
   "cell_type": "code",
   "execution_count": 23,
   "metadata": {},
   "outputs": [
    {
     "name": "stdout",
     "output_type": "stream",
     "text": [
      "[False, False, False, False, False, False, False, False, False, False, False, False]\n"
     ]
    }
   ],
   "source": [
    "# ensure that authors name have been removed\n",
    "check_author(count_vectorizer.vocabulary_.keys())"
   ]
  },
  {
   "cell_type": "markdown",
   "metadata": {},
   "source": [
    "### Train-test split"
   ]
  },
  {
   "cell_type": "code",
   "execution_count": 24,
   "metadata": {},
   "outputs": [],
   "source": [
    "from sklearn.model_selection import train_test_split\n",
    "x = bow\n",
    "y = df_new['Authors']\n",
    "x_train, x_test, y_train, y_test = train_test_split(x, y, test_size=0.2, random_state=42)"
   ]
  },
  {
   "cell_type": "markdown",
   "metadata": {},
   "source": [
    "### Decision tree"
   ]
  },
  {
   "cell_type": "code",
   "execution_count": 25,
   "metadata": {},
   "outputs": [
    {
     "name": "stderr",
     "output_type": "stream",
     "text": [
      "C:\\Users\\tqnha\\Anaconda3\\lib\\site-packages\\sklearn\\model_selection\\_search.py:842: DeprecationWarning: The default of the `iid` parameter will change from True to False in version 0.22 and will be removed in 0.24. This will change numeric results when test-set sizes are unequal.\n",
      "  DeprecationWarning)\n"
     ]
    },
    {
     "name": "stdout",
     "output_type": "stream",
     "text": [
      "{'min_samples_split': 2}\n",
      "              precision    recall  f1-score   support\n",
      "\n",
      "      austen       0.93      0.84      0.88        31\n",
      "       bible       1.00      1.00      1.00         5\n",
      "       blake       1.00      0.75      0.86         8\n",
      "      bryant       0.56      0.45      0.50        11\n",
      "     burgess       0.43      0.60      0.50         5\n",
      "     carroll       1.00      1.00      1.00         7\n",
      "  chesterton       0.71      0.92      0.80        26\n",
      "   edgeworth       0.67      0.86      0.75         7\n",
      "    melville       1.00      0.78      0.88         9\n",
      "      milton       1.00      0.67      0.80         6\n",
      " shakespeare       1.00      1.00      1.00        25\n",
      "     whitman       1.00      0.88      0.93         8\n",
      "\n",
      "   micro avg       0.84      0.84      0.84       148\n",
      "   macro avg       0.86      0.81      0.82       148\n",
      "weighted avg       0.87      0.84      0.85       148\n",
      "\n"
     ]
    }
   ],
   "source": [
    "from sklearn.model_selection import GridSearchCV\n",
    "from sklearn.tree import DecisionTreeClassifier\n",
    "from sklearn.metrics import classification_report\n",
    "\n",
    "param_grid = [{'min_samples_split':[2, 5, 10, 20, 200]}]\n",
    "\n",
    "tree_bow = GridSearchCV(estimator=DecisionTreeClassifier(random_state= 42), param_grid=param_grid, \n",
    "                        scoring='f1_micro', cv=4, n_jobs=-1)\n",
    "tree_bow.fit(x_train, y_train)\n",
    "print(tree_bow.best_params_)\n",
    "\n",
    "# classification report\n",
    "tree_bow_best = tree_bow.best_estimator_\n",
    "print(classification_report(y_test, tree_bow_best.predict(x_test)))"
   ]
  },
  {
   "cell_type": "markdown",
   "metadata": {},
   "source": [
    "### Multinomial NB"
   ]
  },
  {
   "cell_type": "code",
   "execution_count": 26,
   "metadata": {},
   "outputs": [
    {
     "name": "stderr",
     "output_type": "stream",
     "text": [
      "C:\\Users\\tqnha\\Anaconda3\\lib\\site-packages\\sklearn\\model_selection\\_search.py:842: DeprecationWarning: The default of the `iid` parameter will change from True to False in version 0.22 and will be removed in 0.24. This will change numeric results when test-set sizes are unequal.\n",
      "  DeprecationWarning)\n"
     ]
    },
    {
     "name": "stdout",
     "output_type": "stream",
     "text": [
      "{'alpha': 0.03}\n",
      "              precision    recall  f1-score   support\n",
      "\n",
      "      austen       1.00      1.00      1.00        31\n",
      "       bible       1.00      1.00      1.00         5\n",
      "       blake       1.00      1.00      1.00         8\n",
      "      bryant       1.00      1.00      1.00        11\n",
      "     burgess       1.00      1.00      1.00         5\n",
      "     carroll       1.00      1.00      1.00         7\n",
      "  chesterton       1.00      1.00      1.00        26\n",
      "   edgeworth       1.00      1.00      1.00         7\n",
      "    melville       1.00      1.00      1.00         9\n",
      "      milton       1.00      1.00      1.00         6\n",
      " shakespeare       1.00      1.00      1.00        25\n",
      "     whitman       1.00      1.00      1.00         8\n",
      "\n",
      "   micro avg       1.00      1.00      1.00       148\n",
      "   macro avg       1.00      1.00      1.00       148\n",
      "weighted avg       1.00      1.00      1.00       148\n",
      "\n"
     ]
    }
   ],
   "source": [
    "from sklearn.naive_bayes import MultinomialNB\n",
    "\n",
    "param_grid = [{\"alpha\": np.arange(0.01, 0.1, 0.01)}]\n",
    "\n",
    "mnb_bow = GridSearchCV(MultinomialNB(), param_grid=param_grid, scoring = 'neg_log_loss', cv = 4, n_jobs=-1)\n",
    "mnb_bow.fit(x_train, y_train)\n",
    "print(mnb_bow.best_params_)\n",
    "\n",
    "#classification report\n",
    "mnb_bow_best = mnb_bow.best_estimator_\n",
    "print(classification_report(y_test, mnb_bow_best.predict(x_test)))"
   ]
  },
  {
   "cell_type": "markdown",
   "metadata": {},
   "source": [
    "### Random Forest"
   ]
  },
  {
   "cell_type": "code",
   "execution_count": 27,
   "metadata": {},
   "outputs": [
    {
     "name": "stderr",
     "output_type": "stream",
     "text": [
      "C:\\Users\\tqnha\\Anaconda3\\lib\\site-packages\\sklearn\\model_selection\\_search.py:842: DeprecationWarning: The default of the `iid` parameter will change from True to False in version 0.22 and will be removed in 0.24. This will change numeric results when test-set sizes are unequal.\n",
      "  DeprecationWarning)\n"
     ]
    },
    {
     "name": "stdout",
     "output_type": "stream",
     "text": [
      "{'n_estimators': 70}\n",
      "              precision    recall  f1-score   support\n",
      "\n",
      "      austen       0.88      0.97      0.92        31\n",
      "       bible       1.00      1.00      1.00         5\n",
      "       blake       1.00      1.00      1.00         8\n",
      "      bryant       1.00      0.45      0.62        11\n",
      "     burgess       0.83      1.00      0.91         5\n",
      "     carroll       0.78      1.00      0.88         7\n",
      "  chesterton       0.83      0.96      0.89        26\n",
      "   edgeworth       1.00      0.43      0.60         7\n",
      "    melville       1.00      1.00      1.00         9\n",
      "      milton       1.00      1.00      1.00         6\n",
      " shakespeare       1.00      1.00      1.00        25\n",
      "     whitman       1.00      1.00      1.00         8\n",
      "\n",
      "   micro avg       0.92      0.92      0.92       148\n",
      "   macro avg       0.94      0.90      0.90       148\n",
      "weighted avg       0.93      0.92      0.91       148\n",
      "\n"
     ]
    }
   ],
   "source": [
    "from sklearn.ensemble import RandomForestClassifier\n",
    "param_grid = {'n_estimators': [10, 30, 50, 70, 100]}\n",
    "\n",
    "rfc_bow = GridSearchCV(estimator=RandomForestClassifier(random_state=42), param_grid=param_grid, scoring='f1_micro', cv=4, n_jobs=-1)\n",
    "rfc_bow.fit(x_train, y_train)\n",
    "print(rfc_bow.best_params_)\n",
    "\n",
    "#classification report\n",
    "rfc_bow_best = rfc_bow.best_estimator_\n",
    "print(classification_report(y_test, rfc_bow_best.predict(x_test)))"
   ]
  },
  {
   "cell_type": "markdown",
   "metadata": {},
   "source": [
    "### Logistic Regression"
   ]
  },
  {
   "cell_type": "code",
   "execution_count": 28,
   "metadata": {},
   "outputs": [
    {
     "name": "stderr",
     "output_type": "stream",
     "text": [
      "C:\\Users\\tqnha\\Anaconda3\\lib\\site-packages\\sklearn\\model_selection\\_search.py:842: DeprecationWarning: The default of the `iid` parameter will change from True to False in version 0.22 and will be removed in 0.24. This will change numeric results when test-set sizes are unequal.\n",
      "  DeprecationWarning)\n",
      "C:\\Users\\tqnha\\Anaconda3\\lib\\site-packages\\sklearn\\linear_model\\logistic.py:433: FutureWarning: Default solver will be changed to 'lbfgs' in 0.22. Specify a solver to silence this warning.\n",
      "  FutureWarning)\n",
      "C:\\Users\\tqnha\\Anaconda3\\lib\\site-packages\\sklearn\\linear_model\\logistic.py:460: FutureWarning: Default multi_class will be changed to 'auto' in 0.22. Specify the multi_class option to silence this warning.\n",
      "  \"this warning.\", FutureWarning)\n"
     ]
    },
    {
     "name": "stdout",
     "output_type": "stream",
     "text": [
      "{'C': 0.01}\n",
      "              precision    recall  f1-score   support\n",
      "\n",
      "      austen       1.00      0.97      0.98        31\n",
      "       bible       1.00      1.00      1.00         5\n",
      "       blake       1.00      1.00      1.00         8\n",
      "      bryant       1.00      0.82      0.90        11\n",
      "     burgess       1.00      1.00      1.00         5\n",
      "     carroll       1.00      1.00      1.00         7\n",
      "  chesterton       0.93      1.00      0.96        26\n",
      "   edgeworth       1.00      1.00      1.00         7\n",
      "    melville       1.00      1.00      1.00         9\n",
      "      milton       1.00      1.00      1.00         6\n",
      " shakespeare       0.96      1.00      0.98        25\n",
      "     whitman       1.00      1.00      1.00         8\n",
      "\n",
      "   micro avg       0.98      0.98      0.98       148\n",
      "   macro avg       0.99      0.98      0.99       148\n",
      "weighted avg       0.98      0.98      0.98       148\n",
      "\n"
     ]
    }
   ],
   "source": [
    "from sklearn.linear_model import LogisticRegression\n",
    "param_grid = {'C': [0.00001,0.0001,0.001,0.01,0.1,1,10]}\n",
    "\n",
    "lr_bow = GridSearchCV(estimator=LogisticRegression(), param_grid=param_grid, scoring='f1_micro', cv=4, n_jobs=-1)\n",
    "lr_bow.fit(x_train, y_train)\n",
    "print(lr_bow.best_params_)\n",
    "\n",
    "#classification report\n",
    "lr_bow_best = lr_bow.best_estimator_\n",
    "print(classification_report(y_test, lr_bow_best.predict(x_test)))"
   ]
  },
  {
   "cell_type": "markdown",
   "metadata": {},
   "source": [
    "### KNN"
   ]
  },
  {
   "cell_type": "code",
   "execution_count": 29,
   "metadata": {},
   "outputs": [
    {
     "name": "stderr",
     "output_type": "stream",
     "text": [
      "C:\\Users\\tqnha\\Anaconda3\\lib\\site-packages\\sklearn\\model_selection\\_search.py:842: DeprecationWarning: The default of the `iid` parameter will change from True to False in version 0.22 and will be removed in 0.24. This will change numeric results when test-set sizes are unequal.\n",
      "  DeprecationWarning)\n"
     ]
    },
    {
     "name": "stdout",
     "output_type": "stream",
     "text": [
      "{'n_neighbors': 1}\n",
      "              precision    recall  f1-score   support\n",
      "\n",
      "      austen       0.91      0.94      0.92        31\n",
      "       bible       0.83      1.00      0.91         5\n",
      "       blake       0.00      0.00      0.00         8\n",
      "      bryant       0.50      0.64      0.56        11\n",
      "     burgess       0.42      1.00      0.59         5\n",
      "     carroll       0.60      0.86      0.71         7\n",
      "  chesterton       0.89      0.62      0.73        26\n",
      "   edgeworth       0.36      0.71      0.48         7\n",
      "    melville       1.00      0.78      0.88         9\n",
      "      milton       0.75      0.50      0.60         6\n",
      " shakespeare       0.89      0.64      0.74        25\n",
      "     whitman       0.60      0.38      0.46         8\n",
      "\n",
      "   micro avg       0.69      0.69      0.69       148\n",
      "   macro avg       0.65      0.67      0.63       148\n",
      "weighted avg       0.74      0.69      0.70       148\n",
      "\n"
     ]
    }
   ],
   "source": [
    "from sklearn.neighbors import KNeighborsClassifier\n",
    "\n",
    "param_grid = {'n_neighbors': [1,5,10]}\n",
    "\n",
    "knn_bow = GridSearchCV(estimator=KNeighborsClassifier(), param_grid=param_grid, scoring='f1_weighted', cv=4, n_jobs=-1)\n",
    "knn_bow.fit(x_train, y_train)\n",
    "\n",
    "print(knn_bow.best_params_)\n",
    "\n",
    "knn_bow_best = knn_bow.best_estimator_\n",
    "print(classification_report(y_test, knn_bow_best.predict(x_test)))"
   ]
  },
  {
   "cell_type": "markdown",
   "metadata": {},
   "source": [
    "### Testing model"
   ]
  },
  {
   "cell_type": "code",
   "execution_count": 30,
   "metadata": {},
   "outputs": [],
   "source": [
    "bag_test = ['''Him, also, by a curious coincidence, the professor had not\n",
    "invented, and him he had not even very greatly improved, though\n",
    "he had fished him up with a lasso out of his own back garden, in\n",
    "Western Bulgaria''',\n",
    "            \n",
    "           '''That were the Slaues of drinke, and thralles of sleepe?\n",
    "Was not that Nobly done?''',\n",
    "            \n",
    "           '''About 17OO years ago, during the reign of the Roman Emperor Titus, there\n",
    "happened a terrible eruption of Mount Vesuvius;''', \n",
    "           '''Piper, sit thee down and write\n",
    "   In a book, that all may read.''',\n",
    "            \n",
    "           '''A flower was offered to me,\n",
    "   Such a flower as May never bore;''',\n",
    "            \n",
    "           'She ceasd & smild in tears, then sat down in her silver shrine.']"
   ]
  },
  {
   "cell_type": "code",
   "execution_count": 119,
   "metadata": {},
   "outputs": [
    {
     "name": "stdout",
     "output_type": "stream",
     "text": [
      "['chesterton' 'shakespeare' 'edgeworth' 'blake' 'blake' 'blake']\n"
     ]
    },
    {
     "data": {
      "text/plain": [
       "1.0"
      ]
     },
     "execution_count": 119,
     "metadata": {},
     "output_type": "execute_result"
    }
   ],
   "source": [
    "bag_test_label = ['chesterton', 'shakespeare',\n",
    "                  'edgeworth', 'blake',\n",
    "                  'blake', 'blake']\n",
    "\n",
    "bag_test_transform = count_vectorizer.transform(bag_test)\n",
    "\n",
    "print(mnb_bow_best.predict(bag_test_transform))\n",
    "mnb_bow_best.score(bag_test_transform, bag_test_label)"
   ]
  },
  {
   "cell_type": "code",
   "execution_count": null,
   "metadata": {},
   "outputs": [],
   "source": []
  },
  {
   "cell_type": "code",
   "execution_count": 117,
   "metadata": {},
   "outputs": [
    {
     "name": "stdout",
     "output_type": "stream",
     "text": [
      "['chesterton' 'blake' 'blake' 'blake' 'blake' 'blake']\n"
     ]
    },
    {
     "data": {
      "text/plain": [
       "0.6666666666666666"
      ]
     },
     "execution_count": 117,
     "metadata": {},
     "output_type": "execute_result"
    }
   ],
   "source": [
    "print(lr_bow_best.predict(bag_test_transform))\n",
    "lr_bow_best.score(bag_test_transform, bag_test_label)"
   ]
  },
  {
   "cell_type": "markdown",
   "metadata": {},
   "source": [
    "## TF-IDF"
   ]
  },
  {
   "cell_type": "code",
   "execution_count": 32,
   "metadata": {},
   "outputs": [
    {
     "data": {
      "text/plain": [
       "(738, 41306)"
      ]
     },
     "execution_count": 32,
     "metadata": {},
     "output_type": "execute_result"
    }
   ],
   "source": [
    "from sklearn.feature_extraction.text import TfidfVectorizer\n",
    "\n",
    "tfidf_vectorizer = TfidfVectorizer(\"english\")\n",
    "tfidf = tfidf_vectorizer.fit_transform(df_new['Texts']).toarray()\n",
    "tfidf.shape"
   ]
  },
  {
   "cell_type": "code",
   "execution_count": 33,
   "metadata": {},
   "outputs": [
    {
     "name": "stdout",
     "output_type": "stream",
     "text": [
      "[False, False, False, False, False, False, False, False, False, False, False, False]\n"
     ]
    }
   ],
   "source": [
    "# ensure that authors name have been removed\n",
    "check_author(tfidf_vectorizer.vocabulary_.keys())"
   ]
  },
  {
   "cell_type": "markdown",
   "metadata": {},
   "source": [
    "### Train-test split"
   ]
  },
  {
   "cell_type": "code",
   "execution_count": 122,
   "metadata": {},
   "outputs": [],
   "source": [
    "x = tfidf\n",
    "y = df_new['Authors']\n",
    "x_train1, x_test1, y_train1, y_test1 = train_test_split(x, y, test_size=0.2, random_state=42)"
   ]
  },
  {
   "cell_type": "markdown",
   "metadata": {},
   "source": [
    "### Decision tree"
   ]
  },
  {
   "cell_type": "code",
   "execution_count": 123,
   "metadata": {},
   "outputs": [
    {
     "name": "stderr",
     "output_type": "stream",
     "text": [
      "C:\\Users\\tqnha\\Anaconda3\\lib\\site-packages\\sklearn\\model_selection\\_search.py:842: DeprecationWarning: The default of the `iid` parameter will change from True to False in version 0.22 and will be removed in 0.24. This will change numeric results when test-set sizes are unequal.\n",
      "  DeprecationWarning)\n"
     ]
    },
    {
     "name": "stdout",
     "output_type": "stream",
     "text": [
      "{'min_samples_split': 2}\n",
      "              precision    recall  f1-score   support\n",
      "\n",
      "      austen       0.86      0.81      0.83        31\n",
      "       bible       1.00      1.00      1.00         5\n",
      "       blake       0.67      0.50      0.57         8\n",
      "      bryant       0.55      0.55      0.55        11\n",
      "     burgess       1.00      0.80      0.89         5\n",
      "     carroll       0.83      0.71      0.77         7\n",
      "  chesterton       0.65      0.85      0.73        26\n",
      "   edgeworth       0.70      1.00      0.82         7\n",
      "    melville       1.00      0.89      0.94         9\n",
      "      milton       1.00      0.67      0.80         6\n",
      " shakespeare       1.00      0.96      0.98        25\n",
      "     whitman       0.86      0.75      0.80         8\n",
      "\n",
      "   micro avg       0.81      0.81      0.81       148\n",
      "   macro avg       0.84      0.79      0.81       148\n",
      "weighted avg       0.83      0.81      0.81       148\n",
      "\n"
     ]
    }
   ],
   "source": [
    "param_grid = [{'min_samples_split':[2, 5, 10, 20, 50]}]\n",
    "\n",
    "tree_tfidf = GridSearchCV(estimator=DecisionTreeClassifier(), param_grid=param_grid, scoring='f1_weighted', cv=4, n_jobs=-1)\n",
    "tree_tfidf.fit(x_train1, y_train1)\n",
    "\n",
    "print(tree_tfidf.best_params_)\n",
    "\n",
    "tree_tfidf_best = tree_tfidf.best_estimator_\n",
    "print(classification_report(y_test1, tree_tfidf_best.predict(x_test1)))"
   ]
  },
  {
   "cell_type": "markdown",
   "metadata": {},
   "source": [
    "### Multinomial NB "
   ]
  },
  {
   "cell_type": "code",
   "execution_count": 124,
   "metadata": {},
   "outputs": [
    {
     "name": "stderr",
     "output_type": "stream",
     "text": [
      "C:\\Users\\tqnha\\Anaconda3\\lib\\site-packages\\sklearn\\model_selection\\_search.py:842: DeprecationWarning: The default of the `iid` parameter will change from True to False in version 0.22 and will be removed in 0.24. This will change numeric results when test-set sizes are unequal.\n",
      "  DeprecationWarning)\n"
     ]
    },
    {
     "name": "stdout",
     "output_type": "stream",
     "text": [
      "{'alpha': 0.003}\n",
      "              precision    recall  f1-score   support\n",
      "\n",
      "      austen       1.00      1.00      1.00        31\n",
      "       bible       1.00      1.00      1.00         5\n",
      "       blake       1.00      1.00      1.00         8\n",
      "      bryant       1.00      1.00      1.00        11\n",
      "     burgess       1.00      1.00      1.00         5\n",
      "     carroll       1.00      1.00      1.00         7\n",
      "  chesterton       1.00      1.00      1.00        26\n",
      "   edgeworth       1.00      1.00      1.00         7\n",
      "    melville       1.00      1.00      1.00         9\n",
      "      milton       1.00      1.00      1.00         6\n",
      " shakespeare       1.00      1.00      1.00        25\n",
      "     whitman       1.00      1.00      1.00         8\n",
      "\n",
      "   micro avg       1.00      1.00      1.00       148\n",
      "   macro avg       1.00      1.00      1.00       148\n",
      "weighted avg       1.00      1.00      1.00       148\n",
      "\n"
     ]
    }
   ],
   "source": [
    "param_grid = [{\"alpha\": np.arange(0.001, 0.01, 0.001)}]\n",
    "\n",
    "mnb_tfidf = GridSearchCV(MultinomialNB(), param_grid=param_grid, scoring = 'neg_log_loss', cv = 4, n_jobs=-1)\n",
    "mnb_tfidf.fit(x_train1, y_train1)\n",
    "print(mnb_tfidf.best_params_)\n",
    "\n",
    "mnb_tfidf_best = mnb_tfidf.best_estimator_\n",
    "print(classification_report(y_test1, mnb_tfidf_best.predict(x_test1)))"
   ]
  },
  {
   "cell_type": "markdown",
   "metadata": {},
   "source": [
    "### Random Forest"
   ]
  },
  {
   "cell_type": "code",
   "execution_count": 125,
   "metadata": {},
   "outputs": [
    {
     "name": "stderr",
     "output_type": "stream",
     "text": [
      "C:\\Users\\tqnha\\Anaconda3\\lib\\site-packages\\sklearn\\model_selection\\_search.py:842: DeprecationWarning: The default of the `iid` parameter will change from True to False in version 0.22 and will be removed in 0.24. This will change numeric results when test-set sizes are unequal.\n",
      "  DeprecationWarning)\n"
     ]
    },
    {
     "name": "stdout",
     "output_type": "stream",
     "text": [
      "{'n_estimators': 100}\n",
      "              precision    recall  f1-score   support\n",
      "\n",
      "      austen       1.00      0.97      0.98        31\n",
      "       bible       1.00      1.00      1.00         5\n",
      "       blake       0.88      0.88      0.88         8\n",
      "      bryant       0.82      0.82      0.82        11\n",
      "     burgess       1.00      1.00      1.00         5\n",
      "     carroll       1.00      1.00      1.00         7\n",
      "  chesterton       0.93      0.96      0.94        26\n",
      "   edgeworth       1.00      1.00      1.00         7\n",
      "    melville       1.00      1.00      1.00         9\n",
      "      milton       1.00      1.00      1.00         6\n",
      " shakespeare       1.00      1.00      1.00        25\n",
      "     whitman       1.00      1.00      1.00         8\n",
      "\n",
      "   micro avg       0.97      0.97      0.97       148\n",
      "   macro avg       0.97      0.97      0.97       148\n",
      "weighted avg       0.97      0.97      0.97       148\n",
      "\n"
     ]
    }
   ],
   "source": [
    "param_grid = {'n_estimators': [30, 50, 70, 100, 200]}\n",
    "\n",
    "rfc_tfidf = GridSearchCV(estimator=RandomForestClassifier(), param_grid=param_grid, scoring='neg_log_loss', cv=4, n_jobs=-1)\n",
    "rfc_tfidf.fit(x_train1, y_train1)\n",
    "\n",
    "print(rfc_tfidf.best_params_)\n",
    "\n",
    "rfc_tfidf_best = rfc_tfidf.best_estimator_\n",
    "print(classification_report(y_test1, rfc_tfidf_best.predict(x_test1)))"
   ]
  },
  {
   "cell_type": "markdown",
   "metadata": {},
   "source": [
    "### Logistic Regression"
   ]
  },
  {
   "cell_type": "code",
   "execution_count": 126,
   "metadata": {},
   "outputs": [
    {
     "name": "stderr",
     "output_type": "stream",
     "text": [
      "C:\\Users\\tqnha\\Anaconda3\\lib\\site-packages\\sklearn\\model_selection\\_search.py:842: DeprecationWarning: The default of the `iid` parameter will change from True to False in version 0.22 and will be removed in 0.24. This will change numeric results when test-set sizes are unequal.\n",
      "  DeprecationWarning)\n",
      "C:\\Users\\tqnha\\Anaconda3\\lib\\site-packages\\sklearn\\linear_model\\logistic.py:433: FutureWarning: Default solver will be changed to 'lbfgs' in 0.22. Specify a solver to silence this warning.\n",
      "  FutureWarning)\n",
      "C:\\Users\\tqnha\\Anaconda3\\lib\\site-packages\\sklearn\\linear_model\\logistic.py:460: FutureWarning: Default multi_class will be changed to 'auto' in 0.22. Specify the multi_class option to silence this warning.\n",
      "  \"this warning.\", FutureWarning)\n"
     ]
    },
    {
     "name": "stdout",
     "output_type": "stream",
     "text": [
      "{'C': 10}\n",
      "              precision    recall  f1-score   support\n",
      "\n",
      "      austen       1.00      0.97      0.98        31\n",
      "       bible       1.00      1.00      1.00         5\n",
      "       blake       1.00      1.00      1.00         8\n",
      "      bryant       1.00      0.91      0.95        11\n",
      "     burgess       1.00      1.00      1.00         5\n",
      "     carroll       1.00      1.00      1.00         7\n",
      "  chesterton       0.96      1.00      0.98        26\n",
      "   edgeworth       1.00      1.00      1.00         7\n",
      "    melville       1.00      1.00      1.00         9\n",
      "      milton       1.00      1.00      1.00         6\n",
      " shakespeare       0.96      1.00      0.98        25\n",
      "     whitman       1.00      1.00      1.00         8\n",
      "\n",
      "   micro avg       0.99      0.99      0.99       148\n",
      "   macro avg       0.99      0.99      0.99       148\n",
      "weighted avg       0.99      0.99      0.99       148\n",
      "\n"
     ]
    }
   ],
   "source": [
    "param_grid = {'C': [0.0001,0.001,0.01,0.1,1,10]}\n",
    "\n",
    "lr_tfidf = GridSearchCV(estimator=LogisticRegression(), param_grid=param_grid, scoring='f1_weighted', cv=4, n_jobs=-1)\n",
    "lr_tfidf.fit(x_train1, y_train1)\n",
    "\n",
    "print(lr_tfidf.best_params_)\n",
    "\n",
    "lr_tfidf_best = lr_tfidf.best_estimator_\n",
    "print(classification_report(y_test1, lr_tfidf_best.predict(x_test1)))"
   ]
  },
  {
   "cell_type": "markdown",
   "metadata": {},
   "source": [
    "### KNN"
   ]
  },
  {
   "cell_type": "code",
   "execution_count": 127,
   "metadata": {},
   "outputs": [
    {
     "name": "stderr",
     "output_type": "stream",
     "text": [
      "C:\\Users\\tqnha\\Anaconda3\\lib\\site-packages\\sklearn\\model_selection\\_search.py:842: DeprecationWarning: The default of the `iid` parameter will change from True to False in version 0.22 and will be removed in 0.24. This will change numeric results when test-set sizes are unequal.\n",
      "  DeprecationWarning)\n"
     ]
    },
    {
     "name": "stdout",
     "output_type": "stream",
     "text": [
      "{'n_neighbors': 1}\n",
      "              precision    recall  f1-score   support\n",
      "\n",
      "      austen       1.00      1.00      1.00        31\n",
      "       bible       1.00      1.00      1.00         5\n",
      "       blake       1.00      1.00      1.00         8\n",
      "      bryant       1.00      1.00      1.00        11\n",
      "     burgess       1.00      1.00      1.00         5\n",
      "     carroll       1.00      1.00      1.00         7\n",
      "  chesterton       1.00      1.00      1.00        26\n",
      "   edgeworth       1.00      1.00      1.00         7\n",
      "    melville       1.00      1.00      1.00         9\n",
      "      milton       1.00      1.00      1.00         6\n",
      " shakespeare       1.00      1.00      1.00        25\n",
      "     whitman       1.00      1.00      1.00         8\n",
      "\n",
      "   micro avg       1.00      1.00      1.00       148\n",
      "   macro avg       1.00      1.00      1.00       148\n",
      "weighted avg       1.00      1.00      1.00       148\n",
      "\n"
     ]
    }
   ],
   "source": [
    "param_grid = {'n_neighbors': [1,5,10,20]}\n",
    "\n",
    "knn_tfidf = GridSearchCV(estimator=KNeighborsClassifier(), param_grid=param_grid, scoring='f1_weighted', cv=4, n_jobs=-1)\n",
    "knn_tfidf.fit(x_train1, y_train1)\n",
    "\n",
    "print(knn_tfidf.best_params_)\n",
    "\n",
    "knn_tfidf_best = knn_tfidf.best_estimator_\n",
    "print(classification_report(y_test1, knn_tfidf_best.predict(x_test1)))"
   ]
  },
  {
   "cell_type": "markdown",
   "metadata": {},
   "source": [
    "### Testing model"
   ]
  },
  {
   "cell_type": "code",
   "execution_count": 141,
   "metadata": {},
   "outputs": [
    {
     "name": "stdout",
     "output_type": "stream",
     "text": [
      "['chesterton' 'shakespeare' 'edgeworth' 'bible' 'blake' 'blake']\n"
     ]
    },
    {
     "data": {
      "text/plain": [
       "0.8333333333333334"
      ]
     },
     "execution_count": 141,
     "metadata": {},
     "output_type": "execute_result"
    }
   ],
   "source": [
    "tfidf_test_transform = tfidf_vectorizer.transform(bag_test)\n",
    "\n",
    "print(mnb_tfidf_best.predict(tfidf_test_transform))\n",
    "mnb_tfidf_best.score(bag_test_transform, bag_test_label)"
   ]
  },
  {
   "cell_type": "code",
   "execution_count": 148,
   "metadata": {},
   "outputs": [
    {
     "name": "stdout",
     "output_type": "stream",
     "text": [
      "['chesterton' 'shakespeare' 'shakespeare' 'blake' 'blake' 'blake']\n"
     ]
    },
    {
     "data": {
      "text/plain": [
       "0.6666666666666666"
      ]
     },
     "execution_count": 148,
     "metadata": {},
     "output_type": "execute_result"
    }
   ],
   "source": [
    "print(lr_tfidf_best.predict(tfidf_test_transform))\n",
    "lr_tfidf_best.score(bag_test_transform, bag_test_label)"
   ]
  },
  {
   "cell_type": "markdown",
   "metadata": {},
   "source": [
    "## Word2Vec "
   ]
  },
  {
   "cell_type": "markdown",
   "metadata": {},
   "source": [
    "### Preprocess"
   ]
  },
  {
   "cell_type": "code",
   "execution_count": 40,
   "metadata": {},
   "outputs": [],
   "source": [
    "from gensim.models import Word2Vec, Doc2Vec"
   ]
  },
  {
   "cell_type": "code",
   "execution_count": 41,
   "metadata": {},
   "outputs": [],
   "source": [
    "df_vec = df_new.Texts.apply(lambda x: x.split(' '))\n",
    "\n",
    "# create model\n",
    "w2v_model = Word2Vec(df_vec, min_count=1, window=3, size=300, sg=1)"
   ]
  },
  {
   "cell_type": "code",
   "execution_count": 42,
   "metadata": {},
   "outputs": [
    {
     "name": "stdout",
     "output_type": "stream",
     "text": [
      "[False, False, False, False, False, False, False, False, False, False, False, False]\n"
     ]
    }
   ],
   "source": [
    "# ensure that authors name have been removed\n",
    "check_author(list(w2v_model.wv.vocab))"
   ]
  },
  {
   "cell_type": "code",
   "execution_count": 153,
   "metadata": {},
   "outputs": [
    {
     "name": "stderr",
     "output_type": "stream",
     "text": [
      "C:\\Users\\tqnha\\Anaconda3\\lib\\site-packages\\ipykernel_launcher.py:7: DeprecationWarning: Call to deprecated `__getitem__` (Method will be removed in 4.0.0, use self.wv.__getitem__() instead).\n",
      "  import sys\n"
     ]
    },
    {
     "data": {
      "text/plain": [
       "(738, 300)"
      ]
     },
     "execution_count": 153,
     "metadata": {},
     "output_type": "execute_result"
    }
   ],
   "source": [
    "# compute sentence to vectors\n",
    "def compute_average(df_vec):\n",
    "    doc_vec = pd.DataFrame()\n",
    "    for examples in df_vec:\n",
    "        temp = np.zeros([1,300])\n",
    "        for word in examples:\n",
    "            word_vec = w2v_model[word].reshape(1,-1)\n",
    "            temp = temp + word_vec\n",
    "        temp = np.mean(temp, axis=0, keepdims=True)\n",
    "        doc_vec = doc_vec.append(pd.Series(np.ravel(temp)), ignore_index=True)    \n",
    "    \n",
    "    return doc_vec\n",
    "\n",
    "doc_vec = compute_average(df_vec)\n",
    "doc_vec.shape"
   ]
  },
  {
   "cell_type": "code",
   "execution_count": 44,
   "metadata": {},
   "outputs": [],
   "source": [
    "# get vectors from sentence by gensim\n",
    "\n",
    "from gensim.models.doc2vec import Doc2Vec, TaggedDocument\n",
    "\n",
    "documents = [TaggedDocument(doc, [i]) for i, doc in enumerate(df_vec)]\n",
    "model_w2v = Doc2Vec(documents, vector_size=300, window=3, min_count=1, workers=4)\n",
    "\n",
    "# w2v_vec = []\n",
    "# for sent in df_vec:\n",
    "#     sent_vec = model_w2v.infer_vector(sent)\n",
    "#     w2v_vec.append(sent_vec)\n",
    "    \n",
    "# w2v_vec = np.asarray(w2v_vec)"
   ]
  },
  {
   "cell_type": "markdown",
   "metadata": {},
   "source": [
    "### Train-test spit"
   ]
  },
  {
   "cell_type": "code",
   "execution_count": 129,
   "metadata": {},
   "outputs": [],
   "source": [
    "x = doc_vec\n",
    "y = df_new['Authors']\n",
    "x_train2, x_test2, y_train2, y_test2 = train_test_split(x, y, test_size=0.2, random_state=42)"
   ]
  },
  {
   "cell_type": "markdown",
   "metadata": {},
   "source": [
    "### Decision tree"
   ]
  },
  {
   "cell_type": "code",
   "execution_count": 130,
   "metadata": {},
   "outputs": [
    {
     "name": "stdout",
     "output_type": "stream",
     "text": [
      "{'min_samples_split': 2}\n",
      "              precision    recall  f1-score   support\n",
      "\n",
      "      austen       1.00      1.00      1.00        31\n",
      "       bible       1.00      0.80      0.89         5\n",
      "       blake       1.00      0.88      0.93         8\n",
      "      bryant       0.85      1.00      0.92        11\n",
      "     burgess       1.00      1.00      1.00         5\n",
      "     carroll       1.00      0.86      0.92         7\n",
      "  chesterton       1.00      1.00      1.00        26\n",
      "   edgeworth       1.00      1.00      1.00         7\n",
      "    melville       0.90      1.00      0.95         9\n",
      "      milton       0.62      0.83      0.71         6\n",
      " shakespeare       1.00      0.88      0.94        25\n",
      "     whitman       0.78      0.88      0.82         8\n",
      "\n",
      "   micro avg       0.95      0.95      0.95       148\n",
      "   macro avg       0.93      0.93      0.92       148\n",
      "weighted avg       0.96      0.95      0.95       148\n",
      "\n"
     ]
    },
    {
     "name": "stderr",
     "output_type": "stream",
     "text": [
      "C:\\Users\\tqnha\\Anaconda3\\lib\\site-packages\\sklearn\\model_selection\\_search.py:842: DeprecationWarning: The default of the `iid` parameter will change from True to False in version 0.22 and will be removed in 0.24. This will change numeric results when test-set sizes are unequal.\n",
      "  DeprecationWarning)\n"
     ]
    }
   ],
   "source": [
    "param_grid = [{'min_samples_split':[2, 5, 10, 20, 50]}]\n",
    "\n",
    "tree_w2v = GridSearchCV(estimator=DecisionTreeClassifier(random_state=42), param_grid=param_grid, \n",
    "                        scoring='f1_weighted', cv=4, n_jobs=-1)\n",
    "tree_w2v.fit(x_train2, y_train2)\n",
    "\n",
    "print(tree_w2v.best_params_)\n",
    "\n",
    "tree_w2v_best = tree_w2v.best_estimator_\n",
    "print(classification_report(y_test2, tree_w2v_best.predict(x_test2)))"
   ]
  },
  {
   "cell_type": "markdown",
   "metadata": {},
   "source": [
    "### Multinomial NB"
   ]
  },
  {
   "cell_type": "code",
   "execution_count": 131,
   "metadata": {},
   "outputs": [
    {
     "name": "stderr",
     "output_type": "stream",
     "text": [
      "C:\\Users\\tqnha\\Anaconda3\\lib\\site-packages\\sklearn\\model_selection\\_search.py:842: DeprecationWarning: The default of the `iid` parameter will change from True to False in version 0.22 and will be removed in 0.24. This will change numeric results when test-set sizes are unequal.\n",
      "  DeprecationWarning)\n"
     ]
    },
    {
     "name": "stdout",
     "output_type": "stream",
     "text": [
      "{'var_smoothing': 1e-05}\n",
      "              precision    recall  f1-score   support\n",
      "\n",
      "      austen       1.00      0.97      0.98        31\n",
      "       bible       1.00      1.00      1.00         5\n",
      "       blake       0.67      1.00      0.80         8\n",
      "      bryant       1.00      1.00      1.00        11\n",
      "     burgess       1.00      1.00      1.00         5\n",
      "     carroll       1.00      1.00      1.00         7\n",
      "  chesterton       1.00      0.96      0.98        26\n",
      "   edgeworth       1.00      1.00      1.00         7\n",
      "    melville       1.00      1.00      1.00         9\n",
      "      milton       1.00      1.00      1.00         6\n",
      " shakespeare       1.00      0.92      0.96        25\n",
      "     whitman       1.00      1.00      1.00         8\n",
      "\n",
      "   micro avg       0.97      0.97      0.97       148\n",
      "   macro avg       0.97      0.99      0.98       148\n",
      "weighted avg       0.98      0.97      0.98       148\n",
      "\n"
     ]
    }
   ],
   "source": [
    "from sklearn.naive_bayes import GaussianNB\n",
    "param_grid = [{\"var_smoothing\": np.arange(1e-5, 1e-4, 1e-3)}]\n",
    "\n",
    "# gridsearch object using 4 fold cross validation and neg_log_loss as scoring paramter\n",
    "mnb_w2v = GridSearchCV(GaussianNB(), param_grid=param_grid, scoring = 'neg_log_loss', cv = 4, n_jobs=-1)\n",
    "# fit the gridsearch\n",
    "mnb_w2v.fit(x_train2, y_train2)\n",
    "print(mnb_w2v.best_params_)\n",
    "\n",
    "mnb_w2v_best = mnb_w2v.best_estimator_\n",
    "print(classification_report(y_test2, mnb_w2v_best.predict(x_test2)))"
   ]
  },
  {
   "cell_type": "markdown",
   "metadata": {},
   "source": [
    "### Random Forest"
   ]
  },
  {
   "cell_type": "code",
   "execution_count": 132,
   "metadata": {},
   "outputs": [
    {
     "name": "stderr",
     "output_type": "stream",
     "text": [
      "C:\\Users\\tqnha\\Anaconda3\\lib\\site-packages\\sklearn\\model_selection\\_search.py:842: DeprecationWarning: The default of the `iid` parameter will change from True to False in version 0.22 and will be removed in 0.24. This will change numeric results when test-set sizes are unequal.\n",
      "  DeprecationWarning)\n"
     ]
    },
    {
     "name": "stdout",
     "output_type": "stream",
     "text": [
      "{'n_estimators': 100}\n",
      "              precision    recall  f1-score   support\n",
      "\n",
      "      austen       1.00      1.00      1.00        31\n",
      "       bible       1.00      1.00      1.00         5\n",
      "       blake       1.00      0.88      0.93         8\n",
      "      bryant       1.00      1.00      1.00        11\n",
      "     burgess       1.00      1.00      1.00         5\n",
      "     carroll       1.00      1.00      1.00         7\n",
      "  chesterton       1.00      1.00      1.00        26\n",
      "   edgeworth       0.88      1.00      0.93         7\n",
      "    melville       1.00      1.00      1.00         9\n",
      "      milton       0.86      1.00      0.92         6\n",
      " shakespeare       1.00      0.96      0.98        25\n",
      "     whitman       1.00      1.00      1.00         8\n",
      "\n",
      "   micro avg       0.99      0.99      0.99       148\n",
      "   macro avg       0.98      0.99      0.98       148\n",
      "weighted avg       0.99      0.99      0.99       148\n",
      "\n"
     ]
    }
   ],
   "source": [
    "param_grid = {'n_estimators': [30, 50, 70, 100, 200]}\n",
    "\n",
    "rfc_w2v = GridSearchCV(estimator=RandomForestClassifier(), param_grid=param_grid, scoring='neg_log_loss', cv=4, n_jobs=-1)\n",
    "rfc_w2v.fit(x_train2, y_train2)\n",
    "\n",
    "print(rfc_w2v.best_params_)\n",
    "\n",
    "rfc_w2v_best = rfc_w2v.best_estimator_\n",
    "print(classification_report(y_test2, rfc_w2v_best.predict(x_test2)))"
   ]
  },
  {
   "cell_type": "markdown",
   "metadata": {},
   "source": [
    "### Logistic Regression"
   ]
  },
  {
   "cell_type": "code",
   "execution_count": 133,
   "metadata": {},
   "outputs": [
    {
     "name": "stderr",
     "output_type": "stream",
     "text": [
      "C:\\Users\\tqnha\\Anaconda3\\lib\\site-packages\\sklearn\\model_selection\\_search.py:842: DeprecationWarning: The default of the `iid` parameter will change from True to False in version 0.22 and will be removed in 0.24. This will change numeric results when test-set sizes are unequal.\n",
      "  DeprecationWarning)\n",
      "C:\\Users\\tqnha\\Anaconda3\\lib\\site-packages\\sklearn\\linear_model\\logistic.py:433: FutureWarning: Default solver will be changed to 'lbfgs' in 0.22. Specify a solver to silence this warning.\n",
      "  FutureWarning)\n",
      "C:\\Users\\tqnha\\Anaconda3\\lib\\site-packages\\sklearn\\linear_model\\logistic.py:460: FutureWarning: Default multi_class will be changed to 'auto' in 0.22. Specify the multi_class option to silence this warning.\n",
      "  \"this warning.\", FutureWarning)\n"
     ]
    },
    {
     "name": "stdout",
     "output_type": "stream",
     "text": [
      "{'C': 0.01}\n",
      "              precision    recall  f1-score   support\n",
      "\n",
      "      austen       1.00      0.97      0.98        31\n",
      "       bible       1.00      1.00      1.00         5\n",
      "       blake       0.88      0.88      0.88         8\n",
      "      bryant       1.00      0.82      0.90        11\n",
      "     burgess       1.00      1.00      1.00         5\n",
      "     carroll       1.00      1.00      1.00         7\n",
      "  chesterton       1.00      1.00      1.00        26\n",
      "   edgeworth       0.70      1.00      0.82         7\n",
      "    melville       1.00      1.00      1.00         9\n",
      "      milton       1.00      1.00      1.00         6\n",
      " shakespeare       1.00      1.00      1.00        25\n",
      "     whitman       1.00      1.00      1.00         8\n",
      "\n",
      "   micro avg       0.97      0.97      0.97       148\n",
      "   macro avg       0.96      0.97      0.97       148\n",
      "weighted avg       0.98      0.97      0.97       148\n",
      "\n"
     ]
    },
    {
     "name": "stderr",
     "output_type": "stream",
     "text": [
      "C:\\Users\\tqnha\\Anaconda3\\lib\\site-packages\\sklearn\\svm\\base.py:931: ConvergenceWarning: Liblinear failed to converge, increase the number of iterations.\n",
      "  \"the number of iterations.\", ConvergenceWarning)\n"
     ]
    }
   ],
   "source": [
    "param_grid = {'C': [0.01,0.1,1,10,20]}\n",
    "\n",
    "lr_w2v = GridSearchCV(estimator=LogisticRegression(), param_grid=param_grid, scoring='neg_log_loss', cv=4, n_jobs=-1)\n",
    "lr_w2v.fit(x_train2, y_train2)\n",
    "\n",
    "print(lr_w2v.best_params_)\n",
    "\n",
    "lr_w2v_best = lr_w2v.best_estimator_\n",
    "print(classification_report(y_test2, lr_w2v_best.predict(x_test2)))"
   ]
  },
  {
   "cell_type": "markdown",
   "metadata": {},
   "source": [
    "### KNN"
   ]
  },
  {
   "cell_type": "code",
   "execution_count": 134,
   "metadata": {},
   "outputs": [
    {
     "name": "stdout",
     "output_type": "stream",
     "text": [
      "{'n_neighbors': 5}\n",
      "              precision    recall  f1-score   support\n",
      "\n",
      "      austen       1.00      1.00      1.00        31\n",
      "       bible       1.00      1.00      1.00         5\n",
      "       blake       1.00      0.88      0.93         8\n",
      "      bryant       0.79      1.00      0.88        11\n",
      "     burgess       1.00      1.00      1.00         5\n",
      "     carroll       1.00      1.00      1.00         7\n",
      "  chesterton       1.00      1.00      1.00        26\n",
      "   edgeworth       1.00      1.00      1.00         7\n",
      "    melville       1.00      1.00      1.00         9\n",
      "      milton       1.00      1.00      1.00         6\n",
      " shakespeare       1.00      0.92      0.96        25\n",
      "     whitman       1.00      1.00      1.00         8\n",
      "\n",
      "   micro avg       0.98      0.98      0.98       148\n",
      "   macro avg       0.98      0.98      0.98       148\n",
      "weighted avg       0.98      0.98      0.98       148\n",
      "\n"
     ]
    },
    {
     "name": "stderr",
     "output_type": "stream",
     "text": [
      "C:\\Users\\tqnha\\Anaconda3\\lib\\site-packages\\sklearn\\model_selection\\_search.py:842: DeprecationWarning: The default of the `iid` parameter will change from True to False in version 0.22 and will be removed in 0.24. This will change numeric results when test-set sizes are unequal.\n",
      "  DeprecationWarning)\n"
     ]
    }
   ],
   "source": [
    "param_grid = {'n_neighbors': [1,5,10,20]}\n",
    "\n",
    "knn_w2v = GridSearchCV(estimator=KNeighborsClassifier(), param_grid=param_grid, scoring='f1_weighted', cv=4, n_jobs=-1)\n",
    "knn_w2v.fit(x_train2, y_train2)\n",
    "\n",
    "print(knn_w2v.best_params_)\n",
    "\n",
    "knn_w2v_best = knn_w2v.best_estimator_\n",
    "print(classification_report(y_test2, knn_w2v_best.predict(x_test2)))"
   ]
  },
  {
   "cell_type": "markdown",
   "metadata": {},
   "source": [
    "### SVM"
   ]
  },
  {
   "cell_type": "code",
   "execution_count": 135,
   "metadata": {},
   "outputs": [
    {
     "name": "stderr",
     "output_type": "stream",
     "text": [
      "C:\\Users\\tqnha\\Anaconda3\\lib\\site-packages\\sklearn\\model_selection\\_search.py:842: DeprecationWarning: The default of the `iid` parameter will change from True to False in version 0.22 and will be removed in 0.24. This will change numeric results when test-set sizes are unequal.\n",
      "  DeprecationWarning)\n"
     ]
    },
    {
     "name": "stdout",
     "output_type": "stream",
     "text": [
      "{'C': 1, 'gamma': 0.01}\n",
      "              precision    recall  f1-score   support\n",
      "\n",
      "      austen       1.00      0.03      0.06        31\n",
      "       bible       0.00      0.00      0.00         5\n",
      "       blake       0.00      0.00      0.00         8\n",
      "      bryant       0.00      0.00      0.00        11\n",
      "     burgess       0.00      0.00      0.00         5\n",
      "     carroll       0.00      0.00      0.00         7\n",
      "  chesterton       1.00      0.04      0.07        26\n",
      "   edgeworth       0.00      0.00      0.00         7\n",
      "    melville       0.00      0.00      0.00         9\n",
      "      milton       0.00      0.00      0.00         6\n",
      " shakespeare       0.17      1.00      0.29        25\n",
      "     whitman       0.00      0.00      0.00         8\n",
      "\n",
      "   micro avg       0.18      0.18      0.18       148\n",
      "   macro avg       0.18      0.09      0.04       148\n",
      "weighted avg       0.41      0.18      0.08       148\n",
      "\n"
     ]
    },
    {
     "name": "stderr",
     "output_type": "stream",
     "text": [
      "C:\\Users\\tqnha\\Anaconda3\\lib\\site-packages\\sklearn\\metrics\\classification.py:1143: UndefinedMetricWarning: Precision and F-score are ill-defined and being set to 0.0 in labels with no predicted samples.\n",
      "  'precision', 'predicted', average, warn_for)\n"
     ]
    }
   ],
   "source": [
    "from sklearn import svm\n",
    "\n",
    "param_grid = {'C' : [1e-2,1e-1,1,10,100],\n",
    "              'gamma' : [1e-2,1e-1,1,10]}\n",
    "\n",
    "svm_w2v = GridSearchCV(svm.SVC(kernel='rbf'), param_grid=param_grid, scoring='f1_weighted', cv=4, n_jobs=-1)\n",
    "svm_w2v.fit(x_train2, y_train2)\n",
    "\n",
    "print(svm_w2v.best_params_)\n",
    "\n",
    "#classification report\n",
    "svm_w2v_best = svm_w2v.best_estimator_\n",
    "print(classification_report(y_test2, svm_w2v_best.predict(x_test2)))"
   ]
  },
  {
   "cell_type": "markdown",
   "metadata": {},
   "source": [
    "## RNN "
   ]
  },
  {
   "cell_type": "code",
   "execution_count": 52,
   "metadata": {},
   "outputs": [
    {
     "name": "stderr",
     "output_type": "stream",
     "text": [
      "Using TensorFlow backend.\n"
     ]
    }
   ],
   "source": [
    "from __future__ import print_function\n",
    "import keras\n",
    "from keras import backend as K\n",
    "from keras.preprocessing.text import Tokenizer\n",
    "from keras.preprocessing.sequence import pad_sequences\n",
    "\n",
    "# The maximum number of words to be used. (most frequent)\n",
    "MAX_WORDS = 50000\n",
    "# Max number of words in each examples.\n",
    "EMBEDDING_DIM = 300"
   ]
  },
  {
   "cell_type": "markdown",
   "metadata": {},
   "source": [
    "### Preprocess data"
   ]
  },
  {
   "cell_type": "code",
   "execution_count": 53,
   "metadata": {},
   "outputs": [
    {
     "data": {
      "text/html": [
       "<div>\n",
       "<style scoped>\n",
       "    .dataframe tbody tr th:only-of-type {\n",
       "        vertical-align: middle;\n",
       "    }\n",
       "\n",
       "    .dataframe tbody tr th {\n",
       "        vertical-align: top;\n",
       "    }\n",
       "\n",
       "    .dataframe thead th {\n",
       "        text-align: right;\n",
       "    }\n",
       "</style>\n",
       "<table border=\"1\" class=\"dataframe\">\n",
       "  <thead>\n",
       "    <tr style=\"text-align: right;\">\n",
       "      <th></th>\n",
       "      <th>Novels</th>\n",
       "      <th>Texts</th>\n",
       "      <th>Authors</th>\n",
       "      <th>Target</th>\n",
       "    </tr>\n",
       "  </thead>\n",
       "  <tbody>\n",
       "    <tr>\n",
       "      <td>0</td>\n",
       "      <td>emma</td>\n",
       "      <td>emma jane volume chapter emma woodhouse handso...</td>\n",
       "      <td>austen</td>\n",
       "      <td>0</td>\n",
       "    </tr>\n",
       "    <tr>\n",
       "      <td>1</td>\n",
       "      <td>emma</td>\n",
       "      <td>marriage mistress house early period mother di...</td>\n",
       "      <td>austen</td>\n",
       "      <td>0</td>\n",
       "    </tr>\n",
       "    <tr>\n",
       "      <td>2</td>\n",
       "      <td>emma</td>\n",
       "      <td>emma intimacy sisters even miss taylor ceased ...</td>\n",
       "      <td>austen</td>\n",
       "      <td>0</td>\n",
       "    </tr>\n",
       "    <tr>\n",
       "      <td>3</td>\n",
       "      <td>emma</td>\n",
       "      <td>chiefly real evils indeed emma situation power...</td>\n",
       "      <td>austen</td>\n",
       "      <td>0</td>\n",
       "    </tr>\n",
       "    <tr>\n",
       "      <td>4</td>\n",
       "      <td>emma</td>\n",
       "      <td>taylor married miss taylor loss first brought ...</td>\n",
       "      <td>austen</td>\n",
       "      <td>0</td>\n",
       "    </tr>\n",
       "    <tr>\n",
       "      <td>...</td>\n",
       "      <td>...</td>\n",
       "      <td>...</td>\n",
       "      <td>...</td>\n",
       "      <td>...</td>\n",
       "    </tr>\n",
       "    <tr>\n",
       "      <td>35541</td>\n",
       "      <td>leaves</td>\n",
       "      <td>lighting light sky stars delving earth sailing...</td>\n",
       "      <td>whitman</td>\n",
       "      <td>11</td>\n",
       "    </tr>\n",
       "    <tr>\n",
       "      <td>35542</td>\n",
       "      <td>leaves</td>\n",
       "      <td>square cubic inch germinal exquisite delicate ...</td>\n",
       "      <td>whitman</td>\n",
       "      <td>11</td>\n",
       "    </tr>\n",
       "    <tr>\n",
       "      <td>35543</td>\n",
       "      <td>leaves</td>\n",
       "      <td>forming endless waiting ever forever behind go...</td>\n",
       "      <td>whitman</td>\n",
       "      <td>11</td>\n",
       "    </tr>\n",
       "    <tr>\n",
       "      <td>35544</td>\n",
       "      <td>leaves</td>\n",
       "      <td>nightfall soon heart thud stopping long lived ...</td>\n",
       "      <td>whitman</td>\n",
       "      <td>11</td>\n",
       "    </tr>\n",
       "    <tr>\n",
       "      <td>35545</td>\n",
       "      <td>leaves</td>\n",
       "      <td>meet happens may better blither learn somethin...</td>\n",
       "      <td>whitman</td>\n",
       "      <td>11</td>\n",
       "    </tr>\n",
       "  </tbody>\n",
       "</table>\n",
       "<p>35546 rows × 4 columns</p>\n",
       "</div>"
      ],
      "text/plain": [
       "       Novels                                              Texts  Authors  \\\n",
       "0        emma  emma jane volume chapter emma woodhouse handso...   austen   \n",
       "1        emma  marriage mistress house early period mother di...   austen   \n",
       "2        emma  emma intimacy sisters even miss taylor ceased ...   austen   \n",
       "3        emma  chiefly real evils indeed emma situation power...   austen   \n",
       "4        emma  taylor married miss taylor loss first brought ...   austen   \n",
       "...       ...                                                ...      ...   \n",
       "35541  leaves  lighting light sky stars delving earth sailing...  whitman   \n",
       "35542  leaves  square cubic inch germinal exquisite delicate ...  whitman   \n",
       "35543  leaves  forming endless waiting ever forever behind go...  whitman   \n",
       "35544  leaves  nightfall soon heart thud stopping long lived ...  whitman   \n",
       "35545  leaves  meet happens may better blither learn somethin...  whitman   \n",
       "\n",
       "       Target  \n",
       "0           0  \n",
       "1           0  \n",
       "2           0  \n",
       "3           0  \n",
       "4           0  \n",
       "...       ...  \n",
       "35541      11  \n",
       "35542      11  \n",
       "35543      11  \n",
       "35544      11  \n",
       "35545      11  \n",
       "\n",
       "[35546 rows x 4 columns]"
      ]
     },
     "execution_count": 53,
     "metadata": {},
     "output_type": "execute_result"
    }
   ],
   "source": [
    "# split documents to have more training examples\n",
    "\n",
    "df_new1 = split_sample(df, 1900)\n",
    "df_new1"
   ]
  },
  {
   "cell_type": "code",
   "execution_count": 54,
   "metadata": {},
   "outputs": [
    {
     "name": "stdout",
     "output_type": "stream",
     "text": [
      "Found 41323 unique tokens.\n",
      "Shape of X: (35546, 50)\n",
      "Shape of Y: (35546,)\n"
     ]
    }
   ],
   "source": [
    "tokenizer = Tokenizer(num_words=MAX_WORDS, filters='!\"#$%&()*+,-./:;<=>?@[\\]^_`{|}~', lower=True)\n",
    "tokenizer.fit_on_texts(df_new1.Texts)\n",
    "word_index = tokenizer.word_index\n",
    "print('Found %s unique tokens.' % len(word_index))\n",
    "\n",
    "X = tokenizer.texts_to_sequences(df_new1.Texts)\n",
    "X = pad_sequences(X, maxlen=50, padding='post', truncating='post')\n",
    "print('Shape of X:', X.shape)\n",
    "\n",
    "Y = df_new1.Target\n",
    "print('Shape of Y:', Y.shape)"
   ]
  },
  {
   "cell_type": "code",
   "execution_count": 55,
   "metadata": {},
   "outputs": [
    {
     "name": "stdout",
     "output_type": "stream",
     "text": [
      "(28436, 50) (28436, 12)\n",
      "(7110, 50) (7110,)\n"
     ]
    }
   ],
   "source": [
    "X_train, X_test, Y_train, Y_test = train_test_split(X,Y, test_size = 0.2, random_state = 42)\n",
    "Y_train = keras.utils.to_categorical(Y_train)\n",
    "\n",
    "print(X_train.shape,Y_train.shape)\n",
    "print(X_test.shape,Y_test.shape)"
   ]
  },
  {
   "cell_type": "markdown",
   "metadata": {},
   "source": [
    "### Training"
   ]
  },
  {
   "cell_type": "code",
   "execution_count": 56,
   "metadata": {},
   "outputs": [
    {
     "name": "stdout",
     "output_type": "stream",
     "text": [
      "WARNING:tensorflow:Large dropout rate: 0.6 (>0.5). In TensorFlow 2.x, dropout() uses dropout rate instead of keep_prob. Please ensure that this is intended.\n"
     ]
    }
   ],
   "source": [
    "from keras.models import Sequential\n",
    "from keras.layers import Dense, Dropout, Flatten, Embedding, SpatialDropout1D, LSTM\n",
    "\n",
    "model = Sequential()\n",
    "model.add(Embedding(input_dim=MAX_WORDS, output_dim=300, input_length=X.shape[1]))\n",
    "\n",
    "model.add(SpatialDropout1D(0.3))\n",
    "model.add(LSTM(300, activation='tanh'))\n",
    "model.add(Dropout(0.6))\n",
    "\n",
    "model.add(Dense(12, activation='softmax'))\n",
    "\n",
    "model.compile(loss=keras.losses.categorical_crossentropy, \n",
    "              optimizer=keras.optimizers.Adam(lr=0.001, decay=1e-4), \n",
    "              metrics=['accuracy'])"
   ]
  },
  {
   "cell_type": "code",
   "execution_count": 57,
   "metadata": {},
   "outputs": [
    {
     "name": "stderr",
     "output_type": "stream",
     "text": [
      "C:\\Users\\tqnha\\Anaconda3\\lib\\site-packages\\tensorflow_core\\python\\framework\\indexed_slices.py:424: UserWarning: Converting sparse IndexedSlices to a dense Tensor of unknown shape. This may consume a large amount of memory.\n",
      "  \"Converting sparse IndexedSlices to a dense Tensor of unknown shape. \"\n"
     ]
    },
    {
     "name": "stdout",
     "output_type": "stream",
     "text": [
      "Train on 25592 samples, validate on 2844 samples\n",
      "Epoch 1/20\n",
      "25592/25592 [==============================] - 65s 3ms/step - loss: 1.9169 - accuracy: 0.3135 - val_loss: 1.1980 - val_accuracy: 0.4887\n",
      "Epoch 2/20\n",
      "25592/25592 [==============================] - 65s 3ms/step - loss: 1.0449 - accuracy: 0.5416 - val_loss: 0.7670 - val_accuracy: 0.6449\n",
      "Epoch 3/20\n",
      "25592/25592 [==============================] - 66s 3ms/step - loss: 0.6608 - accuracy: 0.7022 - val_loss: 0.5243 - val_accuracy: 0.7602\n",
      "Epoch 4/20\n",
      "25592/25592 [==============================] - 66s 3ms/step - loss: 0.4582 - accuracy: 0.7883 - val_loss: 0.5270 - val_accuracy: 0.7729\n",
      "Epoch 5/20\n",
      "25592/25592 [==============================] - 67s 3ms/step - loss: 0.3255 - accuracy: 0.8614 - val_loss: 0.4475 - val_accuracy: 0.8298\n",
      "Epoch 6/20\n",
      "25592/25592 [==============================] - 67s 3ms/step - loss: 0.1946 - accuracy: 0.9340 - val_loss: 0.4701 - val_accuracy: 0.8442\n",
      "Epoch 7/20\n",
      "25592/25592 [==============================] - 65s 3ms/step - loss: 0.1423 - accuracy: 0.9523 - val_loss: 0.4850 - val_accuracy: 0.8495\n",
      "Epoch 8/20\n",
      "25592/25592 [==============================] - 65s 3ms/step - loss: 0.1043 - accuracy: 0.9680 - val_loss: 0.4219 - val_accuracy: 0.8755\n",
      "Epoch 9/20\n",
      "25592/25592 [==============================] - 65s 3ms/step - loss: 0.0632 - accuracy: 0.9827 - val_loss: 0.3772 - val_accuracy: 0.8871\n",
      "Epoch 10/20\n",
      "25592/25592 [==============================] - 65s 3ms/step - loss: 0.0496 - accuracy: 0.9863 - val_loss: 0.4495 - val_accuracy: 0.8871\n",
      "Epoch 11/20\n",
      "25592/25592 [==============================] - 65s 3ms/step - loss: 0.0352 - accuracy: 0.9914 - val_loss: 0.3957 - val_accuracy: 0.9008\n",
      "Epoch 12/20\n",
      "25592/25592 [==============================] - 65s 3ms/step - loss: 0.0278 - accuracy: 0.9935 - val_loss: 0.3627 - val_accuracy: 0.9086\n",
      "Epoch 13/20\n",
      "25592/25592 [==============================] - 65s 3ms/step - loss: 0.0177 - accuracy: 0.9965 - val_loss: 0.3920 - val_accuracy: 0.9015\n",
      "Epoch 14/20\n",
      "25592/25592 [==============================] - 64s 3ms/step - loss: 0.0211 - accuracy: 0.9949 - val_loss: 0.4052 - val_accuracy: 0.9040\n",
      "Epoch 15/20\n",
      "25592/25592 [==============================] - 65s 3ms/step - loss: 0.0149 - accuracy: 0.9969 - val_loss: 0.4305 - val_accuracy: 0.9037\n",
      "Epoch 16/20\n",
      "25592/25592 [==============================] - 71s 3ms/step - loss: 0.0106 - accuracy: 0.9983 - val_loss: 0.3876 - val_accuracy: 0.9153\n",
      "Epoch 17/20\n",
      "25592/25592 [==============================] - 68s 3ms/step - loss: 0.0099 - accuracy: 0.9982 - val_loss: 0.4594 - val_accuracy: 0.8994\n",
      "Epoch 18/20\n",
      "25592/25592 [==============================] - 70s 3ms/step - loss: 0.0093 - accuracy: 0.9982 - val_loss: 0.4529 - val_accuracy: 0.9026\n",
      "Epoch 19/20\n",
      "25592/25592 [==============================] - 76s 3ms/step - loss: 0.0122 - accuracy: 0.9973 - val_loss: 0.4097 - val_accuracy: 0.9139\n",
      "Epoch 20/20\n",
      "25592/25592 [==============================] - 88s 3ms/step - loss: 0.0094 - accuracy: 0.9982 - val_loss: 0.3975 - val_accuracy: 0.9160\n"
     ]
    }
   ],
   "source": [
    "epochs = 20\n",
    "batch_size = 1024\n",
    "\n",
    "history = model.fit(X_train, Y_train, epochs=epochs, batch_size=batch_size, \n",
    "                    validation_split=0.1)"
   ]
  },
  {
   "cell_type": "code",
   "execution_count": 58,
   "metadata": {},
   "outputs": [
    {
     "name": "stdout",
     "output_type": "stream",
     "text": [
      "              precision    recall  f1-score   support\n",
      "\n",
      "           0       0.94      0.95      0.94      1171\n",
      "           1       0.98      1.00      0.99       383\n",
      "           2       0.98      0.96      0.97       457\n",
      "           3       0.89      0.96      0.92       364\n",
      "           4       0.81      0.86      0.83       446\n",
      "           5       0.69      0.84      0.76       438\n",
      "           6       0.96      0.91      0.93      1145\n",
      "           7       0.92      0.95      0.93       375\n",
      "           8       1.00      0.95      0.97       369\n",
      "           9       0.90      0.93      0.91       358\n",
      "          10       0.89      0.81      0.85      1217\n",
      "          11       0.96      0.92      0.94       387\n",
      "\n",
      "   micro avg       0.91      0.91      0.91      7110\n",
      "   macro avg       0.91      0.92      0.91      7110\n",
      "weighted avg       0.91      0.91      0.91      7110\n",
      "\n"
     ]
    }
   ],
   "source": [
    "predict_test_labels = np.argmax(model.predict(X_test), axis=1)\n",
    "actual_test_labels = Y_test\n",
    "\n",
    "print(classification_report(Y_test, predict_test_labels ))"
   ]
  },
  {
   "cell_type": "markdown",
   "metadata": {},
   "source": [
    "## Topic modelling"
   ]
  },
  {
   "cell_type": "code",
   "execution_count": 253,
   "metadata": {},
   "outputs": [],
   "source": [
    "# print out 10 topic\n",
    "\n",
    "from sklearn.decomposition import NMF, LatentDirichletAllocation, TruncatedSVD\n",
    "\n",
    "no_topics = 10\n",
    "no_top_words = 10\n",
    "\n",
    "def display_topics(model, vocab, no_top_words):\n",
    "    topic_list = []\n",
    "    for idx, topic in enumerate(model.components_):\n",
    "        top = \" \".join([vocab[i] for i in topic.argsort()[:-no_top_words - 1:-1]])\n",
    "        print(f'Topic {idx+1}: {top}')\n",
    "        print()\n",
    "    \n",
    "        topic_list.append(top)\n",
    "        \n",
    "    return topic_list"
   ]
  },
  {
   "cell_type": "markdown",
   "metadata": {},
   "source": [
    "### NMF"
   ]
  },
  {
   "cell_type": "code",
   "execution_count": 254,
   "metadata": {},
   "outputs": [
    {
     "data": {
      "text/plain": [
       "(10, 41306)"
      ]
     },
     "execution_count": 254,
     "metadata": {},
     "output_type": "execute_result"
    }
   ],
   "source": [
    "# Run NMF\n",
    "nmf = NMF(n_components=no_topics, random_state=42, alpha=0.1).fit(tfidf)\n",
    "nmf.components_.shape"
   ]
  },
  {
   "cell_type": "code",
   "execution_count": 255,
   "metadata": {},
   "outputs": [
    {
     "name": "stdout",
     "output_type": "stream",
     "text": [
      "Topic 1: emma mr harriet mrs weston knightley elton miss woodhouse jane\n",
      "\n",
      "Topic 2: unto lord shall ye thou israel thy god thee king\n",
      "\n",
      "Topic 3: turnbull syme said macian man like one professor evan face\n",
      "\n",
      "Topic 4: haue ham caesar bru brutus vs macb lord thou cassi\n",
      "\n",
      "Topic 5: elinor marianne mrs edward willoughby jennings dashwood lucy sister could\n",
      "\n",
      "Topic 6: buster joe bear farmer little brown boy blacky otter forest\n",
      "\n",
      "Topic 7: whale ahab ship boat whales stubb sperm one ye sea\n",
      "\n",
      "Topic 8: anne elliot wentworth captain mrs charles russell could musgrove mary\n",
      "\n",
      "Topic 9: alice said queen little rabbit hatter duchess gryphon turtle mouse\n",
      "\n",
      "Topic 10: thy thou thee heaven earth thus shall god love yet\n",
      "\n"
     ]
    }
   ],
   "source": [
    "topic_nmf = display_topics(nmf, tfidf_vectorizer.get_feature_names(), no_top_words)"
   ]
  },
  {
   "cell_type": "markdown",
   "metadata": {},
   "source": [
    "### LSA"
   ]
  },
  {
   "cell_type": "code",
   "execution_count": 256,
   "metadata": {},
   "outputs": [
    {
     "data": {
      "text/plain": [
       "(10, 41306)"
      ]
     },
     "execution_count": 256,
     "metadata": {},
     "output_type": "execute_result"
    }
   ],
   "source": [
    "svd = TruncatedSVD(n_components=10, algorithm='randomized', n_iter=10).fit(tfidf)\n",
    "svd.components_.shape"
   ]
  },
  {
   "cell_type": "code",
   "execution_count": 257,
   "metadata": {},
   "outputs": [
    {
     "name": "stdout",
     "output_type": "stream",
     "text": [
      "Topic 1: said mrs mr one could would shall unto man thou\n",
      "\n",
      "Topic 2: unto thou thy lord thee shall ye god israel hath\n",
      "\n",
      "Topic 3: turnbull syme said macian alice whale buster like brown little\n",
      "\n",
      "Topic 4: haue ham caesar bru brutus macb vs cassi vpon enter\n",
      "\n",
      "Topic 5: elinor marianne edward willoughby jennings dashwood lucy sister brandon ferrars\n",
      "\n",
      "Topic 6: buster joe bear farmer little elinor brown marianne otter blacky\n",
      "\n",
      "Topic 7: whale buster ahab joe captain ship bear anne whales boat\n",
      "\n",
      "Topic 8: anne elliot alice captain wentworth charles russell mary musgrove louisa\n",
      "\n",
      "Topic 9: alice whale queen ahab hatter duchess rabbit gryphon said turtle\n",
      "\n",
      "Topic 10: whale unto lord ahab ham ye whales ship syme sperm\n",
      "\n"
     ]
    }
   ],
   "source": [
    "topic_svd = display_topics(svd, tfidf_vectorizer.get_feature_names(), no_top_words)"
   ]
  },
  {
   "cell_type": "markdown",
   "metadata": {},
   "source": [
    "### LDA sklearn"
   ]
  },
  {
   "cell_type": "code",
   "execution_count": null,
   "metadata": {},
   "outputs": [],
   "source": []
  },
  {
   "cell_type": "markdown",
   "metadata": {},
   "source": [
    "### LDA gensim"
   ]
  },
  {
   "cell_type": "code",
   "execution_count": 258,
   "metadata": {},
   "outputs": [],
   "source": [
    "from gensim.models.ldamodel import LdaModel\n",
    "from gensim import corpora\n",
    "\n",
    "# get word and id of word\n",
    "id2word = corpora.Dictionary(df_vec)\n",
    "\n",
    "# get id of word and its B.O.W \n",
    "corpus = [id2word.doc2bow(word) for word in df_vec]"
   ]
  },
  {
   "cell_type": "code",
   "execution_count": 259,
   "metadata": {},
   "outputs": [],
   "source": [
    "# train lda model\n",
    "lda_model = LdaModel(corpus=corpus, num_topics=no_topics, \n",
    "                    id2word=id2word, passes=15)"
   ]
  },
  {
   "cell_type": "code",
   "execution_count": 260,
   "metadata": {},
   "outputs": [
    {
     "name": "stdout",
     "output_type": "stream",
     "text": [
      "Topic 1: ['shall', 'unto', 'moses', 'lord', 'offering', 'upon', 'children', 'thou', 'aaron', 'made']\n",
      "\n",
      "Topic 2: ['said', 'little', 'one', 'know', 'could', 'would', 'like', 'syme', 'upon', 'good']\n",
      "\n",
      "Topic 3: ['see', 'thee', 'love', 'life', 'one', 'earth', 'old', 'day', 'yet', 'soul']\n",
      "\n",
      "Topic 4: ['could', 'would', 'mr', 'one', 'mrs', 'said', 'must', 'much', 'well', 'every']\n",
      "\n",
      "Topic 5: ['haue', 'ham', 'thou', 'lord', 'shall', 'enter', 'king', 'come', 'good', 'let']\n",
      "\n",
      "Topic 6: ['whale', 'one', 'ship', 'ahab', 'like', 'ye', 'upon', 'sea', 'man', 'old']\n",
      "\n",
      "Topic 7: ['said', 'like', 'man', 'one', 'turnbull', 'macian', 'heaven', 'brown', 'little', 'face']\n",
      "\n",
      "Topic 8: ['shall', 'god', 'thou', 'unto', 'thy', 'ye', 'lord', 'man', 'thee', 'hath']\n",
      "\n",
      "Topic 9: ['unto', 'lord', 'shall', 'said', 'thou', 'thy', 'thee', 'king', 'god', 'israel']\n",
      "\n",
      "Topic 10: ['shall', 'unto', 'lord', 'ye', 'offering', 'thou', 'upon', 'thy', 'priest', 'land']\n",
      "\n"
     ]
    }
   ],
   "source": [
    "# print out 10 topics\n",
    "for i, topic in lda_model.show_topics(formatted=False):\n",
    "    print(f'Topic {i+1}: {[w[0] for w in topic]}')\n",
    "    print()"
   ]
  },
  {
   "cell_type": "code",
   "execution_count": 261,
   "metadata": {},
   "outputs": [
    {
     "data": {
      "text/plain": [
       "-7.986477071885339"
      ]
     },
     "execution_count": 261,
     "metadata": {},
     "output_type": "execute_result"
    }
   ],
   "source": [
    "# evaluate lda model by perplexity\n",
    "lda_model.log_perplexity(corpus)"
   ]
  },
  {
   "cell_type": "code",
   "execution_count": 262,
   "metadata": {},
   "outputs": [
    {
     "data": {
      "text/plain": [
       "0.483518724782878"
      ]
     },
     "execution_count": 262,
     "metadata": {},
     "output_type": "execute_result"
    }
   ],
   "source": [
    "# evaluate lda model by oherence score\n",
    "from gensim.models.coherencemodel import CoherenceModel\n",
    "\n",
    "coherence_lda = CoherenceModel(model=lda_model, texts=df_vec, coherence='c_v')\n",
    "coherence_lda.get_coherence()"
   ]
  },
  {
   "cell_type": "code",
   "execution_count": 263,
   "metadata": {},
   "outputs": [
    {
     "name": "stderr",
     "output_type": "stream",
     "text": [
      "C:\\Users\\tqnha\\Anaconda3\\lib\\site-packages\\pyLDAvis\\_prepare.py:257: FutureWarning: Sorting because non-concatenation axis is not aligned. A future version\n",
      "of pandas will change to not sort by default.\n",
      "\n",
      "To accept the future behavior, pass 'sort=False'.\n",
      "\n",
      "To retain the current behavior and silence the warning, pass 'sort=True'.\n",
      "\n",
      "  return pd.concat([default_term_info] + list(topic_dfs))\n"
     ]
    },
    {
     "data": {
      "text/html": [
       "\n",
       "<link rel=\"stylesheet\" type=\"text/css\" href=\"https://cdn.rawgit.com/bmabey/pyLDAvis/files/ldavis.v1.0.0.css\">\n",
       "\n",
       "\n",
       "<div id=\"ldavis_el540421360136538323639552819\"></div>\n",
       "<script type=\"text/javascript\">\n",
       "\n",
       "var ldavis_el540421360136538323639552819_data = {\"mdsDat\": {\"x\": [-0.15122422410081407, 0.17895407194342008, 0.09241056043257226, -0.13980933007127683, -0.14181806146869633, -0.11335003558082991, -0.08180824765929638, -0.04482007625627007, 0.19644863731019735, 0.20501670545099446], \"y\": [0.030985947369629396, 0.0400574812532162, 0.012545996214842661, 0.043455242823157096, 0.056033009286895294, 0.046712531271189975, 0.015112170715727362, -0.26900564398288546, 0.010191692193113938, 0.013911572855113812], \"topics\": [1, 2, 3, 4, 5, 6, 7, 8, 9, 10], \"cluster\": [1, 1, 1, 1, 1, 1, 1, 1, 1, 1], \"Freq\": [25.09343910217285, 21.08207130432129, 13.979059219360352, 10.290543556213379, 9.026440620422363, 7.608553886413574, 6.109667778015137, 3.1647331714630127, 1.8283106088638306, 1.8171846866607666]}, \"tinfo\": {\"Category\": [\"Default\", \"Default\", \"Default\", \"Default\", \"Default\", \"Default\", \"Default\", \"Default\", \"Default\", \"Default\", \"Default\", \"Default\", \"Default\", \"Default\", \"Default\", \"Default\", \"Default\", \"Default\", \"Default\", \"Default\", \"Default\", \"Default\", \"Default\", \"Default\", \"Default\", \"Default\", \"Default\", \"Default\", \"Default\", \"Default\", \"Topic1\", \"Topic1\", \"Topic1\", \"Topic1\", \"Topic1\", \"Topic1\", \"Topic1\", \"Topic1\", \"Topic1\", \"Topic1\", \"Topic1\", \"Topic1\", \"Topic1\", \"Topic1\", \"Topic1\", \"Topic1\", \"Topic1\", \"Topic1\", \"Topic1\", \"Topic1\", \"Topic1\", \"Topic1\", \"Topic1\", \"Topic1\", \"Topic1\", \"Topic1\", \"Topic1\", \"Topic1\", \"Topic1\", \"Topic1\", \"Topic1\", \"Topic1\", \"Topic1\", \"Topic1\", \"Topic1\", \"Topic1\", \"Topic1\", \"Topic1\", \"Topic1\", \"Topic1\", \"Topic1\", \"Topic1\", \"Topic1\", \"Topic1\", \"Topic1\", \"Topic1\", \"Topic1\", \"Topic1\", \"Topic1\", \"Topic1\", \"Topic1\", \"Topic1\", \"Topic1\", \"Topic1\", \"Topic1\", \"Topic1\", \"Topic1\", \"Topic1\", \"Topic1\", \"Topic1\", \"Topic1\", \"Topic1\", \"Topic1\", \"Topic1\", \"Topic1\", \"Topic1\", \"Topic1\", \"Topic1\", \"Topic1\", \"Topic1\", \"Topic1\", \"Topic1\", \"Topic1\", \"Topic1\", \"Topic2\", \"Topic2\", \"Topic2\", \"Topic2\", \"Topic2\", \"Topic2\", \"Topic2\", \"Topic2\", \"Topic2\", \"Topic2\", \"Topic2\", \"Topic2\", \"Topic2\", \"Topic2\", \"Topic2\", \"Topic2\", \"Topic2\", \"Topic2\", \"Topic2\", \"Topic2\", \"Topic2\", \"Topic2\", \"Topic2\", \"Topic2\", \"Topic2\", \"Topic2\", \"Topic2\", \"Topic2\", \"Topic2\", \"Topic2\", \"Topic2\", \"Topic2\", \"Topic2\", \"Topic2\", \"Topic2\", \"Topic2\", \"Topic2\", \"Topic2\", \"Topic2\", \"Topic2\", \"Topic2\", \"Topic2\", \"Topic2\", \"Topic2\", \"Topic2\", \"Topic2\", \"Topic2\", \"Topic2\", \"Topic2\", \"Topic2\", \"Topic2\", \"Topic2\", \"Topic2\", \"Topic2\", \"Topic2\", \"Topic2\", \"Topic2\", \"Topic2\", \"Topic2\", \"Topic2\", \"Topic2\", \"Topic2\", \"Topic2\", \"Topic2\", \"Topic2\", \"Topic2\", \"Topic2\", \"Topic2\", \"Topic2\", \"Topic2\", \"Topic2\", \"Topic2\", \"Topic2\", \"Topic2\", \"Topic2\", \"Topic2\", \"Topic2\", \"Topic2\", \"Topic2\", \"Topic2\", \"Topic2\", \"Topic2\", \"Topic2\", \"Topic2\", \"Topic3\", \"Topic3\", \"Topic3\", \"Topic3\", \"Topic3\", \"Topic3\", \"Topic3\", \"Topic3\", \"Topic3\", \"Topic3\", \"Topic3\", \"Topic3\", \"Topic3\", \"Topic3\", \"Topic3\", \"Topic3\", \"Topic3\", \"Topic3\", \"Topic3\", \"Topic3\", \"Topic3\", \"Topic3\", \"Topic3\", \"Topic3\", \"Topic3\", \"Topic3\", \"Topic3\", \"Topic3\", \"Topic3\", \"Topic3\", \"Topic3\", \"Topic3\", \"Topic3\", \"Topic3\", \"Topic3\", \"Topic3\", \"Topic3\", \"Topic3\", \"Topic3\", \"Topic3\", \"Topic3\", \"Topic3\", \"Topic3\", \"Topic3\", \"Topic3\", \"Topic3\", \"Topic3\", \"Topic3\", \"Topic3\", \"Topic3\", \"Topic3\", \"Topic3\", \"Topic3\", \"Topic3\", \"Topic3\", \"Topic3\", \"Topic3\", \"Topic3\", \"Topic3\", \"Topic3\", \"Topic3\", \"Topic3\", \"Topic3\", \"Topic3\", \"Topic3\", \"Topic3\", \"Topic3\", \"Topic3\", \"Topic3\", \"Topic3\", \"Topic3\", \"Topic3\", \"Topic3\", \"Topic3\", \"Topic3\", \"Topic3\", \"Topic3\", \"Topic3\", \"Topic3\", \"Topic3\", \"Topic3\", \"Topic3\", \"Topic3\", \"Topic3\", \"Topic3\", \"Topic3\", \"Topic3\", \"Topic3\", \"Topic4\", \"Topic4\", \"Topic4\", \"Topic4\", \"Topic4\", \"Topic4\", \"Topic4\", \"Topic4\", \"Topic4\", \"Topic4\", \"Topic4\", \"Topic4\", \"Topic4\", \"Topic4\", \"Topic4\", \"Topic4\", \"Topic4\", \"Topic4\", \"Topic4\", \"Topic4\", \"Topic4\", \"Topic4\", \"Topic4\", \"Topic4\", \"Topic4\", \"Topic4\", \"Topic4\", \"Topic4\", \"Topic4\", \"Topic4\", \"Topic4\", \"Topic4\", \"Topic4\", \"Topic4\", \"Topic4\", \"Topic4\", \"Topic4\", \"Topic4\", \"Topic4\", \"Topic4\", \"Topic4\", \"Topic4\", \"Topic4\", \"Topic4\", \"Topic4\", \"Topic4\", \"Topic4\", \"Topic4\", \"Topic4\", \"Topic4\", \"Topic4\", \"Topic4\", \"Topic4\", \"Topic4\", \"Topic4\", \"Topic4\", \"Topic4\", \"Topic4\", \"Topic4\", \"Topic4\", \"Topic4\", \"Topic4\", \"Topic4\", \"Topic4\", \"Topic4\", \"Topic4\", \"Topic4\", \"Topic4\", \"Topic4\", \"Topic4\", \"Topic4\", \"Topic4\", \"Topic4\", \"Topic4\", \"Topic4\", \"Topic4\", \"Topic4\", \"Topic4\", \"Topic4\", \"Topic4\", \"Topic4\", \"Topic4\", \"Topic4\", \"Topic4\", \"Topic5\", \"Topic5\", \"Topic5\", \"Topic5\", \"Topic5\", \"Topic5\", \"Topic5\", \"Topic5\", \"Topic5\", \"Topic5\", \"Topic5\", \"Topic5\", \"Topic5\", \"Topic5\", \"Topic5\", \"Topic5\", \"Topic5\", \"Topic5\", \"Topic5\", \"Topic5\", \"Topic5\", \"Topic5\", \"Topic5\", \"Topic5\", \"Topic5\", \"Topic5\", \"Topic5\", \"Topic5\", \"Topic5\", \"Topic5\", \"Topic5\", \"Topic5\", \"Topic5\", \"Topic5\", \"Topic5\", \"Topic5\", \"Topic5\", \"Topic5\", \"Topic5\", \"Topic5\", \"Topic5\", \"Topic5\", \"Topic5\", \"Topic5\", \"Topic5\", \"Topic5\", \"Topic5\", \"Topic5\", \"Topic5\", \"Topic5\", \"Topic5\", \"Topic5\", \"Topic5\", \"Topic5\", \"Topic5\", \"Topic5\", \"Topic5\", \"Topic5\", \"Topic5\", \"Topic5\", \"Topic5\", \"Topic5\", \"Topic5\", \"Topic5\", \"Topic5\", \"Topic5\", \"Topic5\", \"Topic5\", \"Topic5\", \"Topic5\", \"Topic5\", \"Topic5\", \"Topic5\", \"Topic5\", \"Topic5\", \"Topic5\", \"Topic5\", \"Topic5\", \"Topic5\", \"Topic5\", \"Topic5\", \"Topic5\", \"Topic6\", \"Topic6\", \"Topic6\", \"Topic6\", \"Topic6\", \"Topic6\", \"Topic6\", \"Topic6\", \"Topic6\", \"Topic6\", \"Topic6\", \"Topic6\", \"Topic6\", \"Topic6\", \"Topic6\", \"Topic6\", \"Topic6\", \"Topic6\", \"Topic6\", \"Topic6\", \"Topic6\", \"Topic6\", \"Topic6\", \"Topic6\", \"Topic6\", \"Topic6\", \"Topic6\", \"Topic6\", \"Topic6\", \"Topic6\", \"Topic6\", \"Topic6\", \"Topic6\", \"Topic6\", \"Topic6\", \"Topic6\", \"Topic6\", \"Topic6\", \"Topic6\", \"Topic6\", \"Topic6\", \"Topic6\", \"Topic6\", \"Topic6\", \"Topic6\", \"Topic6\", \"Topic6\", \"Topic6\", \"Topic6\", \"Topic6\", \"Topic6\", \"Topic6\", \"Topic6\", \"Topic6\", \"Topic6\", \"Topic6\", \"Topic6\", \"Topic6\", \"Topic6\", \"Topic6\", \"Topic6\", \"Topic6\", \"Topic6\", \"Topic6\", \"Topic6\", \"Topic6\", \"Topic6\", \"Topic6\", \"Topic6\", \"Topic6\", \"Topic6\", \"Topic6\", \"Topic6\", \"Topic6\", \"Topic6\", \"Topic6\", \"Topic6\", \"Topic6\", \"Topic6\", \"Topic6\", \"Topic6\", \"Topic7\", \"Topic7\", \"Topic7\", \"Topic7\", \"Topic7\", \"Topic7\", \"Topic7\", \"Topic7\", \"Topic7\", \"Topic7\", \"Topic7\", \"Topic7\", \"Topic7\", \"Topic7\", \"Topic7\", \"Topic7\", \"Topic7\", \"Topic7\", \"Topic7\", \"Topic7\", \"Topic7\", \"Topic7\", \"Topic7\", \"Topic7\", \"Topic7\", \"Topic7\", \"Topic7\", \"Topic7\", \"Topic7\", \"Topic7\", \"Topic7\", \"Topic7\", \"Topic7\", \"Topic7\", \"Topic7\", \"Topic7\", \"Topic7\", \"Topic7\", \"Topic7\", \"Topic7\", \"Topic7\", \"Topic7\", \"Topic7\", \"Topic7\", \"Topic7\", \"Topic7\", \"Topic7\", \"Topic7\", \"Topic7\", \"Topic7\", \"Topic7\", \"Topic7\", \"Topic7\", \"Topic7\", \"Topic7\", \"Topic7\", \"Topic7\", \"Topic7\", \"Topic7\", \"Topic7\", \"Topic7\", \"Topic7\", \"Topic7\", \"Topic7\", \"Topic7\", \"Topic7\", \"Topic7\", \"Topic7\", \"Topic7\", \"Topic7\", \"Topic7\", \"Topic7\", \"Topic7\", \"Topic7\", \"Topic7\", \"Topic7\", \"Topic7\", \"Topic7\", \"Topic7\", \"Topic7\", \"Topic7\", \"Topic7\", \"Topic7\", \"Topic7\", \"Topic7\", \"Topic7\", \"Topic8\", \"Topic8\", \"Topic8\", \"Topic8\", \"Topic8\", \"Topic8\", \"Topic8\", \"Topic8\", \"Topic8\", \"Topic8\", \"Topic8\", \"Topic8\", \"Topic8\", \"Topic8\", \"Topic8\", \"Topic8\", \"Topic8\", \"Topic8\", \"Topic8\", \"Topic8\", \"Topic8\", \"Topic8\", \"Topic8\", \"Topic8\", \"Topic8\", \"Topic8\", \"Topic8\", \"Topic8\", \"Topic8\", \"Topic8\", \"Topic8\", \"Topic8\", \"Topic8\", \"Topic8\", \"Topic8\", \"Topic8\", \"Topic8\", \"Topic8\", \"Topic8\", \"Topic8\", \"Topic8\", \"Topic8\", \"Topic8\", \"Topic8\", \"Topic8\", \"Topic8\", \"Topic8\", \"Topic8\", \"Topic8\", \"Topic8\", \"Topic8\", \"Topic8\", \"Topic8\", \"Topic8\", \"Topic8\", \"Topic8\", \"Topic8\", \"Topic8\", \"Topic8\", \"Topic9\", \"Topic9\", \"Topic9\", \"Topic9\", \"Topic9\", \"Topic9\", \"Topic9\", \"Topic9\", \"Topic9\", \"Topic9\", \"Topic9\", \"Topic9\", \"Topic9\", \"Topic9\", \"Topic9\", \"Topic9\", \"Topic9\", \"Topic9\", \"Topic9\", \"Topic9\", \"Topic9\", \"Topic9\", \"Topic9\", \"Topic9\", \"Topic9\", \"Topic9\", \"Topic9\", \"Topic9\", \"Topic9\", \"Topic9\", \"Topic9\", \"Topic9\", \"Topic9\", \"Topic9\", \"Topic9\", \"Topic9\", \"Topic9\", \"Topic9\", \"Topic9\", \"Topic9\", \"Topic9\", \"Topic9\", \"Topic9\", \"Topic9\", \"Topic9\", \"Topic9\", \"Topic9\", \"Topic9\", \"Topic9\", \"Topic9\", \"Topic9\", \"Topic9\", \"Topic9\", \"Topic9\", \"Topic9\", \"Topic9\", \"Topic9\", \"Topic9\", \"Topic9\", \"Topic9\", \"Topic9\", \"Topic9\", \"Topic9\", \"Topic9\", \"Topic9\", \"Topic9\", \"Topic9\", \"Topic9\", \"Topic9\", \"Topic9\", \"Topic9\", \"Topic9\", \"Topic9\", \"Topic9\", \"Topic9\", \"Topic9\", \"Topic9\", \"Topic9\", \"Topic9\", \"Topic9\", \"Topic9\", \"Topic9\", \"Topic9\", \"Topic9\", \"Topic9\", \"Topic9\", \"Topic9\", \"Topic9\", \"Topic10\", \"Topic10\", \"Topic10\", \"Topic10\", \"Topic10\", \"Topic10\", \"Topic10\", \"Topic10\", \"Topic10\", \"Topic10\", \"Topic10\", \"Topic10\", \"Topic10\", \"Topic10\", \"Topic10\", \"Topic10\", \"Topic10\", \"Topic10\", \"Topic10\", \"Topic10\", \"Topic10\", \"Topic10\", \"Topic10\", \"Topic10\", \"Topic10\", \"Topic10\", \"Topic10\", \"Topic10\", \"Topic10\", \"Topic10\", \"Topic10\", \"Topic10\", \"Topic10\", \"Topic10\", \"Topic10\", \"Topic10\", \"Topic10\", \"Topic10\", \"Topic10\", \"Topic10\", \"Topic10\", \"Topic10\", \"Topic10\", \"Topic10\", \"Topic10\", \"Topic10\", \"Topic10\", \"Topic10\", \"Topic10\", \"Topic10\", \"Topic10\", \"Topic10\", \"Topic10\", \"Topic10\", \"Topic10\", \"Topic10\", \"Topic10\", \"Topic10\", \"Topic10\", \"Topic10\", \"Topic10\", \"Topic10\", \"Topic10\", \"Topic10\", \"Topic10\", \"Topic10\", \"Topic10\", \"Topic10\", \"Topic10\", \"Topic10\", \"Topic10\", \"Topic10\", \"Topic10\", \"Topic10\", \"Topic10\", \"Topic10\", \"Topic10\", \"Topic10\", \"Topic10\", \"Topic10\"], \"Freq\": [11106.0, 8638.0, 8211.0, 6534.0, 4544.0, 9188.0, 5443.0, 2457.0, 4407.0, 5167.0, 2118.0, 4655.0, 1574.0, 1250.0, 2458.0, 3023.0, 1982.0, 777.0, 2640.0, 2684.0, 1123.0, 672.0, 6015.0, 855.0, 2769.0, 1744.0, 2634.0, 2269.0, 2995.0, 2235.0, 640.8907470703125, 809.1647338867188, 411.40362548828125, 235.80682373046875, 215.27317810058594, 359.72882080078125, 363.39019775390625, 283.20343017578125, 203.02662658691406, 292.40948486328125, 203.9094696044922, 472.1048889160156, 225.28921508789062, 134.7967987060547, 225.8880157470703, 121.70191192626953, 210.79185485839844, 149.4459991455078, 255.1923065185547, 121.54795837402344, 116.85516357421875, 586.7949829101562, 83.33078002929688, 82.38693237304688, 84.16553497314453, 72.09598541259766, 138.4351043701172, 72.02945709228516, 70.1696548461914, 267.9162292480469, 1685.7652587890625, 160.62109375, 112.57188415527344, 138.17831420898438, 232.88320922851562, 111.48069763183594, 165.93389892578125, 1018.3055419921875, 481.971435546875, 1819.578125, 253.4146270751953, 2281.31494140625, 269.87457275390625, 2279.809814453125, 1365.8143310546875, 484.48095703125, 1300.10791015625, 1001.9055786132812, 526.943359375, 636.1687622070312, 982.0205688476562, 1157.4736328125, 485.1449890136719, 629.6102294921875, 938.7589111328125, 769.6077880859375, 610.9785766601562, 1124.726806640625, 1722.9349365234375, 847.5206298828125, 770.3233642578125, 970.3024291992188, 987.84619140625, 984.007568359375, 955.2051391601562, 1430.6600341796875, 855.212890625, 811.6038208007812, 804.0722045898438, 911.2913818359375, 777.9508666992188, 685.883544921875, 703.9122924804688, 685.6781616210938, 249.37420654296875, 138.87307739257812, 103.49283599853516, 142.32154846191406, 161.1802520751953, 96.66252899169922, 80.48592376708984, 206.708740234375, 63.254554748535156, 60.395572662353516, 61.3228759765625, 1049.103759765625, 58.46876907348633, 58.460445404052734, 64.09663391113281, 56.54903030395508, 59.35967254638672, 56.493202209472656, 52.72883224487305, 410.83587646484375, 49.84248733520508, 47.93678665161133, 46.97425079345703, 51.66603088378906, 121.24668884277344, 46.935691833496094, 43.12522888183594, 52.48017501831055, 188.67283630371094, 45.898250579833984, 761.0656127929688, 87.16999053955078, 116.7845687866211, 116.4910888671875, 212.8517608642578, 295.44305419921875, 255.6541290283203, 232.82826232910156, 272.2606201171875, 2177.09375, 134.3363800048828, 80.95117950439453, 519.6569213867188, 68.98435974121094, 158.6145782470703, 109.3044204711914, 180.25294494628906, 2261.283935546875, 1974.5386962890625, 317.18817138671875, 5780.158203125, 5480.6884765625, 637.018798828125, 1423.4727783203125, 412.4877624511719, 837.723388671875, 1101.2181396484375, 876.7796020507812, 211.92037963867188, 968.6385498046875, 2635.914794921875, 1626.1890869140625, 1086.476318359375, 1631.0679931640625, 3200.7822265625, 4891.51318359375, 1787.4609375, 2668.8603515625, 696.5516967773438, 709.3017578125, 1197.66943359375, 1229.1502685546875, 3377.94970703125, 2188.40185546875, 1862.3653564453125, 1605.5306396484375, 1139.2789306640625, 1162.0634765625, 1052.999267578125, 1125.0281982421875, 1202.7486572265625, 1135.5596923828125, 1287.140869140625, 986.6863403320312, 109.9857406616211, 37.2053108215332, 582.1298828125, 44.83898162841797, 56.32624816894531, 73.89037322998047, 61.19538116455078, 53.30000305175781, 26.13386344909668, 23.186630249023438, 35.259456634521484, 28.60444450378418, 17.148788452148438, 17.136089324951172, 19.024158477783203, 16.17123794555664, 36.03647232055664, 33.248111724853516, 17.058656692504883, 15.161685943603516, 17.04837417602539, 19.8877010345459, 17.971080780029297, 15.135326385498047, 932.6605224609375, 13.154483795166016, 15.02757740020752, 13.12380313873291, 14.994956970214844, 43.15200424194336, 58.32931900024414, 120.49009704589844, 279.6737976074219, 63.06375503540039, 59.67987060546875, 103.56159973144531, 217.785400390625, 34.564353942871094, 141.9792022705078, 64.34400939941406, 87.82599639892578, 197.4339599609375, 80.453857421875, 58.601402282714844, 371.0668640136719, 270.2064208984375, 302.4486999511719, 284.4348449707031, 115.97012329101562, 161.2179718017578, 117.74769592285156, 241.8088836669922, 178.0246124267578, 2255.193603515625, 197.32618713378906, 943.3505249023438, 1795.70556640625, 414.8296203613281, 1081.7789306640625, 2003.13623046875, 239.74232482910156, 2197.732177734375, 144.1950225830078, 3201.99365234375, 214.40008544921875, 846.087890625, 2155.093017578125, 1287.912353515625, 1352.017333984375, 488.2912292480469, 1694.2855224609375, 596.8060913085938, 766.8307495117188, 334.6819763183594, 714.7838134765625, 425.1299133300781, 476.4626159667969, 684.3489990234375, 467.45379638671875, 761.3932495117188, 656.5620727539062, 499.2529296875, 482.77105712890625, 484.9650573730469, 486.6073303222656, 464.37677001953125, 436.3900146484375, 429.9539794921875, 110.11300659179688, 289.2591857910156, 85.15425872802734, 397.8111877441406, 123.4802017211914, 119.4923324584961, 91.72555541992188, 62.12124252319336, 50.112030029296875, 53.984375, 510.2805480957031, 95.86019134521484, 70.34319305419922, 54.61825180053711, 38.039371490478516, 33.09062957763672, 39.9051513671875, 52.547401428222656, 30.099756240844727, 28.11480712890625, 31.926700592041016, 55.151527404785156, 43.478153228759766, 33.79544448852539, 165.8548126220703, 156.09909057617188, 34.65565872192383, 29.756759643554688, 23.05377197265625, 26.858613967895508, 175.54275512695312, 58.513118743896484, 79.4503402709961, 83.1043930053711, 162.79306030273438, 47.93888854980469, 165.3083953857422, 126.65731811523438, 68.26713562011719, 86.53872680664062, 68.75592803955078, 63.13822555541992, 74.81494903564453, 103.82203674316406, 69.83841705322266, 113.13258361816406, 93.31088256835938, 2863.44970703125, 1198.25048828125, 307.7248229980469, 122.05381774902344, 231.10391235351562, 130.35757446289062, 183.2834014892578, 333.9123229980469, 583.14111328125, 304.5906982421875, 254.04873657226562, 303.449462890625, 739.648681640625, 553.5350341796875, 294.57958984375, 481.4345703125, 439.927978515625, 551.1045532226562, 511.3628234863281, 417.91229248046875, 463.2896423339844, 432.63623046875, 385.71368408203125, 320.67950439453125, 453.4733581542969, 355.97314453125, 500.92547607421875, 394.15789794921875, 361.7088928222656, 412.8930358886719, 438.2201843261719, 354.4483337402344, 337.6557312011719, 320.5361022949219, 329.28448486328125, 314.53216552734375, 309.0645446777344, 546.3654174804688, 426.7160339355469, 229.7792205810547, 140.9398651123047, 52.191410064697266, 39.22869110107422, 48.756988525390625, 29.20163345336914, 28.190401077270508, 25.16650390625, 28.065420150756836, 25.056840896606445, 23.115354537963867, 22.0737361907959, 50.77287673950195, 17.14456558227539, 17.131195068359375, 112.5826416015625, 37.0794677734375, 22.82731056213379, 16.147808074951172, 24.67591667175293, 16.09139060974121, 13.140820503234863, 14.056544303894043, 42.2235107421875, 20.412487030029297, 14.866726875305176, 12.960136413574219, 23.068279266357422, 55.9355583190918, 69.73626708984375, 21.96148681640625, 32.272613525390625, 45.39796829223633, 358.45025634765625, 34.62202453613281, 41.53329086303711, 89.62422180175781, 29.141353607177734, 61.07565689086914, 79.59415435791016, 96.69396209716797, 132.50650024414062, 138.9071807861328, 122.85677337646484, 371.6681823730469, 106.96981048583984, 166.71853637695312, 666.6410522460938, 136.72213745117188, 156.52647399902344, 167.52816772460938, 273.4073791503906, 295.7373962402344, 186.05735778808594, 236.1898651123047, 144.68350219726562, 623.0551147460938, 812.919921875, 588.2218627929688, 261.6726989746094, 261.0050354003906, 168.62852478027344, 281.9130859375, 208.96002197265625, 328.54620361328125, 189.81011962890625, 290.2251281738281, 294.58514404296875, 243.8760986328125, 251.78074645996094, 228.90634155273438, 242.29005432128906, 204.85418701171875, 212.01620483398438, 246.8218231201172, 241.02403259277344, 247.84312438964844, 238.03439331054688, 245.31362915039062, 215.66012573242188, 194.13119506835938, 39.96175003051758, 28.118980407714844, 28.020675659179688, 23.958515167236328, 71.7800521850586, 28.700654983520508, 81.06912994384766, 18.081953048706055, 16.186908721923828, 240.97186279296875, 36.10030746459961, 21.841176986694336, 28.18524742126465, 16.847890853881836, 162.91348266601562, 12.146154403686523, 19.6129207611084, 16.806610107421875, 11.159420013427734, 11.164422988891602, 31.61289405822754, 19.51861572265625, 15.772611618041992, 52.90253829956055, 11.108319282531738, 89.97579193115234, 76.36695861816406, 17.582550048828125, 25.884859085083008, 130.7549591064453, 71.9233627319336, 121.58870697021484, 32.37411117553711, 228.45428466796875, 74.40044403076172, 1044.13818359375, 34.6873664855957, 499.3319091796875, 189.83998107910156, 81.31973266601562, 65.03168487548828, 335.2401428222656, 138.32911682128906, 96.96793365478516, 137.3070068359375, 72.23584747314453, 86.17060089111328, 51.35662841796875, 514.6474609375, 147.8244171142578, 185.96136474609375, 84.42687225341797, 97.39913177490234, 160.46890258789062, 92.42635345458984, 419.06268310546875, 269.2351379394531, 250.52777099609375, 405.5386657714844, 498.1560363769531, 645.1536254882812, 139.08216857910156, 461.36956787109375, 437.651123046875, 270.8868713378906, 225.6056365966797, 237.53660583496094, 405.700927734375, 268.3511962890625, 210.79672241210938, 233.62570190429688, 231.37344360351562, 211.90621948242188, 183.05723571777344, 224.1018524169922, 257.7126159667969, 195.98501586914062, 202.049072265625, 198.73687744140625, 191.99325561523438, 54.8776969909668, 27.118736267089844, 26.968358993530273, 27.855762481689453, 20.3648624420166, 19.397476196289062, 22.15215492248535, 70.9810791015625, 19.346590042114258, 17.498924255371094, 20.204727172851562, 17.364322662353516, 26.560441970825195, 51.27939224243164, 16.46799087524414, 16.459524154663086, 14.560009002685547, 15.446325302124023, 16.327451705932617, 13.583699226379395, 27.107637405395508, 12.626336097717285, 16.990575790405273, 10.72648811340332, 10.720967292785645, 10.71643352508545, 10.70724105834961, 11.563684463500977, 10.650463104248047, 11.542396545410156, 44.18485641479492, 21.3109130859375, 27.317602157592773, 96.57837677001953, 52.3911018371582, 82.94673156738281, 32.739200592041016, 28.347429275512695, 44.76858901977539, 95.49783325195312, 28.644763946533203, 101.96224212646484, 24.558847427368164, 126.78199768066406, 55.146114349365234, 134.2728271484375, 253.06649780273438, 287.2621765136719, 74.8305435180664, 41.26255416870117, 61.052703857421875, 281.517578125, 77.3907470703125, 247.1521453857422, 72.42682647705078, 394.21307373046875, 208.7895050048828, 274.06072998046875, 84.7054672241211, 114.78286743164062, 270.03265380859375, 246.12225341796875, 53.33807373046875, 262.67132568359375, 199.14312744140625, 122.35853576660156, 264.7693786621094, 287.6982421875, 100.61337280273438, 158.8023223876953, 275.65496826171875, 250.1267547607422, 190.06373596191406, 105.82180786132812, 150.1353302001953, 219.9369659423828, 245.40321350097656, 145.45433044433594, 196.51123046875, 134.07496643066406, 160.7629852294922, 147.61703491210938, 143.33578491210938, 143.98159790039062, 140.19091796875, 132.34466552734375, 144.04051208496094, 396.7701721191406, 135.99069213867188, 95.11788177490234, 162.9386749267578, 143.4723358154297, 119.64122772216797, 126.60710144042969, 75.58293914794922, 105.4690933227539, 104.5306167602539, 83.30123901367188, 105.21112823486328, 77.14307403564453, 75.38297271728516, 120.96731567382812, 72.70388793945312, 72.51403045654297, 90.8853759765625, 53.27377700805664, 69.0063247680664, 58.48518371582031, 46.19411087036133, 53.12788009643555, 52.229522705078125, 42.64086151123047, 44.334903717041016, 54.77125930786133, 47.79941177368164, 34.74264144897461, 93.5354232788086, 66.71357727050781, 56.37224578857422, 64.82781982421875, 288.2502136230469, 172.55873107910156, 87.17398071289062, 122.8084716796875, 215.45986938476562, 77.31676483154297, 109.76578521728516, 207.49404907226562, 242.66246032714844, 201.0804443359375, 181.7002716064453, 241.81385803222656, 184.2625274658203, 235.10972595214844, 97.01058197021484, 148.7945098876953, 137.74844360351562, 129.4638214111328, 137.405517578125, 129.1467742919922, 129.51185607910156, 111.35015106201172, 109.6869125366211, 108.8967514038086, 106.65210723876953, 18.242198944091797, 11.67719841003418, 5.033639430999756, 4.855796813964844, 3.393564462661743, 3.9513492584228516, 3.9511382579803467, 3.9494035243988037, 3.94752836227417, 3.9475812911987305, 3.94732928276062, 3.9458911418914795, 3.939347743988037, 3.93778657913208, 3.93769907951355, 3.9359381198883057, 3.934565782546997, 3.93215012550354, 3.9243319034576416, 17.365032196044922, 2.5649733543395996, 7.509761810302734, 24.12436294555664, 1.7368212938308716, 1.7366228103637695, 1.7365237474441528, 1.7364602088928223, 1.7351510524749756, 1.7351363897323608, 1.7349238395690918, 6.603697776794434, 2.83301043510437, 9.229841232299805, 57.77002716064453, 15.717292785644531, 28.93224334716797, 4.788758754730225, 17.479021072387695, 27.493093490600586, 52.965633392333984, 34.8726921081543, 61.7232551574707, 29.286399841308594, 16.50420570373535, 27.052410125732422, 15.645362854003906, 61.83988952636719, 160.01019287109375, 44.8188591003418, 16.886978149414062, 1108.197998046875, 23.47223663330078, 136.24916076660156, 40.70770263671875, 12.789203643798828, 28.46401023864746, 30.305662155151367, 62.075172424316406, 99.0897216796875, 108.3484878540039, 54.93603515625, 60.54524230957031, 334.317138671875, 228.67877197265625, 298.1141357421875, 101.34835052490234, 132.9998016357422, 114.76693725585938, 65.822021484375, 127.51636505126953, 114.55133819580078, 71.09124755859375, 140.52301025390625, 150.82952880859375, 136.9375457763672, 106.271240234375, 99.0456314086914, 68.65084075927734, 109.70500183105469, 107.37429809570312, 106.66035461425781, 76.29398345947266, 82.05609893798828, 69.27659606933594, 64.38126373291016, 65.65872955322266, 65.37378692626953, 64.44467163085938, 12.558969497680664, 12.553668975830078, 23.28073501586914, 21.61620330810547, 8.397741317749023, 7.562139987945557, 7.520658016204834, 6.734598159790039, 6.731738090515137, 6.7278733253479, 8.951638221740723, 14.149007797241211, 6.6888227462768555, 8.141728401184082, 8.138971328735352, 8.137202262878418, 5.899216651916504, 6.535855770111084, 5.070923805236816, 5.070461750030518, 5.069620132446289, 5.067719459533691, 41.30925369262695, 12.876188278198242, 9.233413696289062, 4.2409892082214355, 4.241950035095215, 4.241128444671631, 4.2392168045043945, 4.238309383392334, 13.396451950073242, 20.124923706054688, 12.994500160217285, 21.353864669799805, 5.5290350914001465, 178.71975708007812, 17.148225784301758, 28.42111587524414, 26.779096603393555, 10.466852188110352, 138.28121948242188, 265.4074401855469, 291.06304931640625, 119.54370880126953, 123.98076629638672, 17.43406867980957, 31.01576805114746, 16.719894409179688, 24.691875457763672, 38.47112274169922, 37.57697296142578, 86.42987060546875, 235.2256317138672, 120.61196899414062, 50.21894454956055, 83.92559051513672, 457.51092529296875, 354.4510498046875, 55.17180633544922, 122.47012329101562, 96.15890502929688, 242.03004455566406, 142.12646484375, 51.527774810791016, 286.58935546875, 83.4833984375, 81.3873062133789, 146.73513793945312, 80.9142074584961, 191.1225128173828, 109.05001831054688, 122.75353240966797, 62.571353912353516, 75.46507263183594, 106.66902923583984, 90.66632843017578, 113.552978515625, 83.24915313720703, 80.2652816772461, 76.86258697509766], \"Term\": [\"shall\", \"unto\", \"lord\", \"thou\", \"ye\", \"said\", \"thy\", \"israel\", \"upon\", \"god\", \"children\", \"thee\", \"shalt\", \"whale\", \"hath\", \"king\", \"land\", \"moses\", \"son\", \"people\", \"sons\", \"offering\", \"one\", \"thereof\", \"house\", \"mrs\", \"made\", \"two\", \"little\", \"mr\", \"elinor\", \"emma\", \"weston\", \"dashwood\", \"jennings\", \"elton\", \"knightley\", \"jane\", \"willoughby\", \"woodhouse\", \"wentworth\", \"harriet\", \"fairfax\", \"brandon\", \"churchill\", \"ferrars\", \"frank\", \"hartfield\", \"edward\", \"musgrove\", \"highbury\", \"marianne\", \"barton\", \"rory\", \"randalls\", \"palmer\", \"bates\", \"uppercross\", \"henrietta\", \"elliot\", \"mrs\", \"charles\", \"engagement\", \"russell\", \"louisa\", \"agreeable\", \"smith\", \"miss\", \"anne\", \"mr\", \"feelings\", \"could\", \"colonel\", \"would\", \"must\", \"however\", \"much\", \"think\", \"lady\", \"always\", \"never\", \"well\", \"dear\", \"soon\", \"might\", \"nothing\", \"quite\", \"every\", \"one\", \"thing\", \"though\", \"time\", \"good\", \"know\", \"little\", \"said\", \"say\", \"great\", \"see\", \"man\", \"like\", \"first\", \"may\", \"two\", \"philistines\", \"joab\", \"absalom\", \"jeremiah\", \"moab\", \"gilead\", \"jehoshaphat\", \"joshua\", \"abimelech\", \"abner\", \"shechem\", \"david\", \"syrians\", \"abram\", \"bethel\", \"jehu\", \"zedekiah\", \"elisha\", \"laban\", \"saul\", \"jehoiada\", \"rehoboam\", \"joash\", \"josiah\", \"hezekiah\", \"gibeah\", \"handmaid\", \"canaanites\", \"jordan\", \"damsel\", \"judah\", \"ammon\", \"samaria\", \"jonathan\", \"begat\", \"solomon\", \"pharaoh\", \"joseph\", \"babylon\", \"israel\", \"manasseh\", \"edom\", \"egypt\", \"hebron\", \"ephraim\", \"suburbs\", \"slew\", \"king\", \"son\", \"jacob\", \"unto\", \"lord\", \"jerusalem\", \"land\", \"cities\", \"sons\", \"shalt\", \"saith\", \"smote\", \"behold\", \"thee\", \"people\", \"saying\", \"house\", \"thou\", \"shall\", \"came\", \"thy\", \"city\", \"pass\", \"children\", \"went\", \"said\", \"god\", \"ye\", \"upon\", \"hath\", \"men\", \"hand\", \"go\", \"come\", \"day\", \"man\", \"one\", \"gospel\", \"worketh\", \"christ\", \"believeth\", \"esther\", \"selah\", \"apostles\", \"haman\", \"macedonia\", \"partakers\", \"circumcision\", \"barnabas\", \"judgeth\", \"timotheus\", \"despiseth\", \"uncircumcision\", \"epistle\", \"apostle\", \"caesarea\", \"godliness\", \"ephesus\", \"transgressors\", \"casteth\", \"carnal\", \"jesus\", \"festus\", \"becometh\", \"stedfast\", \"increaseth\", \"manifest\", \"mordecai\", \"gentiles\", \"righteousness\", \"preached\", \"loveth\", \"saints\", \"jews\", \"fornication\", \"salvation\", \"speaketh\", \"knoweth\", \"righteous\", \"doeth\", \"baptized\", \"glory\", \"yea\", \"wicked\", \"faith\", \"verily\", \"rejoice\", \"beloved\", \"works\", \"paul\", \"god\", \"wisdom\", \"things\", \"ye\", \"spirit\", \"hath\", \"thy\", \"praise\", \"thou\", \"peter\", \"shall\", \"mercy\", \"also\", \"unto\", \"thee\", \"man\", \"hast\", \"lord\", \"earth\", \"let\", \"law\", \"us\", \"heaven\", \"heart\", \"come\", \"therefore\", \"one\", \"upon\", \"men\", \"may\", \"know\", \"day\", \"good\", \"say\", \"every\", \"hal\", \"susan\", \"loveit\", \"alice\", \"jem\", \"gregory\", \"barbara\", \"tarlton\", \"gresham\", \"somers\", \"syme\", \"attorney\", \"marquis\", \"maurice\", \"somerville\", \"gutenberg\", \"oakly\", \"rosamond\", \"sweepstakes\", \"ebook\", \"lightfoot\", \"gryphon\", \"anarchist\", \"halfpence\", \"arthur\", \"piedro\", \"tulip\", \"caterpillar\", \"harper\", \"christopher\", \"archer\", \"carlo\", \"jackal\", \"ben\", \"francisco\", \"gingerbread\", \"professor\", \"guinea\", \"secretary\", \"hen\", \"lawrence\", \"theresa\", \"fisher\", \"sunday\", \"franklin\", \"bull\", \"whilst\", \"said\", \"little\", \"boy\", \"de\", \"got\", \"dr\", \"ran\", \"cried\", \"know\", \"looked\", \"door\", \"oh\", \"one\", \"could\", \"sir\", \"good\", \"well\", \"would\", \"like\", \"went\", \"see\", \"time\", \"old\", \"thought\", \"came\", \"never\", \"upon\", \"go\", \"father\", \"come\", \"man\", \"great\", \"day\", \"mr\", \"shall\", \"let\", \"say\", \"turnbull\", \"macian\", \"buster\", \"evan\", \"blacky\", \"billy\", \"muscari\", \"chatterer\", \"mink\", \"jay\", \"harrogate\", \"kidd\", \"highlander\", \"wilkinson\", \"boulnois\", \"reddy\", \"quayle\", \"joe\", \"trout\", \"abyss\", \"hutton\", \"madeleine\", \"ezza\", \"squirrel\", \"claude\", \"sammy\", \"lunatic\", \"brigand\", \"wonderous\", \"atheist\", \"otter\", \"car\", \"courier\", \"asylum\", \"berries\", \"brown\", \"duel\", \"pail\", \"police\", \"leapt\", \"paradise\", \"eve\", \"forest\", \"human\", \"hell\", \"big\", \"heaven\", \"figure\", \"green\", \"like\", \"fight\", \"garden\", \"black\", \"seemed\", \"face\", \"bear\", \"stood\", \"dark\", \"man\", \"said\", \"one\", \"still\", \"thus\", \"mean\", \"first\", \"looked\", \"little\", \"light\", \"two\", \"us\", \"long\", \"yet\", \"though\", \"even\", \"world\", \"head\", \"great\", \"see\", \"could\", \"know\", \"god\", \"men\", \"starbuck\", \"steelkilt\", \"shipmates\", \"parsee\", \"lakeman\", \"pip\", \"leeward\", \"moby\", \"hopkins\", \"hoppity\", \"queequeg\", \"forecastle\", \"radney\", \"chick\", \"yojo\", \"pequod\", \"manxman\", \"casks\", \"hussey\", \"goody\", \"ramadan\", \"hammock\", \"doubloon\", \"binnacle\", \"harpooneers\", \"armagnac\", \"nantucket\", \"bildad\", \"perth\", \"fedallah\", \"mast\", \"harpoon\", \"whaling\", \"aft\", \"stubb\", \"peleg\", \"whale\", \"rigging\", \"ahab\", \"deck\", \"dick\", \"whalemen\", \"boat\", \"boats\", \"flask\", \"crew\", \"harpooneer\", \"cabin\", \"tashtego\", \"ship\", \"aye\", \"whales\", \"jonah\", \"voyage\", \"sperm\", \"leg\", \"sea\", \"captain\", \"white\", \"old\", \"like\", \"one\", \"line\", \"ye\", \"upon\", \"head\", \"seemed\", \"still\", \"man\", \"yet\", \"round\", \"though\", \"long\", \"last\", \"water\", \"men\", \"thou\", \"three\", \"time\", \"two\", \"way\", \"pioneers\", \"chants\", \"manhattan\", \"clo\", \"eidolons\", \"bards\", \"color\", \"poems\", \"paumanok\", \"libertad\", \"limitless\", \"osr\", \"drums\", \"chant\", \"california\", \"colors\", \"absorb\", \"mannahatta\", \"crops\", \"yearning\", \"farms\", \"growths\", \"pennant\", \"carols\", \"myriad\", \"themes\", \"pennants\", \"bugles\", \"envelop\", \"products\", \"forever\", \"teeming\", \"identity\", \"states\", \"joys\", \"america\", \"countless\", \"prairies\", \"shores\", \"songs\", \"waits\", \"lands\", \"banner\", \"song\", \"amid\", \"sing\", \"soul\", \"love\", \"divine\", \"western\", \"woods\", \"life\", \"fields\", \"night\", \"waves\", \"see\", \"death\", \"earth\", \"around\", \"sweet\", \"old\", \"long\", \"breast\", \"yet\", \"sea\", \"sun\", \"day\", \"thee\", \"women\", \"world\", \"one\", \"thy\", \"men\", \"war\", \"ever\", \"thou\", \"shall\", \"many\", \"man\", \"hear\", \"come\", \"every\", \"time\", \"great\", \"know\", \"land\", \"brutus\", \"haue\", \"bru\", \"cassi\", \"vs\", \"vpon\", \"heere\", \"selfe\", \"cassius\", \"loue\", \"giue\", \"vp\", \"speake\", \"heare\", \"feare\", \"macb\", \"looke\", \"exeunt\", \"doe\", \"leaue\", \"thinke\", \"downe\", \"euery\", \"laer\", \"owne\", \"beare\", \"euen\", \"macbeth\", \"neuer\", \"caes\", \"ile\", \"antony\", \"heauen\", \"againe\", \"ham\", \"caesar\", \"hamlet\", \"tis\", \"enter\", \"hor\", \"th\", \"king\", \"thou\", \"come\", \"let\", \"lord\", \"good\", \"shall\", \"st\", \"know\", \"would\", \"well\", \"thy\", \"like\", \"thee\", \"may\", \"must\", \"yet\", \"say\", \"jubile\", \"scall\", \"israelitish\", \"eliasaph\", \"scapegoat\", \"pedahzur\", \"shedeur\", \"enan\", \"abidan\", \"pagiel\", \"zuar\", \"helon\", \"ahira\", \"elizur\", \"zurishaddai\", \"ocran\", \"gideoni\", \"shelumiel\", \"ammishaddai\", \"uncover\", \"convocations\", \"gog\", \"leprosy\", \"scabbed\", \"scurvy\", \"bondmaids\", \"plaistered\", \"syene\", \"middlemost\", \"tilled\", \"cleansing\", \"deuel\", \"convocation\", \"plague\", \"bathe\", \"blemish\", \"sojourner\", \"pronounce\", \"nakedness\", \"numbered\", \"atonement\", \"unclean\", \"chambers\", \"estimation\", \"measured\", \"oblation\", \"cubits\", \"offering\", \"sanctuary\", \"profane\", \"shall\", \"issue\", \"priest\", \"skin\", \"arches\", \"upward\", \"breadth\", \"offer\", \"holy\", \"thereof\", \"tabernacle\", \"gate\", \"unto\", \"ye\", \"lord\", \"side\", \"land\", \"shalt\", \"five\", \"israel\", \"children\", \"thousand\", \"upon\", \"thou\", \"thy\", \"house\", \"even\", \"moses\", \"god\", \"man\", \"one\", \"among\", \"day\", \"take\", \"hundred\", \"hath\", \"make\", \"put\", \"artaxerxes\", \"tobiah\", \"jeshua\", \"ezra\", \"sanballat\", \"nehemiah\", \"consecration\", \"sherebiah\", \"rehum\", \"kadmiel\", \"harim\", \"nethinims\", \"fillets\", \"taches\", \"knop\", \"coupling\", \"binnui\", \"ouches\", \"pahathmoab\", \"bigvai\", \"bebai\", \"meremoth\", \"sockets\", \"eliashib\", \"caul\", \"jozadak\", \"aholiab\", \"rump\", \"parosh\", \"hodijah\", \"kidneys\", \"breastplate\", \"hangings\", \"shittim\", \"shebaniah\", \"aaron\", \"twined\", \"repaired\", \"boards\", \"loops\", \"tabernacle\", \"offering\", \"moses\", \"congregation\", \"altar\", \"anointing\", \"rings\", \"inwards\", \"ephod\", \"bullock\", \"ram\", \"burnt\", \"children\", \"thereof\", \"fat\", \"sin\", \"shall\", \"unto\", \"levites\", \"sons\", \"hundred\", \"upon\", \"shalt\", \"sacrifice\", \"lord\", \"priest\", \"gold\", \"made\", \"holy\", \"thou\", \"put\", \"two\", \"commanded\", \"work\", \"people\", \"make\", \"one\", \"israel\", \"ye\", \"god\"], \"Total\": [11106.0, 8638.0, 8211.0, 6534.0, 4544.0, 9188.0, 5443.0, 2457.0, 4407.0, 5167.0, 2118.0, 4655.0, 1574.0, 1250.0, 2458.0, 3023.0, 1982.0, 777.0, 2640.0, 2684.0, 1123.0, 672.0, 6015.0, 855.0, 2769.0, 1744.0, 2634.0, 2269.0, 2995.0, 2235.0, 642.7918090820312, 812.4838256835938, 413.2428894042969, 237.04519653320312, 216.43084716796875, 361.7198181152344, 365.4737243652344, 284.8587646484375, 204.253173828125, 294.2457580566406, 205.19264221191406, 475.170166015625, 226.75372314453125, 135.84463500976562, 227.7204132080078, 122.72710418701172, 212.73594665527344, 150.8642578125, 257.62554931640625, 122.73857879638672, 118.05442810058594, 593.4281005859375, 84.3065185546875, 83.36174774169922, 85.25390625, 73.06245422363281, 140.4267578125, 73.06769561767578, 71.19113159179688, 271.89971923828125, 1744.5361328125, 163.09461975097656, 114.32662963867188, 140.62570190429688, 239.1899871826172, 113.4041519165039, 170.60498046875, 1122.4522705078125, 524.5953979492188, 2235.929931640625, 270.8350830078125, 3433.10205078125, 302.81170654296875, 3870.7705078125, 2227.465087890625, 641.8591918945312, 2207.11865234375, 1625.196044921875, 719.9542236328125, 970.4765014648438, 1770.8140869140625, 2408.210693359375, 699.2010498046875, 1038.5115966796875, 1890.359375, 1409.19921875, 1038.8978271484375, 2763.6171875, 6015.0556640625, 1889.8765869140625, 1684.67626953125, 2613.0712890625, 2797.741455078125, 2955.966064453125, 2995.56884765625, 9188.2392578125, 2639.251953125, 2768.62109375, 2798.511474609375, 5467.82421875, 3391.71142578125, 1869.6732177734375, 2455.18115234375, 2269.4208984375, 251.17869567871094, 139.95401000976562, 104.4804458618164, 143.79782104492188, 162.98121643066406, 97.76270294189453, 81.4640121459961, 209.69361877441406, 64.20354461669922, 61.32883834838867, 62.28428649902344, 1065.9156494140625, 59.408363342285156, 59.4083366394043, 65.14920806884766, 57.49154281616211, 60.37242126464844, 57.47125244140625, 53.65669250488281, 418.14959716796875, 50.777591705322266, 48.86150360107422, 47.90239715576172, 52.695674896240234, 123.71349334716797, 47.89680862426758, 44.06187057495117, 53.62199020385742, 192.81033325195312, 46.936737060546875, 782.3538208007812, 89.15754699707031, 119.89722442626953, 119.78144073486328, 220.487060546875, 308.9163818359375, 266.8221740722656, 243.4136962890625, 287.67144775390625, 2457.23974609375, 141.00601196289062, 83.43225860595703, 600.9236450195312, 70.7811279296875, 171.6452178955078, 115.53654479980469, 197.8961181640625, 3023.87890625, 2640.469970703125, 367.168701171875, 8638.798828125, 8211.64453125, 790.0025634765625, 1982.544921875, 499.5986633300781, 1123.8323974609375, 1574.8634033203125, 1222.424072265625, 238.67684936523438, 1415.269287109375, 4655.87939453125, 2684.304443359375, 1674.1639404296875, 2769.19482421875, 6534.2841796875, 11106.74609375, 3228.584716796875, 5443.79833984375, 1017.2842407226562, 1048.556884765625, 2118.80224609375, 2239.30224609375, 9188.2392578125, 5167.29443359375, 4544.12841796875, 4407.68115234375, 2458.97900390625, 2651.270263671875, 2366.91552734375, 2733.34521484375, 3520.36767578125, 3201.77392578125, 5467.82421875, 6015.0556640625, 111.64187622070312, 38.175785064697266, 598.6896362304688, 46.20779800415039, 58.13615036010742, 76.35185241699219, 63.2895393371582, 55.240901947021484, 27.099040985107422, 24.082693099975586, 37.0806884765625, 30.08970069885254, 18.04043960571289, 18.039735794067383, 20.042814254760742, 17.037612915039062, 38.01958465576172, 35.14248275756836, 18.032737731933594, 16.03038787841797, 18.033964157104492, 21.041078567504883, 19.023073196411133, 16.02228546142578, 992.84912109375, 14.016765594482422, 16.016468048095703, 14.006468772888184, 16.010944366455078, 46.093135833740234, 62.78504180908203, 132.26998901367188, 314.8298034667969, 69.17081451416016, 66.07749938964844, 117.35542297363281, 258.6078186035156, 38.06804656982422, 173.76490783691406, 74.78109741210938, 104.56741333007812, 252.8017120361328, 95.89073944091797, 68.10951232910156, 520.7971801757812, 368.98052978515625, 420.91387939453125, 393.7217102050781, 146.48089599609375, 218.94114685058594, 153.09934997558594, 358.7156677246094, 249.24107360839844, 5167.29443359375, 284.10906982421875, 1947.3299560546875, 4544.12841796875, 733.4478759765625, 2458.97900390625, 5443.79833984375, 376.6981506347656, 6534.2841796875, 198.057373046875, 11106.74609375, 336.4094543457031, 2133.26806640625, 8638.798828125, 4655.87939453125, 5467.82421875, 1199.9945068359375, 8211.64453125, 1652.1337890625, 2603.3056640625, 715.86962890625, 2743.885986328125, 1175.0887451171875, 1454.477783203125, 3520.36767578125, 1571.81298828125, 6015.0556640625, 4407.68115234375, 2651.270263671875, 2455.18115234375, 2955.966064453125, 3201.77392578125, 2797.741455078125, 2639.251953125, 2763.6171875, 111.20775604248047, 292.5071105957031, 86.1503677368164, 402.6781005859375, 125.20027160644531, 121.19424438476562, 93.12583923339844, 63.09067916870117, 51.058349609375, 55.052669525146484, 520.6629028320312, 98.06273651123047, 72.04645538330078, 56.03155517578125, 39.023921966552734, 34.00714111328125, 41.01715087890625, 54.02134323120117, 31.00792121887207, 28.999788284301758, 32.999629974365234, 57.055484771728516, 44.98553466796875, 34.996456146240234, 172.06031799316406, 161.9968719482422, 35.967323303222656, 30.951757431030273, 23.98369598388672, 27.977798461914062, 184.8866424560547, 60.96449279785156, 83.11292266845703, 86.98584747314453, 173.6242218017578, 49.94215774536133, 177.0965118408203, 135.9285430908203, 71.89802551269531, 94.83798217773438, 73.94517517089844, 67.82605743408203, 82.64664459228516, 121.34760284423828, 76.68765258789062, 141.12838745117188, 111.26970672607422, 9188.2392578125, 2995.56884765625, 561.4091796875, 179.51255798339844, 485.6768493652344, 207.15492248535156, 376.4845275878906, 1085.141845703125, 2955.966064453125, 964.4877319335938, 729.35498046875, 1038.5306396484375, 6015.0556640625, 3433.10205078125, 1013.3175659179688, 2797.741455078125, 2408.210693359375, 3870.7705078125, 3391.71142578125, 2239.30224609375, 2798.511474609375, 2613.0712890625, 2032.4659423828125, 1308.6881103515625, 3228.584716796875, 1770.8140869140625, 4407.68115234375, 2733.34521484375, 2238.88525390625, 3520.36767578125, 5467.82421875, 2768.62109375, 3201.77392578125, 2235.929931640625, 11106.74609375, 2603.3056640625, 2639.251953125, 549.0092163085938, 429.3165283203125, 232.20106506347656, 142.69607543945312, 53.229270935058594, 40.155845642089844, 50.1925163269043, 30.09921646118164, 29.092329025268555, 26.07524299621582, 29.082700729370117, 26.06218910217285, 24.058101654052734, 23.048046112060547, 53.120025634765625, 18.028318405151367, 18.02743148803711, 118.50517272949219, 39.06246566772461, 24.054607391357422, 17.023469924926758, 26.035415649414062, 17.016286849975586, 14.006882667541504, 14.999649047851562, 45.08647537231445, 21.970073699951172, 16.009376525878906, 13.99994945526123, 24.978544235229492, 61.64924240112305, 77.8555908203125, 23.896100997924805, 35.97150421142578, 52.03897476196289, 495.6011962890625, 39.088523864746094, 48.04075622558594, 119.09835052490234, 33.021671295166016, 84.06110382080078, 117.25448608398438, 150.7511444091797, 240.62057495117188, 256.65118408203125, 227.89981079101562, 1175.0887451171875, 209.30813598632812, 402.8267822265625, 3391.71142578125, 315.04083251953125, 412.8324279785156, 462.4068298339844, 1058.9921875, 1243.4398193359375, 585.1466064453125, 914.1373901367188, 401.20733642578125, 5467.82421875, 9188.2392578125, 6015.0556640625, 1318.60205078125, 1323.0181884765625, 561.6737060546875, 1869.6732177734375, 964.4877319335938, 2995.56884765625, 781.9234008789062, 2269.4208984375, 2743.885986328125, 1716.217041015625, 2175.4365234375, 1684.67626953125, 2384.605224609375, 1259.0294189453125, 1457.903076171875, 2768.62109375, 2798.511474609375, 3433.10205078125, 2955.966064453125, 5167.29443359375, 2651.270263671875, 200.38937377929688, 41.27353286743164, 29.18117332458496, 29.173503875732422, 25.131885528564453, 75.41383361816406, 30.157241821289062, 85.44979095458984, 19.06010627746582, 17.0747013092041, 254.34681701660156, 38.18241882324219, 23.10497283935547, 30.084983825683594, 18.060680389404297, 174.71739196777344, 13.043427467346191, 21.069843292236328, 18.05728530883789, 12.019204139709473, 12.035290718078613, 34.11003494262695, 21.063133239746094, 17.046737670898438, 57.1899528503418, 12.015787124633789, 97.33047485351562, 82.6353988647461, 19.04999351501465, 28.077625274658203, 142.5434112548828, 78.23236846923828, 133.35400390625, 35.128997802734375, 258.1287841796875, 82.29066467285156, 1250.8677978515625, 38.053890228271484, 605.6951904296875, 222.28756713867188, 92.01443481445312, 73.04991912841797, 404.430419921875, 162.0600128173828, 112.87689208984375, 164.6605682373047, 82.93487548828125, 100.89447021484375, 58.01245880126953, 743.9060668945312, 199.0535888671875, 268.2332763671875, 106.71296691894531, 127.45115661621094, 241.99977111816406, 124.3134765625, 1330.3558349609375, 827.92236328125, 777.5872192382812, 2032.4659423828125, 3391.71142578125, 6015.0556640625, 291.8627014160156, 4544.12841796875, 4407.68115234375, 1457.903076171875, 1058.9921875, 1318.60205078125, 5467.82421875, 2175.4365234375, 1128.30908203125, 1684.67626953125, 1716.217041015625, 1298.464111328125, 789.70947265625, 2651.270263671875, 6534.2841796875, 1183.7418212890625, 2613.0712890625, 2269.4208984375, 1864.4405517578125, 56.18513107299805, 28.079620361328125, 28.07208824157715, 29.019969940185547, 21.295324325561523, 20.32421112060547, 23.216079711914062, 74.49359130859375, 20.318605422973633, 18.386327743530273, 21.281084060668945, 18.33435821533203, 28.046579360961914, 54.207977294921875, 17.413034439086914, 17.412433624267578, 15.475844383239746, 16.441152572631836, 17.395999908447266, 14.506325721740723, 29.03877830505371, 13.53674602508545, 18.36029624938965, 11.600099563598633, 11.599919319152832, 11.598908424377441, 11.598411560058594, 12.562395095825195, 11.594940185546875, 12.566683769226074, 48.4339714050293, 23.252357482910156, 29.935020446777344, 115.49637603759766, 61.10274124145508, 100.70708465576172, 37.58675765991211, 32.97003173828125, 54.91114044189453, 134.0325164794922, 33.82318115234375, 158.1943817138672, 29.093006134033203, 254.934326171875, 91.044677734375, 332.1951599121094, 888.2561645507812, 1092.2802734375, 155.4527587890625, 64.23407745361328, 120.29423522949219, 1410.6336669921875, 180.185546875, 1233.5875244140625, 162.55795288085938, 2798.511474609375, 955.9525756835938, 1652.1337890625, 217.67332458496094, 391.22479248046875, 2032.4659423828125, 1716.217041015625, 99.9345703125, 2175.4365234375, 1330.3558349609375, 555.9510498046875, 3201.77392578125, 4655.87939453125, 388.19134521484375, 1259.0294189453125, 6015.0556640625, 5443.79833984375, 2651.270263671875, 452.4295959472656, 1601.6671142578125, 6534.2841796875, 11106.74609375, 1544.67724609375, 5467.82421875, 1200.19921875, 3520.36767578125, 2763.6171875, 2613.0712890625, 2768.62109375, 2955.966064453125, 1982.544921875, 145.02821350097656, 399.5451354980469, 137.02366638183594, 96.1124496459961, 164.6578826904297, 145.0874481201172, 121.0495376586914, 128.18251037597656, 76.54466247558594, 106.81798553466797, 105.93283081054688, 84.57437133789062, 106.84524536132812, 78.34654998779297, 76.56376647949219, 122.88504791259766, 73.8969955444336, 73.90145874023438, 92.63208770751953, 54.31448745727539, 70.35645294189453, 59.66437530517578, 47.196659088134766, 54.329620361328125, 53.44181442260742, 43.64063262939453, 45.42876052856445, 56.12610626220703, 48.99364471435547, 35.628074645996094, 96.2913589477539, 68.64485931396484, 57.91771697998047, 66.81446838378906, 322.09393310546875, 212.32061767578125, 97.74629211425781, 182.642822265625, 450.31170654296875, 97.6288070678711, 186.63018798828125, 3023.87890625, 6534.2841796875, 3520.36767578125, 2603.3056640625, 8211.64453125, 2797.741455078125, 11106.74609375, 260.8654479980469, 2955.966064453125, 3870.7705078125, 2408.210693359375, 5443.79833984375, 3391.71142578125, 4655.87939453125, 2455.18115234375, 2227.465087890625, 2175.4365234375, 2639.251953125, 19.199800491333008, 12.556992530822754, 5.903285026550293, 5.939166069030762, 4.260143756866455, 5.118532180786133, 5.1185302734375, 5.118969440460205, 5.119174003601074, 5.119302749633789, 5.119340419769287, 5.119442939758301, 5.120063781738281, 5.120269775390625, 5.120432376861572, 5.120882511138916, 5.121170997619629, 5.121642589569092, 5.122838497161865, 22.999774932861328, 3.430363416671753, 10.312479019165039, 34.54933166503906, 2.600503921508789, 2.6005032062530518, 2.600478172302246, 2.6004607677459717, 2.5991058349609375, 2.5991082191467285, 2.5990660190582275, 10.241140365600586, 4.328186988830566, 14.831851959228516, 107.58210754394531, 28.016613006591797, 55.90669631958008, 7.8682684898376465, 33.064903259277344, 56.426883697509766, 119.63941192626953, 77.58833312988281, 176.9519500732422, 68.03286743164062, 33.13762283325195, 63.52863693237305, 30.996910095214844, 191.37466430664062, 672.61376953125, 128.293212890625, 35.262359619140625, 11106.74609375, 57.1115837097168, 653.9794921875, 125.22105407714844, 26.0360164642334, 84.5938720703125, 100.2728500366211, 309.2378845214844, 652.830810546875, 855.6954345703125, 290.9007568359375, 349.7278747558594, 8638.798828125, 4544.12841796875, 8211.64453125, 1108.1859130859375, 1982.544921875, 1574.8634033203125, 545.1485595703125, 2457.23974609375, 2118.80224609375, 713.6616821289062, 4407.68115234375, 6534.2841796875, 5443.79833984375, 2769.19482421875, 2384.605224609375, 777.1424560546875, 5167.29443359375, 5467.82421875, 6015.0556640625, 1353.4996337890625, 3201.77392578125, 1725.0750732421875, 713.0098876953125, 2458.97900390625, 2153.3330078125, 1517.9749755859375, 13.452040672302246, 13.452740669250488, 25.24114418029785, 23.57280921936035, 9.281166076660156, 8.447507858276367, 8.45294189453125, 7.612602710723877, 7.613061904907227, 7.613574981689453, 10.142365455627441, 16.059064865112305, 7.618496894836426, 9.315726280212402, 9.316362380981445, 9.3160400390625, 6.778900623321533, 7.638498783111572, 5.94425630569458, 5.944277286529541, 5.944380760192871, 5.944522857666016, 49.073204040527344, 15.298282623291016, 11.020387649536133, 5.109735488891602, 5.112050533294678, 5.11215353012085, 5.110014915466309, 5.110058307647705, 16.156810760498047, 24.87912368774414, 16.10857582092285, 28.412046432495117, 6.814911365509033, 304.72601318359375, 23.35222625732422, 42.64696502685547, 39.86440658569336, 13.771109580993652, 290.9007568359375, 672.61376953125, 777.1424560546875, 337.0179138183594, 365.7470703125, 26.93284034729004, 59.64130783081055, 26.61532211303711, 47.08921813964844, 100.49710083007812, 97.64878845214844, 369.9294738769531, 2118.80224609375, 855.6954345703125, 198.86422729492188, 493.086181640625, 11106.74609375, 8638.798828125, 241.85751342773438, 1123.8323974609375, 713.0098876953125, 4407.68115234375, 1574.8634033203125, 228.3446044921875, 8211.64453125, 653.9794921875, 635.4171752929688, 2634.2177734375, 652.830810546875, 6534.2841796875, 1517.9749755859375, 2269.4208984375, 457.92626953125, 857.2890014648438, 2684.304443359375, 2153.3330078125, 6015.0556640625, 2457.23974609375, 4544.12841796875, 5167.29443359375], \"loglift\": [30.0, 29.0, 28.0, 27.0, 26.0, 25.0, 24.0, 23.0, 22.0, 21.0, 20.0, 19.0, 18.0, 17.0, 16.0, 15.0, 14.0, 13.0, 12.0, 11.0, 10.0, 9.0, 8.0, 7.0, 6.0, 5.0, 4.0, 3.0, 2.0, 1.0, 1.3796000480651855, 1.378499984741211, 1.378100037574768, 1.3773000240325928, 1.3772000074386597, 1.3769999742507935, 1.3767999410629272, 1.3767000436782837, 1.3765000104904175, 1.3762999773025513, 1.3762999773025513, 1.376099944114685, 1.376099944114685, 1.3747999668121338, 1.374500036239624, 1.3741999864578247, 1.3733999729156494, 1.3731000423431396, 1.3731000423431396, 1.3727999925613403, 1.3724000453948975, 1.3712999820709229, 1.37090003490448, 1.3708000183105469, 1.3696999549865723, 1.3691999912261963, 1.368299961090088, 1.368299961090088, 1.3681000471115112, 1.367799997329712, 1.3482999801635742, 1.367300033569336, 1.3671000003814697, 1.3650000095367432, 1.3558000326156616, 1.3654999732971191, 1.3547999858856201, 1.2851999998092651, 1.2977999448776245, 1.1764999628067017, 1.316100001335144, 0.9739000201225281, 1.2674000263214111, 0.8532000184059143, 0.8934999704360962, 1.1013000011444092, 0.8532999753952026, 0.8988000154495239, 1.0705000162124634, 0.9602000117301941, 0.7929999828338623, 0.6499000191688538, 1.0170999765396118, 0.882099986076355, 0.6826000213623047, 0.7777000069618225, 0.8517000079154968, 0.483599990606308, 0.13230000436306, 0.5806000232696533, 0.6000000238418579, 0.3919000029563904, 0.34150001406669617, 0.2825999855995178, 0.23960000276565552, -0.4772000014781952, 0.2556999921798706, 0.15549999475479126, 0.13539999723434448, -0.4092000126838684, -0.08990000188350677, 0.3797999918460846, 0.13330000638961792, 0.18569999933242798, 1.5494999885559082, 1.5490000247955322, 1.5471999645233154, 1.5463999509811401, 1.5456000566482544, 1.5454000234603882, 1.544700026512146, 1.5424000024795532, 1.5419000387191772, 1.5413999557495117, 1.541200041770935, 1.5407999753952026, 1.5407999753952026, 1.5406999588012695, 1.5405000448226929, 1.5401999950408936, 1.5398000478744507, 1.5396000146865845, 1.5392999649047852, 1.5391000509262085, 1.5382000207901, 1.537600040435791, 1.5371999740600586, 1.5369999408721924, 1.5365999937057495, 1.5364999771118164, 1.5353000164031982, 1.5351999998092651, 1.535099983215332, 1.5343999862670898, 1.5291999578475952, 1.5341999530792236, 1.530400037765503, 1.5289000272750854, 1.5214999914169312, 1.5121999979019165, 1.5140000581741333, 1.5123000144958496, 1.5017000436782837, 1.4357000589370728, 1.5082999467849731, 1.5266000032424927, 1.4113999605178833, 1.531000018119812, 1.4778000116348267, 1.5012999773025513, 1.4634000062942505, 1.2661000490188599, 1.2661000490188599, 1.4104000329971313, 1.1548999547958374, 1.152400016784668, 1.3415000438690186, 1.2254999876022339, 1.3651000261306763, 1.2628999948501587, 1.1990000009536743, 1.2244000434875488, 1.4378000497817993, 1.1776000261306763, 0.9878000020980835, 1.0556000471115112, 1.124400019645691, 1.027400016784668, 0.8431000113487244, 0.7366999983787537, 0.965499997138977, 0.8439000248908997, 1.1779999732971191, 1.1658999919891357, 0.986299991607666, 0.9569000005722046, 0.5561000108718872, 0.6976000070571899, 0.6647999882698059, 0.5468999743461609, 0.7874000072479248, 0.7318999767303467, 0.7468000054359436, 0.6690000295639038, 0.4828000068664551, 0.5202000141143799, 0.11029999703168869, -0.250900000333786, 1.9527000188827515, 1.9419000148773193, 1.9395999908447266, 1.9375, 1.9359999895095825, 1.9348000288009644, 1.934000015258789, 1.9318000078201294, 1.9313000440597534, 1.9297000169754028, 1.917199969291687, 1.9170000553131104, 1.9169000387191772, 1.916200041770935, 1.9154000282287598, 1.9154000282287598, 1.9140000343322754, 1.9121999740600586, 1.9120999574661255, 1.9119000434875488, 1.9113999605178833, 1.9112000465393066, 1.9106999635696411, 1.9106999635696411, 1.9050999879837036, 1.904099941253662, 1.9039000272750854, 1.902500033378601, 1.9020999670028687, 1.9017000198364258, 1.8940000534057617, 1.8743000030517578, 1.8492000102996826, 1.8752000331878662, 1.8658000230789185, 1.8425999879837036, 1.795799970626831, 1.8710999488830566, 1.7655999660491943, 1.8172999620437622, 1.7930999994277954, 1.7203999757766724, 1.792099952697754, 1.8172999620437622, 1.628600001335144, 1.6561000347137451, 1.6370999813079834, 1.6425000429153442, 1.7339999675750732, 1.6615999937057495, 1.7051000595092773, 1.573199987411499, 1.631100058555603, 1.1384999752044678, 1.6030999422073364, 1.242799997329712, 1.039199948310852, 1.3976999521255493, 1.1464999914169312, 0.9678000211715698, 1.5156999826431274, 0.878000020980835, 1.6502000093460083, 0.723800003528595, 1.5170999765396118, 1.042799949645996, 0.579200029373169, 0.6825000047683716, 0.5702999830245972, 1.0684000253677368, 0.38929998874664307, 0.949400007724762, 0.7452999949455261, 1.2072999477386475, 0.6225000023841858, 0.9509000182151794, 0.8515999913215637, 0.329800009727478, 0.7548999786376953, -0.09929999709129333, 0.06350000202655792, 0.29789999127388, 0.34119999408721924, 0.16009999811649323, 0.0835999995470047, 0.17170000076293945, 0.1678999960422516, 0.10700000077486038, 2.2641000747680664, 2.2627999782562256, 2.2623000144958496, 2.2618000507354736, 2.2600998878479004, 2.2597999572753906, 2.2588000297546387, 2.258500099182129, 2.255199909210205, 2.254300117492676, 2.2537999153137207, 2.251199960708618, 2.25, 2.2483999729156494, 2.2483999729156494, 2.2465999126434326, 2.246500015258789, 2.246299982070923, 2.2441999912261963, 2.243000030517578, 2.2409000396728516, 2.240000009536743, 2.2399001121520996, 2.239000082015991, 2.2372000217437744, 2.2369000911712646, 2.236799955368042, 2.234600067138672, 2.2344000339508057, 2.233099937438965, 2.222100019454956, 2.2328999042510986, 2.2288999557495117, 2.228300094604492, 2.2095000743865967, 2.2330000400543213, 2.2051000595092773, 2.2032999992370605, 2.222100019454956, 2.1823999881744385, 2.201200008392334, 2.2023000717163086, 2.1744000911712646, 2.118000030517578, 2.1803998947143555, 2.052799940109253, 2.097899913787842, 1.1080000400543213, 1.357699990272522, 1.672700047492981, 1.888200044631958, 1.5312999486923218, 1.8107999563217163, 1.5541000366210938, 1.0953999757766724, 0.6507999897003174, 1.1212999820709229, 1.2193000316619873, 1.0435999631881714, 0.17810000479221344, 0.44909998774528503, 1.0384999513626099, 0.5141000151634216, 0.5738999843597412, 0.3246999979019165, 0.38190001249313354, 0.595300018787384, 0.4754999876022339, 0.475600004196167, 0.6119999885559082, 0.8676000237464905, 0.3111000061035156, 0.6696000099182129, 0.09929999709129333, 0.33739998936653137, 0.4510999917984009, 0.13079999387264252, -0.25, 0.2184000015258789, 0.02449999935925007, 0.33149999380111694, -1.2444000244140625, 0.16050000488758087, 0.12919999659061432, 2.4001998901367188, 2.398900032043457, 2.3945000171661377, 2.3926000595092773, 2.3852999210357666, 2.381700038909912, 2.375999927520752, 2.3747000694274902, 2.373500108718872, 2.369499921798706, 2.3694000244140625, 2.3657000064849854, 2.365000009536743, 2.361799955368042, 2.359800100326538, 2.3547000885009766, 2.3540000915527344, 2.3536999225616455, 2.3529000282287598, 2.35260009765625, 2.3522000312805176, 2.3513998985290527, 2.349100112915039, 2.341200113296509, 2.340100049972534, 2.339400053024292, 2.3315000534057617, 2.3310000896453857, 2.3278000354766846, 2.325500011444092, 2.307800054550171, 2.2948999404907227, 2.3206000328063965, 2.2964999675750732, 2.2685000896453857, 2.0810000896453857, 2.2836999893188477, 2.259500026702881, 2.120699882507324, 2.2799999713897705, 2.085599899291992, 2.0176000595092773, 1.9608999490737915, 1.80840003490448, 1.791100025177002, 1.7870999574661255, 1.2539000511169434, 1.7338000535964966, 1.5227999687194824, 0.7781999707221985, 1.5702999830245972, 1.4351999759674072, 1.3897000551223755, 1.0508999824523926, 0.9688000082969666, 1.2591999769210815, 1.0516999959945679, 1.38510000705719, 0.2329999953508377, -0.019999999552965164, 0.08009999990463257, 0.7878000140190125, 0.7818999886512756, 1.201799988746643, 0.5131000280380249, 0.8755999803543091, 0.19480000436306, 0.989300012588501, 0.3483999967575073, 0.17339999973773956, 0.4537999927997589, 0.24860000610351562, 0.4090000092983246, 0.11840000003576279, 0.5892000198364258, 0.47690001130104065, -0.012400000356137753, -0.04690000042319298, -0.22339999675750732, -0.11420000344514847, -0.6425999999046326, -0.10409999638795853, 2.5441999435424805, 2.543600082397461, 2.538800001144409, 2.535599946975708, 2.52810001373291, 2.5264999866485596, 2.526400089263916, 2.5232999324798584, 2.523200035095215, 2.5225000381469727, 2.521899938583374, 2.5197999477386475, 2.5195999145507812, 2.510699987411499, 2.5064001083374023, 2.5058999061584473, 2.5046000480651855, 2.504199981689453, 2.5041000843048096, 2.501699924468994, 2.5007998943328857, 2.4999001026153564, 2.4997000694274902, 2.498199939727783, 2.497999906539917, 2.4974000453948975, 2.497299909591675, 2.496999979019165, 2.495699882507324, 2.4946000576019287, 2.4895999431610107, 2.49180006980896, 2.4835000038146973, 2.4941999912261963, 2.4537999629974365, 2.475100040435791, 2.3952999114990234, 2.483299970626831, 2.3828001022338867, 2.418100118637085, 2.4523000717163086, 2.4595999717712402, 2.3882999420166016, 2.41759991645813, 2.4240000247955322, 2.394200086593628, 2.4377999305725098, 2.4182000160217285, 2.4539999961853027, 2.2074999809265137, 2.2783000469207764, 2.2095999717712402, 2.341599941253662, 2.306999921798706, 2.16510009765625, 2.2795000076293945, 1.420699954032898, 1.4526000022888184, 1.4433000087738037, 0.9641000032424927, 0.6577000021934509, 0.3434000015258789, 1.8346999883651733, 0.28850001096725464, 0.2662000060081482, 0.892799973487854, 1.0296000242233276, 0.8618999719619751, -0.025100000202655792, 0.4832000136375427, 0.8982999920845032, 0.6003000140190125, 0.5720999836921692, 0.7631000280380249, 1.1139999628067017, 0.10520000010728836, -0.6571000218391418, 0.7774999737739563, 0.016100000590085983, 0.14059999585151672, 0.3025999963283539, 2.7718000411987305, 2.760499954223633, 2.755199909210205, 2.7544000148773193, 2.7506000995635986, 2.7486000061035156, 2.7483999729156494, 2.746999979019165, 2.746299982070923, 2.745800018310547, 2.7434000968933105, 2.7409000396728516, 2.7409000396728516, 2.739799976348877, 2.739500045776367, 2.739000082015991, 2.734299898147583, 2.7328999042510986, 2.7318999767303467, 2.729599952697754, 2.7265000343322754, 2.7256999015808105, 2.7177999019622803, 2.7170000076293945, 2.7165000438690186, 2.716200113296509, 2.715399980545044, 2.7125000953674316, 2.7102999687194824, 2.7102999687194824, 2.7035000324249268, 2.7081000804901123, 2.7037999629974365, 2.6164000034332275, 2.6414999961853027, 2.601300001144409, 2.6572000980377197, 2.644200086593628, 2.591099977493286, 2.4563000202178955, 2.6291000843048096, 2.356100082397461, 2.6259000301361084, 2.0968000888824463, 2.2939000129699707, 1.8894000053405762, 1.5397000312805176, 1.4596999883651733, 2.064199924468994, 2.3526999950408936, 2.1171000003814697, 1.1836999654769897, 1.9501999616622925, 1.187600016593933, 1.986799955368042, 0.8353000283241272, 1.273900032043457, 0.9987999796867371, 1.8515000343322754, 1.569100022315979, 0.7767999768257141, 0.8532000184059143, 2.1673998832702637, 0.6812000274658203, 0.8960999846458435, 1.281599998474121, 0.302700012922287, 0.011300000362098217, 1.445099949836731, 0.7249000072479248, -0.28760001063346863, -0.2849999964237213, 0.1598999947309494, 1.3423999547958374, 0.42800000309944153, -0.5961999893188477, -1.0170999765396118, 0.4325999915599823, -0.5306000113487244, 0.6035000085830688, -0.29109999537467957, -0.13439999520778656, -0.10779999941587448, -0.16110000014305115, -0.2533000111579895, 0.08860000222921371, 3.4463000297546387, 3.4460999965667725, 3.445499897003174, 3.442699909210205, 3.4426000118255615, 3.4419000148773193, 3.4414000511169434, 3.440700054168701, 3.440500020980835, 3.4403998851776123, 3.4398000240325928, 3.4379000663757324, 3.437700033187866, 3.4375998973846436, 3.4375998973846436, 3.4374001026153564, 3.436800003051758, 3.4340999126434326, 3.4340999126434326, 3.433799982070923, 3.4337000846862793, 3.4330999851226807, 3.4316000938415527, 3.4307000637054443, 3.4302000999450684, 3.4298999309539795, 3.4286999702453613, 3.4286999702453613, 3.4284000396728516, 3.4279000759124756, 3.424099922180176, 3.4245998859405518, 3.426100015640259, 3.4228999614715576, 3.342099905014038, 3.245699882507324, 3.338599920272827, 3.0562000274658203, 2.71589994430542, 3.2197999954223633, 2.922300100326538, 0.7738999724388123, 0.1599999964237213, 0.590499997138977, 0.7908999919891357, -0.07199999690055847, 0.7329000234603882, -0.40220001339912415, 2.463900089263916, 0.4641000032424927, 0.11729999631643295, 0.5299000144004822, -0.22619999945163727, 0.1850000023841858, -0.1289999932050705, 0.3598000109195709, 0.44209998846054077, 0.4584999978542328, 0.2443999946117401, 3.9505999088287354, 3.9291000366210938, 3.842400074005127, 3.8004000186920166, 3.774399995803833, 3.743000030517578, 3.7428998947143555, 3.7423999309539795, 3.7418999671936035, 3.7418999671936035, 3.74180006980896, 3.7414000034332275, 3.7395999431610107, 3.7392001152038574, 3.7390999794006348, 3.738600015640259, 3.7381999492645264, 3.737499952316284, 3.735300064086914, 3.7207999229431152, 3.7111001014709473, 3.6846001148223877, 3.6426000595092773, 3.598099946975708, 3.5980000495910645, 3.5980000495910645, 3.597899913787842, 3.5977001190185547, 3.5977001190185547, 3.597599983215332, 3.562999963760376, 3.578000068664551, 3.527400016784668, 3.380000114440918, 3.4237000942230225, 3.343100070953369, 3.505199909210205, 3.364300012588501, 3.2827999591827393, 3.1868999004364014, 3.2021000385284424, 2.9486000537872314, 3.158900022506714, 3.3046998977661133, 3.148099899291992, 3.3180999755859375, 2.8721001148223877, 2.5657999515533447, 2.9500999450683594, 3.265500068664551, 1.6970000267028809, 3.112600088119507, 2.433199882507324, 2.8780999183654785, 3.2908999919891357, 2.912600040435791, 2.8052000999450684, 2.3959999084472656, 2.116499900817871, 1.9351999759674072, 2.3350000381469727, 2.247999906539917, 0.7498000264167786, 1.0125000476837158, 0.6858999729156494, 1.6098999977111816, 1.2999999523162842, 1.3827999830245972, 1.8876999616622925, 1.0432000160217285, 1.0842000246047974, 1.6952999830245972, 0.5559999942779541, 0.23309999704360962, 0.3190999925136566, 0.7415000200271606, 0.8205999732017517, 1.5751999616622925, 0.14949999749660492, 0.07150000333786011, -0.03060000017285347, 1.1259000301361084, 0.3377000093460083, 0.786899983882904, 1.597100019454956, 0.37869998812675476, 0.507099986076355, 0.8424999713897705, 3.939199924468994, 3.938699960708618, 3.927000045776367, 3.9212000370025635, 3.907900094985962, 3.897200107574463, 3.8910000324249268, 3.8852999210357666, 3.8847999572753906, 3.884200096130371, 3.882999897003174, 3.8812999725341797, 3.877700090408325, 3.873199939727783, 3.87280011177063, 3.8726000785827637, 3.8689000606536865, 3.8519999980926514, 3.8489999771118164, 3.848900079727173, 3.8487000465393066, 3.848299980163574, 3.835700035095215, 3.8355000019073486, 3.8310000896453857, 3.821500062942505, 3.8213000297546387, 3.8210999965667725, 3.8210999965667725, 3.8208000659942627, 3.820499897003174, 3.795799970626831, 3.793100118637085, 3.7223000526428223, 3.798799991607666, 3.474299907684326, 3.6991000175476074, 3.602099895477295, 3.609999895095825, 3.7335000038146973, 3.26419997215271, 3.078000068664551, 3.0257999897003174, 2.971400022506714, 2.926100015640259, 3.572999954223633, 3.3540000915527344, 3.5429999828338623, 3.362299919128418, 3.0476999282836914, 3.0529000759124756, 2.5539000034332275, 1.8098000288009644, 2.0485000610351562, 2.631700038909912, 2.2370998859405518, 0.8184000253677368, 0.8144000172615051, 2.5299999713897705, 1.791200041770935, 2.0044000148773193, 1.1058000326156616, 1.6026999950408936, 2.5190999507904053, 0.6525999903678894, 1.9494999647140503, 1.9528000354766846, 1.1202000379562378, 1.9199999570846558, 0.47600001096725464, 1.3746000528335571, 1.0908000469207764, 2.0174999237060547, 1.5778000354766846, 0.7824000120162964, 0.8403000235557556, 0.038100000470876694, 0.6229000091552734, -0.0284000001847744, -0.20020000636577606], \"logprob\": [30.0, 29.0, 28.0, 27.0, 26.0, 25.0, 24.0, 23.0, 22.0, 21.0, 20.0, 19.0, 18.0, 17.0, 16.0, 15.0, 14.0, 13.0, 12.0, 11.0, 10.0, 9.0, 8.0, 7.0, 6.0, 5.0, 4.0, 3.0, 2.0, 1.0, -5.995100021362305, -5.76200008392334, -6.438399791717529, -6.994999885559082, -7.086100101470947, -6.572700023651123, -6.5625, -6.811800003051758, -7.144700050354004, -6.779799938201904, -7.1402997970581055, -6.30079984664917, -7.040599822998047, -7.554200172424316, -7.038000106811523, -7.656400203704834, -7.107100009918213, -7.451099872589111, -6.915999889373779, -7.657700061798096, -7.6971001625061035, -6.0833001136779785, -8.035200119018555, -8.046600341796875, -8.025199890136719, -8.180000305175781, -7.527599811553955, -8.180899620056152, -8.207099914550781, -6.867300033569336, -5.0279998779296875, -7.379000186920166, -7.734399795532227, -7.5295000076293945, -7.007500171661377, -7.744200229644775, -7.346399784088135, -5.532100200653076, -6.280099868774414, -4.951600074768066, -6.922999858856201, -4.725500106811523, -6.860000133514404, -4.726200103759766, -5.238500118255615, -6.274899959564209, -5.287799835205078, -5.548299789428711, -6.190899848937988, -6.002500057220459, -5.568399906158447, -5.4039998054504395, -6.273600101470947, -6.012899875640869, -5.613399982452393, -5.812099933624268, -6.042900085449219, -5.432700157165527, -5.006199836730957, -5.715700149536133, -5.811200141906738, -5.580399990081787, -5.5625, -5.566400051116943, -5.596099853515625, -5.1921000480651855, -5.706699848175049, -5.758999824523926, -5.7683000564575195, -5.643099784851074, -5.801300048828125, -5.927299976348877, -5.901400089263916, -5.927599906921387, -6.764900207519531, -7.350299835205078, -7.6442999839782715, -7.325699806213379, -7.201300144195557, -7.712600231170654, -7.895699977874756, -6.952499866485596, -8.136699676513672, -8.182900428771973, -8.167699813842773, -5.328100204467773, -8.215299606323242, -8.215499877929688, -8.12339973449707, -8.248700141906738, -8.200200080871582, -8.249699592590332, -8.318699836730957, -6.265600204467773, -8.375, -8.413900375366211, -8.434200286865234, -8.33899974822998, -7.486000061035156, -8.4350004196167, -8.519700050354004, -8.323399543762207, -7.043799877166748, -8.45740032196045, -5.649099826812744, -7.815999984741211, -7.523499965667725, -7.526000022888184, -6.9232001304626465, -6.595300197601318, -6.739999771118164, -6.833499908447266, -6.67710018157959, -4.598100185394287, -7.383500099182129, -7.889999866485596, -6.030700206756592, -8.04990005493164, -7.217299938201904, -7.589700222015381, -7.0894999504089355, -4.560100078582764, -4.695700168609619, -6.5243000984191895, -3.6215999126434326, -3.674799919128418, -5.827000141143799, -5.0229997634887695, -6.261600017547607, -5.553100109100342, -5.279600143432617, -5.507599830627441, -6.927599906921387, -5.407899856567383, -4.406799793243408, -4.889800071716309, -5.293099880218506, -4.8867998123168945, -4.212699890136719, -3.788599967956543, -4.795300006866455, -4.394400119781494, -5.73769998550415, -5.7195000648498535, -5.195700168609619, -5.1697001457214355, -4.15880012512207, -4.592899799346924, -4.754199981689453, -4.902599811553955, -5.245699882507324, -5.225900173187256, -5.324399948120117, -5.258299827575684, -5.191500186920166, -5.248899936676025, -5.123600006103516, -5.389500141143799, -7.172599792480469, -8.256500244140625, -5.50629997253418, -8.069899559020996, -7.841800212860107, -7.570400238037109, -7.758900165557861, -7.896999835968018, -8.609700202941895, -8.729399681091309, -8.310199737548828, -8.519399642944336, -9.031000137329102, -9.031800270080566, -8.927200317382812, -9.089699745178223, -8.288399696350098, -8.369000434875488, -9.036299705505371, -9.154199600219727, -9.03689956665039, -8.88290023803711, -8.984199523925781, -9.155900001525879, -5.034900188446045, -9.296199798583984, -9.163100242614746, -9.298500061035156, -9.165200233459473, -8.108200073242188, -7.8069000244140625, -7.081399917602539, -6.239299774169922, -7.728799819946289, -7.783999919891357, -7.232800006866455, -6.4893999099731445, -8.330100059509277, -6.917300224304199, -7.708700180053711, -7.397600173950195, -6.587600231170654, -7.485300064086914, -7.802199840545654, -5.956600189208984, -6.273799896240234, -6.160999774932861, -6.222499847412109, -7.11959981918335, -6.790200233459473, -7.104400157928467, -6.384799957275391, -6.690999984741211, -4.1519999504089355, -6.588099956512451, -5.023499965667725, -4.379799842834473, -5.845099925994873, -4.886600017547607, -4.270500183105469, -6.393400192260742, -4.177800178527832, -6.901800155639648, -3.8013999462127686, -6.505099773406982, -5.132299900054932, -4.197400093078613, -4.712200164794922, -4.663599967956543, -5.682000160217285, -4.437900066375732, -5.481400012969971, -5.2307000160217285, -6.059800148010254, -5.301000118255615, -5.8206000328063965, -5.706600189208984, -5.3445000648498535, -5.7256999015808105, -5.237800121307373, -5.385900020599365, -5.659800052642822, -5.693399906158447, -5.688899993896484, -5.685500144958496, -5.7322998046875, -5.794400215148926, -5.809299945831299, -6.865099906921387, -5.8993000984191895, -7.122200012207031, -5.580599784851074, -6.750500202178955, -6.783400058746338, -7.047800064086914, -7.4375, -7.652400016784668, -7.577899932861328, -5.331699848175049, -7.003699779510498, -7.313199996948242, -7.566299915313721, -7.927999973297119, -8.067399978637695, -7.880099773406982, -7.604899883270264, -8.162099838256836, -8.230299949645996, -8.10319995880127, -7.55649995803833, -7.794400215148926, -8.046299934387207, -6.45550012588501, -6.51609992980957, -8.021200180053711, -8.173600196838379, -8.428799629211426, -8.276000022888184, -6.39870023727417, -7.497399806976318, -7.191500186920166, -7.146500110626221, -6.474100112915039, -7.696700096130371, -6.458799839019775, -6.725100040435791, -7.343200206756592, -7.105999946594238, -7.336100101470947, -7.421299934387207, -7.2515997886657715, -6.923900127410889, -7.320400238037109, -6.838099956512451, -7.030700206756592, -3.606800079345703, -4.478000164031982, -5.837399959564209, -6.762199878692627, -6.123799800872803, -6.696300029754639, -6.355599880218506, -5.75570011138916, -5.198200225830078, -5.847700119018555, -6.029099941253662, -5.851399898529053, -4.960400104522705, -5.25029993057251, -5.881100177764893, -5.389900207519531, -5.480000019073486, -5.254700183868408, -5.329500198364258, -5.531400203704834, -5.428299903869629, -5.496699810028076, -5.611499786376953, -5.796199798583984, -5.449699878692627, -5.691800117492676, -5.350200176239014, -5.589900016784668, -5.67579984664917, -5.543399810791016, -5.48390007019043, -5.696100234985352, -5.74459981918335, -5.796599864959717, -5.769700050354004, -5.815499782562256, -5.833099842071533, -5.132299900054932, -5.37939977645874, -5.9984002113342285, -6.487199783325195, -7.480599880218506, -7.76609992980957, -7.548699855804443, -8.061300277709961, -8.096599578857422, -8.210000038146973, -8.10099983215332, -8.214400291442871, -8.295100212097168, -8.34119987487793, -7.508200168609619, -8.593899726867676, -8.59469985961914, -6.711900234222412, -7.822500228881836, -8.307600021362305, -8.653800010681152, -8.229700088500977, -8.657299995422363, -8.859800338745117, -8.792499542236328, -7.692599773406982, -8.419400215148926, -8.73639965057373, -8.873700141906738, -8.297100067138672, -7.411399841308594, -7.190800189971924, -8.34630012512207, -7.961299896240234, -7.620100021362305, -5.553800106048584, -7.89109992980957, -7.709099769592285, -6.939899921417236, -8.063400268554688, -7.323400020599365, -7.058599948883057, -6.863999843597412, -6.548900127410889, -6.501800060272217, -6.624499797821045, -5.517600059509277, -6.763000011444092, -6.319200038909912, -4.933300018310547, -6.517600059509277, -6.382299900054932, -6.3144001960754395, -5.8246002197265625, -5.746099948883057, -6.209499835968018, -5.970900058746338, -6.460999965667725, -5.000899791717529, -4.734899997711182, -5.058499813079834, -5.868500232696533, -5.870999813079834, -6.3078999519348145, -5.794000148773193, -6.093400001525879, -5.640900135040283, -6.189499855041504, -5.764900207519531, -5.75, -5.938899993896484, -5.9070000648498535, -6.002200126647949, -5.945400238037109, -6.11329984664917, -6.07889986038208, -5.9268999099731445, -5.950699806213379, -5.922800064086914, -5.963099956512451, -5.933000087738037, -6.0619001388549805, -5.996099948883057, -7.576700210571289, -7.928199768066406, -7.931700229644775, -8.088299751281738, -6.991099834442139, -7.907800197601318, -6.8694000244140625, -8.369799613952637, -8.480500221252441, -5.78000020980835, -7.678400039672852, -8.180899620056152, -7.925899982452393, -8.440400123596191, -6.171500205993652, -8.7677001953125, -8.28849983215332, -8.442899703979492, -8.852399826049805, -8.851900100708008, -7.811100006103516, -8.293299674987793, -8.506400108337402, -7.296199798583984, -8.857000350952148, -6.765100002288818, -6.929100036621094, -8.39780044555664, -8.01099967956543, -6.391300201416016, -6.989099979400635, -6.464000225067139, -7.787300109863281, -5.8333001136779785, -6.9552001953125, -4.313700199127197, -7.718299865722656, -5.051400184631348, -6.018499851226807, -6.866300106048584, -7.089799880981445, -5.44980001449585, -6.335000038146973, -6.690299987792969, -6.34250020980835, -6.9847002029418945, -6.808300018310547, -7.325900077819824, -5.021200180053711, -6.268599987030029, -6.039100170135498, -6.828800201416016, -6.6859002113342285, -6.186600208282471, -6.73829984664917, -5.2266998291015625, -5.669099807739258, -5.741099834442139, -5.259500026702881, -5.053800106048584, -4.795199871063232, -6.329599857330322, -5.130499839782715, -5.183199882507324, -5.663000106811523, -5.845900058746338, -5.794300079345703, -5.259099960327148, -5.672399997711182, -5.91379976272583, -5.810999870300293, -5.8206000328063965, -5.9085001945495605, -6.054900169372559, -5.85260009765625, -5.712800025939941, -5.986599922180176, -5.956200122833252, -5.972700119018555, -6.007199764251709, -7.040200233459473, -7.744999885559082, -7.7505998611450195, -7.718200206756592, -8.031499862670898, -8.080100059509277, -7.947299957275391, -6.782899856567383, -8.082799911499023, -8.183099746704102, -8.039400100708008, -8.190899848937988, -7.7657999992370605, -7.107999801635742, -8.243900299072266, -8.244400024414062, -8.366999626159668, -8.307900428771973, -8.252400398254395, -8.436400413513184, -7.745500087738037, -8.509499549865723, -8.212599754333496, -8.672599792480469, -8.673100471496582, -8.673500061035156, -8.674400329589844, -8.597399711608887, -8.679699897766113, -8.599200248718262, -7.256899833679199, -7.986100196838379, -7.73769998550415, -6.474899768829346, -7.08650016784668, -6.627099990844727, -7.556700229644775, -7.700699806213379, -7.243800163269043, -6.486199855804443, -7.690299987792969, -6.4207000732421875, -7.844200134277344, -6.2027997970581055, -7.035299777984619, -6.145400047302246, -5.511600017547607, -5.384900093078613, -6.730000019073486, -7.325300216674805, -6.933499813079834, -5.405099868774414, -6.696400165557861, -5.535299777984619, -6.762700080871582, -5.068399906158447, -5.70389986038208, -5.4319000244140625, -6.606100082397461, -6.302199840545654, -5.446700096130371, -5.539400100708008, -7.068600177764893, -5.474400043487549, -5.751200199127197, -6.23829984664917, -5.466400146484375, -5.383399963378906, -6.434000015258789, -5.97760009765625, -5.42609977722168, -5.5233001708984375, -5.797900199890137, -6.383500099182129, -6.033699989318848, -5.651899814605713, -5.542399883270264, -6.065400123596191, -5.764599800109863, -6.146900177001953, -5.9653000831604, -6.050600051879883, -6.080100059509277, -6.0756001472473145, -6.10230016708374, -6.159900188446045, -5.417399883270264, -4.404099941253662, -5.474899768829346, -5.832300186157227, -5.294099807739258, -5.421299934387207, -5.603000164031982, -5.54640007019043, -6.06220006942749, -5.729000091552734, -5.73799991607666, -5.965000152587891, -5.731500148773193, -6.041800022125244, -6.064899921417236, -5.591899871826172, -6.101099967956543, -6.103700160980225, -5.877900123596191, -6.4120001792907715, -6.153299808502197, -6.318699836730957, -6.554599761962891, -6.41480016708374, -6.43179988861084, -6.634699821472168, -6.595699787139893, -6.384300231933594, -6.520500183105469, -6.8394999504089355, -5.849100112915039, -6.187099933624268, -6.355500221252441, -6.215700149536133, -4.723599910736084, -5.236700057983398, -5.919600009918213, -5.5767998695373535, -5.014699935913086, -6.039599895477295, -5.6890997886657715, -5.0524001121521, -4.8958001136779785, -5.083799839019775, -5.185100078582764, -4.8993000984191895, -5.17110013961792, -4.9274001121521, -5.812600135803223, -5.384900093078613, -5.461999893188477, -5.524099826812744, -5.4644999504089355, -5.526500225067139, -5.52370023727417, -5.674799919128418, -5.689799785614014, -5.6971001625061035, -5.717899799346924, -6.935100078582764, -7.381199836730957, -8.222599983215332, -8.258600234985352, -8.616900444030762, -8.464699745178223, -8.464799880981445, -8.465200424194336, -8.465700149536133, -8.465700149536133, -8.465800285339355, -8.466099739074707, -8.46780014038086, -8.468199729919434, -8.468199729919434, -8.468600273132324, -8.468999862670898, -8.469599723815918, -8.471599578857422, -6.984300136566162, -8.89680004119873, -7.8225998878479, -6.655600070953369, -9.286700248718262, -9.286800384521484, -9.28689956665039, -9.28689956665039, -9.287699699401855, -9.287699699401855, -9.287799835205078, -7.951200008392334, -8.79740047454834, -7.616300106048584, -5.782299995422363, -7.084000110626221, -6.473800182342529, -8.272500038146973, -6.977799892425537, -6.524899959564209, -5.869100093841553, -6.287099838256836, -5.716100215911865, -6.461699962615967, -7.035200119018555, -6.540999889373779, -7.088600158691406, -5.714200019836426, -4.763599872589111, -6.036200046539307, -7.012199878692627, -2.8282999992370605, -6.683000087738037, -4.924300193786621, -6.132400035858154, -7.290200233459473, -6.490099906921387, -6.427499771118164, -5.710400104522705, -5.242800235748291, -5.15339994430542, -5.832600116729736, -5.735400199890137, -4.026700019836426, -4.406499862670898, -4.141300201416016, -5.220200061798096, -4.948400020599365, -5.095900058746338, -5.651800155639648, -4.990499973297119, -5.097799777984619, -5.57480001449585, -4.893400192260742, -4.8225998878479, -4.919300079345703, -5.172800064086914, -5.243199825286865, -5.609799861907959, -5.140999794006348, -5.162499904632568, -5.169099807739258, -5.504199981689453, -5.431399822235107, -5.6006999015808105, -5.673999786376953, -5.654300212860107, -5.658699989318848, -5.672999858856201, -7.302299976348877, -7.302700042724609, -6.685100078582764, -6.759200096130371, -7.704699993133545, -7.809500217437744, -7.815000057220459, -7.9253997802734375, -7.925899982452393, -7.926400184631348, -7.6407999992370605, -7.183000087738037, -7.932199954986572, -7.7357001304626465, -7.736000061035156, -7.736199855804443, -8.057900428771973, -7.955399990081787, -8.209199905395508, -8.20930004119873, -8.209400177001953, -8.209799766540527, -6.111599922180176, -7.277299880981445, -7.609899997711182, -8.387900352478027, -8.387700080871582, -8.387900352478027, -8.388299942016602, -8.388500213623047, -7.23769998550415, -6.830699920654297, -7.268199920654297, -6.771500110626221, -8.122699737548828, -4.646900177001953, -6.990799903869629, -6.485599994659424, -6.545100212097168, -7.484499931335449, -4.90339994430542, -4.251399993896484, -4.15910005569458, -5.048999786376953, -5.012599945068359, -6.974299907684326, -6.398200035095215, -7.01609992980957, -6.626200199127197, -6.182799816131592, -6.206299781799316, -5.3734002113342285, -4.372099876403809, -5.04010009765625, -5.916299819946289, -5.4028000831604, -3.706899881362915, -3.962100028991699, -5.822199821472168, -5.024799823760986, -5.26669979095459, -4.343599796295166, -4.875999927520752, -5.890600204467773, -4.174600124359131, -5.4079999923706055, -5.433499813079834, -4.844099998474121, -5.439300060272217, -4.579800128936768, -5.140900135040283, -5.022500038146973, -5.696400165557861, -5.508999824523926, -5.163000106811523, -5.325500011444092, -5.100399971008301, -5.410799980163574, -5.447299957275391, -5.490699768066406]}, \"token.table\": {\"Topic\": [2, 3, 5, 9, 10, 9, 2, 2, 2, 2, 7, 5, 1, 6, 7, 8, 1, 4, 1, 2, 6, 9, 10, 1, 4, 8, 1, 2, 3, 4, 5, 6, 7, 8, 9, 10, 1, 2, 3, 5, 6, 7, 9, 10, 1, 2, 3, 4, 5, 6, 7, 9, 1, 4, 5, 6, 7, 1, 4, 5, 6, 7, 9, 2, 5, 1, 2, 3, 4, 5, 6, 7, 8, 9, 10, 1, 4, 1, 4, 6, 3, 6, 9, 10, 6, 8, 3, 5, 2, 3, 1, 2, 4, 6, 1, 4, 7, 9, 6, 1, 4, 5, 6, 7, 8, 10, 1, 4, 7, 1, 5, 6, 7, 1, 5, 7, 1, 2, 3, 7, 9, 10, 1, 4, 1, 6, 7, 8, 1, 2, 3, 5, 6, 7, 9, 10, 1, 3, 7, 2, 3, 6, 4, 7, 2, 3, 1, 1, 9, 1, 7, 8, 9, 1, 2, 3, 4, 5, 6, 7, 8, 9, 10, 8, 10, 3, 1, 2, 3, 6, 9, 1, 2, 3, 4, 5, 6, 7, 8, 9, 10, 2, 3, 1, 2, 3, 4, 6, 7, 2, 4, 3, 5, 7, 2, 1, 4, 5, 6, 7, 8, 10, 3, 6, 5, 1, 6, 10, 1, 2, 3, 4, 5, 6, 7, 8, 9, 10, 5, 2, 3, 6, 9, 10, 1, 2, 3, 7, 9, 10, 1, 2, 3, 4, 5, 6, 7, 1, 3, 6, 7, 9, 1, 5, 1, 2, 3, 4, 5, 6, 7, 8, 1, 1, 2, 3, 5, 6, 7, 9, 10, 1, 2, 3, 4, 5, 6, 7, 8, 10, 2, 3, 10, 5, 1, 2, 4, 5, 6, 7, 8, 8, 7, 1, 3, 4, 6, 7, 2, 3, 4, 7, 9, 10, 1, 2, 3, 4, 5, 6, 7, 9, 10, 5, 7, 1, 6, 7, 8, 8, 1, 2, 3, 4, 8, 3, 7, 1, 2, 3, 4, 5, 6, 7, 8, 9, 10, 2, 1, 2, 3, 4, 5, 6, 7, 9, 1, 4, 5, 8, 1, 4, 3, 7, 1, 6, 8, 8, 3, 4, 2, 10, 1, 2, 3, 6, 8, 9, 10, 2, 4, 7, 7, 1, 4, 5, 1, 6, 1, 2, 3, 4, 5, 6, 7, 8, 9, 10, 2, 3, 5, 6, 7, 4, 1, 6, 2, 3, 1, 2, 3, 5, 6, 7, 9, 10, 1, 2, 3, 4, 5, 6, 7, 8, 9, 10, 5, 1, 2, 9, 7, 1, 4, 5, 7, 7, 1, 2, 3, 4, 5, 6, 7, 8, 9, 10, 1, 2, 3, 5, 6, 8, 9, 10, 1, 2, 3, 6, 7, 9, 10, 10, 2, 9, 9, 1, 2, 3, 4, 5, 6, 7, 8, 9, 10, 1, 7, 10, 1, 5, 1, 3, 5, 6, 8, 1, 2, 3, 4, 5, 6, 7, 8, 10, 7, 2, 9, 10, 2, 1, 2, 3, 4, 5, 6, 7, 9, 1, 2, 3, 9, 1, 2, 3, 4, 5, 6, 7, 8, 9, 10, 1, 4, 6, 8, 1, 2, 3, 4, 5, 6, 7, 1, 2, 3, 4, 5, 6, 7, 8, 9, 10, 1, 2, 3, 4, 5, 6, 7, 3, 2, 9, 1, 6, 1, 2, 3, 5, 6, 7, 3, 8, 2, 3, 9, 10, 1, 2, 3, 4, 5, 6, 7, 8, 9, 10, 1, 6, 8, 1, 4, 5, 6, 1, 7, 1, 4, 5, 1, 2, 3, 4, 5, 6, 7, 8, 9, 10, 4, 2, 3, 1, 8, 1, 2, 3, 5, 6, 7, 9, 10, 7, 9, 2, 10, 1, 2, 9, 1, 6, 1, 6, 1, 6, 9, 1, 4, 1, 2, 3, 4, 5, 6, 7, 8, 9, 10, 7, 3, 2, 10, 2, 3, 4, 9, 1, 3, 3, 10, 1, 4, 9, 10, 8, 8, 1, 5, 2, 3, 5, 6, 7, 1, 2, 3, 4, 5, 6, 7, 9, 10, 1, 2, 3, 4, 5, 6, 7, 8, 9, 10, 1, 2, 3, 4, 5, 6, 7, 8, 9, 10, 8, 2, 10, 5, 1, 2, 3, 4, 5, 6, 7, 8, 9, 10, 1, 1, 2, 3, 4, 5, 6, 7, 8, 5, 7, 1, 2, 3, 4, 5, 6, 8, 9, 10, 1, 2, 3, 4, 5, 6, 7, 8, 9, 10, 8, 1, 6, 1, 4, 5, 6, 7, 1, 3, 1, 2, 3, 4, 5, 6, 7, 8, 9, 10, 1, 2, 3, 4, 5, 6, 7, 8, 1, 2, 3, 4, 5, 6, 7, 8, 10, 1, 2, 3, 4, 5, 6, 7, 8, 9, 10, 1, 3, 4, 1, 2, 3, 4, 5, 6, 7, 9, 10, 1, 4, 6, 1, 6, 1, 2, 3, 4, 5, 6, 7, 1, 5, 7, 2, 3, 6, 1, 4, 7, 8, 1, 6, 1, 4, 1, 2, 3, 4, 5, 6, 7, 8, 9, 1, 2, 3, 4, 5, 6, 7, 8, 9, 10, 2, 3, 2, 9, 2, 1, 4, 8, 1, 2, 3, 4, 5, 6, 7, 8, 9, 10, 1, 2, 3, 4, 5, 6, 7, 8, 9, 10, 1, 2, 3, 4, 5, 6, 7, 8, 9, 10, 3, 2, 3, 9, 1, 2, 3, 4, 5, 6, 7, 8, 9, 10, 1, 2, 3, 4, 5, 6, 7, 8, 9, 10, 6, 2, 3, 1, 2, 3, 4, 5, 6, 7, 8, 1, 2, 3, 4, 5, 6, 7, 8, 9, 10, 1, 2, 3, 4, 5, 6, 7, 9, 10, 1, 4, 4, 7, 4, 5, 1, 4, 6, 4, 4, 4, 1, 2, 3, 6, 7, 8, 3, 5, 1, 3, 4, 7, 8, 1, 6, 1, 2, 3, 4, 5, 6, 7, 8, 9, 10, 2, 2, 9, 10, 10, 4, 1, 6, 1, 6, 1, 6, 1, 6, 5, 1, 1, 2, 3, 4, 5, 6, 7, 8, 9, 10, 1, 2, 3, 4, 5, 6, 7, 8, 9, 10, 3, 8, 1, 2, 3, 4, 5, 6, 7, 8, 9, 10, 1, 2, 3, 4, 5, 6, 7, 9, 10, 8, 1, 2, 3, 4, 5, 6, 7, 8, 9, 10, 8, 1, 2, 3, 4, 5, 6, 7, 9, 10, 2, 9, 8, 1, 2, 3, 4, 5, 6, 7, 8, 9, 9, 1, 2, 3, 4, 6, 8, 1, 2, 3, 1, 5, 10, 1, 2, 3, 4, 5, 6, 7, 8, 9, 10, 6, 6, 2, 3, 7, 8, 1, 2, 3, 4, 5, 6, 7, 8, 9, 10, 1, 4, 5, 6, 7, 1, 3, 4, 5, 6, 7, 9, 1, 2, 3, 4, 5, 6, 7, 8, 9, 10, 6, 5, 1, 7, 3, 6, 8, 3, 4, 5, 6, 10, 2, 3, 5, 6, 7, 8, 9, 10, 9, 1, 2, 3, 6, 7, 8, 9, 4, 6, 2, 3, 6, 9, 10, 1, 6, 5, 2, 2, 2, 1, 4, 1, 2, 2, 3, 4, 5, 7, 10, 2, 10, 2, 3, 5, 6, 9, 1, 2, 3, 5, 6, 7, 10, 2, 2, 1, 4, 5, 6, 1, 2, 6, 2, 7, 2, 3, 5, 6, 2, 3, 4, 9, 2, 10, 2, 1, 4, 5, 7, 10, 9, 2, 3, 9, 10, 3, 10, 5, 2, 10, 1, 2, 3, 4, 5, 6, 7, 8, 9, 10, 1, 6, 10, 1, 2, 3, 4, 5, 6, 7, 8, 9, 10, 2, 3, 10, 2, 1, 3, 4, 5, 6, 7, 8, 8, 6, 1, 2, 3, 4, 5, 6, 7, 8, 9, 10, 1, 2, 3, 5, 6, 7, 9, 10, 1, 2, 3, 4, 5, 6, 7, 8, 10, 1, 2, 3, 4, 5, 6, 7, 8, 9, 10, 1, 4, 7, 1, 4, 5, 7, 8, 1, 6, 1, 3, 4, 5, 6, 2, 9, 1, 2, 3, 4, 5, 6, 7, 8, 9, 10, 2, 9, 10, 7, 1, 2, 3, 4, 5, 6, 7, 8, 9, 1, 2, 3, 4, 5, 6, 7, 8, 9, 10, 4, 1, 2, 3, 4, 5, 6, 7, 8, 9, 10, 7, 1, 2, 3, 4, 5, 6, 7, 8, 9, 1, 2, 3, 4, 5, 6, 7, 8, 9, 10, 1, 2, 3, 4, 5, 6, 7, 8, 9, 10, 8, 1, 2, 3, 4, 5, 6, 8, 9, 10, 2, 7, 10, 1, 2, 3, 4, 5, 6, 7, 8, 9, 10, 8, 1, 4, 6, 8, 1, 2, 3, 4, 5, 6, 7, 9, 4, 2, 3, 1, 5, 6, 8, 8, 3, 1, 5, 1, 2, 3, 4, 5, 6, 7, 8, 9, 10, 1, 5, 1, 2, 3, 4, 5, 6, 7, 8, 9, 10, 1, 2, 3, 4, 5, 6, 7, 8, 9, 10, 2, 9, 7, 1, 3, 4, 6, 7, 6, 1, 2, 3, 4, 5, 6, 7, 8, 9, 10, 1, 4, 1, 4, 1, 3, 6, 1, 4, 1, 2, 3, 4, 5, 6, 7, 8, 9, 10, 1, 2, 3, 4, 5, 6, 7, 8, 1, 2, 3, 4, 6, 7, 9, 1, 2, 3, 4, 5, 6, 7, 8, 9, 10, 1, 2, 3, 4, 5, 6, 7, 8, 9, 10, 10, 9, 1, 2, 3, 4, 5, 6, 7, 8, 9, 10, 5, 1, 2, 4, 5, 6, 7, 8, 2, 3, 1, 6, 1, 3, 10, 1, 2, 3, 5, 6, 9, 10, 1, 4, 5, 6, 7, 8, 1, 4, 5, 6, 7, 8, 1, 2, 3, 4, 5, 6, 7, 8, 9, 10, 5, 1, 1, 2, 3, 4, 5, 6, 7, 8, 9, 10, 7, 2, 3, 6, 7, 9, 1, 6, 10, 2, 10, 8, 1, 2, 3, 4, 5, 6, 7, 8, 9, 10, 1, 2, 3, 4, 5, 6, 7, 8, 9, 10, 1, 2, 3, 4, 5, 6, 7, 8, 10, 2, 3, 5, 6, 9, 10, 4, 2, 9, 10, 9, 1, 2, 3, 4, 5, 6, 7, 8, 9, 10, 1, 2, 3, 4, 5, 6, 7, 8, 9, 10, 1, 2, 3, 4, 5, 6, 7, 8, 10, 1, 2, 3, 4, 5, 6, 7, 8, 9, 10, 1, 2, 3, 4, 5, 6, 7, 8, 9, 10, 7, 5, 8, 10, 8, 9, 10, 1, 4, 5, 7, 1, 1, 3, 4, 5, 6, 7, 10, 6, 3, 1, 2, 3, 4, 5, 6, 7, 9, 10, 1, 2, 3, 4, 5, 6, 7, 7, 9, 2, 6, 1, 7, 7, 1, 2, 3, 4, 5, 6, 7, 8, 9, 10, 1, 6, 1, 6, 1, 2, 3, 4, 5, 6, 2, 3, 9, 10, 2, 1, 4, 7, 1, 6, 1, 2, 3, 4, 5, 8, 9, 10, 9, 1, 7, 1, 4, 5, 1, 5, 6, 7, 1, 2, 3, 4, 5, 7, 8, 9, 10, 1, 2, 3, 4, 1, 2, 3, 4, 5, 6, 7, 8, 9, 10, 7, 2, 3, 6, 9, 1, 4, 5, 6, 7, 1, 2, 4, 7, 8, 9, 10, 1, 2, 3, 4, 5, 6, 7, 8, 9, 10, 5, 1, 6, 1, 2, 3, 4, 5, 6, 7, 8, 10, 6, 1, 2, 4, 6, 9, 10, 6, 1, 2, 3, 4, 5, 6, 8, 1, 5, 2, 10, 1, 2, 3, 9, 1, 2, 3, 5, 10, 1, 6, 2, 3, 5, 6, 7, 9, 2, 3, 9, 1, 2, 3, 5, 6, 7, 8, 10, 1, 1, 4, 1, 2, 3, 4, 5, 6, 7, 8, 9, 10, 10, 1, 6, 1, 2, 3, 5, 8, 9, 10, 1, 2, 3, 4, 5, 6, 7, 8, 9, 10, 1, 2, 3, 4, 5, 1, 2, 3, 6, 9, 10, 2, 3, 6, 7, 2, 3, 1, 5, 6, 10, 1, 2, 3, 9, 10, 2, 3, 6, 8, 1, 2, 3, 4, 5, 6, 7, 8, 9, 10, 1, 2, 3, 4, 5, 6, 7, 8, 9, 10, 9, 9, 9, 9, 1, 2, 3, 4, 5, 6, 7, 8, 9, 10, 1, 4, 1, 2, 3, 4, 5, 6, 7, 8, 9, 10, 1, 2, 3, 4, 5, 6, 2, 3, 8, 1, 2, 3, 4, 5, 6, 7, 8, 9, 10, 2, 3, 4, 5, 6, 7, 8, 9, 10, 2, 10, 2, 9, 9, 10, 1, 2, 3, 4, 5, 6, 7, 8, 6, 2, 10, 1, 5, 6, 7, 8, 1, 2, 3, 4, 5, 6, 7, 8, 9, 10, 1, 2, 3, 4, 5, 6, 7, 9, 10, 1, 2, 3, 4, 5, 6, 7, 8, 10, 1, 2, 3, 4, 5, 6, 7, 8, 1, 2, 3, 5, 6, 7, 8, 9, 10, 2, 3, 6, 8, 10, 1, 2, 3, 6, 1, 2, 3, 4, 5, 6, 9, 1, 2, 6, 7, 9, 10, 2, 3, 9, 1, 2, 3, 6, 8, 4, 4, 1, 2, 3, 4, 5, 6, 7, 8, 9, 10, 1, 2, 3, 4, 5, 6, 7, 8, 1, 2, 3, 5, 6, 7, 8, 1, 2, 3, 4, 5, 6, 7, 9, 10, 1, 2, 3, 4, 5, 6, 7, 8, 10, 1, 2, 3, 4, 5, 6, 7, 9, 10, 8, 2, 3, 10, 1, 6, 1, 2, 3, 4, 5, 6, 7, 8, 9, 10, 5, 1, 3, 4, 5, 6, 7, 8, 1, 6, 1, 4, 5, 6, 7, 3, 1, 6, 1, 2, 3, 4, 5, 6, 7, 8, 9, 10, 1, 2, 3, 4, 5, 6, 7, 8, 9, 10, 1, 6, 1, 2, 7, 8, 9, 1, 2, 3, 4, 5, 6, 7, 8, 9, 1, 4, 6, 7, 1, 4, 4, 1, 2, 3, 4, 5, 6, 7, 8, 9, 10, 9, 1, 4, 5, 2, 2, 3, 6, 9, 10, 10, 1, 2, 3, 4, 5, 6, 7, 8, 9, 10, 4, 1, 6, 5, 7, 3, 4, 5, 7, 8, 1, 2, 3, 4, 5, 6, 7, 8, 9, 10, 7, 1, 2, 3, 4, 5, 6, 7, 8, 9, 10, 2, 3, 6, 7, 9, 10, 1, 4, 1, 2, 3, 4, 5, 6, 7, 8, 9, 10, 1, 2, 3, 4, 5, 6, 7, 8, 9, 10, 1, 2, 3, 4, 5, 6, 7, 8, 9, 10, 8, 1, 2, 3, 4, 5, 6, 7, 8, 9, 10, 1, 2, 3, 4, 5, 6, 7, 8, 9, 10, 1, 2, 3, 4, 5, 6, 7, 8, 9, 10, 1, 2, 3, 4, 5, 6, 7, 8, 9, 10, 1, 2, 3, 4, 5, 6, 7, 8, 9, 10, 1, 2, 3, 4, 5, 6, 7, 8, 9, 10, 1, 2, 3, 4, 5, 6, 7, 8, 9, 10, 9, 1, 2, 3, 4, 5, 6, 7, 8, 9, 10, 3, 1, 4, 6, 7, 8, 10, 3, 5, 7, 1, 4, 1, 5, 2, 7, 10, 1, 2, 3, 4, 5, 6, 7, 8, 9, 10, 3, 2, 3, 5, 7, 9, 10, 2, 9, 10, 1, 2, 3, 4, 5, 6, 7, 8, 9, 10, 1, 2, 3, 4, 5, 6, 7, 8, 9, 10, 1, 1, 2, 3, 5, 6, 7, 9, 10, 1, 2, 3, 4, 5, 6, 7, 8, 9, 10, 1, 2, 3, 5, 6, 10, 1, 3, 5, 6, 7, 8, 8, 8, 8, 1, 4, 6, 7, 1, 2, 3, 4, 5, 6, 7, 8, 9, 10, 1, 2, 3, 4, 5, 6, 7, 8, 9, 10, 1, 2, 3, 5, 6, 7, 1, 2, 3, 4, 5, 6, 7, 8, 9, 10, 1, 2, 3, 4, 5, 6, 7, 8, 9, 10, 1, 2, 3, 4, 5, 6, 7, 8, 9, 10, 1, 1, 2, 5, 6, 7, 1, 6, 1, 3, 6, 9, 1, 6, 1, 2, 5, 6, 1, 6, 7, 1, 2, 3, 4, 8, 10, 1, 2, 3, 4, 5, 6, 7, 8, 9, 10, 1, 2, 3, 4, 5, 6, 7, 8, 9, 10, 5, 1, 1, 2, 3, 4, 5, 6, 7, 9, 10, 1, 2, 3, 4, 5, 6, 7, 8, 9, 10, 5, 1, 6, 1, 4, 5, 6, 7, 9, 1, 2, 3, 4, 5, 6, 7, 9, 10, 3, 1, 2, 3, 4, 5, 6, 7, 10, 1, 2, 3, 4, 5, 6, 7, 8, 1, 2, 3, 4, 5, 6, 7, 8, 9, 10, 1, 2, 3, 4, 5, 6, 7, 8, 9, 10, 1, 2, 3, 5, 6, 7, 8, 9, 10, 7, 1, 2, 3, 4, 5, 6, 7, 8, 9, 10, 6, 2, 9, 9], \"Freq\": [0.2264329195022583, 0.026253091171383858, 0.003281636396422982, 0.15423691272735596, 0.58741295337677, 0.7813760638237, 0.9812542200088501, 0.9783325791358948, 0.9762939810752869, 0.9858304262161255, 0.9692524671554565, 0.9561578035354614, 0.028466511517763138, 0.9109283685684204, 0.028466511517763138, 0.9728431701660156, 0.9788001179695129, 0.008818019181489944, 0.024764930829405785, 0.1485895961523056, 0.823846697807312, 0.7812402844429016, 0.782464861869812, 0.0074501195922493935, 0.9883825182914734, 0.002483373275026679, 0.05062654986977577, 0.3900119364261627, 0.39657464623451233, 0.015937987715005875, 0.05109531432390213, 0.030938446521759033, 0.02671956829726696, 0.0004687643377110362, 0.01687551662325859, 0.020625630393624306, 0.013670649379491806, 0.48667511343955994, 0.06835325062274933, 0.016404779627919197, 0.010936519131064415, 0.0027341297827661037, 0.06288498640060425, 0.3390321135520935, 0.6553481817245483, 0.010304216295480728, 0.05461234599351883, 0.13704608380794525, 0.06285572052001953, 0.035034336149692535, 0.042247287929058075, 0.001030421699397266, 0.08936809003353119, 0.009929788298904896, 0.029789363965392113, 0.03971915319561958, 0.8241723775863647, 0.054918091744184494, 0.010983617976307869, 0.19770513474941254, 0.13180342316627502, 0.6040990352630615, 0.7808170914649963, 0.9758007526397705, 0.011216100305318832, 0.1329885870218277, 0.35241973400115967, 0.24972300231456757, 0.014776509255170822, 0.044329527765512466, 0.09456966072320938, 0.028075367212295532, 0.0014776509488001466, 0.056150734424591064, 0.0243812408298254, 0.02222936786711216, 0.955862820148468, 0.918803334236145, 0.07243677973747253, 0.007624923717230558, 0.14851756393909454, 0.07425878196954727, 0.1113881766796112, 0.6311996579170227, 0.014567732810974121, 0.9760381579399109, 0.9390344023704529, 0.028455587103962898, 0.01580039970576763, 0.9638243913650513, 0.03245231881737709, 0.010817439295351505, 0.9519346356391907, 0.005408719647675753, 0.07681666314601898, 0.2688583433628082, 0.11522500216960907, 0.49930834770202637, 0.91546231508255, 0.26186028122901917, 0.11025696247816086, 0.11944504827260971, 0.11025696247816086, 0.3904934227466583, 0.004594040103256702, 0.966396152973175, 0.017435746267437935, 0.964777946472168, 0.011623830534517765, 0.027799783274531364, 0.8895930647850037, 0.027799783274531364, 0.05559956654906273, 0.04003435745835304, 0.9207902550697327, 0.04003435745835304, 0.09021975100040436, 0.06444267928600311, 0.025777071714401245, 0.012888535857200623, 0.4510987401008606, 0.3479904532432556, 0.010197553783655167, 0.978965163230896, 0.19090336561203003, 0.7435183525085449, 0.045213956385850906, 0.015071318484842777, 0.0034761878196150064, 0.9455230832099915, 0.031285692006349564, 0.0034761878196150064, 0.0034761878196150064, 0.0034761878196150064, 0.0034761878196150064, 0.0034761878196150064, 0.03437252342700958, 0.10311757028102875, 0.8593130707740784, 0.07341118156909943, 0.8662520051002502, 0.05872894823551178, 0.9879105687141418, 0.9348456263542175, 0.03323396295309067, 0.96378493309021, 0.9845027327537537, 0.9827187061309814, 0.00712114991620183, 0.03569310903549194, 0.28554487228393555, 0.10707932710647583, 0.5710897445678711, 0.20849475264549255, 0.18286015093326569, 0.12133711576461792, 0.039306387305259705, 0.31786906719207764, 0.032470494508743286, 0.0375974141061306, 0.0017089734319597483, 0.03417946770787239, 0.025634601712226868, 0.9853202700614929, 0.8411304950714111, 0.9365360736846924, 0.004535413347184658, 0.9660430550575256, 0.009070826694369316, 0.013606240972876549, 0.004535413347184658, 0.005652634426951408, 0.6846753358840942, 0.208440899848938, 0.000706579303368926, 0.008478951640427113, 0.009185531176626682, 0.04027502238750458, 0.004239475820213556, 0.03179606795310974, 0.00777237256988883, 0.02164136804640293, 0.973861575126648, 0.12410242110490799, 0.02612682618200779, 0.77074134349823, 0.03919023647904396, 0.013063413091003895, 0.02612682618200779, 0.03448836877942085, 0.9541782140731812, 0.038432732224464417, 0.8647364974021912, 0.07686546444892883, 0.9823603630065918, 0.05265471711754799, 0.3334798812866211, 0.5397108197212219, 0.05265471711754799, 0.013163679279386997, 0.004387893248349428, 0.8411451578140259, 0.060506757348775864, 0.9197027087211609, 0.9712160229682922, 0.05866225063800812, 0.9385960102081299, 0.8850992918014526, 0.16652002930641174, 0.010812989436089993, 0.02378857508301735, 0.17084522545337677, 0.36331644654273987, 0.17300783097743988, 0.07785352319478989, 0.0043251956813037395, 0.0043251956813037395, 0.0021625978406518698, 0.9769061207771301, 0.16098250448703766, 0.03577388823032379, 0.03577388823032379, 0.5187214016914368, 0.23253028094768524, 0.05017006769776344, 0.15051020681858063, 0.05017006769776344, 0.05017006769776344, 0.02508503384888172, 0.6772959232330322, 0.07912362366914749, 0.002472613239660859, 0.012363065965473652, 0.02225351892411709, 0.017308292910456657, 0.8283254504203796, 0.034616585820913315, 0.07404664158821106, 0.006170553620904684, 0.8515363931655884, 0.061705537140369415, 0.7690893411636353, 0.018825292587280273, 0.960089921951294, 0.10509268939495087, 0.0017812319565564394, 0.0017812319565564394, 0.5486194491386414, 0.1514047235250473, 0.10687392204999924, 0.04987449571490288, 0.03384340927004814, 0.9937823414802551, 0.019945578649640083, 0.25929251313209534, 0.07978231459856033, 0.049863945692777634, 0.0897551029920578, 0.03989115729928017, 0.2991836667060852, 0.15956462919712067, 0.06003928184509277, 0.020013093948364258, 0.06003928184509277, 0.020013093948364258, 0.1701112985610962, 0.040026187896728516, 0.5303469896316528, 0.010006546974182129, 0.09005892276763916, 0.04019434005022049, 0.12058302760124207, 0.8038868308067322, 0.9369509220123291, 0.13720709085464478, 0.00807100534439087, 0.07263904809951782, 0.7223550081253052, 0.010088756680488586, 0.0464082807302475, 0.9925292730331421, 0.9929102659225464, 0.9552318453788757, 0.1062861979007721, 0.014171493239700794, 0.8006893992424011, 0.05668597295880318, 0.014171493239700794, 0.27861499786376953, 0.009950535371899605, 0.03980214148759842, 0.01990107074379921, 0.26866447925567627, 0.3781203627586365, 0.010812872089445591, 0.5352371335029602, 0.03243861719965935, 0.043251488357782364, 0.010812872089445591, 0.016219308599829674, 0.010812872089445591, 0.10542549937963486, 0.23247674107551575, 0.9905208945274353, 0.00430661253631115, 0.08920211344957352, 0.8523757457733154, 0.04955672845244408, 0.00991134624928236, 0.9823713302612305, 0.018839431926608086, 0.004709857981652021, 0.14129574596881866, 0.023549290373921394, 0.8148054480552673, 0.9427298307418823, 0.918851912021637, 0.12730036675930023, 0.553493320941925, 0.07216784358024597, 0.1403091549873352, 0.056990914046764374, 0.02756625786423683, 0.005884931422770023, 0.0055751982145011425, 0.0018583994824439287, 0.008982263505458832, 0.9697514176368713, 0.4927998185157776, 0.1231999546289444, 0.026572540402412415, 0.0012078427243977785, 0.0012078427243977785, 0.32490968704223633, 0.016909798607230186, 0.014494112692773342, 0.06422146409749985, 0.02568858489394188, 0.8991004824638367, 0.01284429244697094, 0.03280598297715187, 0.9677764177322388, 0.9361960291862488, 0.9482676982879639, 0.04746119678020477, 0.9492239356040955, 0.9884255528450012, 0.9928843975067139, 0.9462193250656128, 0.9692503213882446, 0.09074091166257858, 0.8166682124137878, 0.04409633204340935, 0.2939755618572235, 0.0881926640868187, 0.07349389046430588, 0.014698777347803116, 0.42626455426216125, 0.04409633204340935, 0.018447469919919968, 0.018447469919919968, 0.9408209323883057, 0.9615514874458313, 0.9871570467948914, 0.0061314101330935955, 0.9634802341461182, 0.033239174634218216, 0.9306968450546265, 0.08448169380426407, 0.565413773059845, 0.08400972932577133, 0.05899559706449509, 0.0033037534449249506, 0.004247682634741068, 0.031149674206972122, 0.003775718156248331, 0.05427594855427742, 0.11091171950101852, 0.0016703145811334252, 0.9721230864524841, 0.011692201718688011, 0.0016703145811334252, 0.01002188678830862, 0.9650509357452393, 0.9924450516700745, 0.0043913498520851135, 0.02696821466088295, 0.9438875317573547, 0.0020016066264361143, 0.824661910533905, 0.008006426505744457, 0.004003213252872229, 0.004003213252872229, 0.13210603594779968, 0.024019280448555946, 0.0020016066264361143, 0.008847084827721119, 0.6851575970649719, 0.13958734273910522, 0.0334223210811615, 0.009830093942582607, 0.008847084827721119, 0.09830094128847122, 0.0029490282759070396, 0.011796113103628159, 0.0009830094641074538, 0.9333551526069641, 0.09764537215232849, 0.19529074430465698, 0.6835176348686218, 0.9648528099060059, 0.891643226146698, 0.10237384587526321, 0.003302382305264473, 0.9476190805435181, 0.9188836216926575, 0.1460074782371521, 0.3417256772518158, 0.1942978799343109, 0.11731728911399841, 0.040336694568395615, 0.037780143320560455, 0.04573385789990425, 0.05709630995988846, 0.013350877910852432, 0.006533408537507057, 0.024021334946155548, 0.6420247554779053, 0.11355540156364441, 0.002183757722377777, 0.048042669892311096, 0.002183757722377777, 0.028388850390911102, 0.13757672905921936, 0.002967201406136155, 0.4183753728866577, 0.050442423671483994, 0.02373761124908924, 0.002967201406136155, 0.14539286494255066, 0.35606417059898376, 0.9464160799980164, 0.33711230754852295, 0.6068021655082703, 0.8745428919792175, 0.6644136905670166, 0.029128175228834152, 0.019515877589583397, 0.16137009859085083, 0.07223787903785706, 0.028254330158233643, 0.008738452568650246, 0.014855369925498962, 0.0005825635162182152, 0.0011651270324364305, 0.10642045736312866, 0.8779687881469727, 0.8587339520454407, 0.0418478325009346, 0.9206522703170776, 0.04251169413328171, 0.05465789511799812, 0.05465789511799812, 0.8320146203041077, 0.006073099561035633, 0.279226154088974, 0.10874154418706894, 0.0709584653377533, 0.30779385566711426, 0.11058462411165237, 0.11795692890882492, 0.0009215385071001947, 0.0018430770142003894, 0.0009215385071001947, 0.9197516441345215, 0.5277605652809143, 0.32397183775901794, 0.14630985260009766, 0.980042576789856, 0.1395787000656128, 0.02990972250699997, 0.06480439752340317, 0.12960879504680634, 0.36140915751457214, 0.13459375500679016, 0.11963889002799988, 0.0174473375082016, 0.9955907464027405, 0.9841303825378418, 0.013134247623383999, 0.0009381605195812881, 0.17053046822547913, 0.35480332374572754, 0.15210318565368652, 0.10556647926568985, 0.027797089889645576, 0.040290165692567825, 0.08276661485433578, 0.022799860686063766, 0.025610802695155144, 0.018114957958459854, 0.22282563149929047, 0.6796181797981262, 0.04456512629985809, 0.04456512629985809, 0.6936488151550293, 0.0014302037889137864, 0.012871834449470043, 0.17591506242752075, 0.038615502417087555, 0.00715101882815361, 0.0686497837305069, 0.05962638929486275, 0.13285177946090698, 0.3221917152404785, 0.027198001742362976, 0.05962638929486275, 0.08264008164405823, 0.2186300903558731, 0.07217931002378464, 0.019875463098287582, 0.004184307996183634, 0.05398412421345711, 0.0044986773282289505, 0.0044986773282289505, 0.0044986773282289505, 0.0044986773282289505, 0.8547486662864685, 0.07647751271724701, 0.9479706883430481, 0.23104362189769745, 0.6931308507919312, 0.10867860168218613, 0.8802966475486755, 0.025731289759278297, 0.032164111733436584, 0.07719387114048004, 0.3666708767414093, 0.012865644879639149, 0.48246169090270996, 0.010795394890010357, 0.9823809862136841, 0.0938568189740181, 0.8342828750610352, 0.010428535751998425, 0.0521426796913147, 0.2618752121925354, 0.11379918456077576, 0.041132234036922455, 0.34825292229652405, 0.08500661700963974, 0.038390085101127625, 0.020566117018461227, 0.0027421489357948303, 0.041132234036922455, 0.046616531908512115, 0.04747631773352623, 0.9495263695716858, 0.9721043705940247, 0.16895566880702972, 0.6275496482849121, 0.18343758583068848, 0.01930922083556652, 0.03565497323870659, 0.9626842141151428, 0.02558295615017414, 0.07674887031316757, 0.8954034447669983, 0.015737224370241165, 0.2808489203453064, 0.3613508939743042, 0.010289723984897137, 0.12408196181058884, 0.019368890672922134, 0.16584613919258118, 0.009079167619347572, 0.005447500851005316, 0.007868612185120583, 0.9655243158340454, 0.970847487449646, 0.023971542716026306, 0.9898086786270142, 0.0038816025480628014, 0.0016641048714518547, 0.8653345704078674, 0.03661030903458595, 0.0033282097429037094, 0.0033282097429037094, 0.009984629228711128, 0.04992314800620079, 0.028289783746004105, 0.9391732811927795, 0.841869056224823, 0.13073362410068512, 0.8497685790061951, 0.9972124695777893, 0.9744002223014832, 0.7812088131904602, 0.9856575131416321, 0.011033479124307632, 0.9952454566955566, 0.0027645707596093416, 0.9957121014595032, 0.00246158754453063, 0.7814072966575623, 0.988396167755127, 0.008746868930757046, 0.10437215119600296, 0.15100650489330292, 0.17321334779262543, 0.01998615637421608, 0.013324104249477386, 0.006662052124738693, 0.033310260623693466, 0.4774470627307892, 0.0177654717117548, 0.00222068396396935, 0.9486896991729736, 0.9426657557487488, 0.4671982526779175, 0.5309070944786072, 0.9263293147087097, 0.017477912828326225, 0.011651941575109959, 0.04078179597854614, 0.026302233338356018, 0.9468804001808167, 0.9632560610771179, 0.017201000824570656, 0.3621261715888977, 0.030177179723978043, 0.5130120515823364, 0.09053154289722443, 0.9685494303703308, 0.9746452569961548, 0.007007901091128588, 0.988114058971405, 0.017056915909051895, 0.20468300580978394, 0.6822766661643982, 0.051170751452445984, 0.051170751452445984, 0.21596866846084595, 0.32416266202926636, 0.1731942892074585, 0.05158086493611336, 0.10148430615663528, 0.045709870755672455, 0.020129118114709854, 0.04151630774140358, 0.026000110432505608, 0.3852236270904541, 0.09864721447229385, 0.19167529046535492, 0.08678457140922546, 0.05057230591773987, 0.07367323338985443, 0.09365241974592209, 0.0006243494572117925, 0.008740892633795738, 0.01061394065618515, 0.4070751965045929, 0.23990297317504883, 0.15559318661689758, 0.030756792053580284, 0.025690967217087746, 0.04197397455573082, 0.05355300381779671, 0.00036184460623189807, 0.01953960955142975, 0.025690967217087746, 0.9878019094467163, 0.04242175817489624, 0.9332786798477173, 0.9402756690979004, 0.13350063562393188, 0.20105516910552979, 0.10454868525266647, 0.11741621792316437, 0.23804931342601776, 0.05307856574654579, 0.10374446958303452, 0.02171395719051361, 0.01608441397547722, 0.010454868897795677, 0.9922659397125244, 0.06349662691354752, 0.0025398649740964174, 0.7213216423988342, 0.01015945989638567, 0.045717570930719376, 0.03301824629306793, 0.09143514186143875, 0.030478380620479584, 0.03443671017885208, 0.9297911524772644, 0.10057113319635391, 0.2162279337644577, 0.09554257243871689, 0.11565680056810379, 0.14582814276218414, 0.015085669234395027, 0.030171338468790054, 0.03519989550113678, 0.2514278292655945, 0.2501244843006134, 0.35821399092674255, 0.14560817182064056, 0.16168761253356934, 0.026352399960160255, 0.010272969491779804, 0.012952874414622784, 0.021885892376303673, 0.011612921953201294, 0.0013399525778368115, 0.9795756340026855, 0.035615548491477966, 0.9260042309761047, 0.934147834777832, 0.02584598772227764, 0.01846141926944256, 0.01107685174793005, 0.007384567521512508, 0.9940754175186157, 0.9274607300758362, 0.03329900652170181, 0.2608422338962555, 0.044398676604032516, 0.05549834668636322, 0.10544686019420624, 0.038848843425512314, 0.42733725905418396, 0.0055498345755040646, 0.022199338302016258, 0.0055498345755040646, 0.0317419171333313, 0.292025625705719, 0.0571354515850544, 0.06665802747011185, 0.43486425280570984, 0.0444386824965477, 0.01904514990746975, 0.0507870689034462, 0.2723257839679718, 0.004777645226567984, 0.03344351425766945, 0.11466348171234131, 0.5112080574035645, 0.03344351425766945, 0.014332935214042664, 0.014332935214042664, 0.9188163876533508, 0.3669090270996094, 0.1133887991309166, 0.1037614494562149, 0.11606306582689285, 0.1508284956216812, 0.07701880484819412, 0.021394113078713417, 0.01658043824136257, 0.014975879341363907, 0.01925470121204853, 0.07259822636842728, 0.012099704705178738, 0.907477855682373, 0.23112966120243073, 0.38154736161231995, 0.02201234921813011, 0.10088992863893509, 0.031184161081910133, 0.05136214569211006, 0.0018343623960390687, 0.12106791883707047, 0.0586995966732502, 0.12402892857789993, 0.008859208784997463, 0.8593432903289795, 0.02619006484746933, 0.9428423047065735, 0.01990034617483616, 0.18573656678199768, 0.059701040387153625, 0.01990034617483616, 0.6434445381164551, 0.006633448880165815, 0.06633448600769043, 0.02064666524529457, 0.04129333049058914, 0.9084532856941223, 0.052537500858306885, 0.9194062352180481, 0.026268750429153442, 0.04607652127742767, 0.9388090968132019, 0.005759565159678459, 0.005759565159678459, 0.9918398857116699, 0.004700663033872843, 0.07823945581912994, 0.9127936363220215, 0.1283813863992691, 0.08235786855220795, 0.03633435443043709, 0.31247544288635254, 0.38029956817626953, 0.00726687116548419, 0.04117893427610397, 0.00242229038849473, 0.00968916155397892, 0.051468588411808014, 0.40602996945381165, 0.09435907751321793, 0.08006224781274796, 0.08006224781274796, 0.01429682970046997, 0.008578098379075527, 0.017156196758151054, 0.17442132532596588, 0.07148414850234985, 0.08316323161125183, 0.9072352647781372, 0.9812762141227722, 0.7810713648796082, 0.9921984076499939, 0.020023163408041, 0.961111843585968, 0.9911941289901733, 0.017281198874115944, 0.12864893674850464, 0.712369441986084, 0.015361065976321697, 0.044163066893815994, 0.02304159849882126, 0.030722131952643394, 0.005760399624705315, 0.007680532988160849, 0.017281198874115944, 0.18219433724880219, 0.4115835726261139, 0.09073131531476974, 0.14414571225643158, 0.03182912990450859, 0.04317054525017738, 0.03219498321413994, 0.032926686108112335, 0.019024306908249855, 0.012438970617949963, 0.009869768284261227, 0.4234324097633362, 0.43639859557151794, 0.006386321038007736, 0.04741359502077103, 0.02419060841202736, 0.012966166250407696, 0.002902873093262315, 0.021287735551595688, 0.014901415444910526, 0.935722827911377, 0.09696989506483078, 0.09696989506483078, 0.7757591605186462, 0.034622922539711, 0.3808521628379822, 0.127475306391716, 0.0865573063492775, 0.11803269386291504, 0.069245845079422, 0.04091800004243851, 0.012590154074132442, 0.0015737692592665553, 0.127475306391716, 0.35314199328422546, 0.10651449114084244, 0.16584806144237518, 0.1719243973493576, 0.045036327093839645, 0.04682348296046257, 0.03895999863743782, 0.0657673329114914, 0.0028594492468982935, 0.0025020181201398373, 0.9152020215988159, 0.008957212790846825, 0.9852933883666992, 0.2717856466770172, 0.010294911451637745, 0.006176946684718132, 0.4756248891353607, 0.16471858322620392, 0.06176946684718132, 0.004117964301258326, 0.006176946684718132, 0.2932868003845215, 0.19829365611076355, 0.1473657786846161, 0.12786148488521576, 0.08921408653259277, 0.05634573847055435, 0.05201145261526108, 0.021671438589692116, 0.0061402409337460995, 0.007946194149553776, 0.06454387307167053, 0.05461404472589493, 0.04220176115632057, 0.1787368804216385, 0.41457024216651917, 0.11419299989938736, 0.12412282824516296, 0.0024824566207826138, 0.0024824566207826138, 0.008251217193901539, 0.9818947911262512, 0.9792717695236206, 0.9603489637374878, 0.9639739394187927, 0.017526797950267792, 0.036784034222364426, 0.9343144297599792, 0.02942722663283348, 0.970384418964386, 0.9891396164894104, 0.9715269207954407, 0.012418737635016441, 0.04036089777946472, 0.03104684315621853, 0.0031046844087541103, 0.018628105521202087, 0.894149124622345, 0.9594340324401855, 0.018102528527379036, 0.040922269225120544, 0.010230567306280136, 0.03069170191884041, 0.020461134612560272, 0.8900593519210815, 0.058633770793676376, 0.938140332698822, 0.09632790088653564, 0.4448828101158142, 0.14449185132980347, 0.08703310042619705, 0.04393904283642769, 0.07858328521251678, 0.05154387652873993, 0.023659484460949898, 0.014364686794579029, 0.014787177555263042, 0.9759004712104797, 0.06207873299717903, 0.06207873299717903, 0.8070235252380371, 0.8873669505119324, 0.9589847922325134, 0.06391216814517975, 0.9203351736068726, 0.12057653814554214, 0.868151068687439, 0.05245676636695862, 0.9267362356185913, 0.993328332901001, 0.004209018312394619, 0.9627716541290283, 0.9876428246498108, 0.0008333371370099485, 0.5091689825057983, 0.4066685140132904, 0.0008333371370099485, 0.003333348548039794, 0.023333439603447914, 0.013333394192159176, 0.029166800901293755, 0.00416668551042676, 0.010000045411288738, 0.00040667285793460906, 0.4632003903388977, 0.44002002477645874, 0.00040667285793460906, 0.005693419836461544, 0.002033364260569215, 0.00040667285793460906, 0.041887301951646805, 0.02684040740132332, 0.019113624468445778, 0.0025028460659086704, 0.9936299324035645, 0.20028766989707947, 0.12826640903949738, 0.09122691303491592, 0.1557030826807022, 0.145414337515831, 0.18588341772556305, 0.03909724950790405, 0.017833832651376724, 0.01577608287334442, 0.020577499642968178, 0.2507916986942291, 0.2416265457868576, 0.2282954305410385, 0.1208132728934288, 0.016663899645209312, 0.02416265569627285, 0.11164813488721848, 0.004165974911302328, 0.0024995850399136543, 0.9828128814697266, 0.212447389960289, 0.26194968819618225, 0.3272652328014374, 0.03093894012272358, 0.02406361885368824, 0.03918932378292084, 0.05156489834189415, 0.037126727402210236, 0.006875319872051477, 0.008250383660197258, 0.966888964176178, 0.023827986791729927, 0.21530288457870483, 0.36167481541633606, 0.005956996697932482, 0.31657183170318604, 0.03744398057460785, 0.028082985430955887, 0.0025529987178742886, 0.007658996153622866, 0.9748361110687256, 0.014128060080111027, 0.9913296699523926, 0.007792677730321884, 0.015585355460643768, 0.2376766800880432, 0.003896338865160942, 0.5415911078453064, 0.06234142184257507, 0.04285972937941551, 0.07013410329818726, 0.011689016595482826, 0.7813349962234497, 0.010544298216700554, 0.021088596433401108, 0.010544298216700554, 0.9173539876937866, 0.03163289651274681, 0.010544298216700554, 0.9832685589790344, 0.9780663251876831, 0.016166385263204575, 0.9910683035850525, 0.9560189247131348, 0.7827699184417725, 0.0030635809525847435, 0.18994201719760895, 0.4671960771083832, 0.0015317904762923717, 0.02297685667872429, 0.027572227641940117, 0.007658952381461859, 0.004595371428877115, 0.15164725482463837, 0.1240750253200531, 0.9443808794021606, 0.9370588660240173, 0.11267166584730148, 0.020485756918787956, 0.06145726889371872, 0.7887016534805298, 0.17550228536128998, 0.5889798402786255, 0.06427861005067825, 0.07222315669059753, 0.014083515852689743, 0.009750126861035824, 0.019500253722071648, 0.007944547571241856, 0.03827827423810959, 0.009389011189341545, 0.7540594935417175, 0.12307995557785034, 0.0576450414955616, 0.0545290932059288, 0.007789870724081993, 0.1953282654285431, 0.004155920352786779, 0.029091443866491318, 0.5527374148368835, 0.08727433532476425, 0.12883353233337402, 0.004155920352786779, 0.11640792340040207, 0.5119143724441528, 0.026647597551345825, 0.03085511177778244, 0.02244008146226406, 0.04628266766667366, 0.01683006063103676, 0.005610020365566015, 0.08976032584905624, 0.13464048504829407, 0.9414482712745667, 0.9398788809776306, 0.06681138277053833, 0.9019536375999451, 0.010385148227214813, 0.010385148227214813, 0.9762039184570312, 0.9368591904640198, 0.11271702498197556, 0.03757234290242195, 0.18786171078681946, 0.6387298107147217, 0.885953426361084, 0.026859406381845474, 0.00040696069481782615, 0.00040696069481782615, 0.00040696069481782615, 0.00040696069481782615, 0.05209096893668175, 0.033777736127376556, 0.8469860553741455, 0.0875479131937027, 0.1750958263874054, 0.0350191667675972, 0.0525287464261055, 0.0700383335351944, 0.1575862467288971, 0.4027203917503357, 0.950514018535614, 0.03609547019004822, 0.8633633255958557, 0.12528300285339355, 0.0027235436718910933, 0.0027235436718910933, 0.0027235436718910933, 0.9934747815132141, 0.00351051171310246, 0.958763837814331, 0.9846863150596619, 0.9820287227630615, 0.9914501905441284, 0.00798720307648182, 0.9824259877204895, 0.9933888912200928, 0.9874975681304932, 0.8063265085220337, 0.1493666023015976, 0.0025316374376416206, 0.0037974559236317873, 0.0025316374376416206, 0.034177105873823166, 0.03961785510182381, 0.9112106561660767, 0.05640333518385887, 0.9397197961807251, 0.0010072024306282401, 0.0010072024306282401, 0.0010072024306282401, 0.0038668590132147074, 0.08893775939941406, 0.8429752588272095, 0.0038668590132147074, 0.0038668590132147074, 0.0038668590132147074, 0.05026916787028313, 0.9931833744049072, 0.9811617732048035, 0.008438450284302235, 0.02531534992158413, 0.9535448551177979, 0.008438450284302235, 0.01874186471104622, 0.17804771661758423, 0.7871583104133606, 0.9684305191040039, 0.016697077080607414, 0.9802379012107849, 0.0051864441484212875, 0.0051864441484212875, 0.0051864441484212875, 0.9572181105613708, 0.016432929784059525, 0.012324696406722069, 0.012324696406722069, 0.987154483795166, 0.009537724778056145, 0.9867982268333435, 0.03273175656795502, 0.049097634851932526, 0.049097634851932526, 0.8510256409645081, 0.782819390296936, 0.9375097155570984, 0.9727056622505188, 0.006390970200300217, 0.008947358466684818, 0.010225552134215832, 0.9423273801803589, 0.9194104075431824, 0.9592440724372864, 0.1237868070602417, 0.804614245891571, 0.005621918477118015, 0.7477151155471802, 0.08432877063751221, 0.05192006751894951, 0.013228042982518673, 0.018188558518886566, 0.0016535053728148341, 0.06845512241125107, 0.0033070107456296682, 0.0049605160020291805, 0.993231475353241, 0.0027361747343093157, 0.8587042689323425, 0.33288609981536865, 0.09472368657588959, 0.16407495737075806, 0.19722823798656464, 0.08051513135433197, 0.01995963416993618, 0.047361843287944794, 0.05040653422474861, 0.00913407001644373, 0.0037212877068668604, 0.13388492166996002, 0.8415623903274536, 0.019126417115330696, 0.9877611994743347, 0.7319909930229187, 0.005555908661335707, 0.1597323715686798, 0.01388977188616991, 0.008333862759172916, 0.0013889771653339267, 0.0763937458395958, 0.9755268096923828, 0.9549621939659119, 0.02269809879362583, 0.7177643179893494, 0.035812556743621826, 0.025724511593580246, 0.019671685993671417, 0.030264131724834442, 0.06658109277486801, 0.001513206516392529, 0.06708548963069916, 0.012610054574906826, 0.025285348296165466, 0.1896401047706604, 0.0379280224442482, 0.03160668537020683, 0.006321337074041367, 0.6447764039039612, 0.0189640112221241, 0.044249359518289566, 0.3596556782722473, 0.022334078326821327, 0.05236956477165222, 0.16866080462932587, 0.12245236337184906, 0.16326981782913208, 0.09395716339349747, 0.016172952950000763, 0.0007701406721025705, 0.12711811065673828, 0.23328270018100739, 0.4679622948169708, 0.044700875878334045, 0.011175218969583511, 0.006984511855989695, 0.044700875878334045, 0.001396902371197939, 0.01396902371197939, 0.0488915853202343, 0.013523533008992672, 0.933123767375946, 0.05409413203597069, 0.030283143743872643, 0.060566287487745285, 0.8782111406326294, 0.030283143743872643, 0.9757986068725586, 0.0331595316529274, 0.961626410484314, 0.16892778873443604, 0.00804418046027422, 0.03217672184109688, 0.04022090137004852, 0.7400645613670349, 0.28944119811058044, 0.6946588754653931, 0.08911746740341187, 0.2796444594860077, 0.2946254014968872, 0.1210000067949295, 0.04647936671972275, 0.05108889192342758, 0.029193652793765068, 0.06991111487150192, 0.004993651062250137, 0.013828571885824203, 0.6367385387420654, 0.13230930268764496, 0.22740662097930908, 0.9246000647544861, 0.20132796466350555, 0.11271530389785767, 0.24669764935970306, 0.03969847038388252, 0.06451001763343811, 0.09853727370500565, 0.19991016387939453, 0.03260945901274681, 0.003544506384059787, 0.09591732174158096, 0.0895228385925293, 0.2877519726753235, 0.06010818853974342, 0.24299055337905884, 0.0703393742442131, 0.11893748492002487, 0.020462362095713615, 0.005115590523928404, 0.010231181047856808, 0.9697078466415405, 0.22938272356987, 0.09051477909088135, 0.10791012644767761, 0.1506614089012146, 0.19665588438510895, 0.1468285322189331, 0.033021677285432816, 0.03803389519453049, 0.002948364010080695, 0.0038328731898218393, 0.9398017525672913, 0.23641252517700195, 0.07195164263248444, 0.03083641640841961, 0.03083641640841961, 0.08223044872283936, 0.4762513339519501, 0.058246564120054245, 0.006852536927908659, 0.0034262684639543295, 0.31880423426628113, 0.0400591678917408, 0.03738855943083763, 0.39992403984069824, 0.1098288893699646, 0.055081356316804886, 0.025370806455612183, 0.009347139857709408, 0.0033382640685886145, 0.0010014792205765843, 0.3268817365169525, 0.04836218059062958, 0.0734172910451889, 0.11129128187894821, 0.1421731561422348, 0.13459835946559906, 0.14333851635456085, 0.009905506856739521, 0.009322830475866795, 0.0005826769047416747, 0.9878615140914917, 0.27786770462989807, 0.10471880435943604, 0.039399154484272, 0.31623005867004395, 0.21669533848762512, 0.041472792625427246, 0.0010368197690695524, 0.002073639538139105, 0.002073639538139105, 0.07261578738689423, 0.14523157477378845, 0.7261579036712646, 0.014735172502696514, 0.6674667596817017, 0.20629242062568665, 0.0026791223790496588, 0.002070230897516012, 0.004871131386607885, 0.0012177828466519713, 0.029470345005393028, 0.03628993034362793, 0.034950368106365204, 0.9829805493354797, 0.9741210341453552, 0.016723107546567917, 0.004180776886641979, 0.004180776886641979, 0.28380993008613586, 0.03478960692882538, 0.3112754225730896, 0.04302924871444702, 0.05493095517158508, 0.0045775799080729485, 0.26275306940078735, 0.003662063740193844, 0.9866469502449036, 0.09080246835947037, 0.9080246686935425, 0.04551646113395691, 0.9103292226791382, 0.008137686178088188, 0.9846600890159607, 0.9799361228942871, 0.9594435691833496, 0.0023292836267501116, 0.9946041703224182, 0.23156780004501343, 0.2991400361061096, 0.16209745407104492, 0.09870103001594543, 0.07440538704395294, 0.04175812751054764, 0.008351624943315983, 0.015944011509418488, 0.012147818692028522, 0.055804044008255005, 0.038409218192100525, 0.9602304697036743, 0.2512384355068207, 0.26238393783569336, 0.14396287500858307, 0.14024770259857178, 0.026934988796710968, 0.026006195694208145, 0.03065015934407711, 0.04551084339618683, 0.0301857627928257, 0.0422600694000721, 0.16661106050014496, 0.2353769838809967, 0.24726471304893494, 0.08010499179363251, 0.11393928527832031, 0.07425256818532944, 0.03602895513176918, 0.018837474286556244, 0.019569026306271553, 0.008047076873481274, 0.9503141045570374, 0.042551375925540924, 0.9618094563484192, 0.021695204079151154, 0.9328938126564026, 0.021695204079151154, 0.021695204079151154, 0.9123448133468628, 0.9200035929679871, 0.306212842464447, 0.12235565483570099, 0.24859562516212463, 0.08869166672229767, 0.04920121654868126, 0.06150152161717415, 0.09387074410915375, 0.01747937873005867, 0.00906338170170784, 0.002589537762105465, 0.9891678690910339, 0.008425620384514332, 0.013879933394491673, 0.9715953469276428, 0.05612325295805931, 0.014030813239514828, 0.9190182685852051, 0.017847085371613503, 0.9815897345542908, 0.2867405414581299, 0.20813128352165222, 0.19672682881355286, 0.08186768740415573, 0.06639021635055542, 0.051320042461156845, 0.032991454005241394, 0.04521051421761513, 0.014255567453801632, 0.01629207655787468, 0.33827468752861023, 0.016023537144064903, 0.028486289083957672, 0.2510354220867157, 0.3008864223957062, 0.039168648421764374, 0.02314511127769947, 0.003560786135494709, 0.11018653213977814, 0.1416683942079544, 0.11018653213977814, 0.11018653213977814, 0.07870466262102127, 0.015740932896733284, 0.4250051975250244, 0.06940069794654846, 0.43828049302101135, 0.18821166455745697, 0.027533970773220062, 0.08147038519382477, 0.08448780328035355, 0.0716637596487999, 0.030174216255545616, 0.0045261322520673275, 0.004148954525589943, 0.02675311267375946, 0.15754610300064087, 0.6361295580863953, 0.044588521122932434, 0.008917704224586487, 0.02080797590315342, 0.014862840063869953, 0.008917704224586487, 0.02080797590315342, 0.06242392957210541, 0.8411104083061218, 0.7694947123527527, 0.4967309534549713, 0.09786499291658401, 0.16769297420978546, 0.06876999139785767, 0.09363298863172531, 0.04602299630641937, 0.0052899993024766445, 0.01798599772155285, 0.003173999721184373, 0.003173999721184373, 0.9624530076980591, 0.9069427847862244, 0.0017818129854276776, 0.08196339756250381, 0.0044545321725308895, 0.0017818129854276776, 0.0008909064927138388, 0.0008909064927138388, 0.9878438711166382, 0.006135676521807909, 0.04681111499667168, 0.9479250907897949, 0.031854722648859024, 0.9237869381904602, 0.031854722648859024, 0.0012867653276771307, 0.4786767065525055, 0.05533090978860855, 0.0012867653276771307, 0.0012867653276771307, 0.08878681063652039, 0.3744487166404724, 0.8139789700508118, 0.14356443285942078, 0.02504550665616989, 0.016547923907637596, 0.0004472412110771984, 0.0004472412110771984, 0.966446042060852, 0.029234131798148155, 0.000573218276258558, 0.002292873105034232, 0.000573218276258558, 0.000573218276258558, 0.5890032052993774, 0.05074489489197731, 0.0838196873664856, 0.12006603926420212, 0.05754108354449272, 0.03805866837501526, 0.022200889885425568, 0.032168637961149216, 0.0027184763457626104, 0.0036246352829039097, 0.9762411713600159, 0.9939824938774109, 0.6132531762123108, 0.01795763336122036, 0.04848560690879822, 0.12121402472257614, 0.056117601692676544, 0.0713815912604332, 0.018406573683023453, 0.0493834912776947, 0.0013468224788084626, 0.002244704170152545, 0.9482824802398682, 0.33671891689300537, 0.10633229464292526, 0.035444099456071854, 0.017722049728035927, 0.478495329618454, 0.06164564564824104, 0.9246847033500671, 0.9470248818397522, 0.06227012723684311, 0.8717817664146423, 0.9797189235687256, 0.5545471906661987, 0.013553088530898094, 0.0389651283621788, 0.2010374814271927, 0.06833015382289886, 0.05929476395249367, 0.06268303096294403, 0.0005647120415233076, 0.0011294240830466151, 0.0005647120415233076, 0.13537751138210297, 0.13213492929935455, 0.13213492929935455, 0.11835398524999619, 0.09241338819265366, 0.09970918297767639, 0.2002290040254593, 0.07944308966398239, 0.000810643716249615, 0.008917081169784069, 0.5464096069335938, 0.0539313368499279, 0.10999154299497604, 0.11779739707708359, 0.052512094378471375, 0.03831963613629341, 0.04896397888660431, 0.029804160818457603, 0.0021288685966283083, 0.45971474051475525, 0.008358449675142765, 0.03343379870057106, 0.008358449675142765, 0.44299784302711487, 0.04179224744439125, 0.9752018451690674, 0.25809022784233093, 0.5161804556846619, 0.22582896053791046, 0.7811153531074524, 0.17138908803462982, 0.25223299860954285, 0.08407766371965408, 0.0452725887298584, 0.016168782487511635, 0.009701269678771496, 0.025870051234960556, 0.029103808104991913, 0.20049290359020233, 0.16168782114982605, 0.031221484765410423, 0.27801987528800964, 0.031221484765410423, 0.008920423686504364, 0.0029734745621681213, 0.0029734745621681213, 0.011893898248672485, 0.0014867372810840607, 0.2378779798746109, 0.393985390663147, 0.41789811849594116, 0.013480584137141705, 0.024072472006082535, 0.29175835847854614, 0.044293347746133804, 0.12902845442295074, 0.0009628988918848336, 0.07510611414909363, 0.0009628988918848336, 0.18647298216819763, 0.123003289103508, 0.039853066205978394, 0.18991708755493164, 0.09692659229040146, 0.19975733757019043, 0.13284355401992798, 0.01230032928287983, 0.01771247386932373, 0.001968052703887224, 0.2864478826522827, 0.16408826410770416, 0.12651586532592773, 0.12302462756633759, 0.09775470942258835, 0.10723093152046204, 0.045884862542152405, 0.012468712404370308, 0.01778869703412056, 0.018952442333102226, 0.92722088098526, 0.9083647727966309, 0.08110399544239044, 0.9164104461669922, 0.9730208516120911, 0.7813563942909241, 0.8411481380462646, 0.020815659314393997, 0.06244697794318199, 0.8742576837539673, 0.041631318628787994, 0.985458254814148, 0.011896108277142048, 0.09516886621713638, 0.023792216554284096, 0.7256625890731812, 0.059480540454387665, 0.08327275514602661, 0.7827765941619873, 0.9597750306129456, 0.9550426602363586, 0.06961949169635773, 0.6761674284934998, 0.07724902778863907, 0.011444300413131714, 0.010490608401596546, 0.019073834642767906, 0.11730407923460007, 0.005722150206565857, 0.013351683504879475, 0.0040121800266206264, 0.0040121800266206264, 0.7141680121421814, 0.23270642757415771, 0.02808525785803795, 0.016048720106482506, 0.0040121800266206264, 0.9351035356521606, 0.7814740538597107, 0.08506432920694351, 0.8992514610290527, 0.05446535348892212, 0.925911009311676, 0.9484057426452637, 0.09983964264392853, 0.6057435274124146, 0.1072903648018837, 0.06929169595241547, 0.03501838445663452, 0.007078183814883232, 0.013038759119808674, 0.004842967726290226, 0.018254263326525688, 0.03986135125160217, 0.06295881420373917, 0.9329351782798767, 0.05249345675110817, 0.9448822140693665, 0.00504904193803668, 0.11107892543077469, 0.7270620465278625, 0.00504904193803668, 0.09593179821968079, 0.05049042031168938, 0.9594405293464661, 0.014991258271038532, 0.014991258271038532, 0.007495629135519266, 0.991326093673706, 0.030864793807268143, 0.9629815816879272, 0.9789066910743713, 0.039780501276254654, 0.9547320008277893, 0.10224748402833939, 0.20449496805667877, 0.046476129442453384, 0.03718090429902077, 0.018590452149510384, 0.03718090429902077, 0.5391231179237366, 0.009295226074755192, 0.7690944671630859, 0.04027191922068596, 0.9531021118164062, 0.05037853121757507, 0.19311770796775818, 0.7556779980659485, 0.03033057413995266, 0.03033057413995266, 0.06066114827990532, 0.8492560982704163, 0.1725519448518753, 0.09291258454322815, 0.6371148824691772, 0.026546454057097435, 0.021237162873148918, 0.03716503456234932, 0.0053092907182872295, 0.0026546453591436148, 0.0026546453591436148, 0.01445696409791708, 0.01445696409791708, 0.9107887744903564, 0.043370891362428665, 0.08257139474153519, 0.3364019989967346, 0.08562959730625153, 0.009174599312245846, 0.12997350096702576, 0.012232799082994461, 0.0076454998925328255, 0.0015290998853743076, 0.20795759558677673, 0.12691529095172882, 0.9549058675765991, 0.11343540251255035, 0.2268708050251007, 0.11343540251255035, 0.4821004569530487, 0.016939915716648102, 0.9316953420639038, 0.005646638572216034, 0.02823319286108017, 0.011293277144432068, 0.18146128952503204, 0.03024354763329029, 0.06048709526658058, 0.03024354763329029, 0.12097419053316116, 0.5141403079032898, 0.03024354763329029, 0.14756502211093903, 0.3293862044811249, 0.1363658905029297, 0.15942291915416718, 0.0401851162314415, 0.0283272136002779, 0.015151765197515488, 0.029644757509231567, 0.04216143116354942, 0.07180619239807129, 0.9430073499679565, 0.04717967286705971, 0.947525143623352, 0.5881232619285583, 0.0048127928748726845, 0.0009625585516914725, 0.21561311185359955, 0.16844774782657623, 0.00770046841353178, 0.00385023420676589, 0.00770046841353178, 0.0009625585516914725, 0.9521759748458862, 0.05120391398668289, 0.3481866121292114, 0.020481564104557037, 0.040963128209114075, 0.14337095618247986, 0.3891497254371643, 0.9139787554740906, 0.11155837029218674, 0.12483912706375122, 0.03984227403998375, 0.486075758934021, 0.1673375517129898, 0.058435335755348206, 0.013280758634209633, 0.9852920770645142, 0.9429609179496765, 0.9823684692382812, 0.919472336769104, 0.07307899743318558, 0.17813006043434143, 0.7353574633598328, 0.004567437339574099, 0.04689665511250496, 0.2344832718372345, 0.02344832755625248, 0.04689665511250496, 0.6565531492233276, 0.07883556932210922, 0.9197483062744141, 0.17404945194721222, 0.779266893863678, 0.007911338470876217, 0.007911338470876217, 0.015822676941752434, 0.007911338470876217, 0.09528958052396774, 0.8893694281578064, 0.012705277651548386, 0.11736831814050674, 0.10060141235589981, 0.016766902059316635, 0.016766902059316635, 0.11736831814050674, 0.06706760823726654, 0.03353380411863327, 0.5197739601135254, 0.9836645722389221, 0.018511202186346054, 0.98109370470047, 0.1613033264875412, 0.1542130559682846, 0.051404353231191635, 0.17016613483428955, 0.15155421197414398, 0.18700549006462097, 0.04608666151762009, 0.010635383427143097, 0.03988268971443176, 0.029247304424643517, 0.7824491262435913, 0.9813284277915955, 0.007111075799912214, 0.09196626394987106, 0.4379345774650574, 0.17079448699951172, 0.00875869207084179, 0.004379346035420895, 0.061310842633247375, 0.22772598266601562, 0.1557425707578659, 0.36764389276504517, 0.04538410156965256, 0.3115939795970917, 0.08848267793655396, 0.019263755530118942, 0.0018501912709325552, 0.0019590260926634073, 0.0013060173951089382, 0.006747756153345108, 0.008521122857928276, 0.025563368573784828, 0.8861967921257019, 0.008521122857928276, 0.05964786186814308, 0.0008180467411875725, 0.7174269556999207, 0.23968768119812012, 0.0024541402235627174, 0.03844819590449333, 0.0008180467411875725, 0.14387254416942596, 0.8171960711479187, 0.023019608110189438, 0.0057549020275473595, 0.9758357405662537, 0.01668095402419567, 0.022179599851369858, 0.931543231010437, 0.022179599851369858, 0.8619606494903564, 0.007794644683599472, 0.3117857873439789, 0.17927682399749756, 0.35075899958610535, 0.14809824526309967, 0.9829018115997314, 0.009565954096615314, 0.0023914885241538286, 0.0023914885241538286, 0.3239554166793823, 0.2197592407464981, 0.16519832611083984, 0.11707863211631775, 0.054182019084692, 0.0511508584022522, 0.013261333107948303, 0.040541790425777435, 0.012882438488304615, 0.0018944762414321303, 0.09079158306121826, 0.6486819982528687, 0.135590061545372, 0.04001997411251068, 0.01373820099979639, 0.01612745225429535, 0.0011946260929107666, 0.0011946260929107666, 0.026879088953137398, 0.02568446286022663, 0.769081711769104, 0.955642819404602, 0.7042015790939331, 0.7690819501876831, 0.09320814162492752, 0.1871679723262787, 0.11500682681798935, 0.028563786298036575, 0.10147660970687866, 0.3149533271789551, 0.14958404004573822, 0.003758392995223403, 0.003758392995223403, 0.0015033571980893612, 0.0417257621884346, 0.9457839727401733, 0.2872955799102783, 0.09719453006982803, 0.11613316833972931, 0.16544508934020996, 0.0861172080039978, 0.06610657274723053, 0.14078913629055023, 0.0332319512963295, 0.004287994001060724, 0.0035733282566070557, 0.4419296085834503, 0.00661005824804306, 0.009442940354347229, 0.0698777586221695, 0.25779226422309875, 0.21341045200824738, 0.02619451843202114, 0.969197154045105, 0.9907748103141785, 0.046728357672691345, 0.44045302271842957, 0.2882932424545288, 0.029621636494994164, 0.006032370030879974, 0.004681839141994715, 0.02205866575241089, 0.021158311516046524, 0.09975919127464294, 0.04123619943857193, 0.6991082429885864, 0.12509021162986755, 0.0006349757313728333, 0.0006349757313728333, 0.001904927077703178, 0.002539902925491333, 0.006349756848067045, 0.07302220910787582, 0.09016654640436172, 0.14673705399036407, 0.8804222941398621, 0.9793802499771118, 0.7814743518829346, 0.7809994220733643, 0.9195278286933899, 0.07258980721235275, 0.010754046030342579, 0.08603236824274063, 0.0013442557537928224, 0.037639159709215164, 0.6922916769981384, 0.09813066571950912, 0.0013442557537928224, 0.9595227837562561, 0.2111780345439911, 0.7391231060028076, 0.054633721709251404, 0.0364224798977375, 0.01821123994886875, 0.8195058107376099, 0.054633721709251404, 0.26259133219718933, 0.22649629414081573, 0.01894988864660263, 0.05504491552710533, 0.11369933187961578, 0.13355159759521484, 0.05955679342150688, 0.005414254032075405, 0.09113994240760803, 0.03248552232980728, 0.004056086298078299, 0.273785799741745, 0.3954683840274811, 0.004056086298078299, 0.0507010743021965, 0.010140215046703815, 0.008112172596156597, 0.08517780900001526, 0.17035561800003052, 0.03612334281206131, 0.06923641264438629, 0.32209980487823486, 0.1053597554564476, 0.006020557135343552, 0.045154180377721786, 0.40337735414505005, 0.006020557135343552, 0.006020557135343552, 0.4075721204280853, 0.0019737149123102427, 0.00986857432872057, 0.2911229431629181, 0.029605723917484283, 0.16085776686668396, 0.0009868574561551213, 0.09671203047037125, 0.21561869978904724, 0.06388702243566513, 0.11180228739976883, 0.007985877804458141, 0.20763280987739563, 0.007985877804458141, 0.007985877804458141, 0.3274209797382355, 0.055901143699884415, 0.9095681309700012, 0.04042524844408035, 0.005053156055510044, 0.010106312111020088, 0.025265781208872795, 0.9730079174041748, 0.0117229875177145, 0.00586149375885725, 0.00586149375885725, 0.0041897655464708805, 0.8882302641868591, 0.04189765453338623, 0.008379531092941761, 0.033518124371767044, 0.020948827266693115, 0.0041897655464708805, 0.020377719774842262, 0.040755439549684525, 0.020377719774842262, 0.020377719774842262, 0.040755439549684525, 0.8354865312576294, 0.12709276378154755, 0.12709276378154755, 0.6354638338088989, 0.006474243942648172, 0.9549509882926941, 0.006474243942648172, 0.022659853100776672, 0.006474243942648172, 0.9808788895606995, 0.9737616777420044, 0.04809749871492386, 0.7479729056358337, 0.1067991703748703, 0.024238109588623047, 0.011361613869667053, 0.0053020864725112915, 0.012497775256633759, 0.0022723227739334106, 0.019693464040756226, 0.0215870663523674, 0.10983220487833023, 0.08237415552139282, 0.14513541758060455, 0.06276126205921173, 0.08237415552139282, 0.003922578878700733, 0.4981675148010254, 0.015690315514802933, 0.044765256345272064, 0.05968700721859932, 0.10445226728916168, 0.05222613364458084, 0.01492175180464983, 0.7087832093238831, 0.007460875902324915, 0.008008311502635479, 0.7456628084182739, 0.05605817958712578, 0.012457373552024364, 0.016016623005270958, 0.003559249686077237, 0.01868605986237526, 0.0311434343457222, 0.10855711251497269, 0.6066374182701111, 0.03370207920670509, 0.041405413299798965, 0.12036456912755966, 0.09243998676538467, 0.07029290497303009, 0.03370207920670509, 0.0009629165288060904, 0.0009629165288060904, 0.06754808127880096, 0.1632411926984787, 0.32873401045799255, 0.00788060948252678, 0.03827724605798721, 0.06867388635873795, 0.28482773900032043, 0.021390225738286972, 0.019138623028993607, 0.9827297329902649, 0.12035126984119415, 0.8558312654495239, 0.013372363522648811, 0.33057883381843567, 0.6611576676368713, 0.09952990710735321, 0.16633765399456024, 0.5658206939697266, 0.028631892055273056, 0.020451350137591362, 0.010907387360930443, 0.06271747499704361, 0.031358737498521805, 0.006817116867750883, 0.006817116867750883, 0.9281151294708252, 0.05750090628862381, 0.0038333937991410494, 0.015333575196564198, 0.2185034453868866, 0.23000362515449524, 0.0996682420372963, 0.3718391954898834, 0.024951422587037086, 0.9681152105331421, 0.05194968357682228, 0.03463312238454819, 0.043291401118040085, 0.02597484178841114, 0.8398531675338745, 0.9281425476074219, 0.024228602647781372, 0.9691441059112549, 0.3602299988269806, 0.042469218373298645, 0.037160567939281464, 0.10617304593324661, 0.19869527220726013, 0.18049418926239014, 0.04322759807109833, 0.028818398714065552, 0.0022751367650926113, 0.0007583789411000907, 0.0820445567369461, 0.27238795161247253, 0.0897020548582077, 0.16518305242061615, 0.2581668794155121, 0.08751419931650162, 0.022972477599978447, 0.008751419372856617, 0.0021878548432141542, 0.010939274914562702, 0.11234702169895172, 0.8832800388336182, 0.01731053926050663, 0.9434244632720947, 0.008655269630253315, 0.008655269630253315, 0.01731053926050663, 0.05216286703944206, 0.10972189158201218, 0.2032553106546402, 0.04137054830789566, 0.20505402982234955, 0.1600860357284546, 0.21944378316402435, 0.003597439033910632, 0.003597439033910632, 0.09064868092536926, 0.8570420742034912, 0.024722367525100708, 0.03296315670013428, 0.006837440654635429, 0.9880101680755615, 0.9674947261810303, 0.13035984337329865, 0.05367758125066757, 0.1559205949306488, 0.04345327988266945, 0.1099112331867218, 0.058789730072021484, 0.2939486503601074, 0.05112150311470032, 0.020448602735996246, 0.08179441094398499, 0.76949542760849, 0.017285656183958054, 0.9795204997062683, 0.001920628477819264, 0.9762935042381287, 0.19594311714172363, 0.13406634330749512, 0.003437598468735814, 0.18906791508197784, 0.47438859939575195, 0.8587628602981567, 0.21622247993946075, 0.3025955259799957, 0.11535730212926865, 0.15013839304447174, 0.02666550688445568, 0.046954479068517685, 0.03478109464049339, 0.035360779613256454, 0.03999825939536095, 0.031302984803915024, 0.9827125072479248, 0.10342606157064438, 0.8791214823722839, 0.04300639033317566, 0.9031342267990112, 0.016074569895863533, 0.016074569895863533, 0.3697150945663452, 0.005358189810067415, 0.5894008874893188, 0.0008591287769377232, 0.5661658644676208, 0.276639461517334, 0.0004295643884688616, 0.014390407130122185, 0.026203427463769913, 0.06185727193951607, 0.027921685948967934, 0.012886932119727135, 0.012672149576246738, 0.9483650922775269, 0.15205371379852295, 0.456797331571579, 0.29710912704467773, 0.008906912058591843, 0.010179327800869942, 0.022267280146479607, 0.004453456029295921, 0.013996575959026814, 0.026720736175775528, 0.007634495850652456, 0.5422490239143372, 0.1834764927625656, 0.0011686400976032019, 0.0046745603904128075, 0.12621313333511353, 0.14140544831752777, 0.058974385261535645, 0.928846538066864, 0.4487065374851227, 0.1534491777420044, 0.09206950664520264, 0.10318133980035782, 0.08148679882287979, 0.05132610350847244, 0.013757511973381042, 0.021165402606129646, 0.02010713331401348, 0.014815782196819782, 0.10475882887840271, 0.12170510739088058, 0.48425281047821045, 0.07754207402467728, 0.08421787619590759, 0.05443350598216057, 0.03029789589345455, 0.019000375643372536, 0.011811044067144394, 0.011297520250082016, 0.6165410280227661, 0.005537793505936861, 0.03568800166249275, 0.1778247058391571, 0.08737407624721527, 0.031380828469991684, 0.04061048477888107, 0.0030765519477427006, 0.0006153103895485401, 0.0012306207790970802, 0.9807202816009521, 0.0012243116507306695, 0.4898776710033417, 0.33637961745262146, 0.00045911685447208583, 0.009641453623771667, 0.03948405012488365, 0.03366857022047043, 0.037188466638326645, 0.02310888096690178, 0.02923044003546238, 0.45706111192703247, 0.0320536345243454, 0.14305418729782104, 0.06292010098695755, 0.13593116402626038, 0.1388990879058838, 0.008903787471354008, 0.0160268172621727, 0.002374343341216445, 0.002967929234728217, 0.45694616436958313, 0.027508463710546494, 0.03973444923758507, 0.2452838122844696, 0.09322313219308853, 0.061129920184612274, 0.053488679230213165, 0.021395472809672356, 0.0007641239790245891, 0.0007641239790245891, 0.1527334302663803, 0.48202112317085266, 0.09107957035303116, 0.004203672520816326, 0.026623258367180824, 0.044839173555374146, 0.05745019018650055, 0.011209793388843536, 0.09948691725730896, 0.02942570671439171, 0.23822762072086334, 0.3058099150657654, 0.046462833881378174, 0.1132003590464592, 0.05491062253713608, 0.16557665169239044, 0.012671682052314281, 0.01942991279065609, 0.0160507969558239, 0.027032921090722084, 0.054421018809080124, 0.4300772249698639, 0.12320314347743988, 0.008314322680234909, 0.19727620482444763, 0.09448093920946121, 0.008314322680234909, 0.041571613401174545, 0.03552483394742012, 0.006046779919415712, 0.0007347810897044837, 0.49028268456459045, 0.36794161796569824, 0.000918476318474859, 0.013226059265434742, 0.01781844161450863, 0.04592381790280342, 0.025166252627968788, 0.025166252627968788, 0.012674973346292973, 0.7695071697235107, 0.3712106943130493, 0.13355931639671326, 0.10294399410486221, 0.16570539772510529, 0.05051526799798012, 0.07730367034673691, 0.05472487583756447, 0.036738377064466476, 0.004209605976939201, 0.003061531577259302, 0.9423641562461853, 0.07665234059095383, 0.049276504665613174, 0.142354354262352, 0.054751671850681305, 0.6734455823898315, 0.9663458466529846, 0.9505215883255005, 0.9472008347511292, 0.025600021705031395, 0.02780301496386528, 0.9731054902076721, 0.0018214629963040352, 0.9945188164710999, 0.042822469025850296, 0.21411234140396118, 0.7279819846153259, 0.3022797703742981, 0.24191193282604218, 0.032607436180114746, 0.09341590106487274, 0.12778590619564056, 0.08768756687641144, 0.023353975266218185, 0.015422436408698559, 0.021591411903500557, 0.05419884994626045, 0.9390987157821655, 0.1921425610780716, 0.1751887947320938, 0.016953755170106888, 0.005651251878589392, 0.3503775894641876, 0.2543063163757324, 0.17391474545001984, 0.7391376495361328, 0.04347868636250496, 0.00011575683311093599, 0.6690744757652283, 0.24945597350597382, 0.0003472705138847232, 0.00023151366622187197, 0.0003472705138847232, 0.0005787841510027647, 0.00011575683311093599, 0.038662783801555634, 0.04097791761159897, 0.13726037740707397, 0.3643639385700226, 0.14905796945095062, 0.11366520822048187, 0.020192023366689682, 0.09937197715044022, 0.029267089441418648, 0.00022687666933052242, 0.03198960795998573, 0.05490415170788765, 0.9853875637054443, 0.011821187101304531, 0.27188730239868164, 0.011821187101304531, 0.177317813038826, 0.05910593643784523, 0.10639068484306335, 0.3309932351112366, 0.011821187101304531, 0.1497875601053238, 0.2726060748100281, 0.26057934761047363, 0.0998583734035492, 0.10751175880432129, 0.06377816200256348, 0.031706858426332474, 0.00036444663419388235, 0.0007288932683877647, 0.013120078481733799, 0.006826828699558973, 0.1570170670747757, 0.7919121384620667, 0.006826828699558973, 0.027307314798235893, 0.006826828699558973, 0.0784614309668541, 0.00784614309668541, 0.03138457238674164, 0.7610758543014526, 0.09415371716022491, 0.02353842929005623, 0.9813847541809082, 0.9856125116348267, 0.9899313449859619, 0.05913104489445686, 0.05913104489445686, 0.02956552244722843, 0.857400119304657, 0.03757490590214729, 0.382379949092865, 0.07736010104417801, 0.002210288541391492, 0.18566425144672394, 0.04199548438191414, 0.23429059982299805, 0.002210288541391492, 0.033154331147670746, 0.002210288541391492, 0.08737390488386154, 0.2988440692424774, 0.1076345220208168, 0.08484132587909698, 0.03418979048728943, 0.23173078894615173, 0.06964586675167084, 0.006331442389637232, 0.04305380955338478, 0.03545607626438141, 0.030758261680603027, 0.04306156560778618, 0.13533635437488556, 0.061516523361206055, 0.27682435512542725, 0.44291895627975464, 0.26495882868766785, 0.18986928462982178, 0.16036982834339142, 0.12336140125989914, 0.10619807988405228, 0.10297995060682297, 0.01984509453177452, 0.018236033618450165, 0.01126343198120594, 0.0026817696634680033, 0.480439692735672, 0.06768510490655899, 0.04484657570719719, 0.1827082633972168, 0.06934609264135361, 0.050660017877817154, 0.04775329679250717, 0.053566742688417435, 0.0020762302447110415, 0.00041524606058374047, 0.08752726763486862, 0.5488317012786865, 0.05180184915661812, 0.18666528165340424, 0.07189739495515823, 0.03349257633090019, 0.004019109066575766, 0.005358811933547258, 0.002679405966773629, 0.007591650355607271, 0.9941877126693726, 0.09340836107730865, 0.015568060800433159, 0.20238478481769562, 0.04670418053865433, 0.6382904648780823, 0.9945724606513977, 0.002419884316623211, 0.1614878922700882, 0.0015988899394869804, 0.8346205949783325, 0.0007994449697434902, 0.09582488238811493, 0.8898025155067444, 0.2945197522640228, 0.0037280982360243797, 0.0037280982360243797, 0.693426251411438, 0.07498837262392044, 0.9148581624031067, 0.0074988375417888165, 0.026961516588926315, 0.01797434501349926, 0.07189738005399704, 0.8358070254325867, 0.03594869002699852, 0.00898717250674963, 0.13889117538928986, 0.02186249941587448, 0.048869114369153976, 0.20062057673931122, 0.1273169070482254, 0.3227933645248413, 0.11059852689504623, 0.0038580880500376225, 0.02314852923154831, 0.0012860293500125408, 0.023757828399538994, 0.10453444719314575, 0.7174864411354065, 0.06889770179986954, 0.01663048006594181, 0.0213820468634367, 0.014254697598516941, 0.004751565866172314, 0.023757828399538994, 0.002375782933086157, 0.9545277953147888, 0.9938645958900452, 0.02111865021288395, 0.1478305459022522, 0.6933956742286682, 0.017598874866962433, 0.028158199042081833, 0.010559325106441975, 0.0316779762506485, 0.02111865021288395, 0.024638425558805466, 0.1957797408103943, 0.283365398645401, 0.17517134547233582, 0.018032344058156013, 0.01288024615496397, 0.020608393475413322, 0.2601809799671173, 0.01545629557222128, 0.0025760491844266653, 0.01545629557222128, 0.928574800491333, 0.9923677444458008, 0.0033985197078436613, 0.09144245088100433, 0.049877703189849854, 0.2660143971443176, 0.0665035992860794, 0.5070899724960327, 0.008312949910759926, 0.09798329323530197, 0.19480012357234955, 0.1878013163805008, 0.20529833436012268, 0.05948985740542412, 0.06415572762489319, 0.08748508244752884, 0.016330549493432045, 0.08748508244752884, 0.9692007899284363, 0.05017901957035065, 0.08920714259147644, 0.6746290326118469, 0.016726339235901833, 0.033452678471803665, 0.05296673998236656, 0.07248080521821976, 0.008363169617950916, 0.25257551670074463, 0.007942626252770424, 0.25654682517051697, 0.07466068863868713, 0.1628238409757614, 0.08975167572498322, 0.12628775835037231, 0.03018197976052761, 0.5890300273895264, 0.05296103283762932, 0.0669117420911789, 0.14234891533851624, 0.04779410362243652, 0.04960252717137337, 0.013950711116194725, 0.03565181791782379, 0.0007750394870527089, 0.0012917325366288424, 0.009242696687579155, 0.4097595512866974, 0.3952353000640869, 0.005721669178456068, 0.0017605136381462216, 0.10144960135221481, 0.006601925939321518, 0.0022006421349942684, 0.050394702702760696, 0.017605137079954147, 0.0027101701125502586, 0.18700173497200012, 0.7317458987236023, 0.005420340225100517, 0.03794237971305847, 0.0027101701125502586, 0.016261020675301552, 0.013550850562751293, 0.0027101701125502586, 0.9650962352752686, 0.18341146409511566, 0.14341948926448822, 0.19628244638442993, 0.05654037743806839, 0.11583881825208664, 0.1231936663389206, 0.12089527398347855, 0.050104886293411255, 0.005516134202480316, 0.005056456662714481, 0.9412713050842285, 0.9772673845291138, 0.7813506722450256, 0.7811840176582336], \"Term\": [\"aaron\", \"aaron\", \"aaron\", \"aaron\", \"aaron\", \"abidan\", \"abimelech\", \"abner\", \"abram\", \"absalom\", \"absorb\", \"abyss\", \"aft\", \"aft\", \"aft\", \"againe\", \"agreeable\", \"agreeable\", \"ahab\", \"ahab\", \"ahab\", \"ahira\", \"aholiab\", \"alice\", \"alice\", \"alice\", \"also\", \"also\", \"also\", \"also\", \"also\", \"also\", \"also\", \"also\", \"also\", \"also\", \"altar\", \"altar\", \"altar\", \"altar\", \"altar\", \"altar\", \"altar\", \"altar\", \"always\", \"always\", \"always\", \"always\", \"always\", \"always\", \"always\", \"always\", \"america\", \"america\", \"america\", \"america\", \"america\", \"amid\", \"amid\", \"amid\", \"amid\", \"amid\", \"ammishaddai\", \"ammon\", \"ammon\", \"among\", \"among\", \"among\", \"among\", \"among\", \"among\", \"among\", \"among\", \"among\", \"among\", \"anarchist\", \"anarchist\", \"anne\", \"anne\", \"anne\", \"anointing\", \"anointing\", \"anointing\", \"anointing\", \"antony\", \"antony\", \"apostle\", \"apostle\", \"apostles\", \"apostles\", \"archer\", \"archer\", \"archer\", \"archer\", \"arches\", \"arches\", \"arches\", \"arches\", \"armagnac\", \"around\", \"around\", \"around\", \"around\", \"around\", \"around\", \"artaxerxes\", \"arthur\", \"arthur\", \"arthur\", \"asylum\", \"asylum\", \"asylum\", \"asylum\", \"atheist\", \"atheist\", \"atheist\", \"atonement\", \"atonement\", \"atonement\", \"atonement\", \"atonement\", \"atonement\", \"attorney\", \"attorney\", \"aye\", \"aye\", \"aye\", \"aye\", \"babylon\", \"babylon\", \"babylon\", \"babylon\", \"babylon\", \"babylon\", \"babylon\", \"babylon\", \"banner\", \"banner\", \"banner\", \"baptized\", \"baptized\", \"baptized\", \"barbara\", \"bards\", \"barnabas\", \"barnabas\", \"barton\", \"bates\", \"bates\", \"bathe\", \"bathe\", \"bathe\", \"bathe\", \"bear\", \"bear\", \"bear\", \"bear\", \"bear\", \"bear\", \"bear\", \"bear\", \"bear\", \"bear\", \"beare\", \"bebai\", \"becometh\", \"begat\", \"begat\", \"begat\", \"begat\", \"begat\", \"behold\", \"behold\", \"behold\", \"behold\", \"behold\", \"behold\", \"behold\", \"behold\", \"behold\", \"behold\", \"believeth\", \"believeth\", \"beloved\", \"beloved\", \"beloved\", \"beloved\", \"beloved\", \"beloved\", \"ben\", \"ben\", \"berries\", \"berries\", \"berries\", \"bethel\", \"big\", \"big\", \"big\", \"big\", \"big\", \"big\", \"bigvai\", \"bildad\", \"bildad\", \"billy\", \"binnacle\", \"binnacle\", \"binnui\", \"black\", \"black\", \"black\", \"black\", \"black\", \"black\", \"black\", \"black\", \"black\", \"black\", \"blacky\", \"blemish\", \"blemish\", \"blemish\", \"blemish\", \"blemish\", \"boards\", \"boards\", \"boards\", \"boards\", \"boards\", \"boards\", \"boat\", \"boat\", \"boat\", \"boat\", \"boat\", \"boat\", \"boat\", \"boats\", \"boats\", \"boats\", \"boats\", \"bondmaids\", \"boulnois\", \"boulnois\", \"boy\", \"boy\", \"boy\", \"boy\", \"boy\", \"boy\", \"boy\", \"boy\", \"brandon\", \"breadth\", \"breadth\", \"breadth\", \"breadth\", \"breadth\", \"breadth\", \"breadth\", \"breadth\", \"breast\", \"breast\", \"breast\", \"breast\", \"breast\", \"breast\", \"breast\", \"breast\", \"breast\", \"breastplate\", \"breastplate\", \"breastplate\", \"brigand\", \"brown\", \"brown\", \"brown\", \"brown\", \"brown\", \"brown\", \"bru\", \"brutus\", \"bugles\", \"bull\", \"bull\", \"bull\", \"bull\", \"bull\", \"bullock\", \"bullock\", \"bullock\", \"bullock\", \"bullock\", \"bullock\", \"burnt\", \"burnt\", \"burnt\", \"burnt\", \"burnt\", \"burnt\", \"burnt\", \"burnt\", \"burnt\", \"buster\", \"buster\", \"cabin\", \"cabin\", \"cabin\", \"cabin\", \"caes\", \"caesar\", \"caesar\", \"caesar\", \"caesar\", \"caesar\", \"caesarea\", \"california\", \"came\", \"came\", \"came\", \"came\", \"came\", \"came\", \"came\", \"came\", \"came\", \"came\", \"canaanites\", \"captain\", \"captain\", \"captain\", \"captain\", \"captain\", \"captain\", \"captain\", \"captain\", \"car\", \"car\", \"car\", \"car\", \"carlo\", \"carlo\", \"carnal\", \"carols\", \"casks\", \"casks\", \"cassi\", \"cassius\", \"casteth\", \"caterpillar\", \"caul\", \"caul\", \"chambers\", \"chambers\", \"chambers\", \"chambers\", \"chambers\", \"chambers\", \"chambers\", \"chant\", \"chant\", \"chant\", \"chants\", \"charles\", \"charles\", \"chatterer\", \"chick\", \"chick\", \"children\", \"children\", \"children\", \"children\", \"children\", \"children\", \"children\", \"children\", \"children\", \"children\", \"christ\", \"christ\", \"christ\", \"christ\", \"christ\", \"christopher\", \"churchill\", \"churchill\", \"circumcision\", \"circumcision\", \"cities\", \"cities\", \"cities\", \"cities\", \"cities\", \"cities\", \"cities\", \"cities\", \"city\", \"city\", \"city\", \"city\", \"city\", \"city\", \"city\", \"city\", \"city\", \"city\", \"claude\", \"cleansing\", \"cleansing\", \"cleansing\", \"clo\", \"colonel\", \"colonel\", \"colonel\", \"color\", \"colors\", \"come\", \"come\", \"come\", \"come\", \"come\", \"come\", \"come\", \"come\", \"come\", \"come\", \"commanded\", \"commanded\", \"commanded\", \"commanded\", \"commanded\", \"commanded\", \"commanded\", \"commanded\", \"congregation\", \"congregation\", \"congregation\", \"congregation\", \"congregation\", \"congregation\", \"congregation\", \"consecration\", \"convocation\", \"convocation\", \"convocations\", \"could\", \"could\", \"could\", \"could\", \"could\", \"could\", \"could\", \"could\", \"could\", \"could\", \"countless\", \"countless\", \"coupling\", \"courier\", \"courier\", \"crew\", \"crew\", \"crew\", \"crew\", \"crew\", \"cried\", \"cried\", \"cried\", \"cried\", \"cried\", \"cried\", \"cried\", \"cried\", \"cried\", \"crops\", \"cubits\", \"cubits\", \"cubits\", \"damsel\", \"dark\", \"dark\", \"dark\", \"dark\", \"dark\", \"dark\", \"dark\", \"dark\", \"dashwood\", \"david\", \"david\", \"david\", \"day\", \"day\", \"day\", \"day\", \"day\", \"day\", \"day\", \"day\", \"day\", \"day\", \"de\", \"de\", \"de\", \"de\", \"dear\", \"dear\", \"dear\", \"dear\", \"dear\", \"dear\", \"dear\", \"death\", \"death\", \"death\", \"death\", \"death\", \"death\", \"death\", \"death\", \"death\", \"death\", \"deck\", \"deck\", \"deck\", \"deck\", \"deck\", \"deck\", \"deck\", \"despiseth\", \"deuel\", \"deuel\", \"dick\", \"dick\", \"divine\", \"divine\", \"divine\", \"divine\", \"divine\", \"divine\", \"doe\", \"doe\", \"doeth\", \"doeth\", \"doeth\", \"doeth\", \"door\", \"door\", \"door\", \"door\", \"door\", \"door\", \"door\", \"door\", \"door\", \"door\", \"doubloon\", \"doubloon\", \"downe\", \"dr\", \"dr\", \"dr\", \"dr\", \"drums\", \"drums\", \"duel\", \"duel\", \"duel\", \"earth\", \"earth\", \"earth\", \"earth\", \"earth\", \"earth\", \"earth\", \"earth\", \"earth\", \"earth\", \"ebook\", \"edom\", \"edom\", \"edward\", \"edward\", \"egypt\", \"egypt\", \"egypt\", \"egypt\", \"egypt\", \"egypt\", \"egypt\", \"egypt\", \"eidolons\", \"eliasaph\", \"eliashib\", \"eliashib\", \"elinor\", \"elisha\", \"elizur\", \"elliot\", \"elliot\", \"elton\", \"elton\", \"emma\", \"emma\", \"enan\", \"engagement\", \"engagement\", \"enter\", \"enter\", \"enter\", \"enter\", \"enter\", \"enter\", \"enter\", \"enter\", \"enter\", \"enter\", \"envelop\", \"ephesus\", \"ephod\", \"ephod\", \"ephraim\", \"ephraim\", \"ephraim\", \"ephraim\", \"epistle\", \"epistle\", \"esther\", \"esther\", \"estimation\", \"estimation\", \"estimation\", \"estimation\", \"euen\", \"euery\", \"evan\", \"evan\", \"eve\", \"eve\", \"eve\", \"eve\", \"eve\", \"even\", \"even\", \"even\", \"even\", \"even\", \"even\", \"even\", \"even\", \"even\", \"ever\", \"ever\", \"ever\", \"ever\", \"ever\", \"ever\", \"ever\", \"ever\", \"ever\", \"ever\", \"every\", \"every\", \"every\", \"every\", \"every\", \"every\", \"every\", \"every\", \"every\", \"every\", \"exeunt\", \"ezra\", \"ezra\", \"ezza\", \"face\", \"face\", \"face\", \"face\", \"face\", \"face\", \"face\", \"face\", \"face\", \"face\", \"fairfax\", \"faith\", \"faith\", \"faith\", \"faith\", \"faith\", \"faith\", \"faith\", \"faith\", \"farms\", \"farms\", \"fat\", \"fat\", \"fat\", \"fat\", \"fat\", \"fat\", \"fat\", \"fat\", \"fat\", \"father\", \"father\", \"father\", \"father\", \"father\", \"father\", \"father\", \"father\", \"father\", \"father\", \"feare\", \"fedallah\", \"fedallah\", \"feelings\", \"feelings\", \"feelings\", \"feelings\", \"feelings\", \"ferrars\", \"festus\", \"fields\", \"fields\", \"fields\", \"fields\", \"fields\", \"fields\", \"fields\", \"fields\", \"fields\", \"fields\", \"fight\", \"fight\", \"fight\", \"fight\", \"fight\", \"fight\", \"fight\", \"fight\", \"figure\", \"figure\", \"figure\", \"figure\", \"figure\", \"figure\", \"figure\", \"figure\", \"fillets\", \"first\", \"first\", \"first\", \"first\", \"first\", \"first\", \"first\", \"first\", \"first\", \"first\", \"fisher\", \"fisher\", \"fisher\", \"five\", \"five\", \"five\", \"five\", \"five\", \"five\", \"five\", \"five\", \"five\", \"flask\", \"flask\", \"flask\", \"forecastle\", \"forecastle\", \"forest\", \"forest\", \"forest\", \"forest\", \"forest\", \"forest\", \"forest\", \"forever\", \"forever\", \"forever\", \"fornication\", \"fornication\", \"fornication\", \"francisco\", \"francisco\", \"francisco\", \"francisco\", \"frank\", \"frank\", \"franklin\", \"franklin\", \"garden\", \"garden\", \"garden\", \"garden\", \"garden\", \"garden\", \"garden\", \"garden\", \"garden\", \"gate\", \"gate\", \"gate\", \"gate\", \"gate\", \"gate\", \"gate\", \"gate\", \"gate\", \"gate\", \"gentiles\", \"gentiles\", \"gibeah\", \"gideoni\", \"gilead\", \"gingerbread\", \"gingerbread\", \"giue\", \"glory\", \"glory\", \"glory\", \"glory\", \"glory\", \"glory\", \"glory\", \"glory\", \"glory\", \"glory\", \"go\", \"go\", \"go\", \"go\", \"go\", \"go\", \"go\", \"go\", \"go\", \"go\", \"god\", \"god\", \"god\", \"god\", \"god\", \"god\", \"god\", \"god\", \"god\", \"god\", \"godliness\", \"gog\", \"gog\", \"gog\", \"gold\", \"gold\", \"gold\", \"gold\", \"gold\", \"gold\", \"gold\", \"gold\", \"gold\", \"gold\", \"good\", \"good\", \"good\", \"good\", \"good\", \"good\", \"good\", \"good\", \"good\", \"good\", \"goody\", \"gospel\", \"gospel\", \"got\", \"got\", \"got\", \"got\", \"got\", \"got\", \"got\", \"got\", \"great\", \"great\", \"great\", \"great\", \"great\", \"great\", \"great\", \"great\", \"great\", \"great\", \"green\", \"green\", \"green\", \"green\", \"green\", \"green\", \"green\", \"green\", \"green\", \"gregory\", \"gregory\", \"gresham\", \"growths\", \"gryphon\", \"gryphon\", \"guinea\", \"guinea\", \"guinea\", \"gutenberg\", \"hal\", \"halfpence\", \"ham\", \"ham\", \"ham\", \"ham\", \"ham\", \"ham\", \"haman\", \"haman\", \"hamlet\", \"hamlet\", \"hamlet\", \"hamlet\", \"hamlet\", \"hammock\", \"hammock\", \"hand\", \"hand\", \"hand\", \"hand\", \"hand\", \"hand\", \"hand\", \"hand\", \"hand\", \"hand\", \"handmaid\", \"hangings\", \"hangings\", \"hangings\", \"harim\", \"harper\", \"harpoon\", \"harpoon\", \"harpooneer\", \"harpooneer\", \"harpooneers\", \"harpooneers\", \"harriet\", \"harriet\", \"harrogate\", \"hartfield\", \"hast\", \"hast\", \"hast\", \"hast\", \"hast\", \"hast\", \"hast\", \"hast\", \"hast\", \"hast\", \"hath\", \"hath\", \"hath\", \"hath\", \"hath\", \"hath\", \"hath\", \"hath\", \"hath\", \"hath\", \"haue\", \"haue\", \"head\", \"head\", \"head\", \"head\", \"head\", \"head\", \"head\", \"head\", \"head\", \"head\", \"hear\", \"hear\", \"hear\", \"hear\", \"hear\", \"hear\", \"hear\", \"hear\", \"hear\", \"heare\", \"heart\", \"heart\", \"heart\", \"heart\", \"heart\", \"heart\", \"heart\", \"heart\", \"heart\", \"heart\", \"heauen\", \"heaven\", \"heaven\", \"heaven\", \"heaven\", \"heaven\", \"heaven\", \"heaven\", \"heaven\", \"heaven\", \"hebron\", \"hebron\", \"heere\", \"hell\", \"hell\", \"hell\", \"hell\", \"hell\", \"hell\", \"hell\", \"hell\", \"hell\", \"helon\", \"hen\", \"hen\", \"hen\", \"hen\", \"hen\", \"hen\", \"henrietta\", \"hezekiah\", \"hezekiah\", \"highbury\", \"highlander\", \"hodijah\", \"holy\", \"holy\", \"holy\", \"holy\", \"holy\", \"holy\", \"holy\", \"holy\", \"holy\", \"holy\", \"hopkins\", \"hoppity\", \"hor\", \"hor\", \"hor\", \"hor\", \"house\", \"house\", \"house\", \"house\", \"house\", \"house\", \"house\", \"house\", \"house\", \"house\", \"however\", \"however\", \"however\", \"however\", \"however\", \"human\", \"human\", \"human\", \"human\", \"human\", \"human\", \"human\", \"hundred\", \"hundred\", \"hundred\", \"hundred\", \"hundred\", \"hundred\", \"hundred\", \"hundred\", \"hundred\", \"hundred\", \"hussey\", \"hutton\", \"identity\", \"identity\", \"ile\", \"ile\", \"ile\", \"increaseth\", \"inwards\", \"inwards\", \"inwards\", \"inwards\", \"israel\", \"israel\", \"israel\", \"israel\", \"israel\", \"israel\", \"israel\", \"israel\", \"israelitish\", \"issue\", \"issue\", \"issue\", \"issue\", \"issue\", \"issue\", \"issue\", \"jackal\", \"jackal\", \"jacob\", \"jacob\", \"jacob\", \"jacob\", \"jacob\", \"jane\", \"jane\", \"jay\", \"jehoiada\", \"jehoshaphat\", \"jehu\", \"jem\", \"jem\", \"jennings\", \"jeremiah\", \"jerusalem\", \"jerusalem\", \"jerusalem\", \"jerusalem\", \"jerusalem\", \"jerusalem\", \"jeshua\", \"jeshua\", \"jesus\", \"jesus\", \"jesus\", \"jesus\", \"jesus\", \"jews\", \"jews\", \"jews\", \"jews\", \"jews\", \"jews\", \"jews\", \"joab\", \"joash\", \"joe\", \"joe\", \"joe\", \"joe\", \"jonah\", \"jonah\", \"jonah\", \"jonathan\", \"jonathan\", \"jordan\", \"jordan\", \"jordan\", \"jordan\", \"joseph\", \"joseph\", \"joseph\", \"joseph\", \"joshua\", \"joshua\", \"josiah\", \"joys\", \"joys\", \"joys\", \"joys\", \"jozadak\", \"jubile\", \"judah\", \"judah\", \"judah\", \"judah\", \"judgeth\", \"kadmiel\", \"kidd\", \"kidneys\", \"kidneys\", \"king\", \"king\", \"king\", \"king\", \"king\", \"king\", \"king\", \"king\", \"king\", \"king\", \"knightley\", \"knightley\", \"knop\", \"know\", \"know\", \"know\", \"know\", \"know\", \"know\", \"know\", \"know\", \"know\", \"know\", \"knoweth\", \"knoweth\", \"knoweth\", \"laban\", \"lady\", \"lady\", \"lady\", \"lady\", \"lady\", \"lady\", \"lady\", \"laer\", \"lakeman\", \"land\", \"land\", \"land\", \"land\", \"land\", \"land\", \"land\", \"land\", \"land\", \"land\", \"lands\", \"lands\", \"lands\", \"lands\", \"lands\", \"lands\", \"lands\", \"lands\", \"last\", \"last\", \"last\", \"last\", \"last\", \"last\", \"last\", \"last\", \"last\", \"law\", \"law\", \"law\", \"law\", \"law\", \"law\", \"law\", \"law\", \"law\", \"law\", \"lawrence\", \"lawrence\", \"lawrence\", \"leapt\", \"leapt\", \"leapt\", \"leapt\", \"leaue\", \"leeward\", \"leeward\", \"leg\", \"leg\", \"leg\", \"leg\", \"leg\", \"leprosy\", \"leprosy\", \"let\", \"let\", \"let\", \"let\", \"let\", \"let\", \"let\", \"let\", \"let\", \"let\", \"levites\", \"levites\", \"levites\", \"libertad\", \"life\", \"life\", \"life\", \"life\", \"life\", \"life\", \"life\", \"life\", \"life\", \"light\", \"light\", \"light\", \"light\", \"light\", \"light\", \"light\", \"light\", \"light\", \"light\", \"lightfoot\", \"like\", \"like\", \"like\", \"like\", \"like\", \"like\", \"like\", \"like\", \"like\", \"like\", \"limitless\", \"line\", \"line\", \"line\", \"line\", \"line\", \"line\", \"line\", \"line\", \"line\", \"little\", \"little\", \"little\", \"little\", \"little\", \"little\", \"little\", \"little\", \"little\", \"little\", \"long\", \"long\", \"long\", \"long\", \"long\", \"long\", \"long\", \"long\", \"long\", \"long\", \"looke\", \"looked\", \"looked\", \"looked\", \"looked\", \"looked\", \"looked\", \"looked\", \"looked\", \"looked\", \"loops\", \"loops\", \"loops\", \"lord\", \"lord\", \"lord\", \"lord\", \"lord\", \"lord\", \"lord\", \"lord\", \"lord\", \"lord\", \"loue\", \"louisa\", \"louisa\", \"louisa\", \"louisa\", \"love\", \"love\", \"love\", \"love\", \"love\", \"love\", \"love\", \"love\", \"loveit\", \"loveth\", \"loveth\", \"lunatic\", \"lunatic\", \"macb\", \"macb\", \"macbeth\", \"macedonia\", \"macian\", \"macian\", \"made\", \"made\", \"made\", \"made\", \"made\", \"made\", \"made\", \"made\", \"made\", \"made\", \"madeleine\", \"madeleine\", \"make\", \"make\", \"make\", \"make\", \"make\", \"make\", \"make\", \"make\", \"make\", \"make\", \"man\", \"man\", \"man\", \"man\", \"man\", \"man\", \"man\", \"man\", \"man\", \"man\", \"manasseh\", \"manasseh\", \"manhattan\", \"manifest\", \"manifest\", \"manifest\", \"manifest\", \"mannahatta\", \"manxman\", \"many\", \"many\", \"many\", \"many\", \"many\", \"many\", \"many\", \"many\", \"many\", \"many\", \"marianne\", \"marianne\", \"marquis\", \"marquis\", \"mast\", \"mast\", \"mast\", \"maurice\", \"maurice\", \"may\", \"may\", \"may\", \"may\", \"may\", \"may\", \"may\", \"may\", \"may\", \"may\", \"mean\", \"mean\", \"mean\", \"mean\", \"mean\", \"mean\", \"mean\", \"mean\", \"measured\", \"measured\", \"measured\", \"measured\", \"measured\", \"measured\", \"measured\", \"men\", \"men\", \"men\", \"men\", \"men\", \"men\", \"men\", \"men\", \"men\", \"men\", \"mercy\", \"mercy\", \"mercy\", \"mercy\", \"mercy\", \"mercy\", \"mercy\", \"mercy\", \"mercy\", \"mercy\", \"meremoth\", \"middlemost\", \"might\", \"might\", \"might\", \"might\", \"might\", \"might\", \"might\", \"might\", \"might\", \"might\", \"mink\", \"miss\", \"miss\", \"miss\", \"miss\", \"miss\", \"miss\", \"miss\", \"moab\", \"moab\", \"moby\", \"moby\", \"mordecai\", \"mordecai\", \"mordecai\", \"moses\", \"moses\", \"moses\", \"moses\", \"moses\", \"moses\", \"moses\", \"mr\", \"mr\", \"mr\", \"mr\", \"mr\", \"mr\", \"mrs\", \"mrs\", \"mrs\", \"mrs\", \"mrs\", \"mrs\", \"much\", \"much\", \"much\", \"much\", \"much\", \"much\", \"much\", \"much\", \"much\", \"much\", \"muscari\", \"musgrove\", \"must\", \"must\", \"must\", \"must\", \"must\", \"must\", \"must\", \"must\", \"must\", \"must\", \"myriad\", \"nakedness\", \"nakedness\", \"nakedness\", \"nakedness\", \"nakedness\", \"nantucket\", \"nantucket\", \"nehemiah\", \"nethinims\", \"nethinims\", \"neuer\", \"never\", \"never\", \"never\", \"never\", \"never\", \"never\", \"never\", \"never\", \"never\", \"never\", \"night\", \"night\", \"night\", \"night\", \"night\", \"night\", \"night\", \"night\", \"night\", \"night\", \"nothing\", \"nothing\", \"nothing\", \"nothing\", \"nothing\", \"nothing\", \"nothing\", \"nothing\", \"nothing\", \"numbered\", \"numbered\", \"numbered\", \"numbered\", \"numbered\", \"numbered\", \"oakly\", \"oblation\", \"oblation\", \"oblation\", \"ocran\", \"offer\", \"offer\", \"offer\", \"offer\", \"offer\", \"offer\", \"offer\", \"offer\", \"offer\", \"offer\", \"offering\", \"offering\", \"offering\", \"offering\", \"offering\", \"offering\", \"offering\", \"offering\", \"offering\", \"offering\", \"oh\", \"oh\", \"oh\", \"oh\", \"oh\", \"oh\", \"oh\", \"oh\", \"oh\", \"old\", \"old\", \"old\", \"old\", \"old\", \"old\", \"old\", \"old\", \"old\", \"old\", \"one\", \"one\", \"one\", \"one\", \"one\", \"one\", \"one\", \"one\", \"one\", \"one\", \"osr\", \"otter\", \"otter\", \"ouches\", \"owne\", \"pagiel\", \"pahathmoab\", \"pail\", \"pail\", \"pail\", \"pail\", \"palmer\", \"paradise\", \"paradise\", \"paradise\", \"paradise\", \"paradise\", \"paradise\", \"parosh\", \"parsee\", \"partakers\", \"pass\", \"pass\", \"pass\", \"pass\", \"pass\", \"pass\", \"pass\", \"pass\", \"pass\", \"paul\", \"paul\", \"paul\", \"paul\", \"paul\", \"paul\", \"paul\", \"paumanok\", \"pedahzur\", \"peleg\", \"peleg\", \"pennant\", \"pennant\", \"pennants\", \"people\", \"people\", \"people\", \"people\", \"people\", \"people\", \"people\", \"people\", \"people\", \"people\", \"pequod\", \"pequod\", \"perth\", \"perth\", \"peter\", \"peter\", \"peter\", \"peter\", \"peter\", \"peter\", \"pharaoh\", \"pharaoh\", \"pharaoh\", \"pharaoh\", \"philistines\", \"piedro\", \"piedro\", \"pioneers\", \"pip\", \"pip\", \"plague\", \"plague\", \"plague\", \"plague\", \"plague\", \"plague\", \"plague\", \"plague\", \"plaistered\", \"poems\", \"poems\", \"police\", \"police\", \"police\", \"prairies\", \"prairies\", \"prairies\", \"prairies\", \"praise\", \"praise\", \"praise\", \"praise\", \"praise\", \"praise\", \"praise\", \"praise\", \"praise\", \"preached\", \"preached\", \"preached\", \"preached\", \"priest\", \"priest\", \"priest\", \"priest\", \"priest\", \"priest\", \"priest\", \"priest\", \"priest\", \"priest\", \"products\", \"profane\", \"profane\", \"profane\", \"profane\", \"professor\", \"professor\", \"professor\", \"professor\", \"professor\", \"pronounce\", \"pronounce\", \"pronounce\", \"pronounce\", \"pronounce\", \"pronounce\", \"pronounce\", \"put\", \"put\", \"put\", \"put\", \"put\", \"put\", \"put\", \"put\", \"put\", \"put\", \"quayle\", \"queequeg\", \"queequeg\", \"quite\", \"quite\", \"quite\", \"quite\", \"quite\", \"quite\", \"quite\", \"quite\", \"quite\", \"radney\", \"ram\", \"ram\", \"ram\", \"ram\", \"ram\", \"ram\", \"ramadan\", \"ran\", \"ran\", \"ran\", \"ran\", \"ran\", \"ran\", \"ran\", \"randalls\", \"reddy\", \"rehoboam\", \"rehum\", \"rejoice\", \"rejoice\", \"rejoice\", \"rejoice\", \"repaired\", \"repaired\", \"repaired\", \"repaired\", \"repaired\", \"rigging\", \"rigging\", \"righteous\", \"righteous\", \"righteous\", \"righteous\", \"righteous\", \"righteous\", \"righteousness\", \"righteousness\", \"righteousness\", \"rings\", \"rings\", \"rings\", \"rings\", \"rings\", \"rings\", \"rings\", \"rings\", \"rory\", \"rosamond\", \"rosamond\", \"round\", \"round\", \"round\", \"round\", \"round\", \"round\", \"round\", \"round\", \"round\", \"round\", \"rump\", \"russell\", \"russell\", \"sacrifice\", \"sacrifice\", \"sacrifice\", \"sacrifice\", \"sacrifice\", \"sacrifice\", \"sacrifice\", \"said\", \"said\", \"said\", \"said\", \"said\", \"said\", \"said\", \"said\", \"said\", \"said\", \"saints\", \"saints\", \"saints\", \"saints\", \"saints\", \"saith\", \"saith\", \"saith\", \"saith\", \"saith\", \"saith\", \"salvation\", \"salvation\", \"salvation\", \"salvation\", \"samaria\", \"samaria\", \"sammy\", \"sammy\", \"sammy\", \"sanballat\", \"sanctuary\", \"sanctuary\", \"sanctuary\", \"sanctuary\", \"sanctuary\", \"saul\", \"saul\", \"saul\", \"saul\", \"say\", \"say\", \"say\", \"say\", \"say\", \"say\", \"say\", \"say\", \"say\", \"say\", \"saying\", \"saying\", \"saying\", \"saying\", \"saying\", \"saying\", \"saying\", \"saying\", \"saying\", \"saying\", \"scabbed\", \"scall\", \"scapegoat\", \"scurvy\", \"sea\", \"sea\", \"sea\", \"sea\", \"sea\", \"sea\", \"sea\", \"sea\", \"sea\", \"sea\", \"secretary\", \"secretary\", \"see\", \"see\", \"see\", \"see\", \"see\", \"see\", \"see\", \"see\", \"see\", \"see\", \"seemed\", \"seemed\", \"seemed\", \"seemed\", \"seemed\", \"seemed\", \"selah\", \"selah\", \"selfe\", \"shall\", \"shall\", \"shall\", \"shall\", \"shall\", \"shall\", \"shall\", \"shall\", \"shall\", \"shall\", \"shalt\", \"shalt\", \"shalt\", \"shalt\", \"shalt\", \"shalt\", \"shalt\", \"shalt\", \"shalt\", \"shebaniah\", \"shebaniah\", \"shechem\", \"shedeur\", \"shelumiel\", \"sherebiah\", \"ship\", \"ship\", \"ship\", \"ship\", \"ship\", \"ship\", \"ship\", \"ship\", \"shipmates\", \"shittim\", \"shittim\", \"shores\", \"shores\", \"shores\", \"shores\", \"shores\", \"side\", \"side\", \"side\", \"side\", \"side\", \"side\", \"side\", \"side\", \"side\", \"side\", \"sin\", \"sin\", \"sin\", \"sin\", \"sin\", \"sin\", \"sin\", \"sin\", \"sin\", \"sing\", \"sing\", \"sing\", \"sing\", \"sing\", \"sing\", \"sing\", \"sing\", \"sing\", \"sir\", \"sir\", \"sir\", \"sir\", \"sir\", \"sir\", \"sir\", \"sir\", \"skin\", \"skin\", \"skin\", \"skin\", \"skin\", \"skin\", \"skin\", \"skin\", \"skin\", \"slew\", \"slew\", \"slew\", \"slew\", \"slew\", \"smith\", \"smith\", \"smith\", \"smith\", \"smote\", \"smote\", \"smote\", \"smote\", \"smote\", \"smote\", \"smote\", \"sockets\", \"sockets\", \"sockets\", \"sockets\", \"sockets\", \"sockets\", \"sojourner\", \"sojourner\", \"sojourner\", \"solomon\", \"solomon\", \"solomon\", \"solomon\", \"solomon\", \"somers\", \"somerville\", \"son\", \"son\", \"son\", \"son\", \"son\", \"son\", \"son\", \"son\", \"son\", \"son\", \"song\", \"song\", \"song\", \"song\", \"song\", \"song\", \"song\", \"song\", \"songs\", \"songs\", \"songs\", \"songs\", \"songs\", \"songs\", \"songs\", \"sons\", \"sons\", \"sons\", \"sons\", \"sons\", \"sons\", \"sons\", \"sons\", \"sons\", \"soon\", \"soon\", \"soon\", \"soon\", \"soon\", \"soon\", \"soon\", \"soon\", \"soon\", \"soul\", \"soul\", \"soul\", \"soul\", \"soul\", \"soul\", \"soul\", \"soul\", \"soul\", \"speake\", \"speaketh\", \"speaketh\", \"speaketh\", \"sperm\", \"sperm\", \"spirit\", \"spirit\", \"spirit\", \"spirit\", \"spirit\", \"spirit\", \"spirit\", \"spirit\", \"spirit\", \"spirit\", \"squirrel\", \"st\", \"st\", \"st\", \"st\", \"st\", \"st\", \"st\", \"starbuck\", \"starbuck\", \"states\", \"states\", \"states\", \"states\", \"states\", \"stedfast\", \"steelkilt\", \"steelkilt\", \"still\", \"still\", \"still\", \"still\", \"still\", \"still\", \"still\", \"still\", \"still\", \"still\", \"stood\", \"stood\", \"stood\", \"stood\", \"stood\", \"stood\", \"stood\", \"stood\", \"stood\", \"stood\", \"stubb\", \"stubb\", \"suburbs\", \"suburbs\", \"suburbs\", \"suburbs\", \"suburbs\", \"sun\", \"sun\", \"sun\", \"sun\", \"sun\", \"sun\", \"sun\", \"sun\", \"sun\", \"sunday\", \"sunday\", \"sunday\", \"sunday\", \"susan\", \"susan\", \"sweepstakes\", \"sweet\", \"sweet\", \"sweet\", \"sweet\", \"sweet\", \"sweet\", \"sweet\", \"sweet\", \"sweet\", \"sweet\", \"syene\", \"syme\", \"syme\", \"syme\", \"syrians\", \"tabernacle\", \"tabernacle\", \"tabernacle\", \"tabernacle\", \"tabernacle\", \"taches\", \"take\", \"take\", \"take\", \"take\", \"take\", \"take\", \"take\", \"take\", \"take\", \"take\", \"tarlton\", \"tashtego\", \"tashtego\", \"teeming\", \"teeming\", \"th\", \"th\", \"th\", \"th\", \"th\", \"thee\", \"thee\", \"thee\", \"thee\", \"thee\", \"thee\", \"thee\", \"thee\", \"thee\", \"thee\", \"themes\", \"therefore\", \"therefore\", \"therefore\", \"therefore\", \"therefore\", \"therefore\", \"therefore\", \"therefore\", \"therefore\", \"therefore\", \"thereof\", \"thereof\", \"thereof\", \"thereof\", \"thereof\", \"thereof\", \"theresa\", \"theresa\", \"thing\", \"thing\", \"thing\", \"thing\", \"thing\", \"thing\", \"thing\", \"thing\", \"thing\", \"thing\", \"things\", \"things\", \"things\", \"things\", \"things\", \"things\", \"things\", \"things\", \"things\", \"things\", \"think\", \"think\", \"think\", \"think\", \"think\", \"think\", \"think\", \"think\", \"think\", \"think\", \"thinke\", \"thou\", \"thou\", \"thou\", \"thou\", \"thou\", \"thou\", \"thou\", \"thou\", \"thou\", \"thou\", \"though\", \"though\", \"though\", \"though\", \"though\", \"though\", \"though\", \"though\", \"though\", \"though\", \"thought\", \"thought\", \"thought\", \"thought\", \"thought\", \"thought\", \"thought\", \"thought\", \"thought\", \"thought\", \"thousand\", \"thousand\", \"thousand\", \"thousand\", \"thousand\", \"thousand\", \"thousand\", \"thousand\", \"thousand\", \"thousand\", \"three\", \"three\", \"three\", \"three\", \"three\", \"three\", \"three\", \"three\", \"three\", \"three\", \"thus\", \"thus\", \"thus\", \"thus\", \"thus\", \"thus\", \"thus\", \"thus\", \"thus\", \"thus\", \"thy\", \"thy\", \"thy\", \"thy\", \"thy\", \"thy\", \"thy\", \"thy\", \"thy\", \"thy\", \"tilled\", \"time\", \"time\", \"time\", \"time\", \"time\", \"time\", \"time\", \"time\", \"time\", \"time\", \"timotheus\", \"tis\", \"tis\", \"tis\", \"tis\", \"tis\", \"tobiah\", \"transgressors\", \"trout\", \"trout\", \"tulip\", \"tulip\", \"turnbull\", \"turnbull\", \"twined\", \"twined\", \"twined\", \"two\", \"two\", \"two\", \"two\", \"two\", \"two\", \"two\", \"two\", \"two\", \"two\", \"uncircumcision\", \"unclean\", \"unclean\", \"unclean\", \"unclean\", \"unclean\", \"unclean\", \"uncover\", \"uncover\", \"uncover\", \"unto\", \"unto\", \"unto\", \"unto\", \"unto\", \"unto\", \"unto\", \"unto\", \"unto\", \"unto\", \"upon\", \"upon\", \"upon\", \"upon\", \"upon\", \"upon\", \"upon\", \"upon\", \"upon\", \"upon\", \"uppercross\", \"upward\", \"upward\", \"upward\", \"upward\", \"upward\", \"upward\", \"upward\", \"upward\", \"us\", \"us\", \"us\", \"us\", \"us\", \"us\", \"us\", \"us\", \"us\", \"us\", \"verily\", \"verily\", \"verily\", \"verily\", \"verily\", \"verily\", \"voyage\", \"voyage\", \"voyage\", \"voyage\", \"voyage\", \"voyage\", \"vp\", \"vpon\", \"vs\", \"waits\", \"waits\", \"waits\", \"waits\", \"war\", \"war\", \"war\", \"war\", \"war\", \"war\", \"war\", \"war\", \"war\", \"war\", \"water\", \"water\", \"water\", \"water\", \"water\", \"water\", \"water\", \"water\", \"water\", \"water\", \"waves\", \"waves\", \"waves\", \"waves\", \"waves\", \"waves\", \"way\", \"way\", \"way\", \"way\", \"way\", \"way\", \"way\", \"way\", \"way\", \"way\", \"well\", \"well\", \"well\", \"well\", \"well\", \"well\", \"well\", \"well\", \"well\", \"well\", \"went\", \"went\", \"went\", \"went\", \"went\", \"went\", \"went\", \"went\", \"went\", \"went\", \"wentworth\", \"western\", \"western\", \"western\", \"western\", \"western\", \"weston\", \"weston\", \"whale\", \"whale\", \"whale\", \"whale\", \"whalemen\", \"whalemen\", \"whales\", \"whales\", \"whales\", \"whales\", \"whaling\", \"whaling\", \"whaling\", \"whilst\", \"whilst\", \"whilst\", \"whilst\", \"whilst\", \"whilst\", \"white\", \"white\", \"white\", \"white\", \"white\", \"white\", \"white\", \"white\", \"white\", \"white\", \"wicked\", \"wicked\", \"wicked\", \"wicked\", \"wicked\", \"wicked\", \"wicked\", \"wicked\", \"wicked\", \"wicked\", \"wilkinson\", \"willoughby\", \"wisdom\", \"wisdom\", \"wisdom\", \"wisdom\", \"wisdom\", \"wisdom\", \"wisdom\", \"wisdom\", \"wisdom\", \"women\", \"women\", \"women\", \"women\", \"women\", \"women\", \"women\", \"women\", \"women\", \"women\", \"wonderous\", \"woodhouse\", \"woodhouse\", \"woods\", \"woods\", \"woods\", \"woods\", \"woods\", \"woods\", \"work\", \"work\", \"work\", \"work\", \"work\", \"work\", \"work\", \"work\", \"work\", \"worketh\", \"works\", \"works\", \"works\", \"works\", \"works\", \"works\", \"works\", \"works\", \"world\", \"world\", \"world\", \"world\", \"world\", \"world\", \"world\", \"world\", \"would\", \"would\", \"would\", \"would\", \"would\", \"would\", \"would\", \"would\", \"would\", \"would\", \"ye\", \"ye\", \"ye\", \"ye\", \"ye\", \"ye\", \"ye\", \"ye\", \"ye\", \"ye\", \"yea\", \"yea\", \"yea\", \"yea\", \"yea\", \"yea\", \"yea\", \"yea\", \"yea\", \"yearning\", \"yet\", \"yet\", \"yet\", \"yet\", \"yet\", \"yet\", \"yet\", \"yet\", \"yet\", \"yet\", \"yojo\", \"zedekiah\", \"zuar\", \"zurishaddai\"]}, \"R\": 30, \"lambda.step\": 0.01, \"plot.opts\": {\"xlab\": \"PC1\", \"ylab\": \"PC2\"}, \"topic.order\": [4, 9, 8, 2, 7, 6, 3, 5, 10, 1]};\n",
       "\n",
       "function LDAvis_load_lib(url, callback){\n",
       "  var s = document.createElement('script');\n",
       "  s.src = url;\n",
       "  s.async = true;\n",
       "  s.onreadystatechange = s.onload = callback;\n",
       "  s.onerror = function(){console.warn(\"failed to load library \" + url);};\n",
       "  document.getElementsByTagName(\"head\")[0].appendChild(s);\n",
       "}\n",
       "\n",
       "if(typeof(LDAvis) !== \"undefined\"){\n",
       "   // already loaded: just create the visualization\n",
       "   !function(LDAvis){\n",
       "       new LDAvis(\"#\" + \"ldavis_el540421360136538323639552819\", ldavis_el540421360136538323639552819_data);\n",
       "   }(LDAvis);\n",
       "}else if(typeof define === \"function\" && define.amd){\n",
       "   // require.js is available: use it to load d3/LDAvis\n",
       "   require.config({paths: {d3: \"https://cdnjs.cloudflare.com/ajax/libs/d3/3.5.5/d3.min\"}});\n",
       "   require([\"d3\"], function(d3){\n",
       "      window.d3 = d3;\n",
       "      LDAvis_load_lib(\"https://cdn.rawgit.com/bmabey/pyLDAvis/files/ldavis.v1.0.0.js\", function(){\n",
       "        new LDAvis(\"#\" + \"ldavis_el540421360136538323639552819\", ldavis_el540421360136538323639552819_data);\n",
       "      });\n",
       "    });\n",
       "}else{\n",
       "    // require.js not available: dynamically load d3 & LDAvis\n",
       "    LDAvis_load_lib(\"https://cdnjs.cloudflare.com/ajax/libs/d3/3.5.5/d3.min.js\", function(){\n",
       "         LDAvis_load_lib(\"https://cdn.rawgit.com/bmabey/pyLDAvis/files/ldavis.v1.0.0.js\", function(){\n",
       "                 new LDAvis(\"#\" + \"ldavis_el540421360136538323639552819\", ldavis_el540421360136538323639552819_data);\n",
       "            })\n",
       "         });\n",
       "}\n",
       "</script>"
      ],
      "text/plain": [
       "PreparedData(topic_coordinates=              x         y  topics  cluster       Freq\n",
       "topic                                                \n",
       "3     -0.151224  0.030986       1        1  25.093439\n",
       "8      0.178954  0.040057       2        1  21.082071\n",
       "7      0.092411  0.012546       3        1  13.979059\n",
       "1     -0.139809  0.043455       4        1  10.290544\n",
       "6     -0.141818  0.056033       5        1   9.026441\n",
       "5     -0.113350  0.046713       6        1   7.608554\n",
       "2     -0.081808  0.015112       7        1   6.109668\n",
       "4     -0.044820 -0.269006       8        1   3.164733\n",
       "9      0.196449  0.010192       9        1   1.828311\n",
       "0      0.205017  0.013912      10        1   1.817185, topic_info=      Category          Freq    Term         Total  loglift  logprob\n",
       "680    Default  11106.000000   shall  11106.000000  30.0000  30.0000\n",
       "10756  Default   8638.000000    unto   8638.000000  29.0000  29.0000\n",
       "2581   Default   8211.000000    lord   8211.000000  28.0000  28.0000\n",
       "5503   Default   6534.000000    thou   6534.000000  27.0000  27.0000\n",
       "3230   Default   4544.000000      ye   4544.000000  26.0000  26.0000\n",
       "...        ...           ...     ...           ...      ...      ...\n",
       "464    Topic10     90.666328    make   2153.333008   0.8403  -5.3255\n",
       "547    Topic10    113.552979     one   6015.055664   0.0381  -5.1004\n",
       "11033  Topic10     83.249153  israel   2457.239746   0.6229  -5.4108\n",
       "3230   Topic10     80.265282      ye   4544.128418  -0.0284  -5.4473\n",
       "4063   Topic10     76.862587     god   5167.294434  -0.2002  -5.4907\n",
       "\n",
       "[836 rows x 6 columns], token_table=       Topic      Freq         Term\n",
       "term                               \n",
       "10813      2  0.226433        aaron\n",
       "10813      3  0.026253        aaron\n",
       "10813      5  0.003282        aaron\n",
       "10813      9  0.154237        aaron\n",
       "10813     10  0.587413        aaron\n",
       "...      ...       ...          ...\n",
       "859       10  0.005056          yet\n",
       "28315      6  0.941271         yojo\n",
       "14166      2  0.977267     zedekiah\n",
       "12045      9  0.781351         zuar\n",
       "12047      9  0.781184  zurishaddai\n",
       "\n",
       "[2732 rows x 3 columns], R=30, lambda_step=0.01, plot_opts={'xlab': 'PC1', 'ylab': 'PC2'}, topic_order=[4, 9, 8, 2, 7, 6, 3, 5, 10, 1])"
      ]
     },
     "execution_count": 263,
     "metadata": {},
     "output_type": "execute_result"
    }
   ],
   "source": [
    "import pyLDAvis\n",
    "import pyLDAvis.gensim\n",
    "\n",
    "pyLDAvis.enable_notebook()\n",
    "lda_vis = pyLDAvis.gensim.prepare(lda_model, corpus, id2word)\n",
    "lda_vis"
   ]
  }
 ],
 "metadata": {
  "kernelspec": {
   "display_name": "Python 3",
   "language": "python",
   "name": "python3"
  },
  "language_info": {
   "codemirror_mode": {
    "name": "ipython",
    "version": 3
   },
   "file_extension": ".py",
   "mimetype": "text/x-python",
   "name": "python",
   "nbconvert_exporter": "python",
   "pygments_lexer": "ipython3",
   "version": "3.7.4"
  },
  "toc": {
   "base_numbering": 1,
   "nav_menu": {},
   "number_sections": true,
   "sideBar": true,
   "skip_h1_title": false,
   "title_cell": "Table of Contents",
   "title_sidebar": "Contents",
   "toc_cell": false,
   "toc_position": {
    "height": "calc(100% - 180px)",
    "left": "10px",
    "top": "150px",
    "width": "192.284px"
   },
   "toc_section_display": true,
   "toc_window_display": true
  }
 },
 "nbformat": 4,
 "nbformat_minor": 2
}
