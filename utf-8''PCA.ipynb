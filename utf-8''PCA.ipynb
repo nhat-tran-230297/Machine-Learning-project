{
  "cells": [
    {
      "metadata": {
        "trusted": true
      },
      "cell_type": "code",
      "source": "import numpy as np\nimport pandas as pd",
      "execution_count": 1,
      "outputs": []
    },
    {
      "metadata": {
        "trusted": true
      },
      "cell_type": "code",
      "source": "a = np.array([[1,2,3,4],[2,4,6,8],[3,6,9,12],[4,8,12,16]])\na",
      "execution_count": 2,
      "outputs": [
        {
          "output_type": "execute_result",
          "execution_count": 2,
          "data": {
            "text/plain": "array([[ 1,  2,  3,  4],\n       [ 2,  4,  6,  8],\n       [ 3,  6,  9, 12],\n       [ 4,  8, 12, 16]])"
          },
          "metadata": {}
        }
      ]
    },
    {
      "metadata": {
        "trusted": true
      },
      "cell_type": "code",
      "source": "b = np.array([1,2,3,4])",
      "execution_count": 3,
      "outputs": []
    },
    {
      "metadata": {
        "trusted": true
      },
      "cell_type": "code",
      "source": "c = b - b.mean()\nc",
      "execution_count": 4,
      "outputs": [
        {
          "output_type": "execute_result",
          "execution_count": 4,
          "data": {
            "text/plain": "array([-1.5, -0.5,  0.5,  1.5])"
          },
          "metadata": {}
        }
      ]
    },
    {
      "metadata": {
        "trusted": true
      },
      "cell_type": "code",
      "source": "aa = a-np.mean(a)\nnp.matmul(aa,aa.T)",
      "execution_count": 5,
      "outputs": [
        {
          "output_type": "execute_result",
          "execution_count": 5,
          "data": {
            "text/plain": "array([[ 61.25,  28.75,  -3.75, -36.25],\n       [ 28.75,  26.25,  23.75,  21.25],\n       [ -3.75,  23.75,  51.25,  78.75],\n       [-36.25,  21.25,  78.75, 136.25]])"
          },
          "metadata": {}
        }
      ]
    },
    {
      "metadata": {
        "trusted": true
      },
      "cell_type": "code",
      "source": "np.dot(aa,aa.T)",
      "execution_count": 6,
      "outputs": [
        {
          "output_type": "execute_result",
          "execution_count": 6,
          "data": {
            "text/plain": "array([[ 61.25,  28.75,  -3.75, -36.25],\n       [ 28.75,  26.25,  23.75,  21.25],\n       [ -3.75,  23.75,  51.25,  78.75],\n       [-36.25,  21.25,  78.75, 136.25]])"
          },
          "metadata": {}
        }
      ]
    },
    {
      "metadata": {
        "trusted": true
      },
      "cell_type": "code",
      "source": "aa.dot(aa)",
      "execution_count": 7,
      "outputs": [
        {
          "output_type": "execute_result",
          "execution_count": 7,
          "data": {
            "text/plain": "array([[ 61.25,  28.75,  -3.75, -36.25],\n       [ 28.75,  26.25,  23.75,  21.25],\n       [ -3.75,  23.75,  51.25,  78.75],\n       [-36.25,  21.25,  78.75, 136.25]])"
          },
          "metadata": {}
        }
      ]
    },
    {
      "metadata": {
        "trusted": true
      },
      "cell_type": "code",
      "source": "np.cov(a)",
      "execution_count": 8,
      "outputs": [
        {
          "output_type": "execute_result",
          "execution_count": 8,
          "data": {
            "text/plain": "array([[ 1.66666667,  3.33333333,  5.        ,  6.66666667],\n       [ 3.33333333,  6.66666667, 10.        , 13.33333333],\n       [ 5.        , 10.        , 15.        , 20.        ],\n       [ 6.66666667, 13.33333333, 20.        , 26.66666667]])"
          },
          "metadata": {}
        }
      ]
    },
    {
      "metadata": {
        "trusted": true
      },
      "cell_type": "code",
      "source": "b = pd.DataFrame(np.array([[2.1,8],[2.5,10],[3.6,12],[4,14]]), columns=['num1','num2'])\nb.cov()\n",
      "execution_count": 9,
      "outputs": [
        {
          "output_type": "execute_result",
          "execution_count": 9,
          "data": {
            "text/html": "<div>\n<style scoped>\n    .dataframe tbody tr th:only-of-type {\n        vertical-align: middle;\n    }\n\n    .dataframe tbody tr th {\n        vertical-align: top;\n    }\n\n    .dataframe thead th {\n        text-align: right;\n    }\n</style>\n<table border=\"1\" class=\"dataframe\">\n  <thead>\n    <tr style=\"text-align: right;\">\n      <th></th>\n      <th>num1</th>\n      <th>num2</th>\n    </tr>\n  </thead>\n  <tbody>\n    <tr>\n      <th>num1</th>\n      <td>0.803333</td>\n      <td>2.266667</td>\n    </tr>\n    <tr>\n      <th>num2</th>\n      <td>2.266667</td>\n      <td>6.666667</td>\n    </tr>\n  </tbody>\n</table>\n</div>",
            "text/plain": "          num1      num2\nnum1  0.803333  2.266667\nnum2  2.266667  6.666667"
          },
          "metadata": {}
        }
      ]
    },
    {
      "metadata": {
        "trusted": true
      },
      "cell_type": "code",
      "source": "bb = np.array([[2.1,8],[2.5,10],[3.6,12],[4,14]])\nnp.cov(bb)\n",
      "execution_count": 10,
      "outputs": [
        {
          "output_type": "execute_result",
          "execution_count": 10,
          "data": {
            "text/plain": "array([[17.405, 22.125, 24.78 , 29.5  ],\n       [22.125, 28.125, 31.5  , 37.5  ],\n       [24.78 , 31.5  , 35.28 , 42.   ],\n       [29.5  , 37.5  , 42.   , 50.   ]])"
          },
          "metadata": {}
        }
      ]
    },
    {
      "metadata": {
        "trusted": true
      },
      "cell_type": "code",
      "source": "cc = np.array([[90,90,60,60,30],[60,90,60,60,30],[90,30,60,90,30]])\ncc",
      "execution_count": 12,
      "outputs": [
        {
          "output_type": "execute_result",
          "execution_count": 12,
          "data": {
            "text/plain": "array([[90, 90, 60, 60, 30],\n       [60, 90, 60, 60, 30],\n       [90, 30, 60, 90, 30]])"
          },
          "metadata": {}
        }
      ]
    },
    {
      "metadata": {
        "trusted": true
      },
      "cell_type": "code",
      "source": "np.cov(cc)",
      "execution_count": 13,
      "outputs": [
        {
          "output_type": "execute_result",
          "execution_count": 13,
          "data": {
            "text/plain": "array([[630., 450., 225.],\n       [450., 450.,   0.],\n       [225.,   0., 900.]])"
          },
          "metadata": {}
        }
      ]
    }
  ],
  "metadata": {
    "kernelspec": {
      "name": "python36",
      "display_name": "Python 3.6",
      "language": "python"
    },
    "language_info": {
      "mimetype": "text/x-python",
      "nbconvert_exporter": "python",
      "name": "python",
      "pygments_lexer": "ipython3",
      "version": "3.6.6",
      "file_extension": ".py",
      "codemirror_mode": {
        "version": 3,
        "name": "ipython"
      }
    }
  },
  "nbformat": 4,
  "nbformat_minor": 2
}