{
 "cells": [
  {
   "cell_type": "markdown",
   "metadata": {},
   "source": [
    "# AIRLINE ARRIVAL PROJECT"
   ]
  },
  {
   "cell_type": "markdown",
   "metadata": {},
   "source": [
    "# I. Introduction "
   ]
  },
  {
   "cell_type": "markdown",
   "metadata": {},
   "source": [
    "This dataset of airline arrival information to predict how late flights will be. \n",
    "\n",
    "A flight only counts as late if it is more than 30 minutes late."
   ]
  },
  {
   "cell_type": "markdown",
   "metadata": {},
   "source": [
    "# II. Data description"
   ]
  },
  {
   "cell_type": "markdown",
   "metadata": {},
   "source": [
    "http://stat-computing.org/dataexpo/2009/the-data.html"
   ]
  },
  {
   "cell_type": "markdown",
   "metadata": {},
   "source": [
    "    1\tYear\t            1987-2008\n",
    "    2\tMonth\t            1-12\n",
    "    3\tDayofMonth\t        1-31\n",
    "    4\tDayOfWeek\t        1 (Monday) - 7 (Sunday)\n",
    "    5\tDepTime\t            actual departure time (local, hhmm)\n",
    "    6\tCRSDepTime\t        scheduled departure time (local, hhmm)\n",
    "    7\tArrTime\t            actual arrival time (local, hhmm)\n",
    "    8\tCRSArrTime\t        scheduled arrival time (local, hhmm)\n",
    "    9\tUniqueCarrier\t    unique carrier code\n",
    "    10\tFlightNum\t        flight number\n",
    "    11\tTailNum\t            plane tail number\n",
    "    12\tActualElapsedTime\tin minutes\n",
    "    13\tCRSElapsedTime\t    in minutes\n",
    "    14\tAirTime\t            in minutes\n",
    "    15\tArrDelay\t        arrival delay, in minutes\n",
    "    16\tDepDelay\t        departure delay, in minutes\n",
    "    17\tOrigin\t            origin IATA airport code\n",
    "    18\tDest\t            destination IATA airport code\n",
    "    19\tDistance\t        in miles\n",
    "    20\tTaxiIn\t            taxi in time, in minutes\n",
    "    21\tTaxiOut\t            taxi out time in minutes\n",
    "    22\tCancelled\t        was the flight cancelled?\n",
    "    23\tCancellationCode\treason for cancellation (A = carrier, B = weather, C = NAS, D = security)\n",
    "    24\tDiverted\t        1 = yes, 0 = no\n",
    "    25\tCarrierDelay\t    in minutes\n",
    "    26\tWeatherDelay\t    in minutes\n",
    "    27\tNASDelay\t        in minutes\n",
    "    28\tSecurityDelay\t    in minutes\n",
    "    29\tLateAircraftDelay\tin minutes"
   ]
  },
  {
   "cell_type": "markdown",
   "metadata": {},
   "source": [
    "# III. Content "
   ]
  },
  {
   "cell_type": "code",
   "execution_count": 1,
   "metadata": {},
   "outputs": [],
   "source": [
    "import random\n",
    "import matplotlib.pyplot as plt\n",
    "from matplotlib.ticker import PercentFormatter\n",
    "\n",
    "from sklearn.decomposition import PCA\n",
    "from sklearn.preprocessing import MinMaxScaler, StandardScaler\n",
    "from sklearn.model_selection import KFold, cross_val_score, train_test_split, cross_val_predict, GridSearchCV\n",
    "from sklearn.linear_model import LinearRegression, LogisticRegression\n",
    "from sklearn.ensemble import RandomForestClassifier, GradientBoostingClassifier\n",
    "from sklearn.tree import DecisionTreeClassifier\n",
    "from sklearn.naive_bayes import GaussianNB\n",
    "from sklearn import svm\n",
    "from sklearn.neighbors import KNeighborsClassifier\n",
    "\n",
    "import time\n",
    "from sklearn.preprocessing import LabelEncoder\n",
    "\n",
    "import pandas as pd\n",
    "import numpy as np\n",
    "from scipy import stats\n",
    "from sklearn.metrics import f1_score,recall_score,classification_report,confusion_matrix,precision_recall_curve,auc,roc_auc_score,roc_curve\n",
    "from math import sqrt\n",
    "import seaborn as sns"
   ]
  },
  {
   "cell_type": "markdown",
   "metadata": {},
   "source": [
    "### Since the data is too large (7 million samples), the following codes will present only 1 million random samples extracted from the '2008.csv'"
   ]
  },
  {
   "cell_type": "code",
   "execution_count": 2,
   "metadata": {},
   "outputs": [],
   "source": [
    "num_lines = 7009728  #number of records in file\n",
    "sample_lines = 1000000 #desired sample size\n",
    "\n",
    "random.seed(9001)\n",
    "skip = random.sample(range(1, num_lines), num_lines - sample_lines)\n"
   ]
  },
  {
   "cell_type": "code",
   "execution_count": 3,
   "metadata": {},
   "outputs": [],
   "source": [
    "df = pd.read_csv('D:\\\\ML\\\\ML CBD\\\\Assignment\\\\5. Airline arrival\\\\2008.csv', skiprows=skip)"
   ]
  },
  {
   "cell_type": "code",
   "execution_count": 4,
   "metadata": {},
   "outputs": [
    {
     "data": {
      "text/html": [
       "<div>\n",
       "<style scoped>\n",
       "    .dataframe tbody tr th:only-of-type {\n",
       "        vertical-align: middle;\n",
       "    }\n",
       "\n",
       "    .dataframe tbody tr th {\n",
       "        vertical-align: top;\n",
       "    }\n",
       "\n",
       "    .dataframe thead th {\n",
       "        text-align: right;\n",
       "    }\n",
       "</style>\n",
       "<table border=\"1\" class=\"dataframe\">\n",
       "  <thead>\n",
       "    <tr style=\"text-align: right;\">\n",
       "      <th></th>\n",
       "      <th>Year</th>\n",
       "      <th>Month</th>\n",
       "      <th>DayofMonth</th>\n",
       "      <th>DayOfWeek</th>\n",
       "      <th>DepTime</th>\n",
       "      <th>CRSDepTime</th>\n",
       "      <th>ArrTime</th>\n",
       "      <th>CRSArrTime</th>\n",
       "      <th>UniqueCarrier</th>\n",
       "      <th>FlightNum</th>\n",
       "      <th>TailNum</th>\n",
       "      <th>ActualElapsedTime</th>\n",
       "      <th>CRSElapsedTime</th>\n",
       "      <th>AirTime</th>\n",
       "      <th>ArrDelay</th>\n",
       "      <th>DepDelay</th>\n",
       "      <th>Origin</th>\n",
       "      <th>Dest</th>\n",
       "      <th>Distance</th>\n",
       "      <th>TaxiIn</th>\n",
       "      <th>TaxiOut</th>\n",
       "      <th>Cancelled</th>\n",
       "      <th>CancellationCode</th>\n",
       "      <th>Diverted</th>\n",
       "      <th>CarrierDelay</th>\n",
       "      <th>WeatherDelay</th>\n",
       "      <th>NASDelay</th>\n",
       "      <th>SecurityDelay</th>\n",
       "      <th>LateAircraftDelay</th>\n",
       "    </tr>\n",
       "  </thead>\n",
       "  <tbody>\n",
       "    <tr>\n",
       "      <td>0</td>\n",
       "      <td>2008</td>\n",
       "      <td>1</td>\n",
       "      <td>3</td>\n",
       "      <td>4</td>\n",
       "      <td>628.00</td>\n",
       "      <td>620</td>\n",
       "      <td>804.00</td>\n",
       "      <td>750</td>\n",
       "      <td>WN</td>\n",
       "      <td>448</td>\n",
       "      <td>N428WN</td>\n",
       "      <td>96.00</td>\n",
       "      <td>90.00</td>\n",
       "      <td>76.00</td>\n",
       "      <td>14.00</td>\n",
       "      <td>8.00</td>\n",
       "      <td>IND</td>\n",
       "      <td>BWI</td>\n",
       "      <td>515</td>\n",
       "      <td>3.00</td>\n",
       "      <td>17.00</td>\n",
       "      <td>0</td>\n",
       "      <td>NaN</td>\n",
       "      <td>0</td>\n",
       "      <td>nan</td>\n",
       "      <td>nan</td>\n",
       "      <td>nan</td>\n",
       "      <td>nan</td>\n",
       "      <td>nan</td>\n",
       "    </tr>\n",
       "    <tr>\n",
       "      <td>1</td>\n",
       "      <td>2008</td>\n",
       "      <td>1</td>\n",
       "      <td>3</td>\n",
       "      <td>4</td>\n",
       "      <td>1644.00</td>\n",
       "      <td>1510</td>\n",
       "      <td>1845.00</td>\n",
       "      <td>1725</td>\n",
       "      <td>WN</td>\n",
       "      <td>1333</td>\n",
       "      <td>N334SW</td>\n",
       "      <td>121.00</td>\n",
       "      <td>135.00</td>\n",
       "      <td>107.00</td>\n",
       "      <td>80.00</td>\n",
       "      <td>94.00</td>\n",
       "      <td>IND</td>\n",
       "      <td>MCO</td>\n",
       "      <td>828</td>\n",
       "      <td>6.00</td>\n",
       "      <td>8.00</td>\n",
       "      <td>0</td>\n",
       "      <td>NaN</td>\n",
       "      <td>0</td>\n",
       "      <td>8.00</td>\n",
       "      <td>0.00</td>\n",
       "      <td>0.00</td>\n",
       "      <td>0.00</td>\n",
       "      <td>72.00</td>\n",
       "    </tr>\n",
       "    <tr>\n",
       "      <td>2</td>\n",
       "      <td>2008</td>\n",
       "      <td>1</td>\n",
       "      <td>3</td>\n",
       "      <td>4</td>\n",
       "      <td>636.00</td>\n",
       "      <td>635</td>\n",
       "      <td>921.00</td>\n",
       "      <td>945</td>\n",
       "      <td>WN</td>\n",
       "      <td>2275</td>\n",
       "      <td>N454WN</td>\n",
       "      <td>165.00</td>\n",
       "      <td>190.00</td>\n",
       "      <td>147.00</td>\n",
       "      <td>-24.00</td>\n",
       "      <td>1.00</td>\n",
       "      <td>ISP</td>\n",
       "      <td>FLL</td>\n",
       "      <td>1093</td>\n",
       "      <td>5.00</td>\n",
       "      <td>13.00</td>\n",
       "      <td>0</td>\n",
       "      <td>NaN</td>\n",
       "      <td>0</td>\n",
       "      <td>nan</td>\n",
       "      <td>nan</td>\n",
       "      <td>nan</td>\n",
       "      <td>nan</td>\n",
       "      <td>nan</td>\n",
       "    </tr>\n",
       "    <tr>\n",
       "      <td>3</td>\n",
       "      <td>2008</td>\n",
       "      <td>1</td>\n",
       "      <td>3</td>\n",
       "      <td>4</td>\n",
       "      <td>2107.00</td>\n",
       "      <td>1945</td>\n",
       "      <td>2334.00</td>\n",
       "      <td>2230</td>\n",
       "      <td>WN</td>\n",
       "      <td>362</td>\n",
       "      <td>N798SW</td>\n",
       "      <td>147.00</td>\n",
       "      <td>165.00</td>\n",
       "      <td>134.00</td>\n",
       "      <td>64.00</td>\n",
       "      <td>82.00</td>\n",
       "      <td>ISP</td>\n",
       "      <td>MCO</td>\n",
       "      <td>972</td>\n",
       "      <td>6.00</td>\n",
       "      <td>7.00</td>\n",
       "      <td>0</td>\n",
       "      <td>NaN</td>\n",
       "      <td>0</td>\n",
       "      <td>5.00</td>\n",
       "      <td>0.00</td>\n",
       "      <td>0.00</td>\n",
       "      <td>0.00</td>\n",
       "      <td>59.00</td>\n",
       "    </tr>\n",
       "    <tr>\n",
       "      <td>4</td>\n",
       "      <td>2008</td>\n",
       "      <td>1</td>\n",
       "      <td>3</td>\n",
       "      <td>4</td>\n",
       "      <td>726.00</td>\n",
       "      <td>720</td>\n",
       "      <td>958.00</td>\n",
       "      <td>1020</td>\n",
       "      <td>WN</td>\n",
       "      <td>3319</td>\n",
       "      <td>N206WN</td>\n",
       "      <td>152.00</td>\n",
       "      <td>180.00</td>\n",
       "      <td>140.00</td>\n",
       "      <td>-22.00</td>\n",
       "      <td>6.00</td>\n",
       "      <td>ISP</td>\n",
       "      <td>PBI</td>\n",
       "      <td>1052</td>\n",
       "      <td>4.00</td>\n",
       "      <td>8.00</td>\n",
       "      <td>0</td>\n",
       "      <td>NaN</td>\n",
       "      <td>0</td>\n",
       "      <td>nan</td>\n",
       "      <td>nan</td>\n",
       "      <td>nan</td>\n",
       "      <td>nan</td>\n",
       "      <td>nan</td>\n",
       "    </tr>\n",
       "  </tbody>\n",
       "</table>\n",
       "</div>"
      ],
      "text/plain": [
       "   Year  Month  DayofMonth  DayOfWeek  DepTime  CRSDepTime  ArrTime  \\\n",
       "0  2008      1           3          4   628.00         620   804.00   \n",
       "1  2008      1           3          4  1644.00        1510  1845.00   \n",
       "2  2008      1           3          4   636.00         635   921.00   \n",
       "3  2008      1           3          4  2107.00        1945  2334.00   \n",
       "4  2008      1           3          4   726.00         720   958.00   \n",
       "\n",
       "   CRSArrTime UniqueCarrier  FlightNum TailNum  ActualElapsedTime  \\\n",
       "0         750            WN        448  N428WN              96.00   \n",
       "1        1725            WN       1333  N334SW             121.00   \n",
       "2         945            WN       2275  N454WN             165.00   \n",
       "3        2230            WN        362  N798SW             147.00   \n",
       "4        1020            WN       3319  N206WN             152.00   \n",
       "\n",
       "   CRSElapsedTime  AirTime  ArrDelay  DepDelay Origin Dest  Distance  TaxiIn  \\\n",
       "0           90.00    76.00     14.00      8.00    IND  BWI       515    3.00   \n",
       "1          135.00   107.00     80.00     94.00    IND  MCO       828    6.00   \n",
       "2          190.00   147.00    -24.00      1.00    ISP  FLL      1093    5.00   \n",
       "3          165.00   134.00     64.00     82.00    ISP  MCO       972    6.00   \n",
       "4          180.00   140.00    -22.00      6.00    ISP  PBI      1052    4.00   \n",
       "\n",
       "   TaxiOut  Cancelled CancellationCode  Diverted  CarrierDelay  WeatherDelay  \\\n",
       "0    17.00          0              NaN         0           nan           nan   \n",
       "1     8.00          0              NaN         0          8.00          0.00   \n",
       "2    13.00          0              NaN         0           nan           nan   \n",
       "3     7.00          0              NaN         0          5.00          0.00   \n",
       "4     8.00          0              NaN         0           nan           nan   \n",
       "\n",
       "   NASDelay  SecurityDelay  LateAircraftDelay  \n",
       "0       nan            nan                nan  \n",
       "1      0.00           0.00              72.00  \n",
       "2       nan            nan                nan  \n",
       "3      0.00           0.00              59.00  \n",
       "4       nan            nan                nan  "
      ]
     },
     "execution_count": 4,
     "metadata": {},
     "output_type": "execute_result"
    }
   ],
   "source": [
    "pd.set_option('display.max_rows', 50)\n",
    "pd.set_option('display.max_columns', 500)\n",
    "pd.options.display.float_format = \"{:.2f}\".format\n",
    "df.head()"
   ]
  },
  {
   "cell_type": "markdown",
   "metadata": {},
   "source": [
    "# 1. Data exploration"
   ]
  },
  {
   "cell_type": "markdown",
   "metadata": {},
   "source": [
    "### missing values"
   ]
  },
  {
   "cell_type": "code",
   "execution_count": 5,
   "metadata": {},
   "outputs": [
    {
     "data": {
      "text/html": [
       "<div>\n",
       "<style scoped>\n",
       "    .dataframe tbody tr th:only-of-type {\n",
       "        vertical-align: middle;\n",
       "    }\n",
       "\n",
       "    .dataframe tbody tr th {\n",
       "        vertical-align: top;\n",
       "    }\n",
       "\n",
       "    .dataframe thead th {\n",
       "        text-align: right;\n",
       "    }\n",
       "</style>\n",
       "<table border=\"1\" class=\"dataframe\">\n",
       "  <thead>\n",
       "    <tr style=\"text-align: right;\">\n",
       "      <th></th>\n",
       "      <th>dtypes</th>\n",
       "      <th>missing values</th>\n",
       "      <th>% missing values</th>\n",
       "    </tr>\n",
       "  </thead>\n",
       "  <tbody>\n",
       "    <tr>\n",
       "      <td>Year</td>\n",
       "      <td>int64</td>\n",
       "      <td>0</td>\n",
       "      <td>0.00</td>\n",
       "    </tr>\n",
       "    <tr>\n",
       "      <td>Month</td>\n",
       "      <td>int64</td>\n",
       "      <td>0</td>\n",
       "      <td>0.00</td>\n",
       "    </tr>\n",
       "    <tr>\n",
       "      <td>DayofMonth</td>\n",
       "      <td>int64</td>\n",
       "      <td>0</td>\n",
       "      <td>0.00</td>\n",
       "    </tr>\n",
       "    <tr>\n",
       "      <td>DayOfWeek</td>\n",
       "      <td>int64</td>\n",
       "      <td>0</td>\n",
       "      <td>0.00</td>\n",
       "    </tr>\n",
       "    <tr>\n",
       "      <td>DepTime</td>\n",
       "      <td>float64</td>\n",
       "      <td>19412</td>\n",
       "      <td>1.94</td>\n",
       "    </tr>\n",
       "    <tr>\n",
       "      <td>CRSDepTime</td>\n",
       "      <td>int64</td>\n",
       "      <td>0</td>\n",
       "      <td>0.00</td>\n",
       "    </tr>\n",
       "    <tr>\n",
       "      <td>ArrTime</td>\n",
       "      <td>float64</td>\n",
       "      <td>21608</td>\n",
       "      <td>2.16</td>\n",
       "    </tr>\n",
       "    <tr>\n",
       "      <td>CRSArrTime</td>\n",
       "      <td>int64</td>\n",
       "      <td>0</td>\n",
       "      <td>0.00</td>\n",
       "    </tr>\n",
       "    <tr>\n",
       "      <td>UniqueCarrier</td>\n",
       "      <td>object</td>\n",
       "      <td>0</td>\n",
       "      <td>0.00</td>\n",
       "    </tr>\n",
       "    <tr>\n",
       "      <td>FlightNum</td>\n",
       "      <td>int64</td>\n",
       "      <td>0</td>\n",
       "      <td>0.00</td>\n",
       "    </tr>\n",
       "    <tr>\n",
       "      <td>TailNum</td>\n",
       "      <td>object</td>\n",
       "      <td>11914</td>\n",
       "      <td>1.19</td>\n",
       "    </tr>\n",
       "    <tr>\n",
       "      <td>ActualElapsedTime</td>\n",
       "      <td>float64</td>\n",
       "      <td>22058</td>\n",
       "      <td>2.21</td>\n",
       "    </tr>\n",
       "    <tr>\n",
       "      <td>CRSElapsedTime</td>\n",
       "      <td>float64</td>\n",
       "      <td>142</td>\n",
       "      <td>0.01</td>\n",
       "    </tr>\n",
       "    <tr>\n",
       "      <td>AirTime</td>\n",
       "      <td>float64</td>\n",
       "      <td>22058</td>\n",
       "      <td>2.21</td>\n",
       "    </tr>\n",
       "    <tr>\n",
       "      <td>ArrDelay</td>\n",
       "      <td>float64</td>\n",
       "      <td>22058</td>\n",
       "      <td>2.21</td>\n",
       "    </tr>\n",
       "    <tr>\n",
       "      <td>DepDelay</td>\n",
       "      <td>float64</td>\n",
       "      <td>19412</td>\n",
       "      <td>1.94</td>\n",
       "    </tr>\n",
       "    <tr>\n",
       "      <td>Origin</td>\n",
       "      <td>object</td>\n",
       "      <td>0</td>\n",
       "      <td>0.00</td>\n",
       "    </tr>\n",
       "    <tr>\n",
       "      <td>Dest</td>\n",
       "      <td>object</td>\n",
       "      <td>0</td>\n",
       "      <td>0.00</td>\n",
       "    </tr>\n",
       "    <tr>\n",
       "      <td>Distance</td>\n",
       "      <td>int64</td>\n",
       "      <td>0</td>\n",
       "      <td>0.00</td>\n",
       "    </tr>\n",
       "    <tr>\n",
       "      <td>TaxiIn</td>\n",
       "      <td>float64</td>\n",
       "      <td>21608</td>\n",
       "      <td>2.16</td>\n",
       "    </tr>\n",
       "    <tr>\n",
       "      <td>TaxiOut</td>\n",
       "      <td>float64</td>\n",
       "      <td>19532</td>\n",
       "      <td>1.95</td>\n",
       "    </tr>\n",
       "    <tr>\n",
       "      <td>Cancelled</td>\n",
       "      <td>int64</td>\n",
       "      <td>0</td>\n",
       "      <td>0.00</td>\n",
       "    </tr>\n",
       "    <tr>\n",
       "      <td>CancellationCode</td>\n",
       "      <td>object</td>\n",
       "      <td>980419</td>\n",
       "      <td>98.04</td>\n",
       "    </tr>\n",
       "    <tr>\n",
       "      <td>Diverted</td>\n",
       "      <td>int64</td>\n",
       "      <td>0</td>\n",
       "      <td>0.00</td>\n",
       "    </tr>\n",
       "    <tr>\n",
       "      <td>CarrierDelay</td>\n",
       "      <td>float64</td>\n",
       "      <td>782812</td>\n",
       "      <td>78.28</td>\n",
       "    </tr>\n",
       "    <tr>\n",
       "      <td>WeatherDelay</td>\n",
       "      <td>float64</td>\n",
       "      <td>782812</td>\n",
       "      <td>78.28</td>\n",
       "    </tr>\n",
       "    <tr>\n",
       "      <td>NASDelay</td>\n",
       "      <td>float64</td>\n",
       "      <td>782812</td>\n",
       "      <td>78.28</td>\n",
       "    </tr>\n",
       "    <tr>\n",
       "      <td>SecurityDelay</td>\n",
       "      <td>float64</td>\n",
       "      <td>782812</td>\n",
       "      <td>78.28</td>\n",
       "    </tr>\n",
       "    <tr>\n",
       "      <td>LateAircraftDelay</td>\n",
       "      <td>float64</td>\n",
       "      <td>782812</td>\n",
       "      <td>78.28</td>\n",
       "    </tr>\n",
       "  </tbody>\n",
       "</table>\n",
       "</div>"
      ],
      "text/plain": [
       "                    dtypes  missing values  % missing values\n",
       "Year                 int64               0              0.00\n",
       "Month                int64               0              0.00\n",
       "DayofMonth           int64               0              0.00\n",
       "DayOfWeek            int64               0              0.00\n",
       "DepTime            float64           19412              1.94\n",
       "CRSDepTime           int64               0              0.00\n",
       "ArrTime            float64           21608              2.16\n",
       "CRSArrTime           int64               0              0.00\n",
       "UniqueCarrier       object               0              0.00\n",
       "FlightNum            int64               0              0.00\n",
       "TailNum             object           11914              1.19\n",
       "ActualElapsedTime  float64           22058              2.21\n",
       "CRSElapsedTime     float64             142              0.01\n",
       "AirTime            float64           22058              2.21\n",
       "ArrDelay           float64           22058              2.21\n",
       "DepDelay           float64           19412              1.94\n",
       "Origin              object               0              0.00\n",
       "Dest                object               0              0.00\n",
       "Distance             int64               0              0.00\n",
       "TaxiIn             float64           21608              2.16\n",
       "TaxiOut            float64           19532              1.95\n",
       "Cancelled            int64               0              0.00\n",
       "CancellationCode    object          980419             98.04\n",
       "Diverted             int64               0              0.00\n",
       "CarrierDelay       float64          782812             78.28\n",
       "WeatherDelay       float64          782812             78.28\n",
       "NASDelay           float64          782812             78.28\n",
       "SecurityDelay      float64          782812             78.28\n",
       "LateAircraftDelay  float64          782812             78.28"
      ]
     },
     "execution_count": 5,
     "metadata": {},
     "output_type": "execute_result"
    }
   ],
   "source": [
    "types = df.dtypes.to_frame().rename(columns={0:'dtypes'})\n",
    "null = df.isnull().sum().to_frame().rename(columns={0:'missing values'})\n",
    "null_percent = (df.isnull().sum()/df.shape[0]*100).to_frame().rename(columns={0:'% missing values'})\n",
    "df_missing = pd.concat([types, null, null_percent], axis=1)\n",
    "df_missing"
   ]
  },
  {
   "cell_type": "markdown",
   "metadata": {},
   "source": [
    "### there are 6 features with missing samples > 60% of total samples"
   ]
  },
  {
   "cell_type": "code",
   "execution_count": 6,
   "metadata": {},
   "outputs": [
    {
     "data": {
      "text/html": [
       "<div>\n",
       "<style scoped>\n",
       "    .dataframe tbody tr th:only-of-type {\n",
       "        vertical-align: middle;\n",
       "    }\n",
       "\n",
       "    .dataframe tbody tr th {\n",
       "        vertical-align: top;\n",
       "    }\n",
       "\n",
       "    .dataframe thead th {\n",
       "        text-align: right;\n",
       "    }\n",
       "</style>\n",
       "<table border=\"1\" class=\"dataframe\">\n",
       "  <thead>\n",
       "    <tr style=\"text-align: right;\">\n",
       "      <th></th>\n",
       "      <th>dtypes</th>\n",
       "      <th>missing values</th>\n",
       "      <th>% missing values</th>\n",
       "    </tr>\n",
       "  </thead>\n",
       "  <tbody>\n",
       "    <tr>\n",
       "      <td>DepTime</td>\n",
       "      <td>float64</td>\n",
       "      <td>19412</td>\n",
       "      <td>1.94</td>\n",
       "    </tr>\n",
       "    <tr>\n",
       "      <td>ArrTime</td>\n",
       "      <td>float64</td>\n",
       "      <td>21608</td>\n",
       "      <td>2.16</td>\n",
       "    </tr>\n",
       "    <tr>\n",
       "      <td>TailNum</td>\n",
       "      <td>object</td>\n",
       "      <td>11914</td>\n",
       "      <td>1.19</td>\n",
       "    </tr>\n",
       "    <tr>\n",
       "      <td>ActualElapsedTime</td>\n",
       "      <td>float64</td>\n",
       "      <td>22058</td>\n",
       "      <td>2.21</td>\n",
       "    </tr>\n",
       "    <tr>\n",
       "      <td>CRSElapsedTime</td>\n",
       "      <td>float64</td>\n",
       "      <td>142</td>\n",
       "      <td>0.01</td>\n",
       "    </tr>\n",
       "    <tr>\n",
       "      <td>AirTime</td>\n",
       "      <td>float64</td>\n",
       "      <td>22058</td>\n",
       "      <td>2.21</td>\n",
       "    </tr>\n",
       "    <tr>\n",
       "      <td>ArrDelay</td>\n",
       "      <td>float64</td>\n",
       "      <td>22058</td>\n",
       "      <td>2.21</td>\n",
       "    </tr>\n",
       "    <tr>\n",
       "      <td>DepDelay</td>\n",
       "      <td>float64</td>\n",
       "      <td>19412</td>\n",
       "      <td>1.94</td>\n",
       "    </tr>\n",
       "    <tr>\n",
       "      <td>TaxiIn</td>\n",
       "      <td>float64</td>\n",
       "      <td>21608</td>\n",
       "      <td>2.16</td>\n",
       "    </tr>\n",
       "    <tr>\n",
       "      <td>TaxiOut</td>\n",
       "      <td>float64</td>\n",
       "      <td>19532</td>\n",
       "      <td>1.95</td>\n",
       "    </tr>\n",
       "    <tr>\n",
       "      <td>CancellationCode</td>\n",
       "      <td>object</td>\n",
       "      <td>980419</td>\n",
       "      <td>98.04</td>\n",
       "    </tr>\n",
       "    <tr>\n",
       "      <td>CarrierDelay</td>\n",
       "      <td>float64</td>\n",
       "      <td>782812</td>\n",
       "      <td>78.28</td>\n",
       "    </tr>\n",
       "    <tr>\n",
       "      <td>WeatherDelay</td>\n",
       "      <td>float64</td>\n",
       "      <td>782812</td>\n",
       "      <td>78.28</td>\n",
       "    </tr>\n",
       "    <tr>\n",
       "      <td>NASDelay</td>\n",
       "      <td>float64</td>\n",
       "      <td>782812</td>\n",
       "      <td>78.28</td>\n",
       "    </tr>\n",
       "    <tr>\n",
       "      <td>SecurityDelay</td>\n",
       "      <td>float64</td>\n",
       "      <td>782812</td>\n",
       "      <td>78.28</td>\n",
       "    </tr>\n",
       "    <tr>\n",
       "      <td>LateAircraftDelay</td>\n",
       "      <td>float64</td>\n",
       "      <td>782812</td>\n",
       "      <td>78.28</td>\n",
       "    </tr>\n",
       "  </tbody>\n",
       "</table>\n",
       "</div>"
      ],
      "text/plain": [
       "                    dtypes  missing values  % missing values\n",
       "DepTime            float64           19412              1.94\n",
       "ArrTime            float64           21608              2.16\n",
       "TailNum             object           11914              1.19\n",
       "ActualElapsedTime  float64           22058              2.21\n",
       "CRSElapsedTime     float64             142              0.01\n",
       "AirTime            float64           22058              2.21\n",
       "ArrDelay           float64           22058              2.21\n",
       "DepDelay           float64           19412              1.94\n",
       "TaxiIn             float64           21608              2.16\n",
       "TaxiOut            float64           19532              1.95\n",
       "CancellationCode    object          980419             98.04\n",
       "CarrierDelay       float64          782812             78.28\n",
       "WeatherDelay       float64          782812             78.28\n",
       "NASDelay           float64          782812             78.28\n",
       "SecurityDelay      float64          782812             78.28\n",
       "LateAircraftDelay  float64          782812             78.28"
      ]
     },
     "execution_count": 6,
     "metadata": {},
     "output_type": "execute_result"
    }
   ],
   "source": [
    "missing = df_missing[df_missing['% missing values'] > 0]\n",
    "missing"
   ]
  },
  {
   "cell_type": "markdown",
   "metadata": {},
   "source": [
    "### These 6 features will be removed"
   ]
  },
  {
   "cell_type": "code",
   "execution_count": 7,
   "metadata": {},
   "outputs": [],
   "source": [
    "df1 = df.drop(columns=missing[missing['% missing values'] > 60].index)"
   ]
  },
  {
   "cell_type": "markdown",
   "metadata": {},
   "source": [
    "### All other features has < 10% missing samples, all these samples will be removed"
   ]
  },
  {
   "cell_type": "code",
   "execution_count": 8,
   "metadata": {},
   "outputs": [
    {
     "data": {
      "text/plain": [
       "Year                     0\n",
       "Month                    0\n",
       "DayofMonth               0\n",
       "DayOfWeek                0\n",
       "DepTime              19412\n",
       "CRSDepTime               0\n",
       "ArrTime              21608\n",
       "CRSArrTime               0\n",
       "UniqueCarrier            0\n",
       "FlightNum                0\n",
       "TailNum              11914\n",
       "ActualElapsedTime    22058\n",
       "CRSElapsedTime         142\n",
       "AirTime              22058\n",
       "ArrDelay             22058\n",
       "DepDelay             19412\n",
       "Origin                   0\n",
       "Dest                     0\n",
       "Distance                 0\n",
       "TaxiIn               21608\n",
       "TaxiOut              19532\n",
       "Cancelled                0\n",
       "Diverted                 0\n",
       "dtype: int64"
      ]
     },
     "execution_count": 8,
     "metadata": {},
     "output_type": "execute_result"
    }
   ],
   "source": [
    "df1.isnull().sum()"
   ]
  },
  {
   "cell_type": "markdown",
   "metadata": {},
   "source": [
    "### remove the missing samples"
   ]
  },
  {
   "cell_type": "code",
   "execution_count": 9,
   "metadata": {},
   "outputs": [],
   "source": [
    "df2 = df1.dropna().reset_index(drop=True)"
   ]
  },
  {
   "cell_type": "markdown",
   "metadata": {},
   "source": [
    " "
   ]
  },
  {
   "cell_type": "markdown",
   "metadata": {},
   "source": [
    "# 2. Feature selection"
   ]
  },
  {
   "cell_type": "markdown",
   "metadata": {},
   "source": [
    "### These features 'Cancelled', 'Diverted', 'Year' has only 1 unique value, which will be useless for training               \n",
    "### -> remove"
   ]
  },
  {
   "cell_type": "code",
   "execution_count": 10,
   "metadata": {},
   "outputs": [
    {
     "data": {
      "text/plain": [
       "0    977941\n",
       "Name: Cancelled, dtype: int64"
      ]
     },
     "execution_count": 10,
     "metadata": {},
     "output_type": "execute_result"
    }
   ],
   "source": [
    "df2.Cancelled.value_counts()"
   ]
  },
  {
   "cell_type": "code",
   "execution_count": 11,
   "metadata": {},
   "outputs": [
    {
     "data": {
      "text/plain": [
       "0    977941\n",
       "Name: Diverted, dtype: int64"
      ]
     },
     "execution_count": 11,
     "metadata": {},
     "output_type": "execute_result"
    }
   ],
   "source": [
    "df2.Diverted.value_counts()"
   ]
  },
  {
   "cell_type": "code",
   "execution_count": 12,
   "metadata": {},
   "outputs": [
    {
     "data": {
      "text/plain": [
       "2008    977941\n",
       "Name: Year, dtype: int64"
      ]
     },
     "execution_count": 12,
     "metadata": {},
     "output_type": "execute_result"
    }
   ],
   "source": [
    "df2.Year.value_counts()"
   ]
  },
  {
   "cell_type": "markdown",
   "metadata": {},
   "source": [
    "### converting 'FlightNum' to caterigorical feature "
   ]
  },
  {
   "cell_type": "code",
   "execution_count": 13,
   "metadata": {},
   "outputs": [
    {
     "data": {
      "text/html": [
       "<div>\n",
       "<style scoped>\n",
       "    .dataframe tbody tr th:only-of-type {\n",
       "        vertical-align: middle;\n",
       "    }\n",
       "\n",
       "    .dataframe tbody tr th {\n",
       "        vertical-align: top;\n",
       "    }\n",
       "\n",
       "    .dataframe thead th {\n",
       "        text-align: right;\n",
       "    }\n",
       "</style>\n",
       "<table border=\"1\" class=\"dataframe\">\n",
       "  <thead>\n",
       "    <tr style=\"text-align: right;\">\n",
       "      <th></th>\n",
       "      <th>Year</th>\n",
       "      <th>Month</th>\n",
       "      <th>DayofMonth</th>\n",
       "      <th>DayOfWeek</th>\n",
       "      <th>DepTime</th>\n",
       "      <th>CRSDepTime</th>\n",
       "      <th>ArrTime</th>\n",
       "      <th>CRSArrTime</th>\n",
       "      <th>ActualElapsedTime</th>\n",
       "      <th>CRSElapsedTime</th>\n",
       "      <th>AirTime</th>\n",
       "      <th>ArrDelay</th>\n",
       "      <th>DepDelay</th>\n",
       "      <th>Distance</th>\n",
       "      <th>TaxiIn</th>\n",
       "      <th>TaxiOut</th>\n",
       "      <th>Cancelled</th>\n",
       "      <th>Diverted</th>\n",
       "    </tr>\n",
       "  </thead>\n",
       "  <tbody>\n",
       "    <tr>\n",
       "      <td>count</td>\n",
       "      <td>977941.00</td>\n",
       "      <td>977941.00</td>\n",
       "      <td>977941.00</td>\n",
       "      <td>977941.00</td>\n",
       "      <td>977941.00</td>\n",
       "      <td>977941.00</td>\n",
       "      <td>977941.00</td>\n",
       "      <td>977941.00</td>\n",
       "      <td>977941.00</td>\n",
       "      <td>977941.00</td>\n",
       "      <td>977941.00</td>\n",
       "      <td>977941.00</td>\n",
       "      <td>977941.00</td>\n",
       "      <td>977941.00</td>\n",
       "      <td>977941.00</td>\n",
       "      <td>977941.00</td>\n",
       "      <td>977941.00</td>\n",
       "      <td>977941.00</td>\n",
       "    </tr>\n",
       "    <tr>\n",
       "      <td>mean</td>\n",
       "      <td>2008.00</td>\n",
       "      <td>6.39</td>\n",
       "      <td>15.75</td>\n",
       "      <td>3.92</td>\n",
       "      <td>1334.04</td>\n",
       "      <td>1325.41</td>\n",
       "      <td>1481.18</td>\n",
       "      <td>1493.61</td>\n",
       "      <td>127.30</td>\n",
       "      <td>129.08</td>\n",
       "      <td>104.01</td>\n",
       "      <td>8.09</td>\n",
       "      <td>9.87</td>\n",
       "      <td>728.73</td>\n",
       "      <td>6.86</td>\n",
       "      <td>16.43</td>\n",
       "      <td>0.00</td>\n",
       "      <td>0.00</td>\n",
       "    </tr>\n",
       "    <tr>\n",
       "      <td>std</td>\n",
       "      <td>0.00</td>\n",
       "      <td>3.40</td>\n",
       "      <td>8.80</td>\n",
       "      <td>1.99</td>\n",
       "      <td>478.29</td>\n",
       "      <td>464.60</td>\n",
       "      <td>505.26</td>\n",
       "      <td>482.96</td>\n",
       "      <td>70.21</td>\n",
       "      <td>69.57</td>\n",
       "      <td>67.46</td>\n",
       "      <td>38.24</td>\n",
       "      <td>34.95</td>\n",
       "      <td>563.30</td>\n",
       "      <td>4.92</td>\n",
       "      <td>11.28</td>\n",
       "      <td>0.00</td>\n",
       "      <td>0.00</td>\n",
       "    </tr>\n",
       "    <tr>\n",
       "      <td>min</td>\n",
       "      <td>2008.00</td>\n",
       "      <td>1.00</td>\n",
       "      <td>1.00</td>\n",
       "      <td>1.00</td>\n",
       "      <td>1.00</td>\n",
       "      <td>1.00</td>\n",
       "      <td>1.00</td>\n",
       "      <td>0.00</td>\n",
       "      <td>15.00</td>\n",
       "      <td>-140.00</td>\n",
       "      <td>0.00</td>\n",
       "      <td>-519.00</td>\n",
       "      <td>-534.00</td>\n",
       "      <td>21.00</td>\n",
       "      <td>0.00</td>\n",
       "      <td>0.00</td>\n",
       "      <td>0.00</td>\n",
       "      <td>0.00</td>\n",
       "    </tr>\n",
       "    <tr>\n",
       "      <td>25%</td>\n",
       "      <td>2008.00</td>\n",
       "      <td>3.00</td>\n",
       "      <td>8.00</td>\n",
       "      <td>2.00</td>\n",
       "      <td>928.00</td>\n",
       "      <td>925.00</td>\n",
       "      <td>1107.00</td>\n",
       "      <td>1115.00</td>\n",
       "      <td>77.00</td>\n",
       "      <td>80.00</td>\n",
       "      <td>55.00</td>\n",
       "      <td>-10.00</td>\n",
       "      <td>-4.00</td>\n",
       "      <td>326.00</td>\n",
       "      <td>4.00</td>\n",
       "      <td>10.00</td>\n",
       "      <td>0.00</td>\n",
       "      <td>0.00</td>\n",
       "    </tr>\n",
       "    <tr>\n",
       "      <td>50%</td>\n",
       "      <td>2008.00</td>\n",
       "      <td>6.00</td>\n",
       "      <td>16.00</td>\n",
       "      <td>4.00</td>\n",
       "      <td>1326.00</td>\n",
       "      <td>1320.00</td>\n",
       "      <td>1512.00</td>\n",
       "      <td>1515.00</td>\n",
       "      <td>109.00</td>\n",
       "      <td>111.00</td>\n",
       "      <td>86.00</td>\n",
       "      <td>-2.00</td>\n",
       "      <td>-1.00</td>\n",
       "      <td>581.00</td>\n",
       "      <td>6.00</td>\n",
       "      <td>14.00</td>\n",
       "      <td>0.00</td>\n",
       "      <td>0.00</td>\n",
       "    </tr>\n",
       "    <tr>\n",
       "      <td>75%</td>\n",
       "      <td>2008.00</td>\n",
       "      <td>9.00</td>\n",
       "      <td>23.00</td>\n",
       "      <td>6.00</td>\n",
       "      <td>1728.00</td>\n",
       "      <td>1715.00</td>\n",
       "      <td>1908.00</td>\n",
       "      <td>1905.00</td>\n",
       "      <td>157.00</td>\n",
       "      <td>159.00</td>\n",
       "      <td>132.00</td>\n",
       "      <td>12.00</td>\n",
       "      <td>8.00</td>\n",
       "      <td>954.00</td>\n",
       "      <td>8.00</td>\n",
       "      <td>19.00</td>\n",
       "      <td>0.00</td>\n",
       "      <td>0.00</td>\n",
       "    </tr>\n",
       "    <tr>\n",
       "      <td>max</td>\n",
       "      <td>2008.00</td>\n",
       "      <td>12.00</td>\n",
       "      <td>31.00</td>\n",
       "      <td>7.00</td>\n",
       "      <td>2400.00</td>\n",
       "      <td>2359.00</td>\n",
       "      <td>2400.00</td>\n",
       "      <td>2359.00</td>\n",
       "      <td>802.00</td>\n",
       "      <td>660.00</td>\n",
       "      <td>757.00</td>\n",
       "      <td>1392.00</td>\n",
       "      <td>1369.00</td>\n",
       "      <td>4962.00</td>\n",
       "      <td>225.00</td>\n",
       "      <td>393.00</td>\n",
       "      <td>0.00</td>\n",
       "      <td>0.00</td>\n",
       "    </tr>\n",
       "  </tbody>\n",
       "</table>\n",
       "</div>"
      ],
      "text/plain": [
       "           Year     Month  DayofMonth  DayOfWeek   DepTime  CRSDepTime  \\\n",
       "count 977941.00 977941.00   977941.00  977941.00 977941.00   977941.00   \n",
       "mean    2008.00      6.39       15.75       3.92   1334.04     1325.41   \n",
       "std        0.00      3.40        8.80       1.99    478.29      464.60   \n",
       "min     2008.00      1.00        1.00       1.00      1.00        1.00   \n",
       "25%     2008.00      3.00        8.00       2.00    928.00      925.00   \n",
       "50%     2008.00      6.00       16.00       4.00   1326.00     1320.00   \n",
       "75%     2008.00      9.00       23.00       6.00   1728.00     1715.00   \n",
       "max     2008.00     12.00       31.00       7.00   2400.00     2359.00   \n",
       "\n",
       "        ArrTime  CRSArrTime  ActualElapsedTime  CRSElapsedTime   AirTime  \\\n",
       "count 977941.00   977941.00          977941.00       977941.00 977941.00   \n",
       "mean    1481.18     1493.61             127.30          129.08    104.01   \n",
       "std      505.26      482.96              70.21           69.57     67.46   \n",
       "min        1.00        0.00              15.00         -140.00      0.00   \n",
       "25%     1107.00     1115.00              77.00           80.00     55.00   \n",
       "50%     1512.00     1515.00             109.00          111.00     86.00   \n",
       "75%     1908.00     1905.00             157.00          159.00    132.00   \n",
       "max     2400.00     2359.00             802.00          660.00    757.00   \n",
       "\n",
       "       ArrDelay  DepDelay  Distance    TaxiIn   TaxiOut  Cancelled  Diverted  \n",
       "count 977941.00 977941.00 977941.00 977941.00 977941.00  977941.00 977941.00  \n",
       "mean       8.09      9.87    728.73      6.86     16.43       0.00      0.00  \n",
       "std       38.24     34.95    563.30      4.92     11.28       0.00      0.00  \n",
       "min     -519.00   -534.00     21.00      0.00      0.00       0.00      0.00  \n",
       "25%      -10.00     -4.00    326.00      4.00     10.00       0.00      0.00  \n",
       "50%       -2.00     -1.00    581.00      6.00     14.00       0.00      0.00  \n",
       "75%       12.00      8.00    954.00      8.00     19.00       0.00      0.00  \n",
       "max     1392.00   1369.00   4962.00    225.00    393.00       0.00      0.00  "
      ]
     },
     "execution_count": 13,
     "metadata": {},
     "output_type": "execute_result"
    }
   ],
   "source": [
    "df2.FlightNum = df2.FlightNum.astype('object')\n",
    "df2.describe()"
   ]
  },
  {
   "cell_type": "markdown",
   "metadata": {},
   "source": [
    "### feature 'FlightNum' and 'TailNum' has >> 500 unique values, thus will have no effect on the target \n",
    "### -> remove"
   ]
  },
  {
   "cell_type": "code",
   "execution_count": 14,
   "metadata": {},
   "outputs": [
    {
     "data": {
      "text/html": [
       "<div>\n",
       "<style scoped>\n",
       "    .dataframe tbody tr th:only-of-type {\n",
       "        vertical-align: middle;\n",
       "    }\n",
       "\n",
       "    .dataframe tbody tr th {\n",
       "        vertical-align: top;\n",
       "    }\n",
       "\n",
       "    .dataframe thead th {\n",
       "        text-align: right;\n",
       "    }\n",
       "</style>\n",
       "<table border=\"1\" class=\"dataframe\">\n",
       "  <thead>\n",
       "    <tr style=\"text-align: right;\">\n",
       "      <th></th>\n",
       "      <th>UniqueCarrier</th>\n",
       "      <th>FlightNum</th>\n",
       "      <th>TailNum</th>\n",
       "      <th>Origin</th>\n",
       "      <th>Dest</th>\n",
       "    </tr>\n",
       "  </thead>\n",
       "  <tbody>\n",
       "    <tr>\n",
       "      <td>count</td>\n",
       "      <td>977941</td>\n",
       "      <td>977941</td>\n",
       "      <td>977941</td>\n",
       "      <td>977941</td>\n",
       "      <td>977941</td>\n",
       "    </tr>\n",
       "    <tr>\n",
       "      <td>unique</td>\n",
       "      <td>20</td>\n",
       "      <td>7472</td>\n",
       "      <td>5328</td>\n",
       "      <td>302</td>\n",
       "      <td>302</td>\n",
       "    </tr>\n",
       "    <tr>\n",
       "      <td>top</td>\n",
       "      <td>WN</td>\n",
       "      <td>152</td>\n",
       "      <td>N476HA</td>\n",
       "      <td>ATL</td>\n",
       "      <td>ATL</td>\n",
       "    </tr>\n",
       "    <tr>\n",
       "      <td>freq</td>\n",
       "      <td>169752</td>\n",
       "      <td>705</td>\n",
       "      <td>697</td>\n",
       "      <td>58078</td>\n",
       "      <td>57823</td>\n",
       "    </tr>\n",
       "  </tbody>\n",
       "</table>\n",
       "</div>"
      ],
      "text/plain": [
       "       UniqueCarrier  FlightNum TailNum  Origin    Dest\n",
       "count         977941     977941  977941  977941  977941\n",
       "unique            20       7472    5328     302     302\n",
       "top               WN        152  N476HA     ATL     ATL\n",
       "freq          169752        705     697   58078   57823"
      ]
     },
     "execution_count": 14,
     "metadata": {},
     "output_type": "execute_result"
    }
   ],
   "source": [
    "df2.describe(include='O')"
   ]
  },
  {
   "cell_type": "code",
   "execution_count": 15,
   "metadata": {},
   "outputs": [],
   "source": [
    "df3 = df2.drop(columns=['Year','Cancelled','Diverted', 'FlightNum', 'TailNum'])"
   ]
  },
  {
   "cell_type": "markdown",
   "metadata": {},
   "source": [
    "### data before and after modification"
   ]
  },
  {
   "cell_type": "code",
   "execution_count": 16,
   "metadata": {},
   "outputs": [
    {
     "data": {
      "text/plain": [
       "(1000000, 29)"
      ]
     },
     "execution_count": 16,
     "metadata": {},
     "output_type": "execute_result"
    }
   ],
   "source": [
    "df.shape"
   ]
  },
  {
   "cell_type": "code",
   "execution_count": 17,
   "metadata": {},
   "outputs": [
    {
     "data": {
      "text/plain": [
       "(977941, 18)"
      ]
     },
     "execution_count": 17,
     "metadata": {},
     "output_type": "execute_result"
    }
   ],
   "source": [
    "df3.shape"
   ]
  },
  {
   "cell_type": "markdown",
   "metadata": {},
   "source": [
    "### The target 'ArrDelay' is converted to 1 (delay > 30 mins) and 0 (delay <= 30 mins) "
   ]
  },
  {
   "cell_type": "code",
   "execution_count": 18,
   "metadata": {},
   "outputs": [],
   "source": [
    "df3.ArrDelay = df3.ArrDelay.apply(lambda x: 1 if x > 30 else 0)"
   ]
  },
  {
   "cell_type": "code",
   "execution_count": 19,
   "metadata": {},
   "outputs": [
    {
     "data": {
      "text/plain": [
       "0    849555\n",
       "1    128386\n",
       "Name: ArrDelay, dtype: int64"
      ]
     },
     "execution_count": 19,
     "metadata": {},
     "output_type": "execute_result"
    }
   ],
   "source": [
    "df3.ArrDelay.value_counts()"
   ]
  },
  {
   "cell_type": "code",
   "execution_count": 20,
   "metadata": {},
   "outputs": [
    {
     "data": {
      "text/html": [
       "<div>\n",
       "<style scoped>\n",
       "    .dataframe tbody tr th:only-of-type {\n",
       "        vertical-align: middle;\n",
       "    }\n",
       "\n",
       "    .dataframe tbody tr th {\n",
       "        vertical-align: top;\n",
       "    }\n",
       "\n",
       "    .dataframe thead th {\n",
       "        text-align: right;\n",
       "    }\n",
       "</style>\n",
       "<table border=\"1\" class=\"dataframe\">\n",
       "  <thead>\n",
       "    <tr style=\"text-align: right;\">\n",
       "      <th></th>\n",
       "      <th>Month</th>\n",
       "      <th>DayofMonth</th>\n",
       "      <th>DayOfWeek</th>\n",
       "      <th>DepTime</th>\n",
       "      <th>CRSDepTime</th>\n",
       "      <th>ArrTime</th>\n",
       "      <th>CRSArrTime</th>\n",
       "      <th>ActualElapsedTime</th>\n",
       "      <th>CRSElapsedTime</th>\n",
       "      <th>AirTime</th>\n",
       "      <th>DepDelay</th>\n",
       "      <th>Distance</th>\n",
       "      <th>TaxiIn</th>\n",
       "      <th>TaxiOut</th>\n",
       "    </tr>\n",
       "    <tr>\n",
       "      <th>ArrDelay</th>\n",
       "      <th></th>\n",
       "      <th></th>\n",
       "      <th></th>\n",
       "      <th></th>\n",
       "      <th></th>\n",
       "      <th></th>\n",
       "      <th></th>\n",
       "      <th></th>\n",
       "      <th></th>\n",
       "      <th></th>\n",
       "      <th></th>\n",
       "      <th></th>\n",
       "      <th></th>\n",
       "      <th></th>\n",
       "    </tr>\n",
       "  </thead>\n",
       "  <tbody>\n",
       "    <tr>\n",
       "      <td>0</td>\n",
       "      <td>6.44</td>\n",
       "      <td>15.75</td>\n",
       "      <td>3.92</td>\n",
       "      <td>1298.79</td>\n",
       "      <td>1301.35</td>\n",
       "      <td>1462.68</td>\n",
       "      <td>1469.73</td>\n",
       "      <td>124.79</td>\n",
       "      <td>128.24</td>\n",
       "      <td>102.93</td>\n",
       "      <td>0.53</td>\n",
       "      <td>724.66</td>\n",
       "      <td>6.69</td>\n",
       "      <td>15.16</td>\n",
       "    </tr>\n",
       "    <tr>\n",
       "      <td>1</td>\n",
       "      <td>6.08</td>\n",
       "      <td>15.73</td>\n",
       "      <td>3.97</td>\n",
       "      <td>1567.30</td>\n",
       "      <td>1484.59</td>\n",
       "      <td>1603.55</td>\n",
       "      <td>1651.62</td>\n",
       "      <td>143.90</td>\n",
       "      <td>134.61</td>\n",
       "      <td>111.10</td>\n",
       "      <td>71.68</td>\n",
       "      <td>755.70</td>\n",
       "      <td>7.97</td>\n",
       "      <td>24.83</td>\n",
       "    </tr>\n",
       "  </tbody>\n",
       "</table>\n",
       "</div>"
      ],
      "text/plain": [
       "          Month  DayofMonth  DayOfWeek  DepTime  CRSDepTime  ArrTime  \\\n",
       "ArrDelay                                                               \n",
       "0          6.44       15.75       3.92  1298.79     1301.35  1462.68   \n",
       "1          6.08       15.73       3.97  1567.30     1484.59  1603.55   \n",
       "\n",
       "          CRSArrTime  ActualElapsedTime  CRSElapsedTime  AirTime  DepDelay  \\\n",
       "ArrDelay                                                                     \n",
       "0            1469.73             124.79          128.24   102.93      0.53   \n",
       "1            1651.62             143.90          134.61   111.10     71.68   \n",
       "\n",
       "          Distance  TaxiIn  TaxiOut  \n",
       "ArrDelay                             \n",
       "0           724.66    6.69    15.16  \n",
       "1           755.70    7.97    24.83  "
      ]
     },
     "execution_count": 20,
     "metadata": {},
     "output_type": "execute_result"
    }
   ],
   "source": [
    "df3.groupby('ArrDelay').mean()"
   ]
  },
  {
   "cell_type": "markdown",
   "metadata": {},
   "source": [
    "### there is no unsual values in the numeric features"
   ]
  },
  {
   "cell_type": "code",
   "execution_count": 21,
   "metadata": {},
   "outputs": [
    {
     "data": {
      "text/html": [
       "<div>\n",
       "<style scoped>\n",
       "    .dataframe tbody tr th:only-of-type {\n",
       "        vertical-align: middle;\n",
       "    }\n",
       "\n",
       "    .dataframe tbody tr th {\n",
       "        vertical-align: top;\n",
       "    }\n",
       "\n",
       "    .dataframe thead th {\n",
       "        text-align: right;\n",
       "    }\n",
       "</style>\n",
       "<table border=\"1\" class=\"dataframe\">\n",
       "  <thead>\n",
       "    <tr style=\"text-align: right;\">\n",
       "      <th></th>\n",
       "      <th>Month</th>\n",
       "      <th>DayofMonth</th>\n",
       "      <th>DayOfWeek</th>\n",
       "      <th>DepTime</th>\n",
       "      <th>CRSDepTime</th>\n",
       "      <th>ArrTime</th>\n",
       "      <th>CRSArrTime</th>\n",
       "      <th>ActualElapsedTime</th>\n",
       "      <th>CRSElapsedTime</th>\n",
       "      <th>AirTime</th>\n",
       "      <th>ArrDelay</th>\n",
       "      <th>DepDelay</th>\n",
       "      <th>Distance</th>\n",
       "      <th>TaxiIn</th>\n",
       "      <th>TaxiOut</th>\n",
       "    </tr>\n",
       "  </thead>\n",
       "  <tbody>\n",
       "    <tr>\n",
       "      <td>count</td>\n",
       "      <td>977941.00</td>\n",
       "      <td>977941.00</td>\n",
       "      <td>977941.00</td>\n",
       "      <td>977941.00</td>\n",
       "      <td>977941.00</td>\n",
       "      <td>977941.00</td>\n",
       "      <td>977941.00</td>\n",
       "      <td>977941.00</td>\n",
       "      <td>977941.00</td>\n",
       "      <td>977941.00</td>\n",
       "      <td>977941.00</td>\n",
       "      <td>977941.00</td>\n",
       "      <td>977941.00</td>\n",
       "      <td>977941.00</td>\n",
       "      <td>977941.00</td>\n",
       "    </tr>\n",
       "    <tr>\n",
       "      <td>mean</td>\n",
       "      <td>6.39</td>\n",
       "      <td>15.75</td>\n",
       "      <td>3.92</td>\n",
       "      <td>1334.04</td>\n",
       "      <td>1325.41</td>\n",
       "      <td>1481.18</td>\n",
       "      <td>1493.61</td>\n",
       "      <td>127.30</td>\n",
       "      <td>129.08</td>\n",
       "      <td>104.01</td>\n",
       "      <td>0.13</td>\n",
       "      <td>9.87</td>\n",
       "      <td>728.73</td>\n",
       "      <td>6.86</td>\n",
       "      <td>16.43</td>\n",
       "    </tr>\n",
       "    <tr>\n",
       "      <td>std</td>\n",
       "      <td>3.40</td>\n",
       "      <td>8.80</td>\n",
       "      <td>1.99</td>\n",
       "      <td>478.29</td>\n",
       "      <td>464.60</td>\n",
       "      <td>505.26</td>\n",
       "      <td>482.96</td>\n",
       "      <td>70.21</td>\n",
       "      <td>69.57</td>\n",
       "      <td>67.46</td>\n",
       "      <td>0.34</td>\n",
       "      <td>34.95</td>\n",
       "      <td>563.30</td>\n",
       "      <td>4.92</td>\n",
       "      <td>11.28</td>\n",
       "    </tr>\n",
       "    <tr>\n",
       "      <td>min</td>\n",
       "      <td>1.00</td>\n",
       "      <td>1.00</td>\n",
       "      <td>1.00</td>\n",
       "      <td>1.00</td>\n",
       "      <td>1.00</td>\n",
       "      <td>1.00</td>\n",
       "      <td>0.00</td>\n",
       "      <td>15.00</td>\n",
       "      <td>-140.00</td>\n",
       "      <td>0.00</td>\n",
       "      <td>0.00</td>\n",
       "      <td>-534.00</td>\n",
       "      <td>21.00</td>\n",
       "      <td>0.00</td>\n",
       "      <td>0.00</td>\n",
       "    </tr>\n",
       "    <tr>\n",
       "      <td>25%</td>\n",
       "      <td>3.00</td>\n",
       "      <td>8.00</td>\n",
       "      <td>2.00</td>\n",
       "      <td>928.00</td>\n",
       "      <td>925.00</td>\n",
       "      <td>1107.00</td>\n",
       "      <td>1115.00</td>\n",
       "      <td>77.00</td>\n",
       "      <td>80.00</td>\n",
       "      <td>55.00</td>\n",
       "      <td>0.00</td>\n",
       "      <td>-4.00</td>\n",
       "      <td>326.00</td>\n",
       "      <td>4.00</td>\n",
       "      <td>10.00</td>\n",
       "    </tr>\n",
       "    <tr>\n",
       "      <td>50%</td>\n",
       "      <td>6.00</td>\n",
       "      <td>16.00</td>\n",
       "      <td>4.00</td>\n",
       "      <td>1326.00</td>\n",
       "      <td>1320.00</td>\n",
       "      <td>1512.00</td>\n",
       "      <td>1515.00</td>\n",
       "      <td>109.00</td>\n",
       "      <td>111.00</td>\n",
       "      <td>86.00</td>\n",
       "      <td>0.00</td>\n",
       "      <td>-1.00</td>\n",
       "      <td>581.00</td>\n",
       "      <td>6.00</td>\n",
       "      <td>14.00</td>\n",
       "    </tr>\n",
       "    <tr>\n",
       "      <td>75%</td>\n",
       "      <td>9.00</td>\n",
       "      <td>23.00</td>\n",
       "      <td>6.00</td>\n",
       "      <td>1728.00</td>\n",
       "      <td>1715.00</td>\n",
       "      <td>1908.00</td>\n",
       "      <td>1905.00</td>\n",
       "      <td>157.00</td>\n",
       "      <td>159.00</td>\n",
       "      <td>132.00</td>\n",
       "      <td>0.00</td>\n",
       "      <td>8.00</td>\n",
       "      <td>954.00</td>\n",
       "      <td>8.00</td>\n",
       "      <td>19.00</td>\n",
       "    </tr>\n",
       "    <tr>\n",
       "      <td>max</td>\n",
       "      <td>12.00</td>\n",
       "      <td>31.00</td>\n",
       "      <td>7.00</td>\n",
       "      <td>2400.00</td>\n",
       "      <td>2359.00</td>\n",
       "      <td>2400.00</td>\n",
       "      <td>2359.00</td>\n",
       "      <td>802.00</td>\n",
       "      <td>660.00</td>\n",
       "      <td>757.00</td>\n",
       "      <td>1.00</td>\n",
       "      <td>1369.00</td>\n",
       "      <td>4962.00</td>\n",
       "      <td>225.00</td>\n",
       "      <td>393.00</td>\n",
       "    </tr>\n",
       "  </tbody>\n",
       "</table>\n",
       "</div>"
      ],
      "text/plain": [
       "          Month  DayofMonth  DayOfWeek   DepTime  CRSDepTime   ArrTime  \\\n",
       "count 977941.00   977941.00  977941.00 977941.00   977941.00 977941.00   \n",
       "mean       6.39       15.75       3.92   1334.04     1325.41   1481.18   \n",
       "std        3.40        8.80       1.99    478.29      464.60    505.26   \n",
       "min        1.00        1.00       1.00      1.00        1.00      1.00   \n",
       "25%        3.00        8.00       2.00    928.00      925.00   1107.00   \n",
       "50%        6.00       16.00       4.00   1326.00     1320.00   1512.00   \n",
       "75%        9.00       23.00       6.00   1728.00     1715.00   1908.00   \n",
       "max       12.00       31.00       7.00   2400.00     2359.00   2400.00   \n",
       "\n",
       "       CRSArrTime  ActualElapsedTime  CRSElapsedTime   AirTime  ArrDelay  \\\n",
       "count   977941.00          977941.00       977941.00 977941.00 977941.00   \n",
       "mean      1493.61             127.30          129.08    104.01      0.13   \n",
       "std        482.96              70.21           69.57     67.46      0.34   \n",
       "min          0.00              15.00         -140.00      0.00      0.00   \n",
       "25%       1115.00              77.00           80.00     55.00      0.00   \n",
       "50%       1515.00             109.00          111.00     86.00      0.00   \n",
       "75%       1905.00             157.00          159.00    132.00      0.00   \n",
       "max       2359.00             802.00          660.00    757.00      1.00   \n",
       "\n",
       "       DepDelay  Distance    TaxiIn   TaxiOut  \n",
       "count 977941.00 977941.00 977941.00 977941.00  \n",
       "mean       9.87    728.73      6.86     16.43  \n",
       "std       34.95    563.30      4.92     11.28  \n",
       "min     -534.00     21.00      0.00      0.00  \n",
       "25%       -4.00    326.00      4.00     10.00  \n",
       "50%       -1.00    581.00      6.00     14.00  \n",
       "75%        8.00    954.00      8.00     19.00  \n",
       "max     1369.00   4962.00    225.00    393.00  "
      ]
     },
     "execution_count": 21,
     "metadata": {},
     "output_type": "execute_result"
    }
   ],
   "source": [
    "df3.describe()"
   ]
  },
  {
   "cell_type": "markdown",
   "metadata": {},
   "source": [
    "### there is no unsual values in the numeric features"
   ]
  },
  {
   "cell_type": "code",
   "execution_count": 22,
   "metadata": {},
   "outputs": [
    {
     "data": {
      "text/html": [
       "<div>\n",
       "<style scoped>\n",
       "    .dataframe tbody tr th:only-of-type {\n",
       "        vertical-align: middle;\n",
       "    }\n",
       "\n",
       "    .dataframe tbody tr th {\n",
       "        vertical-align: top;\n",
       "    }\n",
       "\n",
       "    .dataframe thead th {\n",
       "        text-align: right;\n",
       "    }\n",
       "</style>\n",
       "<table border=\"1\" class=\"dataframe\">\n",
       "  <thead>\n",
       "    <tr style=\"text-align: right;\">\n",
       "      <th></th>\n",
       "      <th>UniqueCarrier</th>\n",
       "      <th>Origin</th>\n",
       "      <th>Dest</th>\n",
       "    </tr>\n",
       "  </thead>\n",
       "  <tbody>\n",
       "    <tr>\n",
       "      <td>count</td>\n",
       "      <td>977941</td>\n",
       "      <td>977941</td>\n",
       "      <td>977941</td>\n",
       "    </tr>\n",
       "    <tr>\n",
       "      <td>unique</td>\n",
       "      <td>20</td>\n",
       "      <td>302</td>\n",
       "      <td>302</td>\n",
       "    </tr>\n",
       "    <tr>\n",
       "      <td>top</td>\n",
       "      <td>WN</td>\n",
       "      <td>ATL</td>\n",
       "      <td>ATL</td>\n",
       "    </tr>\n",
       "    <tr>\n",
       "      <td>freq</td>\n",
       "      <td>169752</td>\n",
       "      <td>58078</td>\n",
       "      <td>57823</td>\n",
       "    </tr>\n",
       "  </tbody>\n",
       "</table>\n",
       "</div>"
      ],
      "text/plain": [
       "       UniqueCarrier  Origin    Dest\n",
       "count         977941  977941  977941\n",
       "unique            20     302     302\n",
       "top               WN     ATL     ATL\n",
       "freq          169752   58078   57823"
      ]
     },
     "execution_count": 22,
     "metadata": {},
     "output_type": "execute_result"
    }
   ],
   "source": [
    "df3.describe(include='O')"
   ]
  },
  {
   "cell_type": "markdown",
   "metadata": {},
   "source": [
    "### check for correlation in numerical feature "
   ]
  },
  {
   "cell_type": "code",
   "execution_count": 23,
   "metadata": {},
   "outputs": [
    {
     "data": {
      "image/png": "[encoded data removed]",
      "text/plain": [
       "<Figure size 1008x576 with 2 Axes>"
      ]
     },
     "metadata": {
      "needs_background": "light"
     },
     "output_type": "display_data"
    }
   ],
   "source": [
    "plt.figure(figsize=(14,8))\n",
    "sns.heatmap(df2.drop(columns=['Year','Cancelled','Diverted', 'FlightNum', 'TailNum']).select_dtypes(np.number).corr(), annot=True, fmt=\".2f\")\n",
    "plt.show()"
   ]
  },
  {
   "cell_type": "markdown",
   "metadata": {},
   "source": [
    "# 3. Data visulization "
   ]
  },
  {
   "cell_type": "code",
   "execution_count": 24,
   "metadata": {},
   "outputs": [],
   "source": [
    "yes_delay = df3[df3.ArrDelay == 1]\n",
    "no_delay = df3[df3.ArrDelay == 0]"
   ]
  },
  {
   "cell_type": "markdown",
   "metadata": {},
   "source": [
    "### comparision between delay and not delay with respect to 'Month', 'DayOfWeek', 'DayofMonth'"
   ]
  },
  {
   "cell_type": "code",
   "execution_count": 25,
   "metadata": {},
   "outputs": [
    {
     "data": {
      "image/png": "[encoded data removed]",
      "text/plain": [
       "<Figure size 1440x1080 with 3 Axes>"
      ]
     },
     "metadata": {
      "needs_background": "light"
     },
     "output_type": "display_data"
    }
   ],
   "source": [
    "plt.figure(num=1, figsize=(20,15))\n",
    "\n",
    "plt.subplot(221)\n",
    "\n",
    "x1 = yes_delay.Month.value_counts().sort_index().index\n",
    "y1 = yes_delay.Month.value_counts().sort_index()/yes_delay.shape[0]*100\n",
    "x2 = no_delay.Month.value_counts().sort_index().index\n",
    "y2 = no_delay.Month.value_counts().sort_index()/no_delay.shape[0]*100\n",
    "plt.title('% in ArrDelay: Yes (delay) and no (not delay)')\n",
    "plt.xlabel('Month')\n",
    "plt.ylabel('%')\n",
    "plt.xticks(range(1,13))\n",
    "plt.plot(x1,y1, '.-', label='1', color='r')\n",
    "plt.plot(x2,y2, '.-', label='0', color='b')\n",
    "plt.legend()\n",
    "\n",
    "plt.subplot(222)\n",
    "x3 = yes_delay.DayOfWeek.value_counts().sort_index().index\n",
    "y3 = yes_delay.DayOfWeek.value_counts().sort_index()/yes_delay.shape[0]*100\n",
    "x4 = no_delay.DayOfWeek.value_counts().sort_index().index\n",
    "y4 = no_delay.DayOfWeek.value_counts().sort_index()/no_delay.shape[0]*100\n",
    "plt.title('% in ArrDelay: Yes (delay) and no (not delay)')\n",
    "plt.xlabel('DayOfWeek')\n",
    "plt.ylabel('%')\n",
    "plt.xticks(range(1,8))\n",
    "plt.plot(x3,y3, '.-', label='1', color='r')\n",
    "plt.plot(x4,y4, '.-', label='0', color='b')\n",
    "plt.legend()\n",
    "\n",
    "plt.subplot(223)\n",
    "x5 = yes_delay.DayofMonth.value_counts().sort_index().index\n",
    "y5 = yes_delay.DayofMonth.value_counts().sort_index()/yes_delay.shape[0]*100\n",
    "x6 = no_delay.DayofMonth.value_counts().sort_index().index\n",
    "y6 = no_delay.DayofMonth.value_counts().sort_index()/no_delay.shape[0]*100\n",
    "plt.title('% in ArrDelay: Yes (delay) and no (not delay)')\n",
    "plt.xlabel('DayofMonth')\n",
    "plt.ylabel('%')\n",
    "plt.xticks(range(1,32,5))\n",
    "plt.plot(x5,y5, '.-', label='1', color='r')\n",
    "plt.plot(x6,y6, '.-', label='0', color='b')\n",
    "plt.legend()\n",
    "plt.show()"
   ]
  },
  {
   "cell_type": "markdown",
   "metadata": {},
   "source": [
    "### comparision between delay and not delay with respect to 'DepTime' and 'CRSDepTime', 'ArrTime' and 'CRSArrTime'"
   ]
  },
  {
   "cell_type": "code",
   "execution_count": 26,
   "metadata": {},
   "outputs": [
    {
     "data": {
      "image/png": "[encoded data removed]",
      "text/plain": [
       "<Figure size 1440x1368 with 4 Axes>"
      ]
     },
     "metadata": {
      "needs_background": "light"
     },
     "output_type": "display_data"
    }
   ],
   "source": [
    "plt.figure(num=2, figsize=(20,19))\n",
    "\n",
    "yes = (yes_delay[['DepTime','CRSDepTime', 'ArrTime','CRSArrTime']]/100)\n",
    "no = (no_delay[['DepTime','CRSDepTime', 'ArrTime','CRSArrTime']]/100)\n",
    "yes.DepTime = yes.DepTime.apply(lambda x: int(x)+1 if (x-int(x)) >= 0.3 else int(x))\n",
    "no.DepTime= no.DepTime.apply(lambda x: int(x)+1 if (x-int(x)) >= 0.3 else int(x))\n",
    "yes.CRSDepTime= yes.CRSDepTime.apply(lambda x: int(x)+1 if (x-int(x)) >= 0.3 else int(x))\n",
    "no.CRSDepTime= no.CRSDepTime.apply(lambda x: int(x)+1 if (x-int(x)) >= 0.3 else int(x))\n",
    "yes.ArrTime = yes.ArrTime.apply(lambda x: int(x)+1 if (x-int(x)) >= 0.3 else int(x))\n",
    "no.ArrTime= no.ArrTime.apply(lambda x: int(x)+1 if (x-int(x)) >= 0.3 else int(x))\n",
    "yes.CRSArrTime = yes.CRSArrTime.apply(lambda x: int(x)+1 if (x-int(x)) >= 0.3 else int(x))\n",
    "no.CRSArrTime= no.CRSArrTime.apply(lambda x: int(x)+1 if (x-int(x)) >= 0.3 else int(x))\n",
    "\n",
    "plt.subplot(221)\n",
    "\n",
    "x1 = yes.DepTime.value_counts().sort_index().index\n",
    "y1 = yes.DepTime.value_counts().sort_index()/yes_delay.shape[0]*100\n",
    "x2 = no.DepTime.value_counts().sort_index().index\n",
    "y2 = no.DepTime.value_counts().sort_index()/no_delay.shape[0]*100\n",
    "plt.title('% in ArrDelay: Yes (delay) and no (not delay)')\n",
    "plt.xlabel('DepTime')\n",
    "plt.ylabel('%')\n",
    "plt.xticks(range(0,25))\n",
    "plt.plot(x1,y1, '.-', label='1', color='r')\n",
    "plt.plot(x2,y2, '.-', label='0', color='b')\n",
    "plt.legend()\n",
    "\n",
    "plt.subplot(222)\n",
    "x3 = yes.CRSDepTime.value_counts().sort_index().index\n",
    "y3 = yes.CRSDepTime.value_counts().sort_index()/yes_delay.shape[0]*100\n",
    "x4 = no.CRSDepTime.value_counts().sort_index().index\n",
    "y4 = no.CRSDepTime.value_counts().sort_index()/no_delay.shape[0]*100\n",
    "plt.title('% in ArrDelay: Yes (delay) and no (not delay)')\n",
    "plt.xlabel('CRSDepTime')\n",
    "plt.ylabel('%')\n",
    "plt.xticks(range(0,25))\n",
    "plt.plot(x3,y3, '.-', label='1', color='r')\n",
    "plt.plot(x4,y4, '.-', label='0', color='b')\n",
    "plt.legend()\n",
    "\n",
    "plt.subplot(223)\n",
    "x5 = yes.ArrTime.value_counts().sort_index().index\n",
    "y5 = yes.ArrTime.value_counts().sort_index()/yes_delay.shape[0]*100\n",
    "x6 = no.ArrTime.value_counts().sort_index().index\n",
    "y6 = no.ArrTime.value_counts().sort_index()/no_delay.shape[0]*100\n",
    "plt.title('% in ArrDelay: Yes (delay) and no (not delay)')\n",
    "plt.xlabel('ArrTime')\n",
    "plt.ylabel('%')\n",
    "plt.xticks(range(0,25))\n",
    "plt.plot(x5,y5, '.-', label='1', color='r')\n",
    "plt.plot(x6,y6, '.-', label='0', color='b')\n",
    "plt.legend()\n",
    "\n",
    "plt.subplot(224)\n",
    "x7 = yes.CRSArrTime.value_counts().sort_index().index\n",
    "y7 = yes.CRSArrTime.value_counts().sort_index()/yes_delay.shape[0]*100\n",
    "x8 = no.CRSArrTime.value_counts().sort_index().index\n",
    "y8 = no.CRSArrTime.value_counts().sort_index()/no_delay.shape[0]*100\n",
    "plt.title('% in ArrDelay: Yes (delay) and no (not delay)')\n",
    "plt.xlabel('CRSArrTime')\n",
    "plt.ylabel('%')\n",
    "plt.xticks(range(0,25))\n",
    "plt.plot(x7,y7, '.-', label='1', color='r')\n",
    "plt.plot(x8,y8, '.-', label='0', color='b')\n",
    "plt.legend()\n",
    "\n",
    "plt.show()"
   ]
  },
  {
   "cell_type": "markdown",
   "metadata": {},
   "source": [
    "### -> the correlation between 'DepTime' and 'CRSDepTime', 'ArrTime' and 'CRSArrTime' are significant"
   ]
  },
  {
   "cell_type": "markdown",
   "metadata": {},
   "source": [
    " "
   ]
  },
  {
   "cell_type": "markdown",
   "metadata": {},
   "source": [
    "### comparision between delay and not delay with respect to 'ActualElapsedTime' , 'CRSElapsedTime', 'AirTime' "
   ]
  },
  {
   "cell_type": "code",
   "execution_count": 27,
   "metadata": {},
   "outputs": [
    {
     "data": {
      "image/png": "[encoded data removed]",
      "text/plain": [
       "<Figure size 1440x1080 with 3 Axes>"
      ]
     },
     "metadata": {
      "needs_background": "light"
     },
     "output_type": "display_data"
    }
   ],
   "source": [
    "plt.figure(num=3, figsize=(20,15))\n",
    "\n",
    "plt.subplot(221)\n",
    "\n",
    "x1 = yes_delay.ActualElapsedTime.value_counts().sort_index().index\n",
    "y1 = yes_delay.ActualElapsedTime.value_counts().sort_index()/yes_delay.shape[0]*100\n",
    "x2 = no_delay.ActualElapsedTime.value_counts().sort_index().index\n",
    "y2 = no_delay.ActualElapsedTime.value_counts().sort_index()/no_delay.shape[0]*100\n",
    "plt.title('% in ArrDelay: Yes (delay) and no (not delay)')\n",
    "plt.xlabel('ActualElapsedTime')\n",
    "plt.ylabel('%')\n",
    "#plt.xticks(range(1,13))\n",
    "plt.scatter(x1,y1, label='1', color='r', s=7)\n",
    "plt.scatter(x2,y2, label='0', color='b', s=7)\n",
    "plt.legend()\n",
    "\n",
    "plt.subplot(222)\n",
    "x3 = yes_delay.CRSElapsedTime.value_counts().sort_index().index\n",
    "y3 = yes_delay.CRSElapsedTime.value_counts().sort_index()/yes_delay.shape[0]*100\n",
    "x4 = no_delay.CRSElapsedTime.value_counts().sort_index().index\n",
    "y4 = no_delay.CRSElapsedTime.value_counts().sort_index()/no_delay.shape[0]*100\n",
    "plt.title('% in ArrDelay: Yes (delay) and no (not delay)')\n",
    "plt.xlabel('CRSElapsedTime')\n",
    "plt.ylabel('%')\n",
    "#plt.xticks(range(1,8))\n",
    "plt.scatter(x3,y3, label='1', color='r', s=7)\n",
    "plt.scatter(x4,y4, label='0', color='b', s=7)\n",
    "plt.legend()\n",
    "\n",
    "plt.subplot(223)\n",
    "x5 = yes_delay.AirTime.value_counts().sort_index().index\n",
    "y5 = yes_delay.AirTime.value_counts().sort_index()/yes_delay.shape[0]*100\n",
    "x6 = no_delay.AirTime.value_counts().sort_index().index\n",
    "y6 = no_delay.AirTime.value_counts().sort_index()/no_delay.shape[0]*100\n",
    "plt.title('% in ArrDelay: Yes (delay) and no (not delay)')\n",
    "plt.xlabel('AirTime')\n",
    "plt.ylabel('%')\n",
    "#plt.xticks(range(1,32,5))\n",
    "plt.scatter(x5,y5, label='1', color='r', s=7)\n",
    "plt.scatter(x6,y6, label='0', color='b', s=7)\n",
    "plt.legend()\n",
    "\n",
    "plt.show()"
   ]
  },
  {
   "cell_type": "markdown",
   "metadata": {},
   "source": [
    "### DepDelay has a significant effect on the result of 'ArrDelay'"
   ]
  },
  {
   "cell_type": "code",
   "execution_count": 28,
   "metadata": {},
   "outputs": [
    {
     "data": {
      "image/png": "[encoded data removed]",
      "text/plain": [
       "<Figure size 1080x648 with 1 Axes>"
      ]
     },
     "metadata": {
      "needs_background": "light"
     },
     "output_type": "display_data"
    }
   ],
   "source": [
    "plt.figure(num=4, figsize=(15,9))\n",
    "\n",
    "x1 = yes_delay.DepDelay.value_counts().sort_index().index\n",
    "y1 = yes_delay.DepDelay.value_counts().sort_index()/yes_delay.shape[0]*100\n",
    "x2 = no_delay.DepDelay.value_counts().sort_index().index\n",
    "y2 = no_delay.DepDelay.value_counts().sort_index()/no_delay.shape[0]*100\n",
    "plt.title('% in ArrDelay: Yes (delay) and no (not delay)')\n",
    "plt.xlabel('DepDelay')\n",
    "plt.ylabel('%')\n",
    "plt.scatter(x1,y1, label='1', color='r', s=7)\n",
    "\n",
    "\n",
    "plt.scatter(x2,y2, label='0', color='b', s=7)\n",
    "plt.legend()\n",
    "plt.show()"
   ]
  },
  {
   "cell_type": "markdown",
   "metadata": {},
   "source": [
    "# 4. Data training "
   ]
  },
  {
   "cell_type": "markdown",
   "metadata": {},
   "source": [
    "## 4.1 Data preprocessing"
   ]
  },
  {
   "cell_type": "markdown",
   "metadata": {},
   "source": [
    "## apply one-hot encoding to categorical feature, apply StandardScaler to numeric features "
   ]
  },
  {
   "cell_type": "markdown",
   "metadata": {},
   "source": [
    "### non-scaled features"
   ]
  },
  {
   "cell_type": "code",
   "execution_count": 29,
   "metadata": {},
   "outputs": [],
   "source": [
    "feature = df3.drop(columns=['DepDelay','AirTime','ArrDelay'])\n",
    "target = df3.ArrDelay"
   ]
  },
  {
   "cell_type": "markdown",
   "metadata": {},
   "source": [
    "### numeric and categorical feature"
   ]
  },
  {
   "cell_type": "code",
   "execution_count": 30,
   "metadata": {},
   "outputs": [],
   "source": [
    "num_feature = feature.select_dtypes(np.number)\n",
    "cat_feature = feature.select_dtypes(object)"
   ]
  },
  {
   "cell_type": "markdown",
   "metadata": {},
   "source": [
    "### apply Onehot-encode "
   ]
  },
  {
   "cell_type": "code",
   "execution_count": 31,
   "metadata": {},
   "outputs": [],
   "source": [
    "# one-hot encode categorical features, we drop the 'Origin' and 'Dest' feature due to 'Memory error'\n",
    "ohe_cat_feature = pd.get_dummies(cat_feature.drop(columns=['Origin','Dest']), drop_first=True)\n",
    "\n",
    "#standardscale numeric feature\n",
    "scaled_num_feature = pd.DataFrame(StandardScaler().fit_transform(num_feature), columns=num_feature.columns)"
   ]
  },
  {
   "cell_type": "markdown",
   "metadata": {},
   "source": [
    "### our scaled feature has 33 features"
   ]
  },
  {
   "cell_type": "code",
   "execution_count": 32,
   "metadata": {},
   "outputs": [
    {
     "data": {
      "text/html": [
       "<div>\n",
       "<style scoped>\n",
       "    .dataframe tbody tr th:only-of-type {\n",
       "        vertical-align: middle;\n",
       "    }\n",
       "\n",
       "    .dataframe tbody tr th {\n",
       "        vertical-align: top;\n",
       "    }\n",
       "\n",
       "    .dataframe thead th {\n",
       "        text-align: right;\n",
       "    }\n",
       "</style>\n",
       "<table border=\"1\" class=\"dataframe\">\n",
       "  <thead>\n",
       "    <tr style=\"text-align: right;\">\n",
       "      <th></th>\n",
       "      <th>Month</th>\n",
       "      <th>DayofMonth</th>\n",
       "      <th>DayOfWeek</th>\n",
       "      <th>DepTime</th>\n",
       "      <th>CRSDepTime</th>\n",
       "      <th>ArrTime</th>\n",
       "      <th>CRSArrTime</th>\n",
       "      <th>ActualElapsedTime</th>\n",
       "      <th>CRSElapsedTime</th>\n",
       "      <th>Distance</th>\n",
       "      <th>TaxiIn</th>\n",
       "      <th>TaxiOut</th>\n",
       "      <th>UniqueCarrier_AA</th>\n",
       "      <th>UniqueCarrier_AQ</th>\n",
       "      <th>UniqueCarrier_AS</th>\n",
       "      <th>UniqueCarrier_B6</th>\n",
       "      <th>UniqueCarrier_CO</th>\n",
       "      <th>UniqueCarrier_DL</th>\n",
       "      <th>UniqueCarrier_EV</th>\n",
       "      <th>UniqueCarrier_F9</th>\n",
       "      <th>UniqueCarrier_FL</th>\n",
       "      <th>UniqueCarrier_HA</th>\n",
       "      <th>UniqueCarrier_MQ</th>\n",
       "      <th>UniqueCarrier_NW</th>\n",
       "      <th>UniqueCarrier_OH</th>\n",
       "      <th>UniqueCarrier_OO</th>\n",
       "      <th>UniqueCarrier_UA</th>\n",
       "      <th>UniqueCarrier_US</th>\n",
       "      <th>UniqueCarrier_WN</th>\n",
       "      <th>UniqueCarrier_XE</th>\n",
       "      <th>UniqueCarrier_YV</th>\n",
       "    </tr>\n",
       "  </thead>\n",
       "  <tbody>\n",
       "    <tr>\n",
       "      <td>0</td>\n",
       "      <td>-1.59</td>\n",
       "      <td>-1.45</td>\n",
       "      <td>0.04</td>\n",
       "      <td>-1.48</td>\n",
       "      <td>-1.52</td>\n",
       "      <td>-1.34</td>\n",
       "      <td>-1.54</td>\n",
       "      <td>-0.45</td>\n",
       "      <td>-0.56</td>\n",
       "      <td>-0.38</td>\n",
       "      <td>-0.78</td>\n",
       "      <td>0.05</td>\n",
       "      <td>0</td>\n",
       "      <td>0</td>\n",
       "      <td>0</td>\n",
       "      <td>0</td>\n",
       "      <td>0</td>\n",
       "      <td>0</td>\n",
       "      <td>0</td>\n",
       "      <td>0</td>\n",
       "      <td>0</td>\n",
       "      <td>0</td>\n",
       "      <td>0</td>\n",
       "      <td>0</td>\n",
       "      <td>0</td>\n",
       "      <td>0</td>\n",
       "      <td>0</td>\n",
       "      <td>0</td>\n",
       "      <td>1</td>\n",
       "      <td>0</td>\n",
       "      <td>0</td>\n",
       "    </tr>\n",
       "    <tr>\n",
       "      <td>1</td>\n",
       "      <td>-1.59</td>\n",
       "      <td>-1.45</td>\n",
       "      <td>0.04</td>\n",
       "      <td>0.65</td>\n",
       "      <td>0.40</td>\n",
       "      <td>0.72</td>\n",
       "      <td>0.48</td>\n",
       "      <td>-0.09</td>\n",
       "      <td>0.09</td>\n",
       "      <td>0.18</td>\n",
       "      <td>-0.17</td>\n",
       "      <td>-0.75</td>\n",
       "      <td>0</td>\n",
       "      <td>0</td>\n",
       "      <td>0</td>\n",
       "      <td>0</td>\n",
       "      <td>0</td>\n",
       "      <td>0</td>\n",
       "      <td>0</td>\n",
       "      <td>0</td>\n",
       "      <td>0</td>\n",
       "      <td>0</td>\n",
       "      <td>0</td>\n",
       "      <td>0</td>\n",
       "      <td>0</td>\n",
       "      <td>0</td>\n",
       "      <td>0</td>\n",
       "      <td>0</td>\n",
       "      <td>1</td>\n",
       "      <td>0</td>\n",
       "      <td>0</td>\n",
       "    </tr>\n",
       "    <tr>\n",
       "      <td>2</td>\n",
       "      <td>-1.59</td>\n",
       "      <td>-1.45</td>\n",
       "      <td>0.04</td>\n",
       "      <td>-1.46</td>\n",
       "      <td>-1.49</td>\n",
       "      <td>-1.11</td>\n",
       "      <td>-1.14</td>\n",
       "      <td>0.54</td>\n",
       "      <td>0.88</td>\n",
       "      <td>0.65</td>\n",
       "      <td>-0.38</td>\n",
       "      <td>-0.30</td>\n",
       "      <td>0</td>\n",
       "      <td>0</td>\n",
       "      <td>0</td>\n",
       "      <td>0</td>\n",
       "      <td>0</td>\n",
       "      <td>0</td>\n",
       "      <td>0</td>\n",
       "      <td>0</td>\n",
       "      <td>0</td>\n",
       "      <td>0</td>\n",
       "      <td>0</td>\n",
       "      <td>0</td>\n",
       "      <td>0</td>\n",
       "      <td>0</td>\n",
       "      <td>0</td>\n",
       "      <td>0</td>\n",
       "      <td>1</td>\n",
       "      <td>0</td>\n",
       "      <td>0</td>\n",
       "    </tr>\n",
       "    <tr>\n",
       "      <td>3</td>\n",
       "      <td>-1.59</td>\n",
       "      <td>-1.45</td>\n",
       "      <td>0.04</td>\n",
       "      <td>1.62</td>\n",
       "      <td>1.33</td>\n",
       "      <td>1.69</td>\n",
       "      <td>1.52</td>\n",
       "      <td>0.28</td>\n",
       "      <td>0.52</td>\n",
       "      <td>0.43</td>\n",
       "      <td>-0.17</td>\n",
       "      <td>-0.84</td>\n",
       "      <td>0</td>\n",
       "      <td>0</td>\n",
       "      <td>0</td>\n",
       "      <td>0</td>\n",
       "      <td>0</td>\n",
       "      <td>0</td>\n",
       "      <td>0</td>\n",
       "      <td>0</td>\n",
       "      <td>0</td>\n",
       "      <td>0</td>\n",
       "      <td>0</td>\n",
       "      <td>0</td>\n",
       "      <td>0</td>\n",
       "      <td>0</td>\n",
       "      <td>0</td>\n",
       "      <td>0</td>\n",
       "      <td>1</td>\n",
       "      <td>0</td>\n",
       "      <td>0</td>\n",
       "    </tr>\n",
       "    <tr>\n",
       "      <td>4</td>\n",
       "      <td>-1.59</td>\n",
       "      <td>-1.45</td>\n",
       "      <td>0.04</td>\n",
       "      <td>-1.27</td>\n",
       "      <td>-1.30</td>\n",
       "      <td>-1.04</td>\n",
       "      <td>-0.98</td>\n",
       "      <td>0.35</td>\n",
       "      <td>0.73</td>\n",
       "      <td>0.57</td>\n",
       "      <td>-0.58</td>\n",
       "      <td>-0.75</td>\n",
       "      <td>0</td>\n",
       "      <td>0</td>\n",
       "      <td>0</td>\n",
       "      <td>0</td>\n",
       "      <td>0</td>\n",
       "      <td>0</td>\n",
       "      <td>0</td>\n",
       "      <td>0</td>\n",
       "      <td>0</td>\n",
       "      <td>0</td>\n",
       "      <td>0</td>\n",
       "      <td>0</td>\n",
       "      <td>0</td>\n",
       "      <td>0</td>\n",
       "      <td>0</td>\n",
       "      <td>0</td>\n",
       "      <td>1</td>\n",
       "      <td>0</td>\n",
       "      <td>0</td>\n",
       "    </tr>\n",
       "    <tr>\n",
       "      <td>...</td>\n",
       "      <td>...</td>\n",
       "      <td>...</td>\n",
       "      <td>...</td>\n",
       "      <td>...</td>\n",
       "      <td>...</td>\n",
       "      <td>...</td>\n",
       "      <td>...</td>\n",
       "      <td>...</td>\n",
       "      <td>...</td>\n",
       "      <td>...</td>\n",
       "      <td>...</td>\n",
       "      <td>...</td>\n",
       "      <td>...</td>\n",
       "      <td>...</td>\n",
       "      <td>...</td>\n",
       "      <td>...</td>\n",
       "      <td>...</td>\n",
       "      <td>...</td>\n",
       "      <td>...</td>\n",
       "      <td>...</td>\n",
       "      <td>...</td>\n",
       "      <td>...</td>\n",
       "      <td>...</td>\n",
       "      <td>...</td>\n",
       "      <td>...</td>\n",
       "      <td>...</td>\n",
       "      <td>...</td>\n",
       "      <td>...</td>\n",
       "      <td>...</td>\n",
       "      <td>...</td>\n",
       "      <td>...</td>\n",
       "    </tr>\n",
       "    <tr>\n",
       "      <td>977936</td>\n",
       "      <td>1.65</td>\n",
       "      <td>-0.31</td>\n",
       "      <td>1.04</td>\n",
       "      <td>-1.03</td>\n",
       "      <td>-1.04</td>\n",
       "      <td>-0.90</td>\n",
       "      <td>-0.98</td>\n",
       "      <td>-0.32</td>\n",
       "      <td>-0.45</td>\n",
       "      <td>-0.60</td>\n",
       "      <td>-0.17</td>\n",
       "      <td>2.62</td>\n",
       "      <td>0</td>\n",
       "      <td>0</td>\n",
       "      <td>0</td>\n",
       "      <td>0</td>\n",
       "      <td>0</td>\n",
       "      <td>1</td>\n",
       "      <td>0</td>\n",
       "      <td>0</td>\n",
       "      <td>0</td>\n",
       "      <td>0</td>\n",
       "      <td>0</td>\n",
       "      <td>0</td>\n",
       "      <td>0</td>\n",
       "      <td>0</td>\n",
       "      <td>0</td>\n",
       "      <td>0</td>\n",
       "      <td>0</td>\n",
       "      <td>0</td>\n",
       "      <td>0</td>\n",
       "    </tr>\n",
       "    <tr>\n",
       "      <td>977937</td>\n",
       "      <td>1.65</td>\n",
       "      <td>-0.31</td>\n",
       "      <td>1.04</td>\n",
       "      <td>-1.46</td>\n",
       "      <td>-1.48</td>\n",
       "      <td>-1.33</td>\n",
       "      <td>-1.53</td>\n",
       "      <td>-0.53</td>\n",
       "      <td>-0.81</td>\n",
       "      <td>-0.81</td>\n",
       "      <td>1.45</td>\n",
       "      <td>0.85</td>\n",
       "      <td>0</td>\n",
       "      <td>0</td>\n",
       "      <td>0</td>\n",
       "      <td>0</td>\n",
       "      <td>0</td>\n",
       "      <td>1</td>\n",
       "      <td>0</td>\n",
       "      <td>0</td>\n",
       "      <td>0</td>\n",
       "      <td>0</td>\n",
       "      <td>0</td>\n",
       "      <td>0</td>\n",
       "      <td>0</td>\n",
       "      <td>0</td>\n",
       "      <td>0</td>\n",
       "      <td>0</td>\n",
       "      <td>0</td>\n",
       "      <td>0</td>\n",
       "      <td>0</td>\n",
       "    </tr>\n",
       "    <tr>\n",
       "      <td>977938</td>\n",
       "      <td>1.65</td>\n",
       "      <td>-0.31</td>\n",
       "      <td>1.04</td>\n",
       "      <td>-1.42</td>\n",
       "      <td>-1.35</td>\n",
       "      <td>-1.24</td>\n",
       "      <td>-1.32</td>\n",
       "      <td>-0.09</td>\n",
       "      <td>-0.19</td>\n",
       "      <td>-0.33</td>\n",
       "      <td>3.49</td>\n",
       "      <td>-0.39</td>\n",
       "      <td>0</td>\n",
       "      <td>0</td>\n",
       "      <td>0</td>\n",
       "      <td>0</td>\n",
       "      <td>0</td>\n",
       "      <td>1</td>\n",
       "      <td>0</td>\n",
       "      <td>0</td>\n",
       "      <td>0</td>\n",
       "      <td>0</td>\n",
       "      <td>0</td>\n",
       "      <td>0</td>\n",
       "      <td>0</td>\n",
       "      <td>0</td>\n",
       "      <td>0</td>\n",
       "      <td>0</td>\n",
       "      <td>0</td>\n",
       "      <td>0</td>\n",
       "      <td>0</td>\n",
       "    </tr>\n",
       "    <tr>\n",
       "      <td>977939</td>\n",
       "      <td>1.65</td>\n",
       "      <td>-0.31</td>\n",
       "      <td>1.04</td>\n",
       "      <td>-0.17</td>\n",
       "      <td>-0.18</td>\n",
       "      <td>-0.07</td>\n",
       "      <td>-0.12</td>\n",
       "      <td>-0.18</td>\n",
       "      <td>-0.17</td>\n",
       "      <td>-0.35</td>\n",
       "      <td>1.25</td>\n",
       "      <td>-0.30</td>\n",
       "      <td>0</td>\n",
       "      <td>0</td>\n",
       "      <td>0</td>\n",
       "      <td>0</td>\n",
       "      <td>0</td>\n",
       "      <td>1</td>\n",
       "      <td>0</td>\n",
       "      <td>0</td>\n",
       "      <td>0</td>\n",
       "      <td>0</td>\n",
       "      <td>0</td>\n",
       "      <td>0</td>\n",
       "      <td>0</td>\n",
       "      <td>0</td>\n",
       "      <td>0</td>\n",
       "      <td>0</td>\n",
       "      <td>0</td>\n",
       "      <td>0</td>\n",
       "      <td>0</td>\n",
       "    </tr>\n",
       "    <tr>\n",
       "      <td>977940</td>\n",
       "      <td>1.65</td>\n",
       "      <td>-0.31</td>\n",
       "      <td>1.04</td>\n",
       "      <td>-0.47</td>\n",
       "      <td>-0.48</td>\n",
       "      <td>-0.13</td>\n",
       "      <td>-0.16</td>\n",
       "      <td>-0.06</td>\n",
       "      <td>0.09</td>\n",
       "      <td>0.26</td>\n",
       "      <td>0.23</td>\n",
       "      <td>-0.48</td>\n",
       "      <td>0</td>\n",
       "      <td>0</td>\n",
       "      <td>0</td>\n",
       "      <td>0</td>\n",
       "      <td>0</td>\n",
       "      <td>1</td>\n",
       "      <td>0</td>\n",
       "      <td>0</td>\n",
       "      <td>0</td>\n",
       "      <td>0</td>\n",
       "      <td>0</td>\n",
       "      <td>0</td>\n",
       "      <td>0</td>\n",
       "      <td>0</td>\n",
       "      <td>0</td>\n",
       "      <td>0</td>\n",
       "      <td>0</td>\n",
       "      <td>0</td>\n",
       "      <td>0</td>\n",
       "    </tr>\n",
       "  </tbody>\n",
       "</table>\n",
       "<p>977941 rows × 31 columns</p>\n",
       "</div>"
      ],
      "text/plain": [
       "        Month  DayofMonth  DayOfWeek  DepTime  CRSDepTime  ArrTime  \\\n",
       "0       -1.59       -1.45       0.04    -1.48       -1.52    -1.34   \n",
       "1       -1.59       -1.45       0.04     0.65        0.40     0.72   \n",
       "2       -1.59       -1.45       0.04    -1.46       -1.49    -1.11   \n",
       "3       -1.59       -1.45       0.04     1.62        1.33     1.69   \n",
       "4       -1.59       -1.45       0.04    -1.27       -1.30    -1.04   \n",
       "...       ...         ...        ...      ...         ...      ...   \n",
       "977936   1.65       -0.31       1.04    -1.03       -1.04    -0.90   \n",
       "977937   1.65       -0.31       1.04    -1.46       -1.48    -1.33   \n",
       "977938   1.65       -0.31       1.04    -1.42       -1.35    -1.24   \n",
       "977939   1.65       -0.31       1.04    -0.17       -0.18    -0.07   \n",
       "977940   1.65       -0.31       1.04    -0.47       -0.48    -0.13   \n",
       "\n",
       "        CRSArrTime  ActualElapsedTime  CRSElapsedTime  Distance  TaxiIn  \\\n",
       "0            -1.54              -0.45           -0.56     -0.38   -0.78   \n",
       "1             0.48              -0.09            0.09      0.18   -0.17   \n",
       "2            -1.14               0.54            0.88      0.65   -0.38   \n",
       "3             1.52               0.28            0.52      0.43   -0.17   \n",
       "4            -0.98               0.35            0.73      0.57   -0.58   \n",
       "...            ...                ...             ...       ...     ...   \n",
       "977936       -0.98              -0.32           -0.45     -0.60   -0.17   \n",
       "977937       -1.53              -0.53           -0.81     -0.81    1.45   \n",
       "977938       -1.32              -0.09           -0.19     -0.33    3.49   \n",
       "977939       -0.12              -0.18           -0.17     -0.35    1.25   \n",
       "977940       -0.16              -0.06            0.09      0.26    0.23   \n",
       "\n",
       "        TaxiOut  UniqueCarrier_AA  UniqueCarrier_AQ  UniqueCarrier_AS  \\\n",
       "0          0.05                 0                 0                 0   \n",
       "1         -0.75                 0                 0                 0   \n",
       "2         -0.30                 0                 0                 0   \n",
       "3         -0.84                 0                 0                 0   \n",
       "4         -0.75                 0                 0                 0   \n",
       "...         ...               ...               ...               ...   \n",
       "977936     2.62                 0                 0                 0   \n",
       "977937     0.85                 0                 0                 0   \n",
       "977938    -0.39                 0                 0                 0   \n",
       "977939    -0.30                 0                 0                 0   \n",
       "977940    -0.48                 0                 0                 0   \n",
       "\n",
       "        UniqueCarrier_B6  UniqueCarrier_CO  UniqueCarrier_DL  \\\n",
       "0                      0                 0                 0   \n",
       "1                      0                 0                 0   \n",
       "2                      0                 0                 0   \n",
       "3                      0                 0                 0   \n",
       "4                      0                 0                 0   \n",
       "...                  ...               ...               ...   \n",
       "977936                 0                 0                 1   \n",
       "977937                 0                 0                 1   \n",
       "977938                 0                 0                 1   \n",
       "977939                 0                 0                 1   \n",
       "977940                 0                 0                 1   \n",
       "\n",
       "        UniqueCarrier_EV  UniqueCarrier_F9  UniqueCarrier_FL  \\\n",
       "0                      0                 0                 0   \n",
       "1                      0                 0                 0   \n",
       "2                      0                 0                 0   \n",
       "3                      0                 0                 0   \n",
       "4                      0                 0                 0   \n",
       "...                  ...               ...               ...   \n",
       "977936                 0                 0                 0   \n",
       "977937                 0                 0                 0   \n",
       "977938                 0                 0                 0   \n",
       "977939                 0                 0                 0   \n",
       "977940                 0                 0                 0   \n",
       "\n",
       "        UniqueCarrier_HA  UniqueCarrier_MQ  UniqueCarrier_NW  \\\n",
       "0                      0                 0                 0   \n",
       "1                      0                 0                 0   \n",
       "2                      0                 0                 0   \n",
       "3                      0                 0                 0   \n",
       "4                      0                 0                 0   \n",
       "...                  ...               ...               ...   \n",
       "977936                 0                 0                 0   \n",
       "977937                 0                 0                 0   \n",
       "977938                 0                 0                 0   \n",
       "977939                 0                 0                 0   \n",
       "977940                 0                 0                 0   \n",
       "\n",
       "        UniqueCarrier_OH  UniqueCarrier_OO  UniqueCarrier_UA  \\\n",
       "0                      0                 0                 0   \n",
       "1                      0                 0                 0   \n",
       "2                      0                 0                 0   \n",
       "3                      0                 0                 0   \n",
       "4                      0                 0                 0   \n",
       "...                  ...               ...               ...   \n",
       "977936                 0                 0                 0   \n",
       "977937                 0                 0                 0   \n",
       "977938                 0                 0                 0   \n",
       "977939                 0                 0                 0   \n",
       "977940                 0                 0                 0   \n",
       "\n",
       "        UniqueCarrier_US  UniqueCarrier_WN  UniqueCarrier_XE  UniqueCarrier_YV  \n",
       "0                      0                 1                 0                 0  \n",
       "1                      0                 1                 0                 0  \n",
       "2                      0                 1                 0                 0  \n",
       "3                      0                 1                 0                 0  \n",
       "4                      0                 1                 0                 0  \n",
       "...                  ...               ...               ...               ...  \n",
       "977936                 0                 0                 0                 0  \n",
       "977937                 0                 0                 0                 0  \n",
       "977938                 0                 0                 0                 0  \n",
       "977939                 0                 0                 0                 0  \n",
       "977940                 0                 0                 0                 0  \n",
       "\n",
       "[977941 rows x 31 columns]"
      ]
     },
     "execution_count": 32,
     "metadata": {},
     "output_type": "execute_result"
    }
   ],
   "source": [
    "new_feature = pd.concat([scaled_num_feature, ohe_cat_feature], axis=1)\n",
    "new_feature"
   ]
  },
  {
   "cell_type": "markdown",
   "metadata": {},
   "source": [
    "### split train-test with one-hot encode"
   ]
  },
  {
   "cell_type": "code",
   "execution_count": 33,
   "metadata": {},
   "outputs": [],
   "source": [
    "X_train1, X_test1, y_train1, y_test1 = train_test_split(new_feature, target.values, test_size=0.2, random_state=0)"
   ]
  },
  {
   "cell_type": "markdown",
   "metadata": {},
   "source": [
    "## 4.2 Train the model "
   ]
  },
  {
   "cell_type": "markdown",
   "metadata": {},
   "source": [
    "### 4.2.1. Logistic Regression"
   ]
  },
  {
   "cell_type": "code",
   "execution_count": 72,
   "metadata": {},
   "outputs": [
    {
     "name": "stderr",
     "output_type": "stream",
     "text": [
      "C:\\Users\\tqnha\\Anaconda3\\lib\\site-packages\\sklearn\\linear_model\\logistic.py:432: FutureWarning: Default solver will be changed to 'lbfgs' in 0.22. Specify a solver to silence this warning.\n",
      "  FutureWarning)\n"
     ]
    },
    {
     "data": {
      "text/plain": [
       "LogisticRegression(C=1, class_weight=None, dual=False, fit_intercept=True,\n",
       "                   intercept_scaling=1, l1_ratio=None, max_iter=100,\n",
       "                   multi_class='warn', n_jobs=None, penalty='l2',\n",
       "                   random_state=None, solver='warn', tol=0.0001, verbose=0,\n",
       "                   warm_start=False)"
      ]
     },
     "execution_count": 72,
     "metadata": {},
     "output_type": "execute_result"
    }
   ],
   "source": [
    "lr = LogisticRegression(C=1)\n",
    "lr.fit(X_train1,y_train1)"
   ]
  },
  {
   "cell_type": "markdown",
   "metadata": {},
   "source": [
    "### f1-score, precision and recall"
   ]
  },
  {
   "cell_type": "code",
   "execution_count": 73,
   "metadata": {},
   "outputs": [
    {
     "name": "stdout",
     "output_type": "stream",
     "text": [
      "              precision    recall  f1-score   support\n",
      "\n",
      "           0       0.93      1.00      0.96    169849\n",
      "           1       0.98      0.52      0.68     25740\n",
      "\n",
      "    accuracy                           0.94    195589\n",
      "   macro avg       0.96      0.76      0.82    195589\n",
      "weighted avg       0.94      0.94      0.93    195589\n",
      "\n"
     ]
    }
   ],
   "source": [
    "print(classification_report(y_test1, lr.predict(X_test1)))"
   ]
  },
  {
   "cell_type": "markdown",
   "metadata": {},
   "source": [
    " "
   ]
  },
  {
   "cell_type": "markdown",
   "metadata": {},
   "source": [
    " "
   ]
  },
  {
   "cell_type": "markdown",
   "metadata": {},
   "source": [
    "### applying LabelEncoder "
   ]
  },
  {
   "cell_type": "code",
   "execution_count": 38,
   "metadata": {},
   "outputs": [],
   "source": [
    "# apply LabelEncoder for categorical feature\n",
    "le = LabelEncoder()\n",
    "UniqueCarrier = le.fit_transform(cat_feature.UniqueCarrier).reshape(-1,1)\n",
    "Origin = le.fit_transform(cat_feature.Origin).reshape(-1,1)\n",
    "Dest = le.fit_transform(cat_feature.Dest).reshape(-1,1)\n",
    "\n",
    "# concat the numeric and categorical features\n",
    "le_cat_feature = np.concatenate([UniqueCarrier,Origin, Dest], axis=1)\n",
    "le_feature = np.concatenate([num_feature.values, le_cat_feature], axis=1)"
   ]
  },
  {
   "cell_type": "markdown",
   "metadata": {},
   "source": [
    "### le_feature has 15 features "
   ]
  },
  {
   "cell_type": "code",
   "execution_count": 67,
   "metadata": {},
   "outputs": [
    {
     "data": {
      "text/plain": [
       "(977941, 15)"
      ]
     },
     "execution_count": 67,
     "metadata": {},
     "output_type": "execute_result"
    }
   ],
   "source": [
    "le_feature.shape"
   ]
  },
  {
   "cell_type": "markdown",
   "metadata": {},
   "source": [
    "### split the data set with Label Encode"
   ]
  },
  {
   "cell_type": "code",
   "execution_count": 41,
   "metadata": {},
   "outputs": [],
   "source": [
    "X_train, X_test, y_train, y_test = train_test_split(le_feature, target.values.reshape(-1,1), test_size=0.2, random_state=0)"
   ]
  },
  {
   "cell_type": "markdown",
   "metadata": {},
   "source": [
    "### 4.2.2. Random Forest"
   ]
  },
  {
   "cell_type": "code",
   "execution_count": 42,
   "metadata": {},
   "outputs": [],
   "source": [
    "rfc = RandomForestClassifier(n_estimators=10).fit(X_train, np.ravel(y_train))\n",
    "\n",
    "rfc_y_pred = rfc.predict(X_test)"
   ]
  },
  {
   "cell_type": "markdown",
   "metadata": {},
   "source": [
    "### f1-score, precision and recall"
   ]
  },
  {
   "cell_type": "code",
   "execution_count": 44,
   "metadata": {},
   "outputs": [
    {
     "name": "stdout",
     "output_type": "stream",
     "text": [
      "              precision    recall  f1-score   support\n",
      "\n",
      "           0       0.97      1.00      0.98    169849\n",
      "           1       0.97      0.80      0.88     25740\n",
      "\n",
      "    accuracy                           0.97    195589\n",
      "   macro avg       0.97      0.90      0.93    195589\n",
      "weighted avg       0.97      0.97      0.97    195589\n",
      "\n"
     ]
    }
   ],
   "source": [
    "print(classification_report(y_test, rfc_y_pred))"
   ]
  },
  {
   "cell_type": "markdown",
   "metadata": {},
   "source": [
    "### 4.2.3. Decision Tree"
   ]
  },
  {
   "cell_type": "code",
   "execution_count": 45,
   "metadata": {},
   "outputs": [
    {
     "data": {
      "text/plain": [
       "DecisionTreeClassifier(class_weight=None, criterion='entropy', max_depth=None,\n",
       "                       max_features=None, max_leaf_nodes=None,\n",
       "                       min_impurity_decrease=0.0, min_impurity_split=None,\n",
       "                       min_samples_leaf=1, min_samples_split=2,\n",
       "                       min_weight_fraction_leaf=0.0, presort=False,\n",
       "                       random_state=None, splitter='best')"
      ]
     },
     "execution_count": 45,
     "metadata": {},
     "output_type": "execute_result"
    }
   ],
   "source": [
    "model_tree = DecisionTreeClassifier(criterion='entropy')\n",
    "model_tree.fit(X_train, y_train)"
   ]
  },
  {
   "cell_type": "markdown",
   "metadata": {},
   "source": [
    "### f1-score, precision and recall "
   ]
  },
  {
   "cell_type": "code",
   "execution_count": 47,
   "metadata": {},
   "outputs": [
    {
     "name": "stdout",
     "output_type": "stream",
     "text": [
      "              precision    recall  f1-score   support\n",
      "\n",
      "           0       0.99      0.99      0.99    169849\n",
      "           1       0.97      0.96      0.97     25740\n",
      "\n",
      "    accuracy                           0.99    195589\n",
      "   macro avg       0.98      0.98      0.98    195589\n",
      "weighted avg       0.99      0.99      0.99    195589\n",
      "\n"
     ]
    }
   ],
   "source": [
    "print(classification_report(y_test, model_tree.predict(X_test)))"
   ]
  },
  {
   "cell_type": "markdown",
   "metadata": {},
   "source": [
    "### 4.2.4. Naive Bayes "
   ]
  },
  {
   "cell_type": "code",
   "execution_count": 48,
   "metadata": {},
   "outputs": [
    {
     "data": {
      "text/plain": [
       "GaussianNB(priors=None, var_smoothing=1e-09)"
      ]
     },
     "execution_count": 48,
     "metadata": {},
     "output_type": "execute_result"
    }
   ],
   "source": [
    "gnb = GaussianNB()\n",
    "gnb.fit(X_train, np.ravel(y_train))"
   ]
  },
  {
   "cell_type": "markdown",
   "metadata": {},
   "source": [
    "### f1-score, precision and recall "
   ]
  },
  {
   "cell_type": "code",
   "execution_count": 50,
   "metadata": {},
   "outputs": [
    {
     "name": "stdout",
     "output_type": "stream",
     "text": [
      "              precision    recall  f1-score   support\n",
      "\n",
      "           0       0.90      0.94      0.92    169849\n",
      "           1       0.41      0.27      0.33     25740\n",
      "\n",
      "    accuracy                           0.85    195589\n",
      "   macro avg       0.65      0.61      0.62    195589\n",
      "weighted avg       0.83      0.85      0.84    195589\n",
      "\n"
     ]
    }
   ],
   "source": [
    "print(classification_report(y_test, gnb_y_pred))"
   ]
  },
  {
   "cell_type": "markdown",
   "metadata": {},
   "source": [
    "### 4.2.5 KNN "
   ]
  },
  {
   "cell_type": "code",
   "execution_count": 51,
   "metadata": {},
   "outputs": [
    {
     "data": {
      "text/plain": [
       "KNeighborsClassifier(algorithm='auto', leaf_size=30, metric='minkowski',\n",
       "                     metric_params=None, n_jobs=None, n_neighbors=5, p=2,\n",
       "                     weights='uniform')"
      ]
     },
     "execution_count": 51,
     "metadata": {},
     "output_type": "execute_result"
    }
   ],
   "source": [
    "knn = KNeighborsClassifier(n_neighbors=5)\n",
    "\n",
    "knn.fit(X_train, y_train.ravel())"
   ]
  },
  {
   "cell_type": "markdown",
   "metadata": {},
   "source": [
    "### f1-score, precision and recall  "
   ]
  },
  {
   "cell_type": "code",
   "execution_count": 52,
   "metadata": {},
   "outputs": [
    {
     "name": "stdout",
     "output_type": "stream",
     "text": [
      "              precision    recall  f1-score   support\n",
      "\n",
      "           0       0.96      0.99      0.98    169849\n",
      "           1       0.93      0.74      0.82     25740\n",
      "\n",
      "    accuracy                           0.96    195589\n",
      "   macro avg       0.94      0.87      0.90    195589\n",
      "weighted avg       0.96      0.96      0.96    195589\n",
      "\n"
     ]
    }
   ],
   "source": [
    "print(classification_report(y_test, knn.predict(X_test)))"
   ]
  },
  {
   "cell_type": "markdown",
   "metadata": {},
   "source": [
    "## 5. Apply GridSearchCV on each model"
   ]
  },
  {
   "cell_type": "markdown",
   "metadata": {},
   "source": [
    "### 5.1 Logistic Regreesion "
   ]
  },
  {
   "cell_type": "code",
   "execution_count": 55,
   "metadata": {},
   "outputs": [
    {
     "name": "stdout",
     "output_type": "stream",
     "text": [
      "At threshold 0.1: \n",
      "[[77274 92575]\n",
      " [  446 25294]]\n",
      "---------------------------------------------\n",
      "At threshold 0.2: \n",
      "[[137297  32552]\n",
      " [  1239  24501]]\n",
      "---------------------------------------------\n",
      "At threshold 0.3: \n",
      "[[157143  12706]\n",
      " [  3350  22390]]\n",
      "---------------------------------------------\n",
      "At threshold 0.4: \n",
      "[[164692   5157]\n",
      " [  6417  19323]]\n",
      "---------------------------------------------\n",
      "At threshold 0.5: \n",
      "[[167817   2032]\n",
      " [  9600  16140]]\n",
      "---------------------------------------------\n",
      "At threshold 0.6: \n",
      "[[169121    728]\n",
      " [ 12658  13082]]\n",
      "---------------------------------------------\n",
      "At threshold 0.7: \n",
      "[[169626    223]\n",
      " [ 15489  10251]]\n",
      "---------------------------------------------\n",
      "At threshold 0.8: \n",
      "[[169804     45]\n",
      " [ 18084   7656]]\n",
      "---------------------------------------------\n",
      "At threshold 0.9: \n",
      "[[169840      9]\n",
      " [ 20917   4823]]\n",
      "---------------------------------------------\n"
     ]
    }
   ],
   "source": [
    "lr_best_proba = lr_best.predict_proba(X_test1)\n",
    "thresholds = [0.1,0.2,0.3,0.4,0.5,0.6,0.7,0.8,0.9]\n",
    "\n",
    "j = 1\n",
    "for i in thresholds:\n",
    "    y_test_predictions_high_recall = lr_best_proba[:,1] > i\n",
    "    \n",
    "    j += 1\n",
    "    # Compute confusion matrix\n",
    "    cnf_matrix = confusion_matrix(y_test1, y_test_predictions_high_recall)\n",
    "    np.set_printoptions(precision=2)\n",
    "\n",
    "    print(f\"At threshold {i}: \")\n",
    "\n",
    "    # Plot non-normalized confusion matrix\n",
    "    class_names = [0,1]\n",
    "    print(cnf_matrix)\n",
    "    print('---------------------------------------------')"
   ]
  },
  {
   "cell_type": "code",
   "execution_count": 53,
   "metadata": {},
   "outputs": [
    {
     "name": "stderr",
     "output_type": "stream",
     "text": [
      "C:\\Users\\tqnha\\Anaconda3\\lib\\site-packages\\sklearn\\linear_model\\logistic.py:432: FutureWarning: Default solver will be changed to 'lbfgs' in 0.22. Specify a solver to silence this warning.\n",
      "  FutureWarning)\n"
     ]
    },
    {
     "data": {
      "text/plain": [
       "{'C': 100, 'class_weight': {0: 0.3, 1: 0.7}}"
      ]
     },
     "execution_count": 53,
     "metadata": {},
     "output_type": "execute_result"
    }
   ],
   "source": [
    "param_grid = {'C': [0.01,0.1,1,10,100],\n",
    "              'class_weight':[{0:0.1, 1:0.9},\n",
    "                              {0:0.2, 1:0.8},\n",
    "                              {0:0.3, 1:0.7},\n",
    "                              {0:0.4, 1:0.6},\n",
    "                              {0:0.5, 1:0.5},\n",
    "                              {0:0.6, 1:0.4},\n",
    "                              {0:0.7, 1:0.3},\n",
    "                              {0:0.8, 1:0.2},\n",
    "                              {0:0.9, 1:0.1}]}\n",
    "\n",
    "lr_grid = GridSearchCV(estimator=LogisticRegression(), param_grid=param_grid, scoring='f1', cv=3, n_jobs=-1)\n",
    "lr_grid.fit(X_train1, np.ravel(y_train1))\n",
    "\n",
    "lr_grid.best_params_"
   ]
  },
  {
   "cell_type": "markdown",
   "metadata": {},
   "source": [
    "### applying"
   ]
  },
  {
   "cell_type": "code",
   "execution_count": 54,
   "metadata": {},
   "outputs": [
    {
     "name": "stdout",
     "output_type": "stream",
     "text": [
      "              precision    recall  f1-score   support\n",
      "\n",
      "           0       0.95      0.99      0.97    169849\n",
      "           1       0.89      0.63      0.74     25740\n",
      "\n",
      "    accuracy                           0.94    195589\n",
      "   macro avg       0.92      0.81      0.85    195589\n",
      "weighted avg       0.94      0.94      0.94    195589\n",
      "\n"
     ]
    }
   ],
   "source": [
    "lr_best = lr_grid.best_estimator_\n",
    "print(classification_report(y_test1, lr_best.predict(X_test1)))"
   ]
  },
  {
   "cell_type": "markdown",
   "metadata": {},
   "source": [
    "### not applying "
   ]
  },
  {
   "cell_type": "code",
   "execution_count": 69,
   "metadata": {},
   "outputs": [
    {
     "name": "stdout",
     "output_type": "stream",
     "text": [
      "              precision    recall  f1-score   support\n",
      "\n",
      "           0       0.93      1.00      0.96    169849\n",
      "           1       0.98      0.52      0.68     25740\n",
      "\n",
      "    accuracy                           0.94    195589\n",
      "   macro avg       0.96      0.76      0.82    195589\n",
      "weighted avg       0.94      0.94      0.93    195589\n",
      "\n"
     ]
    }
   ],
   "source": [
    "print(classification_report(y_test1, lr.predict(X_test1)))"
   ]
  },
  {
   "cell_type": "markdown",
   "metadata": {},
   "source": [
    "### => improve the model"
   ]
  },
  {
   "cell_type": "markdown",
   "metadata": {},
   "source": [
    "### 5.2 Naive Bayes"
   ]
  },
  {
   "cell_type": "code",
   "execution_count": 56,
   "metadata": {},
   "outputs": [
    {
     "name": "stderr",
     "output_type": "stream",
     "text": [
      "C:\\Users\\tqnha\\Anaconda3\\lib\\site-packages\\sklearn\\utils\\validation.py:724: DataConversionWarning: A column-vector y was passed when a 1d array was expected. Please change the shape of y to (n_samples, ), for example using ravel().\n",
      "  y = column_or_1d(y, warn=True)\n"
     ]
    },
    {
     "data": {
      "text/plain": [
       "{'var_smoothing': 0.0}"
      ]
     },
     "execution_count": 56,
     "metadata": {},
     "output_type": "execute_result"
    }
   ],
   "source": [
    "param_grid = dict(var_smoothing=np.array([0,0.0001,0.001,0.01,0.1,1]))\n",
    "\n",
    "gnb_grid = GridSearchCV(estimator=GaussianNB(), param_grid=param_grid, scoring='f1', cv=3, n_jobs=-1)\n",
    "gnb_grid.fit(X_train, y_train)\n",
    "\n",
    "gnb_grid.best_params_"
   ]
  },
  {
   "cell_type": "markdown",
   "metadata": {},
   "source": [
    "### applying "
   ]
  },
  {
   "cell_type": "code",
   "execution_count": 57,
   "metadata": {},
   "outputs": [
    {
     "name": "stdout",
     "output_type": "stream",
     "text": [
      "              precision    recall  f1-score   support\n",
      "\n",
      "           0       0.90      0.94      0.92    169849\n",
      "           1       0.41      0.27      0.33     25740\n",
      "\n",
      "    accuracy                           0.85    195589\n",
      "   macro avg       0.65      0.61      0.62    195589\n",
      "weighted avg       0.83      0.85      0.84    195589\n",
      "\n"
     ]
    }
   ],
   "source": [
    "gnb_best = gnb_grid.best_estimator_\n",
    "print(classification_report(y_test, gnb_best.predict(X_test)))"
   ]
  },
  {
   "cell_type": "markdown",
   "metadata": {},
   "source": [
    "### not applying "
   ]
  },
  {
   "cell_type": "code",
   "execution_count": 74,
   "metadata": {},
   "outputs": [
    {
     "name": "stdout",
     "output_type": "stream",
     "text": [
      "              precision    recall  f1-score   support\n",
      "\n",
      "           0       0.90      0.94      0.92    169849\n",
      "           1       0.41      0.27      0.33     25740\n",
      "\n",
      "    accuracy                           0.85    195589\n",
      "   macro avg       0.65      0.61      0.62    195589\n",
      "weighted avg       0.83      0.85      0.84    195589\n",
      "\n"
     ]
    }
   ],
   "source": [
    "print(classification_report(y_test, gnb.predict(X_test)))"
   ]
  },
  {
   "cell_type": "markdown",
   "metadata": {},
   "source": [
    "### => NOT improve the model "
   ]
  },
  {
   "cell_type": "markdown",
   "metadata": {},
   "source": [
    "### 5.3 Decision Tree "
   ]
  },
  {
   "cell_type": "code",
   "execution_count": 91,
   "metadata": {},
   "outputs": [
    {
     "data": {
      "text/plain": [
       "{'criterion': 'entropy'}"
      ]
     },
     "execution_count": 91,
     "metadata": {},
     "output_type": "execute_result"
    }
   ],
   "source": [
    "param_grid = [{'criterion': ['entropy', 'gini']},\n",
    "              {'min_samples_split':[2, 5, 10, 20]}]\n",
    "\n",
    "tree_grid = GridSearchCV(estimator=DecisionTreeClassifier(), param_grid=param_grid, scoring='f1', cv=3, n_jobs=-1)\n",
    "tree_grid.fit(X_train, y_train)\n",
    "\n",
    "tree_grid.best_params_"
   ]
  },
  {
   "cell_type": "markdown",
   "metadata": {},
   "source": [
    "### applying "
   ]
  },
  {
   "cell_type": "code",
   "execution_count": 86,
   "metadata": {},
   "outputs": [
    {
     "data": {
      "text/plain": [
       "DecisionTreeClassifier(class_weight=None, criterion='gini', max_depth=None,\n",
       "                       max_features=None, max_leaf_nodes=None,\n",
       "                       min_impurity_decrease=0.0, min_impurity_split=None,\n",
       "                       min_samples_leaf=1, min_samples_split=10,\n",
       "                       min_weight_fraction_leaf=0.0, presort=False,\n",
       "                       random_state=None, splitter='best')"
      ]
     },
     "execution_count": 86,
     "metadata": {},
     "output_type": "execute_result"
    }
   ],
   "source": [
    "tree_best"
   ]
  },
  {
   "cell_type": "code",
   "execution_count": 92,
   "metadata": {},
   "outputs": [
    {
     "name": "stdout",
     "output_type": "stream",
     "text": [
      "              precision    recall  f1-score   support\n",
      "\n",
      "           0       0.99      0.99      0.99    169849\n",
      "           1       0.97      0.96      0.97     25740\n",
      "\n",
      "    accuracy                           0.99    195589\n",
      "   macro avg       0.98      0.98      0.98    195589\n",
      "weighted avg       0.99      0.99      0.99    195589\n",
      "\n"
     ]
    }
   ],
   "source": [
    "tree_best = tree_grid.best_estimator_\n",
    "print(classification_report(y_test, tree_best.predict(X_test)))"
   ]
  },
  {
   "cell_type": "markdown",
   "metadata": {},
   "source": [
    "### not applying"
   ]
  },
  {
   "cell_type": "code",
   "execution_count": 93,
   "metadata": {},
   "outputs": [
    {
     "name": "stdout",
     "output_type": "stream",
     "text": [
      "              precision    recall  f1-score   support\n",
      "\n",
      "           0       0.99      0.99      0.99    169849\n",
      "           1       0.97      0.96      0.97     25740\n",
      "\n",
      "    accuracy                           0.99    195589\n",
      "   macro avg       0.98      0.98      0.98    195589\n",
      "weighted avg       0.99      0.99      0.99    195589\n",
      "\n"
     ]
    }
   ],
   "source": [
    "print(classification_report(y_test, model_tree.predict(X_test)))"
   ]
  },
  {
   "cell_type": "markdown",
   "metadata": {},
   "source": [
    "### => NOT improve the model"
   ]
  },
  {
   "cell_type": "markdown",
   "metadata": {},
   "source": [
    "### 5.4 Random Forest "
   ]
  },
  {
   "cell_type": "code",
   "execution_count": 60,
   "metadata": {},
   "outputs": [
    {
     "data": {
      "text/plain": [
       "{'n_estimators': 100}"
      ]
     },
     "execution_count": 60,
     "metadata": {},
     "output_type": "execute_result"
    }
   ],
   "source": [
    "param_grid = {'n_estimators': [10, 30, 50, 70, 100]}\n",
    "\n",
    "rfc_grid = GridSearchCV(estimator=RandomForestClassifier(), param_grid=param_grid, scoring='f1', cv=3, n_jobs=-1)\n",
    "rfc_grid.fit(X_train, np.ravel(y_train))\n",
    "\n",
    "rfc_grid.best_params_"
   ]
  },
  {
   "cell_type": "markdown",
   "metadata": {},
   "source": [
    "### applying"
   ]
  },
  {
   "cell_type": "code",
   "execution_count": 61,
   "metadata": {},
   "outputs": [
    {
     "name": "stdout",
     "output_type": "stream",
     "text": [
      "              precision    recall  f1-score   support\n",
      "\n",
      "           0       0.98      1.00      0.99    169849\n",
      "           1       0.98      0.85      0.91     25740\n",
      "\n",
      "    accuracy                           0.98    195589\n",
      "   macro avg       0.98      0.92      0.95    195589\n",
      "weighted avg       0.98      0.98      0.98    195589\n",
      "\n"
     ]
    }
   ],
   "source": [
    "rfc_best = rfc_grid.best_estimator_\n",
    "print(classification_report(y_test, rfc_best.predict(X_test)))"
   ]
  },
  {
   "cell_type": "markdown",
   "metadata": {},
   "source": [
    "### not applying"
   ]
  },
  {
   "cell_type": "code",
   "execution_count": 78,
   "metadata": {},
   "outputs": [
    {
     "name": "stdout",
     "output_type": "stream",
     "text": [
      "              precision    recall  f1-score   support\n",
      "\n",
      "           0       0.97      1.00      0.98    169849\n",
      "           1       0.97      0.80      0.88     25740\n",
      "\n",
      "    accuracy                           0.97    195589\n",
      "   macro avg       0.97      0.90      0.93    195589\n",
      "weighted avg       0.97      0.97      0.97    195589\n",
      "\n"
     ]
    }
   ],
   "source": [
    "print(classification_report(y_test, rfc.predict(X_test)))"
   ]
  },
  {
   "cell_type": "markdown",
   "metadata": {},
   "source": [
    "### => improve the model"
   ]
  },
  {
   "cell_type": "markdown",
   "metadata": {},
   "source": [
    "### 5.5 KNN "
   ]
  },
  {
   "cell_type": "code",
   "execution_count": 62,
   "metadata": {},
   "outputs": [
    {
     "name": "stderr",
     "output_type": "stream",
     "text": [
      "C:\\Users\\tqnha\\Anaconda3\\lib\\site-packages\\sklearn\\model_selection\\_search.py:715: DataConversionWarning: A column-vector y was passed when a 1d array was expected. Please change the shape of y to (n_samples, ), for example using ravel().\n",
      "  self.best_estimator_.fit(X, y, **fit_params)\n"
     ]
    },
    {
     "data": {
      "text/plain": [
       "{'n_neighbors': 1}"
      ]
     },
     "execution_count": 62,
     "metadata": {},
     "output_type": "execute_result"
    }
   ],
   "source": [
    "param_grid = {'n_neighbors': [1,5,10,20]}\n",
    "\n",
    "knn_grid = GridSearchCV(estimator=KNeighborsClassifier(), param_grid=param_grid, scoring='f1', cv=3, n_jobs=-1)\n",
    "knn_grid.fit(X_train, y_train)\n",
    "\n",
    "knn_grid.best_params_"
   ]
  },
  {
   "cell_type": "markdown",
   "metadata": {},
   "source": [
    "### applying "
   ]
  },
  {
   "cell_type": "code",
   "execution_count": 63,
   "metadata": {},
   "outputs": [
    {
     "name": "stdout",
     "output_type": "stream",
     "text": [
      "              precision    recall  f1-score   support\n",
      "\n",
      "           0       0.97      0.99      0.98    169849\n",
      "           1       0.89      0.81      0.85     25740\n",
      "\n",
      "    accuracy                           0.96    195589\n",
      "   macro avg       0.93      0.90      0.91    195589\n",
      "weighted avg       0.96      0.96      0.96    195589\n",
      "\n"
     ]
    }
   ],
   "source": [
    "knn_best = knn_grid.best_estimator_\n",
    "print(classification_report(y_test, knn_best.predict(X_test)))"
   ]
  },
  {
   "cell_type": "markdown",
   "metadata": {},
   "source": [
    "### not applying "
   ]
  },
  {
   "cell_type": "code",
   "execution_count": 79,
   "metadata": {},
   "outputs": [
    {
     "name": "stdout",
     "output_type": "stream",
     "text": [
      "              precision    recall  f1-score   support\n",
      "\n",
      "           0       0.96      0.99      0.98    169849\n",
      "           1       0.93      0.74      0.82     25740\n",
      "\n",
      "    accuracy                           0.96    195589\n",
      "   macro avg       0.94      0.87      0.90    195589\n",
      "weighted avg       0.96      0.96      0.96    195589\n",
      "\n"
     ]
    }
   ],
   "source": [
    "print(classification_report(y_test, knn.predict(X_test)))"
   ]
  },
  {
   "cell_type": "markdown",
   "metadata": {},
   "source": [
    "### => improve the model"
   ]
  },
  {
   "cell_type": "markdown",
   "metadata": {},
   "source": [
    " "
   ]
  },
  {
   "cell_type": "markdown",
   "metadata": {},
   "source": [
    "# 6. Conclusion"
   ]
  },
  {
   "cell_type": "markdown",
   "metadata": {},
   "source": [
    "### 6.1 f1-score not applying GridSearchCV "
   ]
  },
  {
   "cell_type": "markdown",
   "metadata": {},
   "source": [
    "Decision Tree > Random Forest > KNN > Logistic Regression > Naive Bayes"
   ]
  },
  {
   "cell_type": "markdown",
   "metadata": {},
   "source": [
    "### 6.2 f1-score applying GridSearchCV "
   ]
  },
  {
   "cell_type": "markdown",
   "metadata": {},
   "source": [
    "Decision Tree > Random Forest > KNN > Logistic Regression > Naive Bayes"
   ]
  },
  {
   "cell_type": "markdown",
   "metadata": {},
   "source": [
    "### 6.3 improvement when applying GridSearchCV"
   ]
  },
  {
   "cell_type": "markdown",
   "metadata": {},
   "source": [
    "- Decision Tree              => not improve\n",
    "- Random Forest              => improve\n",
    "- KNN                        => improve\n",
    "- Logistic Regression        => improve   \n",
    "- Naive Bayes                => not improve"
   ]
  }
 ],
 "metadata": {
  "kernelspec": {
   "display_name": "Python 3",
   "language": "python",
   "name": "python3"
  },
  "language_info": {
   "codemirror_mode": {
    "name": "ipython",
    "version": 3
   },
   "file_extension": ".py",
   "mimetype": "text/x-python",
   "name": "python",
   "nbconvert_exporter": "python",
   "pygments_lexer": "ipython3",
   "version": "3.7.4"
  }
 },
 "nbformat": 4,
 "nbformat_minor": 2
}
